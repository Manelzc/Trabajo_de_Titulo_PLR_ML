{
 "cells": [
  {
   "cell_type": "code",
   "execution_count": 1,
   "metadata": {},
   "outputs": [],
   "source": [
    "import numpy as np\n",
    "import pandas as pd\n",
    "from scipy import stats\n",
    "from scipy.stats import norm\n",
    "from tqdm import tqdm "
   ]
  },
  {
   "cell_type": "code",
   "execution_count": 2,
   "metadata": {},
   "outputs": [
    {
     "data": {
      "text/html": [
       "<div>\n",
       "<style scoped>\n",
       "    .dataframe tbody tr th:only-of-type {\n",
       "        vertical-align: middle;\n",
       "    }\n",
       "\n",
       "    .dataframe tbody tr th {\n",
       "        vertical-align: top;\n",
       "    }\n",
       "\n",
       "    .dataframe thead th {\n",
       "        text-align: right;\n",
       "    }\n",
       "</style>\n",
       "<table border=\"1\" class=\"dataframe\">\n",
       "  <thead>\n",
       "    <tr style=\"text-align: right;\">\n",
       "      <th></th>\n",
       "      <th>id</th>\n",
       "      <th>eye</th>\n",
       "      <th>stimuli</th>\n",
       "      <th>color</th>\n",
       "      <th>glaucoma</th>\n",
       "      <th>mean_window_50_0</th>\n",
       "      <th>std_window_50_0</th>\n",
       "      <th>median_window_50_0</th>\n",
       "      <th>max_window_50_0</th>\n",
       "      <th>min_window_50_0</th>\n",
       "      <th>...</th>\n",
       "      <th>std_window_100_26</th>\n",
       "      <th>median_window_100_26</th>\n",
       "      <th>max_window_100_26</th>\n",
       "      <th>min_window_100_26</th>\n",
       "      <th>range_window_100_26</th>\n",
       "      <th>IQR_window_100_26</th>\n",
       "      <th>Q1_window_100_26</th>\n",
       "      <th>Q3_window_100_26</th>\n",
       "      <th>kurtosis_window_100_26</th>\n",
       "      <th>skewness_window_100_26</th>\n",
       "    </tr>\n",
       "  </thead>\n",
       "  <tbody>\n",
       "    <tr>\n",
       "      <th>0</th>\n",
       "      <td>C001</td>\n",
       "      <td>left</td>\n",
       "      <td>ramp</td>\n",
       "      <td>white</td>\n",
       "      <td>no</td>\n",
       "      <td>33.233702</td>\n",
       "      <td>19.870581</td>\n",
       "      <td>29.165282</td>\n",
       "      <td>60.572493</td>\n",
       "      <td>10.000000</td>\n",
       "      <td>...</td>\n",
       "      <td>16.530944</td>\n",
       "      <td>55.875806</td>\n",
       "      <td>63.524532</td>\n",
       "      <td>10.000000</td>\n",
       "      <td>53.524532</td>\n",
       "      <td>12.557260</td>\n",
       "      <td>43.678068</td>\n",
       "      <td>56.235328</td>\n",
       "      <td>0.082570</td>\n",
       "      <td>-1.335345</td>\n",
       "    </tr>\n",
       "    <tr>\n",
       "      <th>1</th>\n",
       "      <td>C001</td>\n",
       "      <td>left</td>\n",
       "      <td>ramp</td>\n",
       "      <td>blue</td>\n",
       "      <td>no</td>\n",
       "      <td>54.801834</td>\n",
       "      <td>7.457179</td>\n",
       "      <td>56.462238</td>\n",
       "      <td>57.416459</td>\n",
       "      <td>13.402000</td>\n",
       "      <td>...</td>\n",
       "      <td>12.704317</td>\n",
       "      <td>54.304483</td>\n",
       "      <td>78.488327</td>\n",
       "      <td>10.837809</td>\n",
       "      <td>67.650518</td>\n",
       "      <td>1.876106</td>\n",
       "      <td>52.844029</td>\n",
       "      <td>54.720135</td>\n",
       "      <td>2.291014</td>\n",
       "      <td>-1.790707</td>\n",
       "    </tr>\n",
       "    <tr>\n",
       "      <th>2</th>\n",
       "      <td>C001</td>\n",
       "      <td>left</td>\n",
       "      <td>ramp</td>\n",
       "      <td>green</td>\n",
       "      <td>no</td>\n",
       "      <td>55.186039</td>\n",
       "      <td>5.784269</td>\n",
       "      <td>55.880359</td>\n",
       "      <td>68.521255</td>\n",
       "      <td>20.023360</td>\n",
       "      <td>...</td>\n",
       "      <td>11.525011</td>\n",
       "      <td>55.587336</td>\n",
       "      <td>66.911400</td>\n",
       "      <td>10.007051</td>\n",
       "      <td>56.904349</td>\n",
       "      <td>1.041976</td>\n",
       "      <td>54.933230</td>\n",
       "      <td>55.975206</td>\n",
       "      <td>4.640643</td>\n",
       "      <td>-2.400916</td>\n",
       "    </tr>\n",
       "    <tr>\n",
       "      <th>3</th>\n",
       "      <td>C001</td>\n",
       "      <td>left</td>\n",
       "      <td>flash</td>\n",
       "      <td>white</td>\n",
       "      <td>no</td>\n",
       "      <td>50.753054</td>\n",
       "      <td>15.557146</td>\n",
       "      <td>56.509845</td>\n",
       "      <td>80.000000</td>\n",
       "      <td>11.077743</td>\n",
       "      <td>...</td>\n",
       "      <td>15.948908</td>\n",
       "      <td>56.387945</td>\n",
       "      <td>62.685928</td>\n",
       "      <td>10.171413</td>\n",
       "      <td>52.514515</td>\n",
       "      <td>11.608063</td>\n",
       "      <td>45.340697</td>\n",
       "      <td>56.948760</td>\n",
       "      <td>-0.239943</td>\n",
       "      <td>-1.224524</td>\n",
       "    </tr>\n",
       "    <tr>\n",
       "      <th>4</th>\n",
       "      <td>C001</td>\n",
       "      <td>left</td>\n",
       "      <td>flash</td>\n",
       "      <td>blue</td>\n",
       "      <td>no</td>\n",
       "      <td>47.545593</td>\n",
       "      <td>15.580917</td>\n",
       "      <td>55.304546</td>\n",
       "      <td>80.000000</td>\n",
       "      <td>10.388611</td>\n",
       "      <td>...</td>\n",
       "      <td>12.707170</td>\n",
       "      <td>55.829964</td>\n",
       "      <td>62.747673</td>\n",
       "      <td>10.634277</td>\n",
       "      <td>52.113397</td>\n",
       "      <td>1.397660</td>\n",
       "      <td>55.061753</td>\n",
       "      <td>56.459414</td>\n",
       "      <td>4.310715</td>\n",
       "      <td>-2.428606</td>\n",
       "    </tr>\n",
       "    <tr>\n",
       "      <th>...</th>\n",
       "      <td>...</td>\n",
       "      <td>...</td>\n",
       "      <td>...</td>\n",
       "      <td>...</td>\n",
       "      <td>...</td>\n",
       "      <td>...</td>\n",
       "      <td>...</td>\n",
       "      <td>...</td>\n",
       "      <td>...</td>\n",
       "      <td>...</td>\n",
       "      <td>...</td>\n",
       "      <td>...</td>\n",
       "      <td>...</td>\n",
       "      <td>...</td>\n",
       "      <td>...</td>\n",
       "      <td>...</td>\n",
       "      <td>...</td>\n",
       "      <td>...</td>\n",
       "      <td>...</td>\n",
       "      <td>...</td>\n",
       "      <td>...</td>\n",
       "    </tr>\n",
       "    <tr>\n",
       "      <th>651</th>\n",
       "      <td>S020</td>\n",
       "      <td>right</td>\n",
       "      <td>flash</td>\n",
       "      <td>red</td>\n",
       "      <td>yes</td>\n",
       "      <td>48.162405</td>\n",
       "      <td>10.844362</td>\n",
       "      <td>51.866347</td>\n",
       "      <td>62.190289</td>\n",
       "      <td>11.731321</td>\n",
       "      <td>...</td>\n",
       "      <td>4.507230</td>\n",
       "      <td>50.725680</td>\n",
       "      <td>54.326439</td>\n",
       "      <td>27.016525</td>\n",
       "      <td>27.309914</td>\n",
       "      <td>1.780917</td>\n",
       "      <td>49.875347</td>\n",
       "      <td>51.656264</td>\n",
       "      <td>11.955890</td>\n",
       "      <td>-3.407693</td>\n",
       "    </tr>\n",
       "    <tr>\n",
       "      <th>652</th>\n",
       "      <td>S020</td>\n",
       "      <td>right</td>\n",
       "      <td>ramp</td>\n",
       "      <td>red</td>\n",
       "      <td>yes</td>\n",
       "      <td>51.051313</td>\n",
       "      <td>2.988132</td>\n",
       "      <td>51.567226</td>\n",
       "      <td>55.032780</td>\n",
       "      <td>37.716240</td>\n",
       "      <td>...</td>\n",
       "      <td>4.370799</td>\n",
       "      <td>48.626534</td>\n",
       "      <td>51.997658</td>\n",
       "      <td>28.749388</td>\n",
       "      <td>23.248270</td>\n",
       "      <td>3.701179</td>\n",
       "      <td>46.549435</td>\n",
       "      <td>50.250614</td>\n",
       "      <td>5.190801</td>\n",
       "      <td>-2.271046</td>\n",
       "    </tr>\n",
       "    <tr>\n",
       "      <th>653</th>\n",
       "      <td>S020</td>\n",
       "      <td>right</td>\n",
       "      <td>flash</td>\n",
       "      <td>white</td>\n",
       "      <td>yes</td>\n",
       "      <td>51.257405</td>\n",
       "      <td>6.308352</td>\n",
       "      <td>52.392627</td>\n",
       "      <td>53.833977</td>\n",
       "      <td>10.000000</td>\n",
       "      <td>...</td>\n",
       "      <td>12.398607</td>\n",
       "      <td>52.063454</td>\n",
       "      <td>54.528568</td>\n",
       "      <td>10.000000</td>\n",
       "      <td>44.528568</td>\n",
       "      <td>2.099070</td>\n",
       "      <td>50.638334</td>\n",
       "      <td>52.737404</td>\n",
       "      <td>3.793093</td>\n",
       "      <td>-2.286424</td>\n",
       "    </tr>\n",
       "    <tr>\n",
       "      <th>654</th>\n",
       "      <td>S020</td>\n",
       "      <td>right</td>\n",
       "      <td>ramp</td>\n",
       "      <td>green</td>\n",
       "      <td>yes</td>\n",
       "      <td>31.144068</td>\n",
       "      <td>18.953234</td>\n",
       "      <td>36.986803</td>\n",
       "      <td>54.678856</td>\n",
       "      <td>10.000000</td>\n",
       "      <td>...</td>\n",
       "      <td>11.313388</td>\n",
       "      <td>49.967390</td>\n",
       "      <td>52.434868</td>\n",
       "      <td>10.000000</td>\n",
       "      <td>42.434868</td>\n",
       "      <td>1.106624</td>\n",
       "      <td>49.297920</td>\n",
       "      <td>50.404544</td>\n",
       "      <td>5.613658</td>\n",
       "      <td>-2.707160</td>\n",
       "    </tr>\n",
       "    <tr>\n",
       "      <th>655</th>\n",
       "      <td>S020</td>\n",
       "      <td>right</td>\n",
       "      <td>flash</td>\n",
       "      <td>blue</td>\n",
       "      <td>yes</td>\n",
       "      <td>49.937302</td>\n",
       "      <td>7.937090</td>\n",
       "      <td>53.041695</td>\n",
       "      <td>55.836819</td>\n",
       "      <td>11.979773</td>\n",
       "      <td>...</td>\n",
       "      <td>13.023028</td>\n",
       "      <td>49.219589</td>\n",
       "      <td>53.207798</td>\n",
       "      <td>10.000000</td>\n",
       "      <td>43.207798</td>\n",
       "      <td>6.303098</td>\n",
       "      <td>44.006825</td>\n",
       "      <td>50.309923</td>\n",
       "      <td>1.419912</td>\n",
       "      <td>-1.718050</td>\n",
       "    </tr>\n",
       "  </tbody>\n",
       "</table>\n",
       "<p>656 rows × 907 columns</p>\n",
       "</div>"
      ],
      "text/plain": [
       "       id    eye stimuli  color glaucoma  mean_window_50_0  std_window_50_0  \\\n",
       "0    C001   left    ramp  white       no         33.233702        19.870581   \n",
       "1    C001   left    ramp   blue       no         54.801834         7.457179   \n",
       "2    C001   left    ramp  green       no         55.186039         5.784269   \n",
       "3    C001   left   flash  white       no         50.753054        15.557146   \n",
       "4    C001   left   flash   blue       no         47.545593        15.580917   \n",
       "..    ...    ...     ...    ...      ...               ...              ...   \n",
       "651  S020  right   flash    red      yes         48.162405        10.844362   \n",
       "652  S020  right    ramp    red      yes         51.051313         2.988132   \n",
       "653  S020  right   flash  white      yes         51.257405         6.308352   \n",
       "654  S020  right    ramp  green      yes         31.144068        18.953234   \n",
       "655  S020  right   flash   blue      yes         49.937302         7.937090   \n",
       "\n",
       "     median_window_50_0  max_window_50_0  min_window_50_0  ...  \\\n",
       "0             29.165282        60.572493        10.000000  ...   \n",
       "1             56.462238        57.416459        13.402000  ...   \n",
       "2             55.880359        68.521255        20.023360  ...   \n",
       "3             56.509845        80.000000        11.077743  ...   \n",
       "4             55.304546        80.000000        10.388611  ...   \n",
       "..                  ...              ...              ...  ...   \n",
       "651           51.866347        62.190289        11.731321  ...   \n",
       "652           51.567226        55.032780        37.716240  ...   \n",
       "653           52.392627        53.833977        10.000000  ...   \n",
       "654           36.986803        54.678856        10.000000  ...   \n",
       "655           53.041695        55.836819        11.979773  ...   \n",
       "\n",
       "     std_window_100_26  median_window_100_26  max_window_100_26  \\\n",
       "0            16.530944             55.875806          63.524532   \n",
       "1            12.704317             54.304483          78.488327   \n",
       "2            11.525011             55.587336          66.911400   \n",
       "3            15.948908             56.387945          62.685928   \n",
       "4            12.707170             55.829964          62.747673   \n",
       "..                 ...                   ...                ...   \n",
       "651           4.507230             50.725680          54.326439   \n",
       "652           4.370799             48.626534          51.997658   \n",
       "653          12.398607             52.063454          54.528568   \n",
       "654          11.313388             49.967390          52.434868   \n",
       "655          13.023028             49.219589          53.207798   \n",
       "\n",
       "     min_window_100_26  range_window_100_26  IQR_window_100_26  \\\n",
       "0            10.000000            53.524532          12.557260   \n",
       "1            10.837809            67.650518           1.876106   \n",
       "2            10.007051            56.904349           1.041976   \n",
       "3            10.171413            52.514515          11.608063   \n",
       "4            10.634277            52.113397           1.397660   \n",
       "..                 ...                  ...                ...   \n",
       "651          27.016525            27.309914           1.780917   \n",
       "652          28.749388            23.248270           3.701179   \n",
       "653          10.000000            44.528568           2.099070   \n",
       "654          10.000000            42.434868           1.106624   \n",
       "655          10.000000            43.207798           6.303098   \n",
       "\n",
       "     Q1_window_100_26  Q3_window_100_26  kurtosis_window_100_26  \\\n",
       "0           43.678068         56.235328                0.082570   \n",
       "1           52.844029         54.720135                2.291014   \n",
       "2           54.933230         55.975206                4.640643   \n",
       "3           45.340697         56.948760               -0.239943   \n",
       "4           55.061753         56.459414                4.310715   \n",
       "..                ...               ...                     ...   \n",
       "651         49.875347         51.656264               11.955890   \n",
       "652         46.549435         50.250614                5.190801   \n",
       "653         50.638334         52.737404                3.793093   \n",
       "654         49.297920         50.404544                5.613658   \n",
       "655         44.006825         50.309923                1.419912   \n",
       "\n",
       "     skewness_window_100_26  \n",
       "0                 -1.335345  \n",
       "1                 -1.790707  \n",
       "2                 -2.400916  \n",
       "3                 -1.224524  \n",
       "4                 -2.428606  \n",
       "..                      ...  \n",
       "651               -3.407693  \n",
       "652               -2.271046  \n",
       "653               -2.286424  \n",
       "654               -2.707160  \n",
       "655               -1.718050  \n",
       "\n",
       "[656 rows x 907 columns]"
      ]
     },
     "execution_count": 2,
     "metadata": {},
     "output_type": "execute_result"
    }
   ],
   "source": [
    "df = pd.read_csv(\"features_50_100.csv\")\n",
    "df "
   ]
  },
  {
   "cell_type": "code",
   "execution_count": 3,
   "metadata": {},
   "outputs": [
    {
     "data": {
      "text/plain": [
       "id                         object\n",
       "eye                        object\n",
       "stimuli                    object\n",
       "color                      object\n",
       "glaucoma                   object\n",
       "                           ...   \n",
       "IQR_window_100_26         float64\n",
       "Q1_window_100_26          float64\n",
       "Q3_window_100_26          float64\n",
       "kurtosis_window_100_26    float64\n",
       "skewness_window_100_26    float64\n",
       "Length: 907, dtype: object"
      ]
     },
     "execution_count": 3,
     "metadata": {},
     "output_type": "execute_result"
    }
   ],
   "source": [
    "df.dtypes"
   ]
  },
  {
   "cell_type": "code",
   "execution_count": 4,
   "metadata": {},
   "outputs": [
    {
     "name": "stdout",
     "output_type": "stream",
     "text": [
      "['id', 'eye', 'stimuli', 'color', 'glaucoma', 'mean_window_50_0', 'std_window_50_0', 'median_window_50_0', 'max_window_50_0', 'min_window_50_0', 'range_window_50_0', 'IQR_window_50_0', 'Q1_window_50_0', 'Q3_window_50_0', 'kurtosis_window_50_0', 'skewness_window_50_0', 'mean_window_50_1', 'std_window_50_1', 'median_window_50_1', 'max_window_50_1', 'min_window_50_1', 'range_window_50_1', 'IQR_window_50_1', 'Q1_window_50_1', 'Q3_window_50_1', 'kurtosis_window_50_1', 'skewness_window_50_1', 'mean_window_50_2', 'std_window_50_2', 'median_window_50_2', 'max_window_50_2', 'min_window_50_2', 'range_window_50_2', 'IQR_window_50_2', 'Q1_window_50_2', 'Q3_window_50_2', 'kurtosis_window_50_2', 'skewness_window_50_2', 'mean_window_50_3', 'std_window_50_3', 'median_window_50_3', 'max_window_50_3', 'min_window_50_3', 'range_window_50_3', 'IQR_window_50_3', 'Q1_window_50_3', 'Q3_window_50_3', 'kurtosis_window_50_3', 'skewness_window_50_3', 'mean_window_50_4', 'std_window_50_4', 'median_window_50_4', 'max_window_50_4', 'min_window_50_4', 'range_window_50_4', 'IQR_window_50_4', 'Q1_window_50_4', 'Q3_window_50_4', 'kurtosis_window_50_4', 'skewness_window_50_4', 'mean_window_50_5', 'std_window_50_5', 'median_window_50_5', 'max_window_50_5', 'min_window_50_5', 'range_window_50_5', 'IQR_window_50_5', 'Q1_window_50_5', 'Q3_window_50_5', 'kurtosis_window_50_5', 'skewness_window_50_5', 'mean_window_50_6', 'std_window_50_6', 'median_window_50_6', 'max_window_50_6', 'min_window_50_6', 'range_window_50_6', 'IQR_window_50_6', 'Q1_window_50_6', 'Q3_window_50_6', 'kurtosis_window_50_6', 'skewness_window_50_6', 'mean_window_50_7', 'std_window_50_7', 'median_window_50_7', 'max_window_50_7', 'min_window_50_7', 'range_window_50_7', 'IQR_window_50_7', 'Q1_window_50_7', 'Q3_window_50_7', 'kurtosis_window_50_7', 'skewness_window_50_7', 'mean_window_50_8', 'std_window_50_8', 'median_window_50_8', 'max_window_50_8', 'min_window_50_8', 'range_window_50_8', 'IQR_window_50_8', 'Q1_window_50_8', 'Q3_window_50_8', 'kurtosis_window_50_8', 'skewness_window_50_8', 'mean_window_50_9', 'std_window_50_9', 'median_window_50_9', 'max_window_50_9', 'min_window_50_9', 'range_window_50_9', 'IQR_window_50_9', 'Q1_window_50_9', 'Q3_window_50_9', 'kurtosis_window_50_9', 'skewness_window_50_9', 'mean_window_50_10', 'std_window_50_10', 'median_window_50_10', 'max_window_50_10', 'min_window_50_10', 'range_window_50_10', 'IQR_window_50_10', 'Q1_window_50_10', 'Q3_window_50_10', 'kurtosis_window_50_10', 'skewness_window_50_10', 'mean_window_50_11', 'std_window_50_11', 'median_window_50_11', 'max_window_50_11', 'min_window_50_11', 'range_window_50_11', 'IQR_window_50_11', 'Q1_window_50_11', 'Q3_window_50_11', 'kurtosis_window_50_11', 'skewness_window_50_11', 'mean_window_50_12', 'std_window_50_12', 'median_window_50_12', 'max_window_50_12', 'min_window_50_12', 'range_window_50_12', 'IQR_window_50_12', 'Q1_window_50_12', 'Q3_window_50_12', 'kurtosis_window_50_12', 'skewness_window_50_12', 'mean_window_50_13', 'std_window_50_13', 'median_window_50_13', 'max_window_50_13', 'min_window_50_13', 'range_window_50_13', 'IQR_window_50_13', 'Q1_window_50_13', 'Q3_window_50_13', 'kurtosis_window_50_13', 'skewness_window_50_13', 'mean_window_50_14', 'std_window_50_14', 'median_window_50_14', 'max_window_50_14', 'min_window_50_14', 'range_window_50_14', 'IQR_window_50_14', 'Q1_window_50_14', 'Q3_window_50_14', 'kurtosis_window_50_14', 'skewness_window_50_14', 'mean_window_50_15', 'std_window_50_15', 'median_window_50_15', 'max_window_50_15', 'min_window_50_15', 'range_window_50_15', 'IQR_window_50_15', 'Q1_window_50_15', 'Q3_window_50_15', 'kurtosis_window_50_15', 'skewness_window_50_15', 'mean_window_50_16', 'std_window_50_16', 'median_window_50_16', 'max_window_50_16', 'min_window_50_16', 'range_window_50_16', 'IQR_window_50_16', 'Q1_window_50_16', 'Q3_window_50_16', 'kurtosis_window_50_16', 'skewness_window_50_16', 'mean_window_50_17', 'std_window_50_17', 'median_window_50_17', 'max_window_50_17', 'min_window_50_17', 'range_window_50_17', 'IQR_window_50_17', 'Q1_window_50_17', 'Q3_window_50_17', 'kurtosis_window_50_17', 'skewness_window_50_17', 'mean_window_50_18', 'std_window_50_18', 'median_window_50_18', 'max_window_50_18', 'min_window_50_18', 'range_window_50_18', 'IQR_window_50_18', 'Q1_window_50_18', 'Q3_window_50_18', 'kurtosis_window_50_18', 'skewness_window_50_18', 'mean_window_50_19', 'std_window_50_19', 'median_window_50_19', 'max_window_50_19', 'min_window_50_19', 'range_window_50_19', 'IQR_window_50_19', 'Q1_window_50_19', 'Q3_window_50_19', 'kurtosis_window_50_19', 'skewness_window_50_19', 'mean_window_50_20', 'std_window_50_20', 'median_window_50_20', 'max_window_50_20', 'min_window_50_20', 'range_window_50_20', 'IQR_window_50_20', 'Q1_window_50_20', 'Q3_window_50_20', 'kurtosis_window_50_20', 'skewness_window_50_20', 'mean_window_50_21', 'std_window_50_21', 'median_window_50_21', 'max_window_50_21', 'min_window_50_21', 'range_window_50_21', 'IQR_window_50_21', 'Q1_window_50_21', 'Q3_window_50_21', 'kurtosis_window_50_21', 'skewness_window_50_21', 'mean_window_50_22', 'std_window_50_22', 'median_window_50_22', 'max_window_50_22', 'min_window_50_22', 'range_window_50_22', 'IQR_window_50_22', 'Q1_window_50_22', 'Q3_window_50_22', 'kurtosis_window_50_22', 'skewness_window_50_22', 'mean_window_50_23', 'std_window_50_23', 'median_window_50_23', 'max_window_50_23', 'min_window_50_23', 'range_window_50_23', 'IQR_window_50_23', 'Q1_window_50_23', 'Q3_window_50_23', 'kurtosis_window_50_23', 'skewness_window_50_23', 'mean_window_50_24', 'std_window_50_24', 'median_window_50_24', 'max_window_50_24', 'min_window_50_24', 'range_window_50_24', 'IQR_window_50_24', 'Q1_window_50_24', 'Q3_window_50_24', 'kurtosis_window_50_24', 'skewness_window_50_24', 'mean_window_50_25', 'std_window_50_25', 'median_window_50_25', 'max_window_50_25', 'min_window_50_25', 'range_window_50_25', 'IQR_window_50_25', 'Q1_window_50_25', 'Q3_window_50_25', 'kurtosis_window_50_25', 'skewness_window_50_25', 'mean_window_50_26', 'std_window_50_26', 'median_window_50_26', 'max_window_50_26', 'min_window_50_26', 'range_window_50_26', 'IQR_window_50_26', 'Q1_window_50_26', 'Q3_window_50_26', 'kurtosis_window_50_26', 'skewness_window_50_26', 'mean_window_50_27', 'std_window_50_27', 'median_window_50_27', 'max_window_50_27', 'min_window_50_27', 'range_window_50_27', 'IQR_window_50_27', 'Q1_window_50_27', 'Q3_window_50_27', 'kurtosis_window_50_27', 'skewness_window_50_27', 'mean_window_50_28', 'std_window_50_28', 'median_window_50_28', 'max_window_50_28', 'min_window_50_28', 'range_window_50_28', 'IQR_window_50_28', 'Q1_window_50_28', 'Q3_window_50_28', 'kurtosis_window_50_28', 'skewness_window_50_28', 'mean_window_50_29', 'std_window_50_29', 'median_window_50_29', 'max_window_50_29', 'min_window_50_29', 'range_window_50_29', 'IQR_window_50_29', 'Q1_window_50_29', 'Q3_window_50_29', 'kurtosis_window_50_29', 'skewness_window_50_29', 'mean_window_50_30', 'std_window_50_30', 'median_window_50_30', 'max_window_50_30', 'min_window_50_30', 'range_window_50_30', 'IQR_window_50_30', 'Q1_window_50_30', 'Q3_window_50_30', 'kurtosis_window_50_30', 'skewness_window_50_30', 'mean_window_50_31', 'std_window_50_31', 'median_window_50_31', 'max_window_50_31', 'min_window_50_31', 'range_window_50_31', 'IQR_window_50_31', 'Q1_window_50_31', 'Q3_window_50_31', 'kurtosis_window_50_31', 'skewness_window_50_31', 'mean_window_50_32', 'std_window_50_32', 'median_window_50_32', 'max_window_50_32', 'min_window_50_32', 'range_window_50_32', 'IQR_window_50_32', 'Q1_window_50_32', 'Q3_window_50_32', 'kurtosis_window_50_32', 'skewness_window_50_32', 'mean_window_50_33', 'std_window_50_33', 'median_window_50_33', 'max_window_50_33', 'min_window_50_33', 'range_window_50_33', 'IQR_window_50_33', 'Q1_window_50_33', 'Q3_window_50_33', 'kurtosis_window_50_33', 'skewness_window_50_33', 'mean_window_50_34', 'std_window_50_34', 'median_window_50_34', 'max_window_50_34', 'min_window_50_34', 'range_window_50_34', 'IQR_window_50_34', 'Q1_window_50_34', 'Q3_window_50_34', 'kurtosis_window_50_34', 'skewness_window_50_34', 'mean_window_50_35', 'std_window_50_35', 'median_window_50_35', 'max_window_50_35', 'min_window_50_35', 'range_window_50_35', 'IQR_window_50_35', 'Q1_window_50_35', 'Q3_window_50_35', 'kurtosis_window_50_35', 'skewness_window_50_35', 'mean_window_50_36', 'std_window_50_36', 'median_window_50_36', 'max_window_50_36', 'min_window_50_36', 'range_window_50_36', 'IQR_window_50_36', 'Q1_window_50_36', 'Q3_window_50_36', 'kurtosis_window_50_36', 'skewness_window_50_36', 'mean_window_50_37', 'std_window_50_37', 'median_window_50_37', 'max_window_50_37', 'min_window_50_37', 'range_window_50_37', 'IQR_window_50_37', 'Q1_window_50_37', 'Q3_window_50_37', 'kurtosis_window_50_37', 'skewness_window_50_37', 'mean_window_50_38', 'std_window_50_38', 'median_window_50_38', 'max_window_50_38', 'min_window_50_38', 'range_window_50_38', 'IQR_window_50_38', 'Q1_window_50_38', 'Q3_window_50_38', 'kurtosis_window_50_38', 'skewness_window_50_38', 'mean_window_50_39', 'std_window_50_39', 'median_window_50_39', 'max_window_50_39', 'min_window_50_39', 'range_window_50_39', 'IQR_window_50_39', 'Q1_window_50_39', 'Q3_window_50_39', 'kurtosis_window_50_39', 'skewness_window_50_39', 'mean_window_50_40', 'std_window_50_40', 'median_window_50_40', 'max_window_50_40', 'min_window_50_40', 'range_window_50_40', 'IQR_window_50_40', 'Q1_window_50_40', 'Q3_window_50_40', 'kurtosis_window_50_40', 'skewness_window_50_40', 'mean_window_50_41', 'std_window_50_41', 'median_window_50_41', 'max_window_50_41', 'min_window_50_41', 'range_window_50_41', 'IQR_window_50_41', 'Q1_window_50_41', 'Q3_window_50_41', 'kurtosis_window_50_41', 'skewness_window_50_41', 'mean_window_50_42', 'std_window_50_42', 'median_window_50_42', 'max_window_50_42', 'min_window_50_42', 'range_window_50_42', 'IQR_window_50_42', 'Q1_window_50_42', 'Q3_window_50_42', 'kurtosis_window_50_42', 'skewness_window_50_42', 'mean_window_50_43', 'std_window_50_43', 'median_window_50_43', 'max_window_50_43', 'min_window_50_43', 'range_window_50_43', 'IQR_window_50_43', 'Q1_window_50_43', 'Q3_window_50_43', 'kurtosis_window_50_43', 'skewness_window_50_43', 'mean_window_50_44', 'std_window_50_44', 'median_window_50_44', 'max_window_50_44', 'min_window_50_44', 'range_window_50_44', 'IQR_window_50_44', 'Q1_window_50_44', 'Q3_window_50_44', 'kurtosis_window_50_44', 'skewness_window_50_44', 'mean_window_50_45', 'std_window_50_45', 'median_window_50_45', 'max_window_50_45', 'min_window_50_45', 'range_window_50_45', 'IQR_window_50_45', 'Q1_window_50_45', 'Q3_window_50_45', 'kurtosis_window_50_45', 'skewness_window_50_45', 'mean_window_50_46', 'std_window_50_46', 'median_window_50_46', 'max_window_50_46', 'min_window_50_46', 'range_window_50_46', 'IQR_window_50_46', 'Q1_window_50_46', 'Q3_window_50_46', 'kurtosis_window_50_46', 'skewness_window_50_46', 'mean_window_50_47', 'std_window_50_47', 'median_window_50_47', 'max_window_50_47', 'min_window_50_47', 'range_window_50_47', 'IQR_window_50_47', 'Q1_window_50_47', 'Q3_window_50_47', 'kurtosis_window_50_47', 'skewness_window_50_47', 'mean_window_50_48', 'std_window_50_48', 'median_window_50_48', 'max_window_50_48', 'min_window_50_48', 'range_window_50_48', 'IQR_window_50_48', 'Q1_window_50_48', 'Q3_window_50_48', 'kurtosis_window_50_48', 'skewness_window_50_48', 'mean_window_50_49', 'std_window_50_49', 'median_window_50_49', 'max_window_50_49', 'min_window_50_49', 'range_window_50_49', 'IQR_window_50_49', 'Q1_window_50_49', 'Q3_window_50_49', 'kurtosis_window_50_49', 'skewness_window_50_49', 'mean_window_50_50', 'std_window_50_50', 'median_window_50_50', 'max_window_50_50', 'min_window_50_50', 'range_window_50_50', 'IQR_window_50_50', 'Q1_window_50_50', 'Q3_window_50_50', 'kurtosis_window_50_50', 'skewness_window_50_50', 'mean_window_50_51', 'std_window_50_51', 'median_window_50_51', 'max_window_50_51', 'min_window_50_51', 'range_window_50_51', 'IQR_window_50_51', 'Q1_window_50_51', 'Q3_window_50_51', 'kurtosis_window_50_51', 'skewness_window_50_51', 'mean_window_50_52', 'std_window_50_52', 'median_window_50_52', 'max_window_50_52', 'min_window_50_52', 'range_window_50_52', 'IQR_window_50_52', 'Q1_window_50_52', 'Q3_window_50_52', 'kurtosis_window_50_52', 'skewness_window_50_52', 'mean_window_50_53', 'std_window_50_53', 'median_window_50_53', 'max_window_50_53', 'min_window_50_53', 'range_window_50_53', 'IQR_window_50_53', 'Q1_window_50_53', 'Q3_window_50_53', 'kurtosis_window_50_53', 'skewness_window_50_53', 'mean_window_50_54', 'std_window_50_54', 'median_window_50_54', 'max_window_50_54', 'min_window_50_54', 'range_window_50_54', 'IQR_window_50_54', 'Q1_window_50_54', 'Q3_window_50_54', 'kurtosis_window_50_54', 'skewness_window_50_54', 'mean_window_100_0', 'std_window_100_0', 'median_window_100_0', 'max_window_100_0', 'min_window_100_0', 'range_window_100_0', 'IQR_window_100_0', 'Q1_window_100_0', 'Q3_window_100_0', 'kurtosis_window_100_0', 'skewness_window_100_0', 'mean_window_100_1', 'std_window_100_1', 'median_window_100_1', 'max_window_100_1', 'min_window_100_1', 'range_window_100_1', 'IQR_window_100_1', 'Q1_window_100_1', 'Q3_window_100_1', 'kurtosis_window_100_1', 'skewness_window_100_1', 'mean_window_100_2', 'std_window_100_2', 'median_window_100_2', 'max_window_100_2', 'min_window_100_2', 'range_window_100_2', 'IQR_window_100_2', 'Q1_window_100_2', 'Q3_window_100_2', 'kurtosis_window_100_2', 'skewness_window_100_2', 'mean_window_100_3', 'std_window_100_3', 'median_window_100_3', 'max_window_100_3', 'min_window_100_3', 'range_window_100_3', 'IQR_window_100_3', 'Q1_window_100_3', 'Q3_window_100_3', 'kurtosis_window_100_3', 'skewness_window_100_3', 'mean_window_100_4', 'std_window_100_4', 'median_window_100_4', 'max_window_100_4', 'min_window_100_4', 'range_window_100_4', 'IQR_window_100_4', 'Q1_window_100_4', 'Q3_window_100_4', 'kurtosis_window_100_4', 'skewness_window_100_4', 'mean_window_100_5', 'std_window_100_5', 'median_window_100_5', 'max_window_100_5', 'min_window_100_5', 'range_window_100_5', 'IQR_window_100_5', 'Q1_window_100_5', 'Q3_window_100_5', 'kurtosis_window_100_5', 'skewness_window_100_5', 'mean_window_100_6', 'std_window_100_6', 'median_window_100_6', 'max_window_100_6', 'min_window_100_6', 'range_window_100_6', 'IQR_window_100_6', 'Q1_window_100_6', 'Q3_window_100_6', 'kurtosis_window_100_6', 'skewness_window_100_6', 'mean_window_100_7', 'std_window_100_7', 'median_window_100_7', 'max_window_100_7', 'min_window_100_7', 'range_window_100_7', 'IQR_window_100_7', 'Q1_window_100_7', 'Q3_window_100_7', 'kurtosis_window_100_7', 'skewness_window_100_7', 'mean_window_100_8', 'std_window_100_8', 'median_window_100_8', 'max_window_100_8', 'min_window_100_8', 'range_window_100_8', 'IQR_window_100_8', 'Q1_window_100_8', 'Q3_window_100_8', 'kurtosis_window_100_8', 'skewness_window_100_8', 'mean_window_100_9', 'std_window_100_9', 'median_window_100_9', 'max_window_100_9', 'min_window_100_9', 'range_window_100_9', 'IQR_window_100_9', 'Q1_window_100_9', 'Q3_window_100_9', 'kurtosis_window_100_9', 'skewness_window_100_9', 'mean_window_100_10', 'std_window_100_10', 'median_window_100_10', 'max_window_100_10', 'min_window_100_10', 'range_window_100_10', 'IQR_window_100_10', 'Q1_window_100_10', 'Q3_window_100_10', 'kurtosis_window_100_10', 'skewness_window_100_10', 'mean_window_100_11', 'std_window_100_11', 'median_window_100_11', 'max_window_100_11', 'min_window_100_11', 'range_window_100_11', 'IQR_window_100_11', 'Q1_window_100_11', 'Q3_window_100_11', 'kurtosis_window_100_11', 'skewness_window_100_11', 'mean_window_100_12', 'std_window_100_12', 'median_window_100_12', 'max_window_100_12', 'min_window_100_12', 'range_window_100_12', 'IQR_window_100_12', 'Q1_window_100_12', 'Q3_window_100_12', 'kurtosis_window_100_12', 'skewness_window_100_12', 'mean_window_100_13', 'std_window_100_13', 'median_window_100_13', 'max_window_100_13', 'min_window_100_13', 'range_window_100_13', 'IQR_window_100_13', 'Q1_window_100_13', 'Q3_window_100_13', 'kurtosis_window_100_13', 'skewness_window_100_13', 'mean_window_100_14', 'std_window_100_14', 'median_window_100_14', 'max_window_100_14', 'min_window_100_14', 'range_window_100_14', 'IQR_window_100_14', 'Q1_window_100_14', 'Q3_window_100_14', 'kurtosis_window_100_14', 'skewness_window_100_14', 'mean_window_100_15', 'std_window_100_15', 'median_window_100_15', 'max_window_100_15', 'min_window_100_15', 'range_window_100_15', 'IQR_window_100_15', 'Q1_window_100_15', 'Q3_window_100_15', 'kurtosis_window_100_15', 'skewness_window_100_15', 'mean_window_100_16', 'std_window_100_16', 'median_window_100_16', 'max_window_100_16', 'min_window_100_16', 'range_window_100_16', 'IQR_window_100_16', 'Q1_window_100_16', 'Q3_window_100_16', 'kurtosis_window_100_16', 'skewness_window_100_16', 'mean_window_100_17', 'std_window_100_17', 'median_window_100_17', 'max_window_100_17', 'min_window_100_17', 'range_window_100_17', 'IQR_window_100_17', 'Q1_window_100_17', 'Q3_window_100_17', 'kurtosis_window_100_17', 'skewness_window_100_17', 'mean_window_100_18', 'std_window_100_18', 'median_window_100_18', 'max_window_100_18', 'min_window_100_18', 'range_window_100_18', 'IQR_window_100_18', 'Q1_window_100_18', 'Q3_window_100_18', 'kurtosis_window_100_18', 'skewness_window_100_18', 'mean_window_100_19', 'std_window_100_19', 'median_window_100_19', 'max_window_100_19', 'min_window_100_19', 'range_window_100_19', 'IQR_window_100_19', 'Q1_window_100_19', 'Q3_window_100_19', 'kurtosis_window_100_19', 'skewness_window_100_19', 'mean_window_100_20', 'std_window_100_20', 'median_window_100_20', 'max_window_100_20', 'min_window_100_20', 'range_window_100_20', 'IQR_window_100_20', 'Q1_window_100_20', 'Q3_window_100_20', 'kurtosis_window_100_20', 'skewness_window_100_20', 'mean_window_100_21', 'std_window_100_21', 'median_window_100_21', 'max_window_100_21', 'min_window_100_21', 'range_window_100_21', 'IQR_window_100_21', 'Q1_window_100_21', 'Q3_window_100_21', 'kurtosis_window_100_21', 'skewness_window_100_21', 'mean_window_100_22', 'std_window_100_22', 'median_window_100_22', 'max_window_100_22', 'min_window_100_22', 'range_window_100_22', 'IQR_window_100_22', 'Q1_window_100_22', 'Q3_window_100_22', 'kurtosis_window_100_22', 'skewness_window_100_22', 'mean_window_100_23', 'std_window_100_23', 'median_window_100_23', 'max_window_100_23', 'min_window_100_23', 'range_window_100_23', 'IQR_window_100_23', 'Q1_window_100_23', 'Q3_window_100_23', 'kurtosis_window_100_23', 'skewness_window_100_23', 'mean_window_100_24', 'std_window_100_24', 'median_window_100_24', 'max_window_100_24', 'min_window_100_24', 'range_window_100_24', 'IQR_window_100_24', 'Q1_window_100_24', 'Q3_window_100_24', 'kurtosis_window_100_24', 'skewness_window_100_24', 'mean_window_100_25', 'std_window_100_25', 'median_window_100_25', 'max_window_100_25', 'min_window_100_25', 'range_window_100_25', 'IQR_window_100_25', 'Q1_window_100_25', 'Q3_window_100_25', 'kurtosis_window_100_25', 'skewness_window_100_25', 'mean_window_100_26', 'std_window_100_26', 'median_window_100_26', 'max_window_100_26', 'min_window_100_26', 'range_window_100_26', 'IQR_window_100_26', 'Q1_window_100_26', 'Q3_window_100_26', 'kurtosis_window_100_26', 'skewness_window_100_26']\n"
     ]
    }
   ],
   "source": [
    "print(df.columns.tolist())"
   ]
  },
  {
   "cell_type": "code",
   "execution_count": 200,
   "metadata": {},
   "outputs": [
    {
     "data": {
      "text/html": [
       "<div>\n",
       "<style scoped>\n",
       "    .dataframe tbody tr th:only-of-type {\n",
       "        vertical-align: middle;\n",
       "    }\n",
       "\n",
       "    .dataframe tbody tr th {\n",
       "        vertical-align: top;\n",
       "    }\n",
       "\n",
       "    .dataframe thead th {\n",
       "        text-align: right;\n",
       "    }\n",
       "</style>\n",
       "<table border=\"1\" class=\"dataframe\">\n",
       "  <thead>\n",
       "    <tr style=\"text-align: right;\">\n",
       "      <th></th>\n",
       "      <th>id</th>\n",
       "      <th>eye</th>\n",
       "      <th>stimuli</th>\n",
       "      <th>color</th>\n",
       "      <th>glaucoma</th>\n",
       "      <th>mean_window_50_0</th>\n",
       "      <th>std_window_50_0</th>\n",
       "      <th>median_window_50_0</th>\n",
       "      <th>max_window_50_0</th>\n",
       "      <th>min_window_50_0</th>\n",
       "      <th>...</th>\n",
       "      <th>Q3_window_50_13</th>\n",
       "      <th>mean_window_50_14</th>\n",
       "      <th>std_window_50_14</th>\n",
       "      <th>median_window_50_14</th>\n",
       "      <th>max_window_50_14</th>\n",
       "      <th>min_window_50_14</th>\n",
       "      <th>range_window_50_14</th>\n",
       "      <th>IQR_window_50_14</th>\n",
       "      <th>Q1_window_50_14</th>\n",
       "      <th>Q3_window_50_14</th>\n",
       "    </tr>\n",
       "  </thead>\n",
       "  <tbody>\n",
       "    <tr>\n",
       "      <th>0</th>\n",
       "      <td>C001</td>\n",
       "      <td>left</td>\n",
       "      <td>ramp</td>\n",
       "      <td>white</td>\n",
       "      <td>0</td>\n",
       "      <td>32.233702</td>\n",
       "      <td>21.220448</td>\n",
       "      <td>29.165282</td>\n",
       "      <td>60.572493</td>\n",
       "      <td>0.000000</td>\n",
       "      <td>...</td>\n",
       "      <td>31.493153</td>\n",
       "      <td>32.542614</td>\n",
       "      <td>1.027304</td>\n",
       "      <td>32.249439</td>\n",
       "      <td>34.517437</td>\n",
       "      <td>31.136570</td>\n",
       "      <td>3.380867</td>\n",
       "      <td>1.514904</td>\n",
       "      <td>31.697360</td>\n",
       "      <td>33.212264</td>\n",
       "    </tr>\n",
       "    <tr>\n",
       "      <th>1</th>\n",
       "      <td>C001</td>\n",
       "      <td>left</td>\n",
       "      <td>ramp</td>\n",
       "      <td>blue</td>\n",
       "      <td>0</td>\n",
       "      <td>54.801834</td>\n",
       "      <td>7.457179</td>\n",
       "      <td>56.462238</td>\n",
       "      <td>57.416459</td>\n",
       "      <td>13.402000</td>\n",
       "      <td>...</td>\n",
       "      <td>25.610007</td>\n",
       "      <td>24.180124</td>\n",
       "      <td>3.738143</td>\n",
       "      <td>25.026102</td>\n",
       "      <td>25.862329</td>\n",
       "      <td>0.000000</td>\n",
       "      <td>25.862329</td>\n",
       "      <td>0.644458</td>\n",
       "      <td>24.658390</td>\n",
       "      <td>25.302848</td>\n",
       "    </tr>\n",
       "    <tr>\n",
       "      <th>2</th>\n",
       "      <td>C001</td>\n",
       "      <td>left</td>\n",
       "      <td>ramp</td>\n",
       "      <td>green</td>\n",
       "      <td>0</td>\n",
       "      <td>55.186039</td>\n",
       "      <td>5.784269</td>\n",
       "      <td>55.880359</td>\n",
       "      <td>68.521255</td>\n",
       "      <td>20.023360</td>\n",
       "      <td>...</td>\n",
       "      <td>34.850234</td>\n",
       "      <td>34.544660</td>\n",
       "      <td>0.699974</td>\n",
       "      <td>34.629436</td>\n",
       "      <td>36.062810</td>\n",
       "      <td>33.197536</td>\n",
       "      <td>2.865274</td>\n",
       "      <td>1.018261</td>\n",
       "      <td>34.093526</td>\n",
       "      <td>35.111786</td>\n",
       "    </tr>\n",
       "    <tr>\n",
       "      <th>3</th>\n",
       "      <td>C001</td>\n",
       "      <td>left</td>\n",
       "      <td>flash</td>\n",
       "      <td>white</td>\n",
       "      <td>0</td>\n",
       "      <td>50.753054</td>\n",
       "      <td>15.557146</td>\n",
       "      <td>56.509845</td>\n",
       "      <td>80.000000</td>\n",
       "      <td>11.077743</td>\n",
       "      <td>...</td>\n",
       "      <td>55.207252</td>\n",
       "      <td>53.163536</td>\n",
       "      <td>7.964327</td>\n",
       "      <td>55.013068</td>\n",
       "      <td>69.071053</td>\n",
       "      <td>14.750408</td>\n",
       "      <td>54.320645</td>\n",
       "      <td>0.643071</td>\n",
       "      <td>54.614230</td>\n",
       "      <td>55.257301</td>\n",
       "    </tr>\n",
       "    <tr>\n",
       "      <th>4</th>\n",
       "      <td>C001</td>\n",
       "      <td>left</td>\n",
       "      <td>flash</td>\n",
       "      <td>blue</td>\n",
       "      <td>0</td>\n",
       "      <td>47.545593</td>\n",
       "      <td>15.580917</td>\n",
       "      <td>55.304546</td>\n",
       "      <td>80.000000</td>\n",
       "      <td>10.388611</td>\n",
       "      <td>...</td>\n",
       "      <td>51.471113</td>\n",
       "      <td>43.186415</td>\n",
       "      <td>14.899464</td>\n",
       "      <td>51.411627</td>\n",
       "      <td>58.071033</td>\n",
       "      <td>10.783411</td>\n",
       "      <td>47.287623</td>\n",
       "      <td>11.282030</td>\n",
       "      <td>41.198513</td>\n",
       "      <td>52.480543</td>\n",
       "    </tr>\n",
       "  </tbody>\n",
       "</table>\n",
       "<p>5 rows × 164 columns</p>\n",
       "</div>"
      ],
      "text/plain": [
       "     id   eye stimuli  color  glaucoma  mean_window_50_0  std_window_50_0  \\\n",
       "0  C001  left    ramp  white         0         32.233702        21.220448   \n",
       "1  C001  left    ramp   blue         0         54.801834         7.457179   \n",
       "2  C001  left    ramp  green         0         55.186039         5.784269   \n",
       "3  C001  left   flash  white         0         50.753054        15.557146   \n",
       "4  C001  left   flash   blue         0         47.545593        15.580917   \n",
       "\n",
       "   median_window_50_0  max_window_50_0  min_window_50_0  ...  Q3_window_50_13  \\\n",
       "0           29.165282        60.572493         0.000000  ...        31.493153   \n",
       "1           56.462238        57.416459        13.402000  ...        25.610007   \n",
       "2           55.880359        68.521255        20.023360  ...        34.850234   \n",
       "3           56.509845        80.000000        11.077743  ...        55.207252   \n",
       "4           55.304546        80.000000        10.388611  ...        51.471113   \n",
       "\n",
       "   mean_window_50_14  std_window_50_14  median_window_50_14  max_window_50_14  \\\n",
       "0          32.542614          1.027304            32.249439         34.517437   \n",
       "1          24.180124          3.738143            25.026102         25.862329   \n",
       "2          34.544660          0.699974            34.629436         36.062810   \n",
       "3          53.163536          7.964327            55.013068         69.071053   \n",
       "4          43.186415         14.899464            51.411627         58.071033   \n",
       "\n",
       "   min_window_50_14  range_window_50_14  IQR_window_50_14  Q1_window_50_14  \\\n",
       "0         31.136570            3.380867          1.514904        31.697360   \n",
       "1          0.000000           25.862329          0.644458        24.658390   \n",
       "2         33.197536            2.865274          1.018261        34.093526   \n",
       "3         14.750408           54.320645          0.643071        54.614230   \n",
       "4         10.783411           47.287623         11.282030        41.198513   \n",
       "\n",
       "   Q3_window_50_14  \n",
       "0        33.212264  \n",
       "1        25.302848  \n",
       "2        35.111786  \n",
       "3        55.257301  \n",
       "4        52.480543  \n",
       "\n",
       "[5 rows x 164 columns]"
      ]
     },
     "execution_count": 200,
     "metadata": {},
     "output_type": "execute_result"
    }
   ],
   "source": [
    "# Lista de columnas adicionales que quieres conservar\n",
    "#additional_columns = ['id', 'eye', 'stimuli', 'color', 'glaucoma']\n",
    "\n",
    "# Seleccionar las columnas que van desde 50_0 hasta 50_14\n",
    "#pattern_columns = [col for col in df.columns if '50_' in col and int(col.split('_')[-1]) <= 14]\n",
    "\n",
    "# Combinar las columnas seleccionadas con las columnas adicionales\n",
    "#selected_columns = additional_columns + pattern_columns\n",
    "\n",
    "# Crear un nuevo dataframe con las columnas seleccionadas\n",
    "#df_selected = df[selected_columns]\n",
    "\n",
    "# Mostrar las primeras filas del dataframe seleccionado\n",
    "#df_selected.head()"
   ]
  },
  {
   "cell_type": "code",
   "execution_count": 5,
   "metadata": {},
   "outputs": [
    {
     "name": "stdout",
     "output_type": "stream",
     "text": [
      "Total de valores nulos en el dataset: 58\n"
     ]
    }
   ],
   "source": [
    "total_nulls = df.isnull().sum().sum()\n",
    "print(f\"Total de valores nulos en el dataset: {total_nulls}\")"
   ]
  },
  {
   "cell_type": "code",
   "execution_count": 6,
   "metadata": {},
   "outputs": [
    {
     "name": "stdout",
     "output_type": "stream",
     "text": [
      "Valores nulos por columna:\n",
      "kurtosis_window_50_0     1\n",
      "skewness_window_50_0     1\n",
      "kurtosis_window_50_1     1\n",
      "skewness_window_50_1     1\n",
      "kurtosis_window_50_2     1\n",
      "skewness_window_50_2     1\n",
      "kurtosis_window_50_8     1\n",
      "skewness_window_50_8     1\n",
      "kurtosis_window_50_12    2\n",
      "skewness_window_50_12    2\n",
      "kurtosis_window_50_13    1\n",
      "skewness_window_50_13    1\n",
      "kurtosis_window_50_14    2\n",
      "skewness_window_50_14    2\n",
      "kurtosis_window_50_15    1\n",
      "skewness_window_50_15    1\n",
      "kurtosis_window_50_16    1\n",
      "skewness_window_50_16    1\n",
      "kurtosis_window_50_17    1\n",
      "skewness_window_50_17    1\n",
      "kurtosis_window_50_18    1\n",
      "skewness_window_50_18    1\n",
      "kurtosis_window_50_19    1\n",
      "skewness_window_50_19    1\n",
      "kurtosis_window_50_21    1\n",
      "skewness_window_50_21    1\n",
      "kurtosis_window_50_22    1\n",
      "skewness_window_50_22    1\n",
      "kurtosis_window_50_30    1\n",
      "skewness_window_50_30    1\n",
      "kurtosis_window_50_35    1\n",
      "skewness_window_50_35    1\n",
      "kurtosis_window_50_36    1\n",
      "skewness_window_50_36    1\n",
      "kurtosis_window_50_41    2\n",
      "skewness_window_50_41    2\n",
      "kurtosis_window_50_47    1\n",
      "skewness_window_50_47    1\n",
      "kurtosis_window_50_53    1\n",
      "skewness_window_50_53    1\n",
      "kurtosis_window_50_54    1\n",
      "skewness_window_50_54    1\n",
      "kurtosis_window_100_0    1\n",
      "skewness_window_100_0    1\n",
      "kurtosis_window_100_6    1\n",
      "skewness_window_100_6    1\n",
      "kurtosis_window_100_7    1\n",
      "skewness_window_100_7    1\n",
      "kurtosis_window_100_8    1\n",
      "skewness_window_100_8    1\n",
      "kurtosis_window_100_9    1\n",
      "skewness_window_100_9    1\n",
      "dtype: int64\n"
     ]
    }
   ],
   "source": [
    "# Verificar si el DataFrame tiene valores nulos\n",
    "def check_nulls(dataset):\n",
    "    nulls = dataset.isnull().sum()\n",
    "    print(\"Valores nulos por columna:\")\n",
    "    print(nulls[nulls > 0])  # Mostrar solo las columnas con valores nulos\n",
    "    return nulls[nulls > 0]\n",
    "\n",
    "nulls = check_nulls(df)"
   ]
  },
  {
   "cell_type": "code",
   "execution_count": 7,
   "metadata": {},
   "outputs": [
    {
     "name": "stdout",
     "output_type": "stream",
     "text": [
      "Valores nulos por columna:\n",
      "Series([], dtype: int64)\n"
     ]
    }
   ],
   "source": [
    "# Eliminar columnas que contienen cualquier valor NaN\n",
    "df = df.dropna(axis=1)\n",
    "nulls = check_nulls(df)"
   ]
  },
  {
   "cell_type": "code",
   "execution_count": 201,
   "metadata": {},
   "outputs": [
    {
     "name": "stdout",
     "output_type": "stream",
     "text": [
      "Valores nulos por columna:\n",
      "Series([], dtype: int64)\n"
     ]
    }
   ],
   "source": [
    "# Eliminar columnas que contienen cualquier valor NaN\n",
    "#df_selected = df_selected.dropna(axis=1)\n",
    "#nulls = check_nulls(df_selected)"
   ]
  },
  {
   "cell_type": "code",
   "execution_count": 8,
   "metadata": {},
   "outputs": [
    {
     "name": "stdout",
     "output_type": "stream",
     "text": [
      "int32\n"
     ]
    }
   ],
   "source": [
    "pd.set_option('future.no_silent_downcasting', True)\n",
    "df = df.replace({'yes': 1, 'no': 0})\n",
    "\n",
    "# Convertir la columna 'glaucoma' a tipo numérico\n",
    "df['glaucoma'] = df['glaucoma'].astype(int)\n",
    "\n",
    "# Verificar el tipo de dato de la columna\n",
    "print(df.dtypes['glaucoma'])"
   ]
  },
  {
   "cell_type": "code",
   "execution_count": 202,
   "metadata": {},
   "outputs": [
    {
     "name": "stdout",
     "output_type": "stream",
     "text": [
      "int32\n"
     ]
    }
   ],
   "source": [
    "#pd.set_option('future.no_silent_downcasting', True)\n",
    "#df_selected = df_selected.replace({'yes': 1, 'no': 0})\n",
    "\n",
    "# Convertir la columna 'glaucoma' a tipo numérico\n",
    "#df_selected['glaucoma'] = df_selected['glaucoma'].astype(int)\n",
    "\n",
    "# Verificar el tipo de dato de la columna\n",
    "#print(df_selected.dtypes['glaucoma'])"
   ]
  },
  {
   "cell_type": "code",
   "execution_count": 9,
   "metadata": {},
   "outputs": [
    {
     "name": "stdout",
     "output_type": "stream",
     "text": [
      "Tamaño del conjunto de entrenamiento: 512\n",
      "Tamaño del conjunto de prueba: 144\n"
     ]
    }
   ],
   "source": [
    "import pandas as pd\n",
    "from sklearn.model_selection import train_test_split\n",
    "\n",
    "# Supongamos que tienes un dataset cargado\n",
    "# dataset = pd.read_csv('path_to_your_dataset.csv')\n",
    "\n",
    "# Primero, obtener los ids únicos\n",
    "unique_ids = df['id'].unique()\n",
    "\n",
    "# Realizar el train_test_split a nivel de id\n",
    "train_ids, test_ids = train_test_split(unique_ids, test_size=0.2, random_state=26)\n",
    "\n",
    "# Filtrar el df original usando los ids seleccionados\n",
    "train_set = df[df['id'].isin(train_ids)]\n",
    "test_set = df[df['id'].isin(test_ids)]\n",
    "\n",
    "# Verifica los tamaños de los conjuntos\n",
    "print(f\"Tamaño del conjunto de entrenamiento: {len(train_set)}\")\n",
    "print(f\"Tamaño del conjunto de prueba: {len(test_set)}\")"
   ]
  },
  {
   "cell_type": "code",
   "execution_count": 203,
   "metadata": {},
   "outputs": [
    {
     "name": "stdout",
     "output_type": "stream",
     "text": [
      "Tamaño del conjunto de entrenamiento: 512\n",
      "Tamaño del conjunto de prueba: 144\n"
     ]
    }
   ],
   "source": [
    "import pandas as pd\n",
    "from sklearn.model_selection import train_test_split\n",
    "\n",
    "# Supongamos que tienes un dataset cargado\n",
    "# dataset = pd.read_csv('path_to_your_dataset.csv')\n",
    "\n",
    "# Primero, obtener los ids únicos\n",
    "#unique_ids = df_selected['id'].unique()\n",
    "\n",
    "# Realizar el train_test_split a nivel de id\n",
    "#train_ids, test_ids = train_test_split(unique_ids, test_size=0.2, random_state=42)\n",
    "\n",
    "# Filtrar el df_selected original usando los ids seleccionados\n",
    "#train_set = df_selected[df_selected['id'].isin(train_ids)]\n",
    "#test_set = df_selected[df_selected['id'].isin(test_ids)]\n",
    "\n",
    "# Verifica los tamaños de los conjuntos\n",
    "#print(f\"Tamaño del conjunto de entrenamiento: {len(train_set)}\")\n",
    "#print(f\"Tamaño del conjunto de prueba: {len(test_set)}\")"
   ]
  },
  {
   "cell_type": "code",
   "execution_count": 10,
   "metadata": {},
   "outputs": [],
   "source": [
    "y_train = train_set.loc[:, 'glaucoma']\n",
    "y_test = test_set.loc[:, 'glaucoma']\n",
    "labels = df.loc[:, 'glaucoma']"
   ]
  },
  {
   "cell_type": "code",
   "execution_count": 11,
   "metadata": {},
   "outputs": [
    {
     "name": "stdout",
     "output_type": "stream",
     "text": [
      "0      0\n",
      "1      0\n",
      "2      0\n",
      "3      0\n",
      "4      0\n",
      "      ..\n",
      "651    1\n",
      "652    1\n",
      "653    1\n",
      "654    1\n",
      "655    1\n",
      "Name: glaucoma, Length: 512, dtype: int32\n",
      "80     0\n",
      "81     0\n",
      "82     0\n",
      "83     0\n",
      "84     0\n",
      "      ..\n",
      "635    1\n",
      "636    1\n",
      "637    1\n",
      "638    1\n",
      "639    1\n",
      "Name: glaucoma, Length: 144, dtype: int32\n"
     ]
    }
   ],
   "source": [
    "print(y_train)\n",
    "print(y_test)"
   ]
  },
  {
   "cell_type": "code",
   "execution_count": 12,
   "metadata": {},
   "outputs": [
    {
     "data": {
      "text/plain": [
       "glaucoma\n",
       "0    51.219512\n",
       "1    48.780488\n",
       "Name: count, dtype: float64"
      ]
     },
     "execution_count": 12,
     "metadata": {},
     "output_type": "execute_result"
    }
   ],
   "source": [
    "# distribución original\n",
    "labels.value_counts() / labels.count() * 100"
   ]
  },
  {
   "cell_type": "code",
   "execution_count": 13,
   "metadata": {},
   "outputs": [
    {
     "data": {
      "text/plain": [
       "glaucoma\n",
       "0    50.0\n",
       "1    50.0\n",
       "Name: count, dtype: float64"
      ]
     },
     "execution_count": 13,
     "metadata": {},
     "output_type": "execute_result"
    }
   ],
   "source": [
    "# conjunto de entrenamiento\n",
    "y_train.value_counts() / y_train.count() * 100"
   ]
  },
  {
   "cell_type": "code",
   "execution_count": 14,
   "metadata": {},
   "outputs": [
    {
     "data": {
      "text/plain": [
       "glaucoma\n",
       "0    55.555556\n",
       "1    44.444444\n",
       "Name: count, dtype: float64"
      ]
     },
     "execution_count": 14,
     "metadata": {},
     "output_type": "execute_result"
    }
   ],
   "source": [
    "# conjunto de pruebas\n",
    "y_test.value_counts() / y_test.count() * 100"
   ]
  },
  {
   "cell_type": "code",
   "execution_count": 15,
   "metadata": {},
   "outputs": [
    {
     "data": {
      "text/html": [
       "<div>\n",
       "<style scoped>\n",
       "    .dataframe tbody tr th:only-of-type {\n",
       "        vertical-align: middle;\n",
       "    }\n",
       "\n",
       "    .dataframe tbody tr th {\n",
       "        vertical-align: top;\n",
       "    }\n",
       "\n",
       "    .dataframe thead th {\n",
       "        text-align: right;\n",
       "    }\n",
       "</style>\n",
       "<table border=\"1\" class=\"dataframe\">\n",
       "  <thead>\n",
       "    <tr style=\"text-align: right;\">\n",
       "      <th></th>\n",
       "      <th>id</th>\n",
       "      <th>eye</th>\n",
       "      <th>stimuli</th>\n",
       "      <th>color</th>\n",
       "      <th>glaucoma</th>\n",
       "      <th>mean_window_50_0</th>\n",
       "      <th>std_window_50_0</th>\n",
       "      <th>median_window_50_0</th>\n",
       "      <th>max_window_50_0</th>\n",
       "      <th>min_window_50_0</th>\n",
       "      <th>...</th>\n",
       "      <th>std_window_100_26</th>\n",
       "      <th>median_window_100_26</th>\n",
       "      <th>max_window_100_26</th>\n",
       "      <th>min_window_100_26</th>\n",
       "      <th>range_window_100_26</th>\n",
       "      <th>IQR_window_100_26</th>\n",
       "      <th>Q1_window_100_26</th>\n",
       "      <th>Q3_window_100_26</th>\n",
       "      <th>kurtosis_window_100_26</th>\n",
       "      <th>skewness_window_100_26</th>\n",
       "    </tr>\n",
       "  </thead>\n",
       "  <tbody>\n",
       "    <tr>\n",
       "      <th>0</th>\n",
       "      <td>C001</td>\n",
       "      <td>left</td>\n",
       "      <td>ramp</td>\n",
       "      <td>white</td>\n",
       "      <td>0</td>\n",
       "      <td>33.233702</td>\n",
       "      <td>19.870581</td>\n",
       "      <td>29.165282</td>\n",
       "      <td>60.572493</td>\n",
       "      <td>10.000000</td>\n",
       "      <td>...</td>\n",
       "      <td>16.530944</td>\n",
       "      <td>55.875806</td>\n",
       "      <td>63.524532</td>\n",
       "      <td>10.000000</td>\n",
       "      <td>53.524532</td>\n",
       "      <td>12.557260</td>\n",
       "      <td>43.678068</td>\n",
       "      <td>56.235328</td>\n",
       "      <td>0.082570</td>\n",
       "      <td>-1.335345</td>\n",
       "    </tr>\n",
       "    <tr>\n",
       "      <th>1</th>\n",
       "      <td>C001</td>\n",
       "      <td>left</td>\n",
       "      <td>ramp</td>\n",
       "      <td>blue</td>\n",
       "      <td>0</td>\n",
       "      <td>54.801834</td>\n",
       "      <td>7.457179</td>\n",
       "      <td>56.462238</td>\n",
       "      <td>57.416459</td>\n",
       "      <td>13.402000</td>\n",
       "      <td>...</td>\n",
       "      <td>12.704317</td>\n",
       "      <td>54.304483</td>\n",
       "      <td>78.488327</td>\n",
       "      <td>10.837809</td>\n",
       "      <td>67.650518</td>\n",
       "      <td>1.876106</td>\n",
       "      <td>52.844029</td>\n",
       "      <td>54.720135</td>\n",
       "      <td>2.291014</td>\n",
       "      <td>-1.790707</td>\n",
       "    </tr>\n",
       "    <tr>\n",
       "      <th>2</th>\n",
       "      <td>C001</td>\n",
       "      <td>left</td>\n",
       "      <td>ramp</td>\n",
       "      <td>green</td>\n",
       "      <td>0</td>\n",
       "      <td>55.186039</td>\n",
       "      <td>5.784269</td>\n",
       "      <td>55.880359</td>\n",
       "      <td>68.521255</td>\n",
       "      <td>20.023360</td>\n",
       "      <td>...</td>\n",
       "      <td>11.525011</td>\n",
       "      <td>55.587336</td>\n",
       "      <td>66.911400</td>\n",
       "      <td>10.007051</td>\n",
       "      <td>56.904349</td>\n",
       "      <td>1.041976</td>\n",
       "      <td>54.933230</td>\n",
       "      <td>55.975206</td>\n",
       "      <td>4.640643</td>\n",
       "      <td>-2.400916</td>\n",
       "    </tr>\n",
       "    <tr>\n",
       "      <th>3</th>\n",
       "      <td>C001</td>\n",
       "      <td>left</td>\n",
       "      <td>flash</td>\n",
       "      <td>white</td>\n",
       "      <td>0</td>\n",
       "      <td>50.753054</td>\n",
       "      <td>15.557146</td>\n",
       "      <td>56.509845</td>\n",
       "      <td>80.000000</td>\n",
       "      <td>11.077743</td>\n",
       "      <td>...</td>\n",
       "      <td>15.948908</td>\n",
       "      <td>56.387945</td>\n",
       "      <td>62.685928</td>\n",
       "      <td>10.171413</td>\n",
       "      <td>52.514515</td>\n",
       "      <td>11.608063</td>\n",
       "      <td>45.340697</td>\n",
       "      <td>56.948760</td>\n",
       "      <td>-0.239943</td>\n",
       "      <td>-1.224524</td>\n",
       "    </tr>\n",
       "    <tr>\n",
       "      <th>4</th>\n",
       "      <td>C001</td>\n",
       "      <td>left</td>\n",
       "      <td>flash</td>\n",
       "      <td>blue</td>\n",
       "      <td>0</td>\n",
       "      <td>47.545593</td>\n",
       "      <td>15.580917</td>\n",
       "      <td>55.304546</td>\n",
       "      <td>80.000000</td>\n",
       "      <td>10.388611</td>\n",
       "      <td>...</td>\n",
       "      <td>12.707170</td>\n",
       "      <td>55.829964</td>\n",
       "      <td>62.747673</td>\n",
       "      <td>10.634277</td>\n",
       "      <td>52.113397</td>\n",
       "      <td>1.397660</td>\n",
       "      <td>55.061753</td>\n",
       "      <td>56.459414</td>\n",
       "      <td>4.310715</td>\n",
       "      <td>-2.428606</td>\n",
       "    </tr>\n",
       "    <tr>\n",
       "      <th>...</th>\n",
       "      <td>...</td>\n",
       "      <td>...</td>\n",
       "      <td>...</td>\n",
       "      <td>...</td>\n",
       "      <td>...</td>\n",
       "      <td>...</td>\n",
       "      <td>...</td>\n",
       "      <td>...</td>\n",
       "      <td>...</td>\n",
       "      <td>...</td>\n",
       "      <td>...</td>\n",
       "      <td>...</td>\n",
       "      <td>...</td>\n",
       "      <td>...</td>\n",
       "      <td>...</td>\n",
       "      <td>...</td>\n",
       "      <td>...</td>\n",
       "      <td>...</td>\n",
       "      <td>...</td>\n",
       "      <td>...</td>\n",
       "      <td>...</td>\n",
       "    </tr>\n",
       "    <tr>\n",
       "      <th>651</th>\n",
       "      <td>S020</td>\n",
       "      <td>right</td>\n",
       "      <td>flash</td>\n",
       "      <td>red</td>\n",
       "      <td>1</td>\n",
       "      <td>48.162405</td>\n",
       "      <td>10.844362</td>\n",
       "      <td>51.866347</td>\n",
       "      <td>62.190289</td>\n",
       "      <td>11.731321</td>\n",
       "      <td>...</td>\n",
       "      <td>4.507230</td>\n",
       "      <td>50.725680</td>\n",
       "      <td>54.326439</td>\n",
       "      <td>27.016525</td>\n",
       "      <td>27.309914</td>\n",
       "      <td>1.780917</td>\n",
       "      <td>49.875347</td>\n",
       "      <td>51.656264</td>\n",
       "      <td>11.955890</td>\n",
       "      <td>-3.407693</td>\n",
       "    </tr>\n",
       "    <tr>\n",
       "      <th>652</th>\n",
       "      <td>S020</td>\n",
       "      <td>right</td>\n",
       "      <td>ramp</td>\n",
       "      <td>red</td>\n",
       "      <td>1</td>\n",
       "      <td>51.051313</td>\n",
       "      <td>2.988132</td>\n",
       "      <td>51.567226</td>\n",
       "      <td>55.032780</td>\n",
       "      <td>37.716240</td>\n",
       "      <td>...</td>\n",
       "      <td>4.370799</td>\n",
       "      <td>48.626534</td>\n",
       "      <td>51.997658</td>\n",
       "      <td>28.749388</td>\n",
       "      <td>23.248270</td>\n",
       "      <td>3.701179</td>\n",
       "      <td>46.549435</td>\n",
       "      <td>50.250614</td>\n",
       "      <td>5.190801</td>\n",
       "      <td>-2.271046</td>\n",
       "    </tr>\n",
       "    <tr>\n",
       "      <th>653</th>\n",
       "      <td>S020</td>\n",
       "      <td>right</td>\n",
       "      <td>flash</td>\n",
       "      <td>white</td>\n",
       "      <td>1</td>\n",
       "      <td>51.257405</td>\n",
       "      <td>6.308352</td>\n",
       "      <td>52.392627</td>\n",
       "      <td>53.833977</td>\n",
       "      <td>10.000000</td>\n",
       "      <td>...</td>\n",
       "      <td>12.398607</td>\n",
       "      <td>52.063454</td>\n",
       "      <td>54.528568</td>\n",
       "      <td>10.000000</td>\n",
       "      <td>44.528568</td>\n",
       "      <td>2.099070</td>\n",
       "      <td>50.638334</td>\n",
       "      <td>52.737404</td>\n",
       "      <td>3.793093</td>\n",
       "      <td>-2.286424</td>\n",
       "    </tr>\n",
       "    <tr>\n",
       "      <th>654</th>\n",
       "      <td>S020</td>\n",
       "      <td>right</td>\n",
       "      <td>ramp</td>\n",
       "      <td>green</td>\n",
       "      <td>1</td>\n",
       "      <td>31.144068</td>\n",
       "      <td>18.953234</td>\n",
       "      <td>36.986803</td>\n",
       "      <td>54.678856</td>\n",
       "      <td>10.000000</td>\n",
       "      <td>...</td>\n",
       "      <td>11.313388</td>\n",
       "      <td>49.967390</td>\n",
       "      <td>52.434868</td>\n",
       "      <td>10.000000</td>\n",
       "      <td>42.434868</td>\n",
       "      <td>1.106624</td>\n",
       "      <td>49.297920</td>\n",
       "      <td>50.404544</td>\n",
       "      <td>5.613658</td>\n",
       "      <td>-2.707160</td>\n",
       "    </tr>\n",
       "    <tr>\n",
       "      <th>655</th>\n",
       "      <td>S020</td>\n",
       "      <td>right</td>\n",
       "      <td>flash</td>\n",
       "      <td>blue</td>\n",
       "      <td>1</td>\n",
       "      <td>49.937302</td>\n",
       "      <td>7.937090</td>\n",
       "      <td>53.041695</td>\n",
       "      <td>55.836819</td>\n",
       "      <td>11.979773</td>\n",
       "      <td>...</td>\n",
       "      <td>13.023028</td>\n",
       "      <td>49.219589</td>\n",
       "      <td>53.207798</td>\n",
       "      <td>10.000000</td>\n",
       "      <td>43.207798</td>\n",
       "      <td>6.303098</td>\n",
       "      <td>44.006825</td>\n",
       "      <td>50.309923</td>\n",
       "      <td>1.419912</td>\n",
       "      <td>-1.718050</td>\n",
       "    </tr>\n",
       "  </tbody>\n",
       "</table>\n",
       "<p>656 rows × 855 columns</p>\n",
       "</div>"
      ],
      "text/plain": [
       "       id    eye stimuli  color  glaucoma  mean_window_50_0  std_window_50_0  \\\n",
       "0    C001   left    ramp  white         0         33.233702        19.870581   \n",
       "1    C001   left    ramp   blue         0         54.801834         7.457179   \n",
       "2    C001   left    ramp  green         0         55.186039         5.784269   \n",
       "3    C001   left   flash  white         0         50.753054        15.557146   \n",
       "4    C001   left   flash   blue         0         47.545593        15.580917   \n",
       "..    ...    ...     ...    ...       ...               ...              ...   \n",
       "651  S020  right   flash    red         1         48.162405        10.844362   \n",
       "652  S020  right    ramp    red         1         51.051313         2.988132   \n",
       "653  S020  right   flash  white         1         51.257405         6.308352   \n",
       "654  S020  right    ramp  green         1         31.144068        18.953234   \n",
       "655  S020  right   flash   blue         1         49.937302         7.937090   \n",
       "\n",
       "     median_window_50_0  max_window_50_0  min_window_50_0  ...  \\\n",
       "0             29.165282        60.572493        10.000000  ...   \n",
       "1             56.462238        57.416459        13.402000  ...   \n",
       "2             55.880359        68.521255        20.023360  ...   \n",
       "3             56.509845        80.000000        11.077743  ...   \n",
       "4             55.304546        80.000000        10.388611  ...   \n",
       "..                  ...              ...              ...  ...   \n",
       "651           51.866347        62.190289        11.731321  ...   \n",
       "652           51.567226        55.032780        37.716240  ...   \n",
       "653           52.392627        53.833977        10.000000  ...   \n",
       "654           36.986803        54.678856        10.000000  ...   \n",
       "655           53.041695        55.836819        11.979773  ...   \n",
       "\n",
       "     std_window_100_26  median_window_100_26  max_window_100_26  \\\n",
       "0            16.530944             55.875806          63.524532   \n",
       "1            12.704317             54.304483          78.488327   \n",
       "2            11.525011             55.587336          66.911400   \n",
       "3            15.948908             56.387945          62.685928   \n",
       "4            12.707170             55.829964          62.747673   \n",
       "..                 ...                   ...                ...   \n",
       "651           4.507230             50.725680          54.326439   \n",
       "652           4.370799             48.626534          51.997658   \n",
       "653          12.398607             52.063454          54.528568   \n",
       "654          11.313388             49.967390          52.434868   \n",
       "655          13.023028             49.219589          53.207798   \n",
       "\n",
       "     min_window_100_26  range_window_100_26  IQR_window_100_26  \\\n",
       "0            10.000000            53.524532          12.557260   \n",
       "1            10.837809            67.650518           1.876106   \n",
       "2            10.007051            56.904349           1.041976   \n",
       "3            10.171413            52.514515          11.608063   \n",
       "4            10.634277            52.113397           1.397660   \n",
       "..                 ...                  ...                ...   \n",
       "651          27.016525            27.309914           1.780917   \n",
       "652          28.749388            23.248270           3.701179   \n",
       "653          10.000000            44.528568           2.099070   \n",
       "654          10.000000            42.434868           1.106624   \n",
       "655          10.000000            43.207798           6.303098   \n",
       "\n",
       "     Q1_window_100_26  Q3_window_100_26  kurtosis_window_100_26  \\\n",
       "0           43.678068         56.235328                0.082570   \n",
       "1           52.844029         54.720135                2.291014   \n",
       "2           54.933230         55.975206                4.640643   \n",
       "3           45.340697         56.948760               -0.239943   \n",
       "4           55.061753         56.459414                4.310715   \n",
       "..                ...               ...                     ...   \n",
       "651         49.875347         51.656264               11.955890   \n",
       "652         46.549435         50.250614                5.190801   \n",
       "653         50.638334         52.737404                3.793093   \n",
       "654         49.297920         50.404544                5.613658   \n",
       "655         44.006825         50.309923                1.419912   \n",
       "\n",
       "     skewness_window_100_26  \n",
       "0                 -1.335345  \n",
       "1                 -1.790707  \n",
       "2                 -2.400916  \n",
       "3                 -1.224524  \n",
       "4                 -2.428606  \n",
       "..                      ...  \n",
       "651               -3.407693  \n",
       "652               -2.271046  \n",
       "653               -2.286424  \n",
       "654               -2.707160  \n",
       "655               -1.718050  \n",
       "\n",
       "[656 rows x 855 columns]"
      ]
     },
     "execution_count": 15,
     "metadata": {},
     "output_type": "execute_result"
    }
   ],
   "source": [
    "df "
   ]
  },
  {
   "cell_type": "code",
   "execution_count": 16,
   "metadata": {},
   "outputs": [
    {
     "data": {
      "text/plain": [
       "id                         object\n",
       "eye                        object\n",
       "stimuli                    object\n",
       "color                      object\n",
       "glaucoma                    int32\n",
       "                           ...   \n",
       "IQR_window_100_26         float64\n",
       "Q1_window_100_26          float64\n",
       "Q3_window_100_26          float64\n",
       "kurtosis_window_100_26    float64\n",
       "skewness_window_100_26    float64\n",
       "Length: 855, dtype: object"
      ]
     },
     "execution_count": 16,
     "metadata": {},
     "output_type": "execute_result"
    }
   ],
   "source": [
    "df.dtypes"
   ]
  },
  {
   "cell_type": "code",
   "execution_count": 17,
   "metadata": {},
   "outputs": [
    {
     "data": {
      "text/html": [
       "<div>\n",
       "<style scoped>\n",
       "    .dataframe tbody tr th:only-of-type {\n",
       "        vertical-align: middle;\n",
       "    }\n",
       "\n",
       "    .dataframe tbody tr th {\n",
       "        vertical-align: top;\n",
       "    }\n",
       "\n",
       "    .dataframe thead th {\n",
       "        text-align: right;\n",
       "    }\n",
       "</style>\n",
       "<table border=\"1\" class=\"dataframe\">\n",
       "  <thead>\n",
       "    <tr style=\"text-align: right;\">\n",
       "      <th></th>\n",
       "      <th>eye</th>\n",
       "      <th>stimuli</th>\n",
       "      <th>color</th>\n",
       "      <th>mean_window_50_0</th>\n",
       "      <th>std_window_50_0</th>\n",
       "      <th>median_window_50_0</th>\n",
       "      <th>max_window_50_0</th>\n",
       "      <th>min_window_50_0</th>\n",
       "      <th>range_window_50_0</th>\n",
       "      <th>IQR_window_50_0</th>\n",
       "      <th>...</th>\n",
       "      <th>std_window_100_26</th>\n",
       "      <th>median_window_100_26</th>\n",
       "      <th>max_window_100_26</th>\n",
       "      <th>min_window_100_26</th>\n",
       "      <th>range_window_100_26</th>\n",
       "      <th>IQR_window_100_26</th>\n",
       "      <th>Q1_window_100_26</th>\n",
       "      <th>Q3_window_100_26</th>\n",
       "      <th>kurtosis_window_100_26</th>\n",
       "      <th>skewness_window_100_26</th>\n",
       "    </tr>\n",
       "  </thead>\n",
       "  <tbody>\n",
       "    <tr>\n",
       "      <th>80</th>\n",
       "      <td>left</td>\n",
       "      <td>flash</td>\n",
       "      <td>white</td>\n",
       "      <td>48.028871</td>\n",
       "      <td>3.438241</td>\n",
       "      <td>48.560675</td>\n",
       "      <td>49.471325</td>\n",
       "      <td>24.263174</td>\n",
       "      <td>25.208151</td>\n",
       "      <td>0.507587</td>\n",
       "      <td>...</td>\n",
       "      <td>4.035974</td>\n",
       "      <td>47.660384</td>\n",
       "      <td>50.941021</td>\n",
       "      <td>11.348204</td>\n",
       "      <td>39.592817</td>\n",
       "      <td>0.944985</td>\n",
       "      <td>47.020283</td>\n",
       "      <td>47.965268</td>\n",
       "      <td>59.286652</td>\n",
       "      <td>-7.323115</td>\n",
       "    </tr>\n",
       "    <tr>\n",
       "      <th>81</th>\n",
       "      <td>left</td>\n",
       "      <td>ramp</td>\n",
       "      <td>blue</td>\n",
       "      <td>48.765703</td>\n",
       "      <td>0.550107</td>\n",
       "      <td>48.697527</td>\n",
       "      <td>49.973816</td>\n",
       "      <td>47.364156</td>\n",
       "      <td>2.609660</td>\n",
       "      <td>0.766486</td>\n",
       "      <td>...</td>\n",
       "      <td>6.511050</td>\n",
       "      <td>48.496475</td>\n",
       "      <td>51.827747</td>\n",
       "      <td>12.360950</td>\n",
       "      <td>39.466798</td>\n",
       "      <td>2.037832</td>\n",
       "      <td>46.858138</td>\n",
       "      <td>48.895970</td>\n",
       "      <td>10.863204</td>\n",
       "      <td>-3.255208</td>\n",
       "    </tr>\n",
       "    <tr>\n",
       "      <th>82</th>\n",
       "      <td>left</td>\n",
       "      <td>ramp</td>\n",
       "      <td>green</td>\n",
       "      <td>43.352069</td>\n",
       "      <td>9.980620</td>\n",
       "      <td>47.712851</td>\n",
       "      <td>49.544987</td>\n",
       "      <td>10.353314</td>\n",
       "      <td>39.191672</td>\n",
       "      <td>5.660464</td>\n",
       "      <td>...</td>\n",
       "      <td>0.814372</td>\n",
       "      <td>47.897901</td>\n",
       "      <td>48.932554</td>\n",
       "      <td>45.511505</td>\n",
       "      <td>3.421048</td>\n",
       "      <td>1.128984</td>\n",
       "      <td>47.135446</td>\n",
       "      <td>48.264430</td>\n",
       "      <td>-0.398427</td>\n",
       "      <td>-0.657350</td>\n",
       "    </tr>\n",
       "    <tr>\n",
       "      <th>83</th>\n",
       "      <td>left</td>\n",
       "      <td>flash</td>\n",
       "      <td>blue</td>\n",
       "      <td>44.258256</td>\n",
       "      <td>9.748336</td>\n",
       "      <td>48.187747</td>\n",
       "      <td>50.292229</td>\n",
       "      <td>10.578691</td>\n",
       "      <td>39.713538</td>\n",
       "      <td>4.552871</td>\n",
       "      <td>...</td>\n",
       "      <td>4.804153</td>\n",
       "      <td>48.752137</td>\n",
       "      <td>50.361275</td>\n",
       "      <td>15.820082</td>\n",
       "      <td>34.541193</td>\n",
       "      <td>1.181851</td>\n",
       "      <td>48.058875</td>\n",
       "      <td>49.240726</td>\n",
       "      <td>21.758773</td>\n",
       "      <td>-4.399399</td>\n",
       "    </tr>\n",
       "    <tr>\n",
       "      <th>84</th>\n",
       "      <td>left</td>\n",
       "      <td>ramp</td>\n",
       "      <td>red</td>\n",
       "      <td>48.461515</td>\n",
       "      <td>4.974673</td>\n",
       "      <td>48.902808</td>\n",
       "      <td>56.539295</td>\n",
       "      <td>15.578682</td>\n",
       "      <td>40.960613</td>\n",
       "      <td>1.032838</td>\n",
       "      <td>...</td>\n",
       "      <td>1.558354</td>\n",
       "      <td>40.574913</td>\n",
       "      <td>43.103207</td>\n",
       "      <td>38.370092</td>\n",
       "      <td>4.733115</td>\n",
       "      <td>2.953623</td>\n",
       "      <td>39.204361</td>\n",
       "      <td>42.157984</td>\n",
       "      <td>-1.567590</td>\n",
       "      <td>0.112462</td>\n",
       "    </tr>\n",
       "  </tbody>\n",
       "</table>\n",
       "<p>5 rows × 853 columns</p>\n",
       "</div>"
      ],
      "text/plain": [
       "     eye stimuli  color  mean_window_50_0  std_window_50_0  \\\n",
       "80  left   flash  white         48.028871         3.438241   \n",
       "81  left    ramp   blue         48.765703         0.550107   \n",
       "82  left    ramp  green         43.352069         9.980620   \n",
       "83  left   flash   blue         44.258256         9.748336   \n",
       "84  left    ramp    red         48.461515         4.974673   \n",
       "\n",
       "    median_window_50_0  max_window_50_0  min_window_50_0  range_window_50_0  \\\n",
       "80           48.560675        49.471325        24.263174          25.208151   \n",
       "81           48.697527        49.973816        47.364156           2.609660   \n",
       "82           47.712851        49.544987        10.353314          39.191672   \n",
       "83           48.187747        50.292229        10.578691          39.713538   \n",
       "84           48.902808        56.539295        15.578682          40.960613   \n",
       "\n",
       "    IQR_window_50_0  ...  std_window_100_26  median_window_100_26  \\\n",
       "80         0.507587  ...           4.035974             47.660384   \n",
       "81         0.766486  ...           6.511050             48.496475   \n",
       "82         5.660464  ...           0.814372             47.897901   \n",
       "83         4.552871  ...           4.804153             48.752137   \n",
       "84         1.032838  ...           1.558354             40.574913   \n",
       "\n",
       "    max_window_100_26  min_window_100_26  range_window_100_26  \\\n",
       "80          50.941021          11.348204            39.592817   \n",
       "81          51.827747          12.360950            39.466798   \n",
       "82          48.932554          45.511505             3.421048   \n",
       "83          50.361275          15.820082            34.541193   \n",
       "84          43.103207          38.370092             4.733115   \n",
       "\n",
       "    IQR_window_100_26  Q1_window_100_26  Q3_window_100_26  \\\n",
       "80           0.944985         47.020283         47.965268   \n",
       "81           2.037832         46.858138         48.895970   \n",
       "82           1.128984         47.135446         48.264430   \n",
       "83           1.181851         48.058875         49.240726   \n",
       "84           2.953623         39.204361         42.157984   \n",
       "\n",
       "    kurtosis_window_100_26  skewness_window_100_26  \n",
       "80               59.286652               -7.323115  \n",
       "81               10.863204               -3.255208  \n",
       "82               -0.398427               -0.657350  \n",
       "83               21.758773               -4.399399  \n",
       "84               -1.567590                0.112462  \n",
       "\n",
       "[5 rows x 853 columns]"
      ]
     },
     "execution_count": 17,
     "metadata": {},
     "output_type": "execute_result"
    }
   ],
   "source": [
    "# Hacer copias de train_set y test_set sin las columnas 'id' y 'glaucoma'\n",
    "X_train = train_set.drop(columns=['id', 'glaucoma']).copy()\n",
    "X_test = test_set.drop(columns=['id', 'glaucoma']).copy()\n",
    "\n",
    "# Verifica los resultados\n",
    "X_train.head()\n",
    "X_test.head()"
   ]
  },
  {
   "cell_type": "code",
   "execution_count": 18,
   "metadata": {},
   "outputs": [],
   "source": [
    "numeric = X_train.select_dtypes([\"float64\", \"int32\"]).columns\n",
    "categorical = X_train.select_dtypes([\"object\"]).columns"
   ]
  },
  {
   "cell_type": "code",
   "execution_count": 19,
   "metadata": {},
   "outputs": [
    {
     "name": "stdout",
     "output_type": "stream",
     "text": [
      "Index(['eye', 'stimuli', 'color'], dtype='object')\n"
     ]
    }
   ],
   "source": [
    "print(categorical)"
   ]
  },
  {
   "cell_type": "code",
   "execution_count": 20,
   "metadata": {},
   "outputs": [
    {
     "name": "stdout",
     "output_type": "stream",
     "text": [
      "Index(['mean_window_50_0', 'std_window_50_0', 'median_window_50_0',\n",
      "       'max_window_50_0', 'min_window_50_0', 'range_window_50_0',\n",
      "       'IQR_window_50_0', 'Q1_window_50_0', 'Q3_window_50_0',\n",
      "       'mean_window_50_1',\n",
      "       ...\n",
      "       'std_window_100_26', 'median_window_100_26', 'max_window_100_26',\n",
      "       'min_window_100_26', 'range_window_100_26', 'IQR_window_100_26',\n",
      "       'Q1_window_100_26', 'Q3_window_100_26', 'kurtosis_window_100_26',\n",
      "       'skewness_window_100_26'],\n",
      "      dtype='object', length=850)\n"
     ]
    }
   ],
   "source": [
    "print(numeric)"
   ]
  },
  {
   "cell_type": "code",
   "execution_count": 21,
   "metadata": {},
   "outputs": [],
   "source": [
    "import pandas as pd\n",
    "from sklearn.feature_selection import VarianceThreshold\n",
    "from sklearn.preprocessing import OneHotEncoder, MinMaxScaler\n",
    "from sklearn.compose import ColumnTransformer\n",
    "from sklearn.pipeline import Pipeline\n",
    "\n",
    "# Definir las columnas numéricas y categóricas\n",
    "numeric = X_train.select_dtypes([\"float64\", \"int32\"]).columns\n",
    "categorical = X_train.select_dtypes([\"object\"]).columns\n",
    "\n",
    "# Pipelines para columnas numéricas y categóricas\n",
    "numeric_transformations = Pipeline([\n",
    "    ('scaler', MinMaxScaler())  # Escalado MinMax para columnas numéricas\n",
    "])\n",
    "\n",
    "categoric_transformations = Pipeline([\n",
    "    ('category_one_hot', OneHotEncoder(sparse_output=False, handle_unknown=\"ignore\"))  # Codificación OneHot para categóricas\n",
    "])\n",
    "\n",
    "# Preprocessor: combinación de los pipelines numéricos y categóricos\n",
    "preprocessor = ColumnTransformer(transformers=[\n",
    "    ('numerical', numeric_transformations, numeric),\n",
    "    ('categorical', categoric_transformations, categorical)\n",
    "])"
   ]
  },
  {
   "cell_type": "code",
   "execution_count": 59,
   "metadata": {},
   "outputs": [
    {
     "data": {
      "text/html": [
       "<div>\n",
       "<style scoped>\n",
       "    .dataframe tbody tr th:only-of-type {\n",
       "        vertical-align: middle;\n",
       "    }\n",
       "\n",
       "    .dataframe tbody tr th {\n",
       "        vertical-align: top;\n",
       "    }\n",
       "\n",
       "    .dataframe thead th {\n",
       "        text-align: right;\n",
       "    }\n",
       "</style>\n",
       "<table border=\"1\" class=\"dataframe\">\n",
       "  <thead>\n",
       "    <tr style=\"text-align: right;\">\n",
       "      <th></th>\n",
       "      <th>mean_window_50_0</th>\n",
       "      <th>std_window_50_0</th>\n",
       "      <th>median_window_50_0</th>\n",
       "      <th>max_window_50_0</th>\n",
       "      <th>min_window_50_0</th>\n",
       "      <th>range_window_50_0</th>\n",
       "      <th>IQR_window_50_0</th>\n",
       "      <th>Q1_window_50_0</th>\n",
       "      <th>Q3_window_50_0</th>\n",
       "      <th>mean_window_50_1</th>\n",
       "      <th>...</th>\n",
       "      <th>kurtosis_window_100_26</th>\n",
       "      <th>skewness_window_100_26</th>\n",
       "      <th>eye_left</th>\n",
       "      <th>eye_right</th>\n",
       "      <th>stimuli_flash</th>\n",
       "      <th>stimuli_ramp</th>\n",
       "      <th>color_blue</th>\n",
       "      <th>color_green</th>\n",
       "      <th>color_red</th>\n",
       "      <th>color_white</th>\n",
       "    </tr>\n",
       "  </thead>\n",
       "  <tbody>\n",
       "    <tr>\n",
       "      <th>0</th>\n",
       "      <td>0.431185</td>\n",
       "      <td>0.965878</td>\n",
       "      <td>0.348297</td>\n",
       "      <td>0.722464</td>\n",
       "      <td>0.000000</td>\n",
       "      <td>0.722464</td>\n",
       "      <td>0.976105</td>\n",
       "      <td>0.082677</td>\n",
       "      <td>0.866437</td>\n",
       "      <td>0.722293</td>\n",
       "      <td>...</td>\n",
       "      <td>0.021448</td>\n",
       "      <td>0.470172</td>\n",
       "      <td>1.0</td>\n",
       "      <td>0.0</td>\n",
       "      <td>0.0</td>\n",
       "      <td>1.0</td>\n",
       "      <td>0.0</td>\n",
       "      <td>0.0</td>\n",
       "      <td>0.0</td>\n",
       "      <td>1.0</td>\n",
       "    </tr>\n",
       "    <tr>\n",
       "      <th>1</th>\n",
       "      <td>0.831460</td>\n",
       "      <td>0.362482</td>\n",
       "      <td>0.844373</td>\n",
       "      <td>0.677378</td>\n",
       "      <td>0.063716</td>\n",
       "      <td>0.628778</td>\n",
       "      <td>0.012326</td>\n",
       "      <td>0.843782</td>\n",
       "      <td>0.841593</td>\n",
       "      <td>0.785176</td>\n",
       "      <td>...</td>\n",
       "      <td>0.045298</td>\n",
       "      <td>0.443991</td>\n",
       "      <td>1.0</td>\n",
       "      <td>0.0</td>\n",
       "      <td>0.0</td>\n",
       "      <td>1.0</td>\n",
       "      <td>1.0</td>\n",
       "      <td>0.0</td>\n",
       "      <td>0.0</td>\n",
       "      <td>0.0</td>\n",
       "    </tr>\n",
       "    <tr>\n",
       "      <th>2</th>\n",
       "      <td>0.838590</td>\n",
       "      <td>0.281164</td>\n",
       "      <td>0.833799</td>\n",
       "      <td>0.836018</td>\n",
       "      <td>0.187727</td>\n",
       "      <td>0.692827</td>\n",
       "      <td>0.031845</td>\n",
       "      <td>0.829000</td>\n",
       "      <td>0.842719</td>\n",
       "      <td>0.765725</td>\n",
       "      <td>...</td>\n",
       "      <td>0.070673</td>\n",
       "      <td>0.408908</td>\n",
       "      <td>1.0</td>\n",
       "      <td>0.0</td>\n",
       "      <td>0.0</td>\n",
       "      <td>1.0</td>\n",
       "      <td>0.0</td>\n",
       "      <td>1.0</td>\n",
       "      <td>0.0</td>\n",
       "      <td>0.0</td>\n",
       "    </tr>\n",
       "    <tr>\n",
       "      <th>3</th>\n",
       "      <td>0.756320</td>\n",
       "      <td>0.756208</td>\n",
       "      <td>0.845238</td>\n",
       "      <td>1.000000</td>\n",
       "      <td>0.020185</td>\n",
       "      <td>0.984604</td>\n",
       "      <td>0.026281</td>\n",
       "      <td>0.841991</td>\n",
       "      <td>0.851051</td>\n",
       "      <td>0.807981</td>\n",
       "      <td>...</td>\n",
       "      <td>0.017965</td>\n",
       "      <td>0.476544</td>\n",
       "      <td>1.0</td>\n",
       "      <td>0.0</td>\n",
       "      <td>1.0</td>\n",
       "      <td>0.0</td>\n",
       "      <td>0.0</td>\n",
       "      <td>0.0</td>\n",
       "      <td>0.0</td>\n",
       "      <td>1.0</td>\n",
       "    </tr>\n",
       "    <tr>\n",
       "      <th>4</th>\n",
       "      <td>0.696794</td>\n",
       "      <td>0.757364</td>\n",
       "      <td>0.823334</td>\n",
       "      <td>1.000000</td>\n",
       "      <td>0.007278</td>\n",
       "      <td>0.994448</td>\n",
       "      <td>0.382689</td>\n",
       "      <td>0.549922</td>\n",
       "      <td>0.849779</td>\n",
       "      <td>0.689666</td>\n",
       "      <td>...</td>\n",
       "      <td>0.067110</td>\n",
       "      <td>0.407316</td>\n",
       "      <td>1.0</td>\n",
       "      <td>0.0</td>\n",
       "      <td>1.0</td>\n",
       "      <td>0.0</td>\n",
       "      <td>1.0</td>\n",
       "      <td>0.0</td>\n",
       "      <td>0.0</td>\n",
       "      <td>0.0</td>\n",
       "    </tr>\n",
       "  </tbody>\n",
       "</table>\n",
       "<p>5 rows × 858 columns</p>\n",
       "</div>"
      ],
      "text/plain": [
       "   mean_window_50_0  std_window_50_0  median_window_50_0  max_window_50_0  \\\n",
       "0          0.431185         0.965878            0.348297         0.722464   \n",
       "1          0.831460         0.362482            0.844373         0.677378   \n",
       "2          0.838590         0.281164            0.833799         0.836018   \n",
       "3          0.756320         0.756208            0.845238         1.000000   \n",
       "4          0.696794         0.757364            0.823334         1.000000   \n",
       "\n",
       "   min_window_50_0  range_window_50_0  IQR_window_50_0  Q1_window_50_0  \\\n",
       "0         0.000000           0.722464         0.976105        0.082677   \n",
       "1         0.063716           0.628778         0.012326        0.843782   \n",
       "2         0.187727           0.692827         0.031845        0.829000   \n",
       "3         0.020185           0.984604         0.026281        0.841991   \n",
       "4         0.007278           0.994448         0.382689        0.549922   \n",
       "\n",
       "   Q3_window_50_0  mean_window_50_1  ...  kurtosis_window_100_26  \\\n",
       "0        0.866437          0.722293  ...                0.021448   \n",
       "1        0.841593          0.785176  ...                0.045298   \n",
       "2        0.842719          0.765725  ...                0.070673   \n",
       "3        0.851051          0.807981  ...                0.017965   \n",
       "4        0.849779          0.689666  ...                0.067110   \n",
       "\n",
       "   skewness_window_100_26  eye_left  eye_right  stimuli_flash  stimuli_ramp  \\\n",
       "0                0.470172       1.0        0.0            0.0           1.0   \n",
       "1                0.443991       1.0        0.0            0.0           1.0   \n",
       "2                0.408908       1.0        0.0            0.0           1.0   \n",
       "3                0.476544       1.0        0.0            1.0           0.0   \n",
       "4                0.407316       1.0        0.0            1.0           0.0   \n",
       "\n",
       "   color_blue  color_green  color_red  color_white  \n",
       "0         0.0          0.0        0.0          1.0  \n",
       "1         1.0          0.0        0.0          0.0  \n",
       "2         0.0          1.0        0.0          0.0  \n",
       "3         0.0          0.0        0.0          1.0  \n",
       "4         1.0          0.0        0.0          0.0  \n",
       "\n",
       "[5 rows x 858 columns]"
      ]
     },
     "execution_count": 59,
     "metadata": {},
     "output_type": "execute_result"
    }
   ],
   "source": [
    "# Aplicar el preprocessor (ajustar y transformar el conjunto de entrenamiento)\n",
    "X_train_transformed = preprocessor.fit_transform(X_train)\n",
    "\n",
    "# Obtener las categorías nuevas creadas por el OneHotEncoder\n",
    "onehot_columns = preprocessor.named_transformers_['categorical'].named_steps['category_one_hot'].get_feature_names_out(categorical)\n",
    "\n",
    "# Crear las columnas finales: numéricas + categóricas codificadas\n",
    "final_columns = list(numeric) + list(onehot_columns)\n",
    "\n",
    "# Convertir los datos transformados en un DataFrame para visualizar\n",
    "X_train_trans = pd.DataFrame(X_train_transformed, columns=final_columns)\n",
    "\n",
    "# Ver las primeras filas del DataFrame transformado\n",
    "X_train_trans.head()"
   ]
  },
  {
   "cell_type": "code",
   "execution_count": 60,
   "metadata": {},
   "outputs": [
    {
     "data": {
      "text/html": [
       "<div>\n",
       "<style scoped>\n",
       "    .dataframe tbody tr th:only-of-type {\n",
       "        vertical-align: middle;\n",
       "    }\n",
       "\n",
       "    .dataframe tbody tr th {\n",
       "        vertical-align: top;\n",
       "    }\n",
       "\n",
       "    .dataframe thead th {\n",
       "        text-align: right;\n",
       "    }\n",
       "</style>\n",
       "<table border=\"1\" class=\"dataframe\">\n",
       "  <thead>\n",
       "    <tr style=\"text-align: right;\">\n",
       "      <th></th>\n",
       "      <th>mean_window_50_0</th>\n",
       "      <th>std_window_50_0</th>\n",
       "      <th>median_window_50_0</th>\n",
       "      <th>max_window_50_0</th>\n",
       "      <th>min_window_50_0</th>\n",
       "      <th>range_window_50_0</th>\n",
       "      <th>IQR_window_50_0</th>\n",
       "      <th>Q1_window_50_0</th>\n",
       "      <th>Q3_window_50_0</th>\n",
       "      <th>mean_window_50_1</th>\n",
       "      <th>...</th>\n",
       "      <th>kurtosis_window_100_26</th>\n",
       "      <th>skewness_window_100_26</th>\n",
       "      <th>eye_left</th>\n",
       "      <th>eye_right</th>\n",
       "      <th>stimuli_flash</th>\n",
       "      <th>stimuli_ramp</th>\n",
       "      <th>color_blue</th>\n",
       "      <th>color_green</th>\n",
       "      <th>color_red</th>\n",
       "      <th>color_white</th>\n",
       "    </tr>\n",
       "  </thead>\n",
       "  <tbody>\n",
       "    <tr>\n",
       "      <th>0</th>\n",
       "      <td>0.674324</td>\n",
       "      <td>0.166490</td>\n",
       "      <td>0.628602</td>\n",
       "      <td>0.432023</td>\n",
       "      <td>0.284674</td>\n",
       "      <td>0.369050</td>\n",
       "      <td>0.009241</td>\n",
       "      <td>0.695069</td>\n",
       "      <td>0.593651</td>\n",
       "      <td>0.579547</td>\n",
       "      <td>...</td>\n",
       "      <td>1.000000</td>\n",
       "      <td>0.000000</td>\n",
       "      <td>1.0</td>\n",
       "      <td>0.0</td>\n",
       "      <td>1.0</td>\n",
       "      <td>0.0</td>\n",
       "      <td>0.0</td>\n",
       "      <td>0.0</td>\n",
       "      <td>0.0</td>\n",
       "      <td>1.0</td>\n",
       "    </tr>\n",
       "    <tr>\n",
       "      <th>1</th>\n",
       "      <td>0.692434</td>\n",
       "      <td>0.021884</td>\n",
       "      <td>0.631621</td>\n",
       "      <td>0.441372</td>\n",
       "      <td>0.745740</td>\n",
       "      <td>0.030819</td>\n",
       "      <td>0.015418</td>\n",
       "      <td>0.695372</td>\n",
       "      <td>0.600190</td>\n",
       "      <td>0.655120</td>\n",
       "      <td>...</td>\n",
       "      <td>0.205015</td>\n",
       "      <td>0.298270</td>\n",
       "      <td>1.0</td>\n",
       "      <td>0.0</td>\n",
       "      <td>0.0</td>\n",
       "      <td>1.0</td>\n",
       "      <td>1.0</td>\n",
       "      <td>0.0</td>\n",
       "      <td>0.0</td>\n",
       "      <td>0.0</td>\n",
       "    </tr>\n",
       "    <tr>\n",
       "      <th>2</th>\n",
       "      <td>0.559381</td>\n",
       "      <td>0.494060</td>\n",
       "      <td>0.609894</td>\n",
       "      <td>0.433394</td>\n",
       "      <td>0.007052</td>\n",
       "      <td>0.578341</td>\n",
       "      <td>0.132185</td>\n",
       "      <td>0.599273</td>\n",
       "      <td>0.594158</td>\n",
       "      <td>0.626232</td>\n",
       "      <td>...</td>\n",
       "      <td>0.020129</td>\n",
       "      <td>0.488753</td>\n",
       "      <td>1.0</td>\n",
       "      <td>0.0</td>\n",
       "      <td>0.0</td>\n",
       "      <td>1.0</td>\n",
       "      <td>0.0</td>\n",
       "      <td>1.0</td>\n",
       "      <td>0.0</td>\n",
       "      <td>0.0</td>\n",
       "    </tr>\n",
       "    <tr>\n",
       "      <th>3</th>\n",
       "      <td>0.581653</td>\n",
       "      <td>0.482430</td>\n",
       "      <td>0.620373</td>\n",
       "      <td>0.447296</td>\n",
       "      <td>0.011550</td>\n",
       "      <td>0.586152</td>\n",
       "      <td>0.105758</td>\n",
       "      <td>0.633508</td>\n",
       "      <td>0.611422</td>\n",
       "      <td>0.671361</td>\n",
       "      <td>...</td>\n",
       "      <td>0.383891</td>\n",
       "      <td>0.214375</td>\n",
       "      <td>1.0</td>\n",
       "      <td>0.0</td>\n",
       "      <td>1.0</td>\n",
       "      <td>0.0</td>\n",
       "      <td>1.0</td>\n",
       "      <td>0.0</td>\n",
       "      <td>0.0</td>\n",
       "      <td>0.0</td>\n",
       "    </tr>\n",
       "    <tr>\n",
       "      <th>4</th>\n",
       "      <td>0.684957</td>\n",
       "      <td>0.243417</td>\n",
       "      <td>0.636151</td>\n",
       "      <td>0.563521</td>\n",
       "      <td>0.111343</td>\n",
       "      <td>0.604817</td>\n",
       "      <td>0.021773</td>\n",
       "      <td>0.697131</td>\n",
       "      <td>0.608761</td>\n",
       "      <td>0.640639</td>\n",
       "      <td>...</td>\n",
       "      <td>0.000934</td>\n",
       "      <td>0.545197</td>\n",
       "      <td>1.0</td>\n",
       "      <td>0.0</td>\n",
       "      <td>0.0</td>\n",
       "      <td>1.0</td>\n",
       "      <td>0.0</td>\n",
       "      <td>0.0</td>\n",
       "      <td>1.0</td>\n",
       "      <td>0.0</td>\n",
       "    </tr>\n",
       "  </tbody>\n",
       "</table>\n",
       "<p>5 rows × 858 columns</p>\n",
       "</div>"
      ],
      "text/plain": [
       "   mean_window_50_0  std_window_50_0  median_window_50_0  max_window_50_0  \\\n",
       "0          0.674324         0.166490            0.628602         0.432023   \n",
       "1          0.692434         0.021884            0.631621         0.441372   \n",
       "2          0.559381         0.494060            0.609894         0.433394   \n",
       "3          0.581653         0.482430            0.620373         0.447296   \n",
       "4          0.684957         0.243417            0.636151         0.563521   \n",
       "\n",
       "   min_window_50_0  range_window_50_0  IQR_window_50_0  Q1_window_50_0  \\\n",
       "0         0.284674           0.369050         0.009241        0.695069   \n",
       "1         0.745740           0.030819         0.015418        0.695372   \n",
       "2         0.007052           0.578341         0.132185        0.599273   \n",
       "3         0.011550           0.586152         0.105758        0.633508   \n",
       "4         0.111343           0.604817         0.021773        0.697131   \n",
       "\n",
       "   Q3_window_50_0  mean_window_50_1  ...  kurtosis_window_100_26  \\\n",
       "0        0.593651          0.579547  ...                1.000000   \n",
       "1        0.600190          0.655120  ...                0.205015   \n",
       "2        0.594158          0.626232  ...                0.020129   \n",
       "3        0.611422          0.671361  ...                0.383891   \n",
       "4        0.608761          0.640639  ...                0.000934   \n",
       "\n",
       "   skewness_window_100_26  eye_left  eye_right  stimuli_flash  stimuli_ramp  \\\n",
       "0                0.000000       1.0        0.0            1.0           0.0   \n",
       "1                0.298270       1.0        0.0            0.0           1.0   \n",
       "2                0.488753       1.0        0.0            0.0           1.0   \n",
       "3                0.214375       1.0        0.0            1.0           0.0   \n",
       "4                0.545197       1.0        0.0            0.0           1.0   \n",
       "\n",
       "   color_blue  color_green  color_red  color_white  \n",
       "0         0.0          0.0        0.0          1.0  \n",
       "1         1.0          0.0        0.0          0.0  \n",
       "2         0.0          1.0        0.0          0.0  \n",
       "3         1.0          0.0        0.0          0.0  \n",
       "4         0.0          0.0        1.0          0.0  \n",
       "\n",
       "[5 rows x 858 columns]"
      ]
     },
     "execution_count": 60,
     "metadata": {},
     "output_type": "execute_result"
    }
   ],
   "source": [
    "# Aplicar el preprocessor (ajustar y transformar el conjunto de entrenamiento)\n",
    "X_test_transformed = preprocessor.fit_transform(X_test)\n",
    "\n",
    "# Obtener las categorías nuevas creadas por el OneHotEncoder\n",
    "onehot_columns = preprocessor.named_transformers_['categorical'].named_steps['category_one_hot'].get_feature_names_out(categorical)\n",
    "\n",
    "# Crear las columnas finales: numéricas + categóricas codificadas\n",
    "final_columns = list(numeric) + list(onehot_columns)\n",
    "\n",
    "# Convertir los datos transformados en un DataFrame para visualizar\n",
    "X_test_trans = pd.DataFrame(X_test_transformed, columns=final_columns)\n",
    "\n",
    "# Ver las primeras filas del DataFrame transformado\n",
    "X_test_trans.head()"
   ]
  },
  {
   "cell_type": "code",
   "execution_count": 23,
   "metadata": {},
   "outputs": [
    {
     "data": {
      "text/html": [
       "<div>\n",
       "<style scoped>\n",
       "    .dataframe tbody tr th:only-of-type {\n",
       "        vertical-align: middle;\n",
       "    }\n",
       "\n",
       "    .dataframe tbody tr th {\n",
       "        vertical-align: top;\n",
       "    }\n",
       "\n",
       "    .dataframe thead th {\n",
       "        text-align: right;\n",
       "    }\n",
       "</style>\n",
       "<table border=\"1\" class=\"dataframe\">\n",
       "  <thead>\n",
       "    <tr style=\"text-align: right;\">\n",
       "      <th></th>\n",
       "      <th>eye</th>\n",
       "      <th>stimuli</th>\n",
       "      <th>color</th>\n",
       "      <th>mean_window_50_0</th>\n",
       "      <th>std_window_50_0</th>\n",
       "      <th>median_window_50_0</th>\n",
       "      <th>max_window_50_0</th>\n",
       "      <th>min_window_50_0</th>\n",
       "      <th>range_window_50_0</th>\n",
       "      <th>IQR_window_50_0</th>\n",
       "      <th>...</th>\n",
       "      <th>std_window_100_26</th>\n",
       "      <th>median_window_100_26</th>\n",
       "      <th>max_window_100_26</th>\n",
       "      <th>min_window_100_26</th>\n",
       "      <th>range_window_100_26</th>\n",
       "      <th>IQR_window_100_26</th>\n",
       "      <th>Q1_window_100_26</th>\n",
       "      <th>Q3_window_100_26</th>\n",
       "      <th>kurtosis_window_100_26</th>\n",
       "      <th>skewness_window_100_26</th>\n",
       "    </tr>\n",
       "  </thead>\n",
       "  <tbody>\n",
       "    <tr>\n",
       "      <th>0</th>\n",
       "      <td>left</td>\n",
       "      <td>ramp</td>\n",
       "      <td>white</td>\n",
       "      <td>33.233702</td>\n",
       "      <td>19.870581</td>\n",
       "      <td>29.165282</td>\n",
       "      <td>60.572493</td>\n",
       "      <td>10.000000</td>\n",
       "      <td>50.572493</td>\n",
       "      <td>43.426828</td>\n",
       "      <td>...</td>\n",
       "      <td>16.530944</td>\n",
       "      <td>55.875806</td>\n",
       "      <td>63.524532</td>\n",
       "      <td>10.000000</td>\n",
       "      <td>53.524532</td>\n",
       "      <td>12.557260</td>\n",
       "      <td>43.678068</td>\n",
       "      <td>56.235328</td>\n",
       "      <td>0.082570</td>\n",
       "      <td>-1.335345</td>\n",
       "    </tr>\n",
       "    <tr>\n",
       "      <th>1</th>\n",
       "      <td>left</td>\n",
       "      <td>ramp</td>\n",
       "      <td>blue</td>\n",
       "      <td>54.801834</td>\n",
       "      <td>7.457179</td>\n",
       "      <td>56.462238</td>\n",
       "      <td>57.416459</td>\n",
       "      <td>13.402000</td>\n",
       "      <td>44.014458</td>\n",
       "      <td>0.548367</td>\n",
       "      <td>...</td>\n",
       "      <td>12.704317</td>\n",
       "      <td>54.304483</td>\n",
       "      <td>78.488327</td>\n",
       "      <td>10.837809</td>\n",
       "      <td>67.650518</td>\n",
       "      <td>1.876106</td>\n",
       "      <td>52.844029</td>\n",
       "      <td>54.720135</td>\n",
       "      <td>2.291014</td>\n",
       "      <td>-1.790707</td>\n",
       "    </tr>\n",
       "    <tr>\n",
       "      <th>2</th>\n",
       "      <td>left</td>\n",
       "      <td>ramp</td>\n",
       "      <td>green</td>\n",
       "      <td>55.186039</td>\n",
       "      <td>5.784269</td>\n",
       "      <td>55.880359</td>\n",
       "      <td>68.521255</td>\n",
       "      <td>20.023360</td>\n",
       "      <td>48.497896</td>\n",
       "      <td>1.416761</td>\n",
       "      <td>...</td>\n",
       "      <td>11.525011</td>\n",
       "      <td>55.587336</td>\n",
       "      <td>66.911400</td>\n",
       "      <td>10.007051</td>\n",
       "      <td>56.904349</td>\n",
       "      <td>1.041976</td>\n",
       "      <td>54.933230</td>\n",
       "      <td>55.975206</td>\n",
       "      <td>4.640643</td>\n",
       "      <td>-2.400916</td>\n",
       "    </tr>\n",
       "    <tr>\n",
       "      <th>3</th>\n",
       "      <td>left</td>\n",
       "      <td>flash</td>\n",
       "      <td>white</td>\n",
       "      <td>50.753054</td>\n",
       "      <td>15.557146</td>\n",
       "      <td>56.509845</td>\n",
       "      <td>80.000000</td>\n",
       "      <td>11.077743</td>\n",
       "      <td>68.922257</td>\n",
       "      <td>1.169259</td>\n",
       "      <td>...</td>\n",
       "      <td>15.948908</td>\n",
       "      <td>56.387945</td>\n",
       "      <td>62.685928</td>\n",
       "      <td>10.171413</td>\n",
       "      <td>52.514515</td>\n",
       "      <td>11.608063</td>\n",
       "      <td>45.340697</td>\n",
       "      <td>56.948760</td>\n",
       "      <td>-0.239943</td>\n",
       "      <td>-1.224524</td>\n",
       "    </tr>\n",
       "    <tr>\n",
       "      <th>4</th>\n",
       "      <td>left</td>\n",
       "      <td>flash</td>\n",
       "      <td>blue</td>\n",
       "      <td>47.545593</td>\n",
       "      <td>15.580917</td>\n",
       "      <td>55.304546</td>\n",
       "      <td>80.000000</td>\n",
       "      <td>10.388611</td>\n",
       "      <td>69.611389</td>\n",
       "      <td>17.025806</td>\n",
       "      <td>...</td>\n",
       "      <td>12.707170</td>\n",
       "      <td>55.829964</td>\n",
       "      <td>62.747673</td>\n",
       "      <td>10.634277</td>\n",
       "      <td>52.113397</td>\n",
       "      <td>1.397660</td>\n",
       "      <td>55.061753</td>\n",
       "      <td>56.459414</td>\n",
       "      <td>4.310715</td>\n",
       "      <td>-2.428606</td>\n",
       "    </tr>\n",
       "  </tbody>\n",
       "</table>\n",
       "<p>5 rows × 853 columns</p>\n",
       "</div>"
      ],
      "text/plain": [
       "    eye stimuli  color  mean_window_50_0  std_window_50_0  median_window_50_0  \\\n",
       "0  left    ramp  white         33.233702        19.870581           29.165282   \n",
       "1  left    ramp   blue         54.801834         7.457179           56.462238   \n",
       "2  left    ramp  green         55.186039         5.784269           55.880359   \n",
       "3  left   flash  white         50.753054        15.557146           56.509845   \n",
       "4  left   flash   blue         47.545593        15.580917           55.304546   \n",
       "\n",
       "   max_window_50_0  min_window_50_0  range_window_50_0  IQR_window_50_0  ...  \\\n",
       "0        60.572493        10.000000          50.572493        43.426828  ...   \n",
       "1        57.416459        13.402000          44.014458         0.548367  ...   \n",
       "2        68.521255        20.023360          48.497896         1.416761  ...   \n",
       "3        80.000000        11.077743          68.922257         1.169259  ...   \n",
       "4        80.000000        10.388611          69.611389        17.025806  ...   \n",
       "\n",
       "   std_window_100_26  median_window_100_26  max_window_100_26  \\\n",
       "0          16.530944             55.875806          63.524532   \n",
       "1          12.704317             54.304483          78.488327   \n",
       "2          11.525011             55.587336          66.911400   \n",
       "3          15.948908             56.387945          62.685928   \n",
       "4          12.707170             55.829964          62.747673   \n",
       "\n",
       "   min_window_100_26  range_window_100_26  IQR_window_100_26  \\\n",
       "0          10.000000            53.524532          12.557260   \n",
       "1          10.837809            67.650518           1.876106   \n",
       "2          10.007051            56.904349           1.041976   \n",
       "3          10.171413            52.514515          11.608063   \n",
       "4          10.634277            52.113397           1.397660   \n",
       "\n",
       "   Q1_window_100_26  Q3_window_100_26  kurtosis_window_100_26  \\\n",
       "0         43.678068         56.235328                0.082570   \n",
       "1         52.844029         54.720135                2.291014   \n",
       "2         54.933230         55.975206                4.640643   \n",
       "3         45.340697         56.948760               -0.239943   \n",
       "4         55.061753         56.459414                4.310715   \n",
       "\n",
       "   skewness_window_100_26  \n",
       "0               -1.335345  \n",
       "1               -1.790707  \n",
       "2               -2.400916  \n",
       "3               -1.224524  \n",
       "4               -2.428606  \n",
       "\n",
       "[5 rows x 853 columns]"
      ]
     },
     "execution_count": 23,
     "metadata": {},
     "output_type": "execute_result"
    }
   ],
   "source": [
    "X_train.head()"
   ]
  },
  {
   "cell_type": "code",
   "execution_count": 64,
   "metadata": {},
   "outputs": [
    {
     "name": "stdout",
     "output_type": "stream",
     "text": [
      "Total de valores nulos en el dataset: 0\n"
     ]
    }
   ],
   "source": [
    "total_nulls = X_train.isnull().sum().sum()\n",
    "print(f\"Total de valores nulos en el dataset: {total_nulls}\")"
   ]
  },
  {
   "cell_type": "code",
   "execution_count": 111,
   "metadata": {},
   "outputs": [],
   "source": [
    "import plotly.graph_objects as go\n",
    "from sklearn.metrics import accuracy_score\n",
    "\n",
    "def plot_training(model, X_test, y_test):\n",
    "    y_pred = model.predict(X_test)\n",
    "    predictions = [round(value, 2) for value in y_pred]\n",
    "\n",
    "    # Evaluamos los modelos\n",
    "    accuracy = accuracy_score(y_test, predictions)\n",
    "    print(\"Accuracy: %.2f%%\" % (accuracy * 100.0))\n",
    "\n",
    "    results = model.evals_result()\n",
    "    epochs = len(results['validation_0']['error'])\n",
    "\n",
    "    # Log Loss Plot\n",
    "    fig = go.Figure()\n",
    "    fig.add_trace(go.Scatter(x=list(range(epochs)), y=results['validation_0']['logloss'],\n",
    "                             mode='lines', name='Train Log Loss'))\n",
    "    fig.add_trace(go.Scatter(x=list(range(epochs)), y=results['validation_1']['logloss'],\n",
    "                             mode='lines', name='Test Log Loss'))\n",
    "    fig.update_layout(title='XGBoost Log Loss Over Epochs',\n",
    "                      template='simple_white',\n",
    "                      xaxis_title='Epoch',\n",
    "                      yaxis_title='Log Loss',\n",
    "                      legend_title='Dataset')\n",
    "    fig.show()\n",
    "\n",
    "    # Classification Error Plot\n",
    "    fig = go.Figure()\n",
    "    fig.add_trace(go.Scatter(x=list(range(epochs)), y=results['validation_0']['error'],\n",
    "                             mode='lines', name='Train Error'))\n",
    "    fig.add_trace(go.Scatter(x=list(range(epochs)), y=results['validation_1']['error'],\n",
    "                             mode='lines', name='Test Error'))\n",
    "    fig.update_layout(title='XGBoost Classification Error Over Epochs',\n",
    "                      template='simple_white',\n",
    "                      xaxis_title='Epoch',\n",
    "                      yaxis_title='Classification Error',\n",
    "                      legend_title='Dataset')\n",
    "    fig.show()"
   ]
  },
  {
   "cell_type": "markdown",
   "metadata": {},
   "source": [
    "## Baseline"
   ]
  },
  {
   "cell_type": "code",
   "execution_count": 26,
   "metadata": {},
   "outputs": [
    {
     "name": "stdout",
     "output_type": "stream",
     "text": [
      "F1-Score por fold: [0.33116883 0.33116883 0.33333333 0.33333333 0.33333333]\n",
      "ROC-AUC por fold: [0.5 0.5 0.5 0.5 0.5]\n",
      "Exactitud por fold: [0.49514563 0.49514563 0.5        0.5        0.5       ]\n",
      "Promedio F1-Score: 0.33246753246753247\n",
      "Promedio Exactitud: 0.4980582524271845\n"
     ]
    }
   ],
   "source": [
    "from sklearn.model_selection import cross_val_score\n",
    "from sklearn.dummy import DummyClassifier  # Ejemplo con un modelo Dummy (puedes reemplazar con otros modelos)\n",
    "from sklearn.model_selection import cross_validate\n",
    "\n",
    "# Definir el modelo Dummy para probar el ciclo (puedes cambiar por otro clasificador)\n",
    "dummy_model = DummyClassifier(strategy=\"most_frequent\")\n",
    "\n",
    "# Crear el pipeline con el preprocesador y el modelo\n",
    "pipeline = Pipeline([\n",
    "    ('preprocessor', preprocessor),\n",
    "    ('classifier', dummy_model)  # Reemplaza esto con cualquier modelo que desees usar\n",
    "])\n",
    "\n",
    "# Definir las métricas a calcular\n",
    "scoring = ['f1_macro', 'accuracy', 'roc_auc']\n",
    "\n",
    "# Validación cruzada con múltiples métricas\n",
    "cv_results = cross_validate(pipeline, X_train, y_train, cv=5, scoring=scoring, return_train_score=True)\n",
    "\n",
    "# Mostrar resultados\n",
    "print(\"F1-Score por fold:\", cv_results['test_f1_macro'])\n",
    "print(\"ROC-AUC por fold:\", cv_results['test_roc_auc'])\n",
    "print(\"Exactitud por fold:\", cv_results['test_accuracy'])\n",
    "print(\"Promedio F1-Score:\", cv_results['test_f1_macro'].mean())\n",
    "print(\"Promedio Exactitud:\", cv_results['test_accuracy'].mean())"
   ]
  },
  {
   "cell_type": "code",
   "execution_count": 85,
   "metadata": {},
   "outputs": [],
   "source": [
    "from sklearn.metrics import f1_score, precision_recall_curve, average_precision_score, roc_auc_score\n",
    "from sklearn.metrics import classification_report, confusion_matrix\n",
    "import time\n",
    "from sklearn.metrics import auc\n",
    "\n",
    "def train_and_evaluate(pipe, X_train, y_train, X_test, y_test, print_=True):\n",
    "    start_time = time.time()  # Start the timer\n",
    "\n",
    "    pipe.fit(X_train, y_train)  # Entrenamiento\n",
    "\n",
    "    end_time = time.time()  # Stop the timer\n",
    "    training_time = end_time - start_time  # Calculate the elapsed time\n",
    "\n",
    "    # Predicciones\n",
    "    y_pred = pipe.predict(X_test)\n",
    "    y_prob = pipe.predict_proba(X_test)[:, 1]  # Probabilidades para la clase positiva\n",
    "\n",
    "    # Cálculo del AUC-PR usando probabilidades\n",
    "    precision, recall, thresholds = precision_recall_curve(y_test, y_prob)\n",
    "    auc_pr = auc(recall, precision)\n",
    "    \n",
    "    # Cálculo del AUC-ROC (si es relevante)\n",
    "    auc_roc = roc_auc_score(y_test, y_prob)\n",
    "\n",
    "    if print_:\n",
    "        print(\"Matriz de confusión: \\n\")\n",
    "        print(confusion_matrix(y_test, y_pred, labels=pipe.classes_))\n",
    "        print(\"\\nReporte de Clasificación: \\n\")\n",
    "        print(classification_report(y_test, y_pred, target_names=[str(cls) for cls in pipe.classes_]))\n",
    "        print(f\"Tiempo de entrenamiento: {training_time:.2f} segundos\")"
   ]
  },
  {
   "cell_type": "code",
   "execution_count": 28,
   "metadata": {},
   "outputs": [
    {
     "name": "stdout",
     "output_type": "stream",
     "text": [
      "Matriz de confusión: \n",
      "\n",
      "[[37 43]\n",
      " [31 33]]\n",
      "\n",
      "Reporte de Clasificación: \n",
      "\n",
      "              precision    recall  f1-score   support\n",
      "\n",
      "           0       0.54      0.46      0.50        80\n",
      "           1       0.43      0.52      0.47        64\n",
      "\n",
      "    accuracy                           0.49       144\n",
      "   macro avg       0.49      0.49      0.49       144\n",
      "weighted avg       0.50      0.49      0.49       144\n",
      "\n",
      "Tiempo de entrenamiento: 0.03 segundos\n"
     ]
    }
   ],
   "source": [
    "from sklearn.dummy import DummyClassifier\n",
    "\n",
    "dummy_pipe = Pipeline(\n",
    "    steps=[\n",
    "        (\"preprocessor\", preprocessor),\n",
    "        (\"Dummy\", DummyClassifier(strategy=\"stratified\")),\n",
    "    ]\n",
    ")\n",
    "\n",
    "train_and_evaluate(dummy_pipe, X_train, y_train, X_test, y_test, print_=True)"
   ]
  },
  {
   "cell_type": "markdown",
   "metadata": {},
   "source": [
    "## Modelos"
   ]
  },
  {
   "cell_type": "markdown",
   "metadata": {},
   "source": [
    "### XGboost"
   ]
  },
  {
   "cell_type": "code",
   "execution_count": 115,
   "metadata": {},
   "outputs": [
    {
     "name": "stdout",
     "output_type": "stream",
     "text": [
      "Matriz de confusión: \n",
      "\n",
      "[[56 24]\n",
      " [23 41]]\n",
      "\n",
      "Reporte de Clasificación: \n",
      "\n",
      "              precision    recall  f1-score   support\n",
      "\n",
      "           0       0.71      0.70      0.70        80\n",
      "           1       0.63      0.64      0.64        64\n",
      "\n",
      "    accuracy                           0.67       144\n",
      "   macro avg       0.67      0.67      0.67       144\n",
      "weighted avg       0.67      0.67      0.67       144\n",
      "\n",
      "Tiempo de entrenamiento: 1.80 segundos\n"
     ]
    }
   ],
   "source": [
    "from xgboost import XGBClassifier\n",
    "from sklearn.metrics import recall_score, precision_recall_curve, confusion_matrix\n",
    "\n",
    "# Definir el modelo XGBoost\n",
    "xgb_model = XGBClassifier(learning_rate=0.3, max_depth=6, eval_metric=[\"error\", \"logloss\"])\n",
    "\n",
    "# Definir el pipeline con el preprocesador y el modelo XGBoost\n",
    "pipe = Pipeline([\n",
    "    ('preprocessor', preprocessor),  # Preprocesador que creaste anteriormente\n",
    "    ('classifier', xgb_model)        # Modelo de clasificación XGBoost\n",
    "])\n",
    "\n",
    "train_and_evaluate(pipe, X_train, y_train, X_test, y_test, print_=True)\n"
   ]
  },
  {
   "cell_type": "code",
   "execution_count": 132,
   "metadata": {},
   "outputs": [
    {
     "data": {
      "image/png": "[encoded data removed]",
      "text/plain": [
       "<Figure size 800x600 with 1 Axes>"
      ]
     },
     "metadata": {},
     "output_type": "display_data"
    },
    {
     "name": "stdout",
     "output_type": "stream",
     "text": [
      "AUC: 0.72\n"
     ]
    },
    {
     "data": {
      "image/png": "[encoded data removed]",
      "text/plain": [
       "<Figure size 800x600 with 1 Axes>"
      ]
     },
     "metadata": {},
     "output_type": "display_data"
    }
   ],
   "source": [
    "import matplotlib.pyplot as plt\n",
    "from sklearn.metrics import roc_curve, roc_auc_score\n",
    "\n",
    "# Ajustar el pipeline al conjunto de entrenamiento\n",
    "pipe.fit(X_train, y_train)\n",
    "\n",
    "# Obtener las probabilidades de la clase positiva (1) para el conjunto de prueba\n",
    "y_prob = pipe.predict_proba(X_test)[:, 1]\n",
    "\n",
    "# Calcular la curva ROC\n",
    "fpr, tpr, thresholds = roc_curve(y_test, y_prob)\n",
    "\n",
    "# Calcular el AUC\n",
    "auc_value = roc_auc_score(y_test, y_prob)\n",
    "\n",
    "# Graficar la curva ROC\n",
    "plt.figure(figsize=(8, 6))\n",
    "plt.plot(fpr, tpr, color='blue', label=f'ROC curve (AUC = {auc_value:.2f})')\n",
    "plt.plot([0, 1], [0, 1], color='gray', linestyle='--')  # Línea diagonal\n",
    "plt.xlim([0.0, 1.0])\n",
    "plt.ylim([0.0, 1.05])\n",
    "plt.xlabel('False Positive Rate')\n",
    "plt.ylabel('True Positive Rate')\n",
    "plt.title('ROC Curve')\n",
    "plt.legend(loc=\"lower right\")\n",
    "plt.grid(True)\n",
    "plt.show()\n",
    "\n",
    "# Imprimir el valor del AUC\n",
    "print(f\"AUC: {auc_value:.2f}\")\n",
    "\n",
    "# Calcular la curva Precision-Recall\n",
    "precision, recall, thresholds = precision_recall_curve(y_test, y_prob)\n",
    "\n",
    "# Calcular el AUC-PR\n",
    "auc_pr = average_precision_score(y_test, y_prob)\n",
    "\n",
    "# Graficar la curva Precision-Recall\n",
    "plt.figure(figsize=(8, 6))\n",
    "plt.plot(recall, precision, color='blue', label=f'Precision-Recall curve (AUC-PR = {auc_pr:.2f})')\n",
    "plt.xlabel('Recall')\n",
    "plt.ylabel('Precision')\n",
    "plt.title('Precision-Recall Curve')\n",
    "plt.legend(loc=\"lower left\")\n",
    "plt.grid(True)\n",
    "plt.show()\n"
   ]
  },
  {
   "cell_type": "code",
   "execution_count": 113,
   "metadata": {},
   "outputs": [
    {
     "name": "stdout",
     "output_type": "stream",
     "text": [
      "Accuracy: 67.36%\n"
     ]
    },
    {
     "data": {
      "application/vnd.plotly.v1+json": {
       "config": {
        "plotlyServerURL": "https://plot.ly"
       },
       "data": [
        {
         "mode": "lines",
         "name": "Train Log Loss",
         "type": "scatter",
         "x": [
          0,
          1,
          2,
          3,
          4,
          5,
          6,
          7,
          8,
          9,
          10,
          11,
          12,
          13,
          14,
          15,
          16,
          17,
          18,
          19,
          20,
          21,
          22,
          23,
          24,
          25,
          26,
          27,
          28,
          29,
          30,
          31,
          32,
          33,
          34,
          35,
          36,
          37,
          38,
          39,
          40,
          41,
          42,
          43,
          44,
          45,
          46,
          47,
          48,
          49,
          50,
          51,
          52,
          53,
          54,
          55,
          56,
          57,
          58,
          59,
          60,
          61,
          62,
          63,
          64,
          65,
          66,
          67,
          68,
          69,
          70,
          71,
          72,
          73,
          74,
          75,
          76,
          77,
          78,
          79,
          80,
          81,
          82,
          83,
          84,
          85,
          86,
          87,
          88,
          89,
          90,
          91,
          92,
          93,
          94,
          95,
          96,
          97,
          98,
          99
         ],
         "y": [
          0.5183241796330549,
          0.4046533977962099,
          0.3172335405542981,
          0.25570979542681016,
          0.20769180182833225,
          0.1746207302348921,
          0.14849892429629108,
          0.12691442812501919,
          0.11106818366533844,
          0.09681836556046619,
          0.08571165338071296,
          0.07654641548651853,
          0.06794985760279815,
          0.06151722866525233,
          0.05645281345277908,
          0.0514690256677568,
          0.04710779284141609,
          0.04341382119127957,
          0.03982270543929189,
          0.03733345266800825,
          0.03489393115887651,
          0.03292313286146964,
          0.03124342382261602,
          0.02953295023053215,
          0.02824076803108255,
          0.02686215403082315,
          0.02559735727390944,
          0.02447560491555123,
          0.02358666895406714,
          0.02261303806608339,
          0.02166784677660871,
          0.02091269123525308,
          0.020165614034795,
          0.01930717125912906,
          0.01859455694727785,
          0.01796979366406504,
          0.01741311572436643,
          0.01689672476823034,
          0.01652558219268485,
          0.01610740311133441,
          0.01577041604394935,
          0.01533808460771979,
          0.01497764056921369,
          0.01459908738257809,
          0.01430336925795928,
          0.01399116169875469,
          0.0137577235272488,
          0.01347747226230922,
          0.01319123286492641,
          0.01293945443103439,
          0.01261172426541179,
          0.0123478278956668,
          0.01214416646399741,
          0.01191203426964194,
          0.01166393650620989,
          0.01149341004622784,
          0.01135734093043084,
          0.01121380928944404,
          0.01104410053721949,
          0.0109155170042925,
          0.01074921990132793,
          0.01059882150789804,
          0.0104402780779651,
          0.01029513164894524,
          0.01016012917642684,
          0.01000658729822135,
          0.009902535408429,
          0.00978079252467978,
          0.00960857709446827,
          0.00953421594118709,
          0.00944972238036712,
          0.00933535054309687,
          0.00926632200111044,
          0.00916931404259458,
          0.00909791118871794,
          0.00902392978250077,
          0.00886680956560326,
          0.00879107702675697,
          0.00863079917706955,
          0.00854422827811163,
          0.0084708784796419,
          0.00840917188972412,
          0.00833444487869883,
          0.00824103973752699,
          0.00817747339675634,
          0.00811854701098014,
          0.00806472818118209,
          0.00800140167262953,
          0.00794698870845423,
          0.00788896876036915,
          0.00784234066500744,
          0.00778183846384195,
          0.00773977563096651,
          0.00768135028349093,
          0.0076278910496228,
          0.00756975930983117,
          0.00752130806822038,
          0.00747031746365678,
          0.00742344267231942,
          0.00738042692779572
         ]
        },
        {
         "mode": "lines",
         "name": "Test Log Loss",
         "type": "scatter",
         "x": [
          0,
          1,
          2,
          3,
          4,
          5,
          6,
          7,
          8,
          9,
          10,
          11,
          12,
          13,
          14,
          15,
          16,
          17,
          18,
          19,
          20,
          21,
          22,
          23,
          24,
          25,
          26,
          27,
          28,
          29,
          30,
          31,
          32,
          33,
          34,
          35,
          36,
          37,
          38,
          39,
          40,
          41,
          42,
          43,
          44,
          45,
          46,
          47,
          48,
          49,
          50,
          51,
          52,
          53,
          54,
          55,
          56,
          57,
          58,
          59,
          60,
          61,
          62,
          63,
          64,
          65,
          66,
          67,
          68,
          69,
          70,
          71,
          72,
          73,
          74,
          75,
          76,
          77,
          78,
          79,
          80,
          81,
          82,
          83,
          84,
          85,
          86,
          87,
          88,
          89,
          90,
          91,
          92,
          93,
          94,
          95,
          96,
          97,
          98,
          99
         ],
         "y": [
          0.6929365421334902,
          0.6898028838137785,
          0.6882760321928395,
          0.669773414110144,
          0.6840145636556877,
          0.6977656926545832,
          0.6992376520194941,
          0.688023858031051,
          0.701908109890711,
          0.6996829474939861,
          0.7165966334545778,
          0.7242154459494891,
          0.742849933086998,
          0.7435311492558362,
          0.7351899663012268,
          0.7387268789526489,
          0.7436167570348415,
          0.7457661994590631,
          0.7564241186547507,
          0.7782995434018731,
          0.7749310976457006,
          0.773326853681485,
          0.7784787835100562,
          0.7853010441726332,
          0.7838066227430116,
          0.7888034084042173,
          0.7931331162253628,
          0.7922010009157626,
          0.7953575420057556,
          0.8034236320397921,
          0.8120276331707524,
          0.8132863910399869,
          0.8073993034453856,
          0.8164373693741962,
          0.8171597198007576,
          0.8134604141119376,
          0.8215484254024987,
          0.8253152009436033,
          0.8295468996390506,
          0.8302465714449581,
          0.8321705448858362,
          0.8382025138570397,
          0.8408399172460324,
          0.8488004114616261,
          0.8538374561265099,
          0.8548764261532698,
          0.8579224571937326,
          0.8610820131345664,
          0.8597670256058336,
          0.8569517331654626,
          0.8654612294238986,
          0.86493272116584,
          0.8673468883684513,
          0.8653737705980247,
          0.8710550633812899,
          0.8769721727734981,
          0.8801887105065462,
          0.8786263181670316,
          0.8770587220226136,
          0.8793050618017636,
          0.8830713309362181,
          0.8867002015427311,
          0.884823845867585,
          0.8894927277425368,
          0.8894945167121477,
          0.8882188364396926,
          0.8921185963473464,
          0.890647627900762,
          0.8845149496106993,
          0.8852206750448709,
          0.8847236417835423,
          0.8852165217972975,
          0.8841672935648401,
          0.88683626486535,
          0.8874746296783592,
          0.8896976699555429,
          0.8863233777054929,
          0.8856245359804436,
          0.8860296389397667,
          0.8879029498166346,
          0.8925207794511354,
          0.892122951641391,
          0.8902184247639929,
          0.8929138281269439,
          0.8964882083754573,
          0.8971305398141945,
          0.8985586452977764,
          0.8962619945951802,
          0.900454658762505,
          0.8985631758712569,
          0.8991184265335809,
          0.8986433402547441,
          0.9015884440201868,
          0.9047105131046718,
          0.9072517560780398,
          0.9060602210896226,
          0.9040315686211721,
          0.9023813889774223,
          0.8993584671548484,
          0.9009596445844686
         ]
        }
       ],
       "layout": {
        "legend": {
         "title": {
          "text": "Dataset"
         }
        },
        "template": {
         "data": {
          "bar": [
           {
            "error_x": {
             "color": "rgb(36,36,36)"
            },
            "error_y": {
             "color": "rgb(36,36,36)"
            },
            "marker": {
             "line": {
              "color": "white",
              "width": 0.5
             },
             "pattern": {
              "fillmode": "overlay",
              "size": 10,
              "solidity": 0.2
             }
            },
            "type": "bar"
           }
          ],
          "barpolar": [
           {
            "marker": {
             "line": {
              "color": "white",
              "width": 0.5
             },
             "pattern": {
              "fillmode": "overlay",
              "size": 10,
              "solidity": 0.2
             }
            },
            "type": "barpolar"
           }
          ],
          "carpet": [
           {
            "aaxis": {
             "endlinecolor": "rgb(36,36,36)",
             "gridcolor": "white",
             "linecolor": "white",
             "minorgridcolor": "white",
             "startlinecolor": "rgb(36,36,36)"
            },
            "baxis": {
             "endlinecolor": "rgb(36,36,36)",
             "gridcolor": "white",
             "linecolor": "white",
             "minorgridcolor": "white",
             "startlinecolor": "rgb(36,36,36)"
            },
            "type": "carpet"
           }
          ],
          "choropleth": [
           {
            "colorbar": {
             "outlinewidth": 1,
             "tickcolor": "rgb(36,36,36)",
             "ticks": "outside"
            },
            "type": "choropleth"
           }
          ],
          "contour": [
           {
            "colorbar": {
             "outlinewidth": 1,
             "tickcolor": "rgb(36,36,36)",
             "ticks": "outside"
            },
            "colorscale": [
             [
              0,
              "#440154"
             ],
             [
              0.1111111111111111,
              "#482878"
             ],
             [
              0.2222222222222222,
              "#3e4989"
             ],
             [
              0.3333333333333333,
              "#31688e"
             ],
             [
              0.4444444444444444,
              "#26828e"
             ],
             [
              0.5555555555555556,
              "#1f9e89"
             ],
             [
              0.6666666666666666,
              "#35b779"
             ],
             [
              0.7777777777777778,
              "#6ece58"
             ],
             [
              0.8888888888888888,
              "#b5de2b"
             ],
             [
              1,
              "#fde725"
             ]
            ],
            "type": "contour"
           }
          ],
          "contourcarpet": [
           {
            "colorbar": {
             "outlinewidth": 1,
             "tickcolor": "rgb(36,36,36)",
             "ticks": "outside"
            },
            "type": "contourcarpet"
           }
          ],
          "heatmap": [
           {
            "colorbar": {
             "outlinewidth": 1,
             "tickcolor": "rgb(36,36,36)",
             "ticks": "outside"
            },
            "colorscale": [
             [
              0,
              "#440154"
             ],
             [
              0.1111111111111111,
              "#482878"
             ],
             [
              0.2222222222222222,
              "#3e4989"
             ],
             [
              0.3333333333333333,
              "#31688e"
             ],
             [
              0.4444444444444444,
              "#26828e"
             ],
             [
              0.5555555555555556,
              "#1f9e89"
             ],
             [
              0.6666666666666666,
              "#35b779"
             ],
             [
              0.7777777777777778,
              "#6ece58"
             ],
             [
              0.8888888888888888,
              "#b5de2b"
             ],
             [
              1,
              "#fde725"
             ]
            ],
            "type": "heatmap"
           }
          ],
          "heatmapgl": [
           {
            "colorbar": {
             "outlinewidth": 1,
             "tickcolor": "rgb(36,36,36)",
             "ticks": "outside"
            },
            "colorscale": [
             [
              0,
              "#440154"
             ],
             [
              0.1111111111111111,
              "#482878"
             ],
             [
              0.2222222222222222,
              "#3e4989"
             ],
             [
              0.3333333333333333,
              "#31688e"
             ],
             [
              0.4444444444444444,
              "#26828e"
             ],
             [
              0.5555555555555556,
              "#1f9e89"
             ],
             [
              0.6666666666666666,
              "#35b779"
             ],
             [
              0.7777777777777778,
              "#6ece58"
             ],
             [
              0.8888888888888888,
              "#b5de2b"
             ],
             [
              1,
              "#fde725"
             ]
            ],
            "type": "heatmapgl"
           }
          ],
          "histogram": [
           {
            "marker": {
             "line": {
              "color": "white",
              "width": 0.6
             }
            },
            "type": "histogram"
           }
          ],
          "histogram2d": [
           {
            "colorbar": {
             "outlinewidth": 1,
             "tickcolor": "rgb(36,36,36)",
             "ticks": "outside"
            },
            "colorscale": [
             [
              0,
              "#440154"
             ],
             [
              0.1111111111111111,
              "#482878"
             ],
             [
              0.2222222222222222,
              "#3e4989"
             ],
             [
              0.3333333333333333,
              "#31688e"
             ],
             [
              0.4444444444444444,
              "#26828e"
             ],
             [
              0.5555555555555556,
              "#1f9e89"
             ],
             [
              0.6666666666666666,
              "#35b779"
             ],
             [
              0.7777777777777778,
              "#6ece58"
             ],
             [
              0.8888888888888888,
              "#b5de2b"
             ],
             [
              1,
              "#fde725"
             ]
            ],
            "type": "histogram2d"
           }
          ],
          "histogram2dcontour": [
           {
            "colorbar": {
             "outlinewidth": 1,
             "tickcolor": "rgb(36,36,36)",
             "ticks": "outside"
            },
            "colorscale": [
             [
              0,
              "#440154"
             ],
             [
              0.1111111111111111,
              "#482878"
             ],
             [
              0.2222222222222222,
              "#3e4989"
             ],
             [
              0.3333333333333333,
              "#31688e"
             ],
             [
              0.4444444444444444,
              "#26828e"
             ],
             [
              0.5555555555555556,
              "#1f9e89"
             ],
             [
              0.6666666666666666,
              "#35b779"
             ],
             [
              0.7777777777777778,
              "#6ece58"
             ],
             [
              0.8888888888888888,
              "#b5de2b"
             ],
             [
              1,
              "#fde725"
             ]
            ],
            "type": "histogram2dcontour"
           }
          ],
          "mesh3d": [
           {
            "colorbar": {
             "outlinewidth": 1,
             "tickcolor": "rgb(36,36,36)",
             "ticks": "outside"
            },
            "type": "mesh3d"
           }
          ],
          "parcoords": [
           {
            "line": {
             "colorbar": {
              "outlinewidth": 1,
              "tickcolor": "rgb(36,36,36)",
              "ticks": "outside"
             }
            },
            "type": "parcoords"
           }
          ],
          "pie": [
           {
            "automargin": true,
            "type": "pie"
           }
          ],
          "scatter": [
           {
            "fillpattern": {
             "fillmode": "overlay",
             "size": 10,
             "solidity": 0.2
            },
            "type": "scatter"
           }
          ],
          "scatter3d": [
           {
            "line": {
             "colorbar": {
              "outlinewidth": 1,
              "tickcolor": "rgb(36,36,36)",
              "ticks": "outside"
             }
            },
            "marker": {
             "colorbar": {
              "outlinewidth": 1,
              "tickcolor": "rgb(36,36,36)",
              "ticks": "outside"
             }
            },
            "type": "scatter3d"
           }
          ],
          "scattercarpet": [
           {
            "marker": {
             "colorbar": {
              "outlinewidth": 1,
              "tickcolor": "rgb(36,36,36)",
              "ticks": "outside"
             }
            },
            "type": "scattercarpet"
           }
          ],
          "scattergeo": [
           {
            "marker": {
             "colorbar": {
              "outlinewidth": 1,
              "tickcolor": "rgb(36,36,36)",
              "ticks": "outside"
             }
            },
            "type": "scattergeo"
           }
          ],
          "scattergl": [
           {
            "marker": {
             "colorbar": {
              "outlinewidth": 1,
              "tickcolor": "rgb(36,36,36)",
              "ticks": "outside"
             }
            },
            "type": "scattergl"
           }
          ],
          "scattermapbox": [
           {
            "marker": {
             "colorbar": {
              "outlinewidth": 1,
              "tickcolor": "rgb(36,36,36)",
              "ticks": "outside"
             }
            },
            "type": "scattermapbox"
           }
          ],
          "scatterpolar": [
           {
            "marker": {
             "colorbar": {
              "outlinewidth": 1,
              "tickcolor": "rgb(36,36,36)",
              "ticks": "outside"
             }
            },
            "type": "scatterpolar"
           }
          ],
          "scatterpolargl": [
           {
            "marker": {
             "colorbar": {
              "outlinewidth": 1,
              "tickcolor": "rgb(36,36,36)",
              "ticks": "outside"
             }
            },
            "type": "scatterpolargl"
           }
          ],
          "scatterternary": [
           {
            "marker": {
             "colorbar": {
              "outlinewidth": 1,
              "tickcolor": "rgb(36,36,36)",
              "ticks": "outside"
             }
            },
            "type": "scatterternary"
           }
          ],
          "surface": [
           {
            "colorbar": {
             "outlinewidth": 1,
             "tickcolor": "rgb(36,36,36)",
             "ticks": "outside"
            },
            "colorscale": [
             [
              0,
              "#440154"
             ],
             [
              0.1111111111111111,
              "#482878"
             ],
             [
              0.2222222222222222,
              "#3e4989"
             ],
             [
              0.3333333333333333,
              "#31688e"
             ],
             [
              0.4444444444444444,
              "#26828e"
             ],
             [
              0.5555555555555556,
              "#1f9e89"
             ],
             [
              0.6666666666666666,
              "#35b779"
             ],
             [
              0.7777777777777778,
              "#6ece58"
             ],
             [
              0.8888888888888888,
              "#b5de2b"
             ],
             [
              1,
              "#fde725"
             ]
            ],
            "type": "surface"
           }
          ],
          "table": [
           {
            "cells": {
             "fill": {
              "color": "rgb(237,237,237)"
             },
             "line": {
              "color": "white"
             }
            },
            "header": {
             "fill": {
              "color": "rgb(217,217,217)"
             },
             "line": {
              "color": "white"
             }
            },
            "type": "table"
           }
          ]
         },
         "layout": {
          "annotationdefaults": {
           "arrowhead": 0,
           "arrowwidth": 1
          },
          "autotypenumbers": "strict",
          "coloraxis": {
           "colorbar": {
            "outlinewidth": 1,
            "tickcolor": "rgb(36,36,36)",
            "ticks": "outside"
           }
          },
          "colorscale": {
           "diverging": [
            [
             0,
             "rgb(103,0,31)"
            ],
            [
             0.1,
             "rgb(178,24,43)"
            ],
            [
             0.2,
             "rgb(214,96,77)"
            ],
            [
             0.3,
             "rgb(244,165,130)"
            ],
            [
             0.4,
             "rgb(253,219,199)"
            ],
            [
             0.5,
             "rgb(247,247,247)"
            ],
            [
             0.6,
             "rgb(209,229,240)"
            ],
            [
             0.7,
             "rgb(146,197,222)"
            ],
            [
             0.8,
             "rgb(67,147,195)"
            ],
            [
             0.9,
             "rgb(33,102,172)"
            ],
            [
             1,
             "rgb(5,48,97)"
            ]
           ],
           "sequential": [
            [
             0,
             "#440154"
            ],
            [
             0.1111111111111111,
             "#482878"
            ],
            [
             0.2222222222222222,
             "#3e4989"
            ],
            [
             0.3333333333333333,
             "#31688e"
            ],
            [
             0.4444444444444444,
             "#26828e"
            ],
            [
             0.5555555555555556,
             "#1f9e89"
            ],
            [
             0.6666666666666666,
             "#35b779"
            ],
            [
             0.7777777777777778,
             "#6ece58"
            ],
            [
             0.8888888888888888,
             "#b5de2b"
            ],
            [
             1,
             "#fde725"
            ]
           ],
           "sequentialminus": [
            [
             0,
             "#440154"
            ],
            [
             0.1111111111111111,
             "#482878"
            ],
            [
             0.2222222222222222,
             "#3e4989"
            ],
            [
             0.3333333333333333,
             "#31688e"
            ],
            [
             0.4444444444444444,
             "#26828e"
            ],
            [
             0.5555555555555556,
             "#1f9e89"
            ],
            [
             0.6666666666666666,
             "#35b779"
            ],
            [
             0.7777777777777778,
             "#6ece58"
            ],
            [
             0.8888888888888888,
             "#b5de2b"
            ],
            [
             1,
             "#fde725"
            ]
           ]
          },
          "colorway": [
           "#1F77B4",
           "#FF7F0E",
           "#2CA02C",
           "#D62728",
           "#9467BD",
           "#8C564B",
           "#E377C2",
           "#7F7F7F",
           "#BCBD22",
           "#17BECF"
          ],
          "font": {
           "color": "rgb(36,36,36)"
          },
          "geo": {
           "bgcolor": "white",
           "lakecolor": "white",
           "landcolor": "white",
           "showlakes": true,
           "showland": true,
           "subunitcolor": "white"
          },
          "hoverlabel": {
           "align": "left"
          },
          "hovermode": "closest",
          "mapbox": {
           "style": "light"
          },
          "paper_bgcolor": "white",
          "plot_bgcolor": "white",
          "polar": {
           "angularaxis": {
            "gridcolor": "rgb(232,232,232)",
            "linecolor": "rgb(36,36,36)",
            "showgrid": false,
            "showline": true,
            "ticks": "outside"
           },
           "bgcolor": "white",
           "radialaxis": {
            "gridcolor": "rgb(232,232,232)",
            "linecolor": "rgb(36,36,36)",
            "showgrid": false,
            "showline": true,
            "ticks": "outside"
           }
          },
          "scene": {
           "xaxis": {
            "backgroundcolor": "white",
            "gridcolor": "rgb(232,232,232)",
            "gridwidth": 2,
            "linecolor": "rgb(36,36,36)",
            "showbackground": true,
            "showgrid": false,
            "showline": true,
            "ticks": "outside",
            "zeroline": false,
            "zerolinecolor": "rgb(36,36,36)"
           },
           "yaxis": {
            "backgroundcolor": "white",
            "gridcolor": "rgb(232,232,232)",
            "gridwidth": 2,
            "linecolor": "rgb(36,36,36)",
            "showbackground": true,
            "showgrid": false,
            "showline": true,
            "ticks": "outside",
            "zeroline": false,
            "zerolinecolor": "rgb(36,36,36)"
           },
           "zaxis": {
            "backgroundcolor": "white",
            "gridcolor": "rgb(232,232,232)",
            "gridwidth": 2,
            "linecolor": "rgb(36,36,36)",
            "showbackground": true,
            "showgrid": false,
            "showline": true,
            "ticks": "outside",
            "zeroline": false,
            "zerolinecolor": "rgb(36,36,36)"
           }
          },
          "shapedefaults": {
           "fillcolor": "black",
           "line": {
            "width": 0
           },
           "opacity": 0.3
          },
          "ternary": {
           "aaxis": {
            "gridcolor": "rgb(232,232,232)",
            "linecolor": "rgb(36,36,36)",
            "showgrid": false,
            "showline": true,
            "ticks": "outside"
           },
           "baxis": {
            "gridcolor": "rgb(232,232,232)",
            "linecolor": "rgb(36,36,36)",
            "showgrid": false,
            "showline": true,
            "ticks": "outside"
           },
           "bgcolor": "white",
           "caxis": {
            "gridcolor": "rgb(232,232,232)",
            "linecolor": "rgb(36,36,36)",
            "showgrid": false,
            "showline": true,
            "ticks": "outside"
           }
          },
          "title": {
           "x": 0.05
          },
          "xaxis": {
           "automargin": true,
           "gridcolor": "rgb(232,232,232)",
           "linecolor": "rgb(36,36,36)",
           "showgrid": false,
           "showline": true,
           "ticks": "outside",
           "title": {
            "standoff": 15
           },
           "zeroline": false,
           "zerolinecolor": "rgb(36,36,36)"
          },
          "yaxis": {
           "automargin": true,
           "gridcolor": "rgb(232,232,232)",
           "linecolor": "rgb(36,36,36)",
           "showgrid": false,
           "showline": true,
           "ticks": "outside",
           "title": {
            "standoff": 15
           },
           "zeroline": false,
           "zerolinecolor": "rgb(36,36,36)"
          }
         }
        },
        "title": {
         "text": "XGBoost Log Loss Over Epochs"
        },
        "xaxis": {
         "title": {
          "text": "Epoch"
         }
        },
        "yaxis": {
         "title": {
          "text": "Log Loss"
         }
        }
       }
      }
     },
     "metadata": {},
     "output_type": "display_data"
    },
    {
     "data": {
      "application/vnd.plotly.v1+json": {
       "config": {
        "plotlyServerURL": "https://plot.ly"
       },
       "data": [
        {
         "mode": "lines",
         "name": "Train Error",
         "type": "scatter",
         "x": [
          0,
          1,
          2,
          3,
          4,
          5,
          6,
          7,
          8,
          9,
          10,
          11,
          12,
          13,
          14,
          15,
          16,
          17,
          18,
          19,
          20,
          21,
          22,
          23,
          24,
          25,
          26,
          27,
          28,
          29,
          30,
          31,
          32,
          33,
          34,
          35,
          36,
          37,
          38,
          39,
          40,
          41,
          42,
          43,
          44,
          45,
          46,
          47,
          48,
          49,
          50,
          51,
          52,
          53,
          54,
          55,
          56,
          57,
          58,
          59,
          60,
          61,
          62,
          63,
          64,
          65,
          66,
          67,
          68,
          69,
          70,
          71,
          72,
          73,
          74,
          75,
          76,
          77,
          78,
          79,
          80,
          81,
          82,
          83,
          84,
          85,
          86,
          87,
          88,
          89,
          90,
          91,
          92,
          93,
          94,
          95,
          96,
          97,
          98,
          99
         ],
         "y": [
          0.083984375,
          0.04296875,
          0.005859375,
          0.00390625,
          0.001953125,
          0.001953125,
          0.001953125,
          0.001953125,
          0,
          0,
          0,
          0,
          0,
          0,
          0,
          0,
          0,
          0,
          0,
          0,
          0,
          0,
          0,
          0,
          0,
          0,
          0,
          0,
          0,
          0,
          0,
          0,
          0,
          0,
          0,
          0,
          0,
          0,
          0,
          0,
          0,
          0,
          0,
          0,
          0,
          0,
          0,
          0,
          0,
          0,
          0,
          0,
          0,
          0,
          0,
          0,
          0,
          0,
          0,
          0,
          0,
          0,
          0,
          0,
          0,
          0,
          0,
          0,
          0,
          0,
          0,
          0,
          0,
          0,
          0,
          0,
          0,
          0,
          0,
          0,
          0,
          0,
          0,
          0,
          0,
          0,
          0,
          0,
          0,
          0,
          0,
          0,
          0,
          0,
          0,
          0,
          0,
          0,
          0,
          0
         ]
        },
        {
         "mode": "lines",
         "name": "Test Error",
         "type": "scatter",
         "x": [
          0,
          1,
          2,
          3,
          4,
          5,
          6,
          7,
          8,
          9,
          10,
          11,
          12,
          13,
          14,
          15,
          16,
          17,
          18,
          19,
          20,
          21,
          22,
          23,
          24,
          25,
          26,
          27,
          28,
          29,
          30,
          31,
          32,
          33,
          34,
          35,
          36,
          37,
          38,
          39,
          40,
          41,
          42,
          43,
          44,
          45,
          46,
          47,
          48,
          49,
          50,
          51,
          52,
          53,
          54,
          55,
          56,
          57,
          58,
          59,
          60,
          61,
          62,
          63,
          64,
          65,
          66,
          67,
          68,
          69,
          70,
          71,
          72,
          73,
          74,
          75,
          76,
          77,
          78,
          79,
          80,
          81,
          82,
          83,
          84,
          85,
          86,
          87,
          88,
          89,
          90,
          91,
          92,
          93,
          94,
          95,
          96,
          97,
          98,
          99
         ],
         "y": [
          0.4375,
          0.4375,
          0.4791666666666667,
          0.4166666666666667,
          0.3958333333333333,
          0.4097222222222222,
          0.4236111111111111,
          0.4027777777777778,
          0.3888888888888889,
          0.3819444444444444,
          0.3958333333333333,
          0.3888888888888889,
          0.375,
          0.3819444444444444,
          0.3819444444444444,
          0.375,
          0.3680555555555556,
          0.3680555555555556,
          0.3611111111111111,
          0.375,
          0.3611111111111111,
          0.3680555555555556,
          0.3680555555555556,
          0.3680555555555556,
          0.3611111111111111,
          0.3611111111111111,
          0.3541666666666667,
          0.3611111111111111,
          0.3611111111111111,
          0.3472222222222222,
          0.3541666666666667,
          0.3541666666666667,
          0.3541666666666667,
          0.3472222222222222,
          0.3611111111111111,
          0.3541666666666667,
          0.3541666666666667,
          0.3472222222222222,
          0.3472222222222222,
          0.3402777777777778,
          0.3402777777777778,
          0.3472222222222222,
          0.3402777777777778,
          0.3472222222222222,
          0.3402777777777778,
          0.3402777777777778,
          0.3402777777777778,
          0.3333333333333333,
          0.3333333333333333,
          0.3402777777777778,
          0.3472222222222222,
          0.3402777777777778,
          0.3402777777777778,
          0.3402777777777778,
          0.3333333333333333,
          0.3333333333333333,
          0.3333333333333333,
          0.3333333333333333,
          0.3402777777777778,
          0.3402777777777778,
          0.3402777777777778,
          0.3402777777777778,
          0.3333333333333333,
          0.3402777777777778,
          0.3402777777777778,
          0.3402777777777778,
          0.3402777777777778,
          0.3402777777777778,
          0.3333333333333333,
          0.3402777777777778,
          0.3333333333333333,
          0.3333333333333333,
          0.3333333333333333,
          0.3333333333333333,
          0.3333333333333333,
          0.3263888888888889,
          0.3263888888888889,
          0.3194444444444444,
          0.3263888888888889,
          0.3263888888888889,
          0.3333333333333333,
          0.3333333333333333,
          0.3263888888888889,
          0.3333333333333333,
          0.3263888888888889,
          0.3333333333333333,
          0.3333333333333333,
          0.3333333333333333,
          0.3333333333333333,
          0.3333333333333333,
          0.3333333333333333,
          0.3333333333333333,
          0.3333333333333333,
          0.3333333333333333,
          0.3333333333333333,
          0.3263888888888889,
          0.3263888888888889,
          0.3263888888888889,
          0.3263888888888889,
          0.3263888888888889
         ]
        }
       ],
       "layout": {
        "legend": {
         "title": {
          "text": "Dataset"
         }
        },
        "template": {
         "data": {
          "bar": [
           {
            "error_x": {
             "color": "rgb(36,36,36)"
            },
            "error_y": {
             "color": "rgb(36,36,36)"
            },
            "marker": {
             "line": {
              "color": "white",
              "width": 0.5
             },
             "pattern": {
              "fillmode": "overlay",
              "size": 10,
              "solidity": 0.2
             }
            },
            "type": "bar"
           }
          ],
          "barpolar": [
           {
            "marker": {
             "line": {
              "color": "white",
              "width": 0.5
             },
             "pattern": {
              "fillmode": "overlay",
              "size": 10,
              "solidity": 0.2
             }
            },
            "type": "barpolar"
           }
          ],
          "carpet": [
           {
            "aaxis": {
             "endlinecolor": "rgb(36,36,36)",
             "gridcolor": "white",
             "linecolor": "white",
             "minorgridcolor": "white",
             "startlinecolor": "rgb(36,36,36)"
            },
            "baxis": {
             "endlinecolor": "rgb(36,36,36)",
             "gridcolor": "white",
             "linecolor": "white",
             "minorgridcolor": "white",
             "startlinecolor": "rgb(36,36,36)"
            },
            "type": "carpet"
           }
          ],
          "choropleth": [
           {
            "colorbar": {
             "outlinewidth": 1,
             "tickcolor": "rgb(36,36,36)",
             "ticks": "outside"
            },
            "type": "choropleth"
           }
          ],
          "contour": [
           {
            "colorbar": {
             "outlinewidth": 1,
             "tickcolor": "rgb(36,36,36)",
             "ticks": "outside"
            },
            "colorscale": [
             [
              0,
              "#440154"
             ],
             [
              0.1111111111111111,
              "#482878"
             ],
             [
              0.2222222222222222,
              "#3e4989"
             ],
             [
              0.3333333333333333,
              "#31688e"
             ],
             [
              0.4444444444444444,
              "#26828e"
             ],
             [
              0.5555555555555556,
              "#1f9e89"
             ],
             [
              0.6666666666666666,
              "#35b779"
             ],
             [
              0.7777777777777778,
              "#6ece58"
             ],
             [
              0.8888888888888888,
              "#b5de2b"
             ],
             [
              1,
              "#fde725"
             ]
            ],
            "type": "contour"
           }
          ],
          "contourcarpet": [
           {
            "colorbar": {
             "outlinewidth": 1,
             "tickcolor": "rgb(36,36,36)",
             "ticks": "outside"
            },
            "type": "contourcarpet"
           }
          ],
          "heatmap": [
           {
            "colorbar": {
             "outlinewidth": 1,
             "tickcolor": "rgb(36,36,36)",
             "ticks": "outside"
            },
            "colorscale": [
             [
              0,
              "#440154"
             ],
             [
              0.1111111111111111,
              "#482878"
             ],
             [
              0.2222222222222222,
              "#3e4989"
             ],
             [
              0.3333333333333333,
              "#31688e"
             ],
             [
              0.4444444444444444,
              "#26828e"
             ],
             [
              0.5555555555555556,
              "#1f9e89"
             ],
             [
              0.6666666666666666,
              "#35b779"
             ],
             [
              0.7777777777777778,
              "#6ece58"
             ],
             [
              0.8888888888888888,
              "#b5de2b"
             ],
             [
              1,
              "#fde725"
             ]
            ],
            "type": "heatmap"
           }
          ],
          "heatmapgl": [
           {
            "colorbar": {
             "outlinewidth": 1,
             "tickcolor": "rgb(36,36,36)",
             "ticks": "outside"
            },
            "colorscale": [
             [
              0,
              "#440154"
             ],
             [
              0.1111111111111111,
              "#482878"
             ],
             [
              0.2222222222222222,
              "#3e4989"
             ],
             [
              0.3333333333333333,
              "#31688e"
             ],
             [
              0.4444444444444444,
              "#26828e"
             ],
             [
              0.5555555555555556,
              "#1f9e89"
             ],
             [
              0.6666666666666666,
              "#35b779"
             ],
             [
              0.7777777777777778,
              "#6ece58"
             ],
             [
              0.8888888888888888,
              "#b5de2b"
             ],
             [
              1,
              "#fde725"
             ]
            ],
            "type": "heatmapgl"
           }
          ],
          "histogram": [
           {
            "marker": {
             "line": {
              "color": "white",
              "width": 0.6
             }
            },
            "type": "histogram"
           }
          ],
          "histogram2d": [
           {
            "colorbar": {
             "outlinewidth": 1,
             "tickcolor": "rgb(36,36,36)",
             "ticks": "outside"
            },
            "colorscale": [
             [
              0,
              "#440154"
             ],
             [
              0.1111111111111111,
              "#482878"
             ],
             [
              0.2222222222222222,
              "#3e4989"
             ],
             [
              0.3333333333333333,
              "#31688e"
             ],
             [
              0.4444444444444444,
              "#26828e"
             ],
             [
              0.5555555555555556,
              "#1f9e89"
             ],
             [
              0.6666666666666666,
              "#35b779"
             ],
             [
              0.7777777777777778,
              "#6ece58"
             ],
             [
              0.8888888888888888,
              "#b5de2b"
             ],
             [
              1,
              "#fde725"
             ]
            ],
            "type": "histogram2d"
           }
          ],
          "histogram2dcontour": [
           {
            "colorbar": {
             "outlinewidth": 1,
             "tickcolor": "rgb(36,36,36)",
             "ticks": "outside"
            },
            "colorscale": [
             [
              0,
              "#440154"
             ],
             [
              0.1111111111111111,
              "#482878"
             ],
             [
              0.2222222222222222,
              "#3e4989"
             ],
             [
              0.3333333333333333,
              "#31688e"
             ],
             [
              0.4444444444444444,
              "#26828e"
             ],
             [
              0.5555555555555556,
              "#1f9e89"
             ],
             [
              0.6666666666666666,
              "#35b779"
             ],
             [
              0.7777777777777778,
              "#6ece58"
             ],
             [
              0.8888888888888888,
              "#b5de2b"
             ],
             [
              1,
              "#fde725"
             ]
            ],
            "type": "histogram2dcontour"
           }
          ],
          "mesh3d": [
           {
            "colorbar": {
             "outlinewidth": 1,
             "tickcolor": "rgb(36,36,36)",
             "ticks": "outside"
            },
            "type": "mesh3d"
           }
          ],
          "parcoords": [
           {
            "line": {
             "colorbar": {
              "outlinewidth": 1,
              "tickcolor": "rgb(36,36,36)",
              "ticks": "outside"
             }
            },
            "type": "parcoords"
           }
          ],
          "pie": [
           {
            "automargin": true,
            "type": "pie"
           }
          ],
          "scatter": [
           {
            "fillpattern": {
             "fillmode": "overlay",
             "size": 10,
             "solidity": 0.2
            },
            "type": "scatter"
           }
          ],
          "scatter3d": [
           {
            "line": {
             "colorbar": {
              "outlinewidth": 1,
              "tickcolor": "rgb(36,36,36)",
              "ticks": "outside"
             }
            },
            "marker": {
             "colorbar": {
              "outlinewidth": 1,
              "tickcolor": "rgb(36,36,36)",
              "ticks": "outside"
             }
            },
            "type": "scatter3d"
           }
          ],
          "scattercarpet": [
           {
            "marker": {
             "colorbar": {
              "outlinewidth": 1,
              "tickcolor": "rgb(36,36,36)",
              "ticks": "outside"
             }
            },
            "type": "scattercarpet"
           }
          ],
          "scattergeo": [
           {
            "marker": {
             "colorbar": {
              "outlinewidth": 1,
              "tickcolor": "rgb(36,36,36)",
              "ticks": "outside"
             }
            },
            "type": "scattergeo"
           }
          ],
          "scattergl": [
           {
            "marker": {
             "colorbar": {
              "outlinewidth": 1,
              "tickcolor": "rgb(36,36,36)",
              "ticks": "outside"
             }
            },
            "type": "scattergl"
           }
          ],
          "scattermapbox": [
           {
            "marker": {
             "colorbar": {
              "outlinewidth": 1,
              "tickcolor": "rgb(36,36,36)",
              "ticks": "outside"
             }
            },
            "type": "scattermapbox"
           }
          ],
          "scatterpolar": [
           {
            "marker": {
             "colorbar": {
              "outlinewidth": 1,
              "tickcolor": "rgb(36,36,36)",
              "ticks": "outside"
             }
            },
            "type": "scatterpolar"
           }
          ],
          "scatterpolargl": [
           {
            "marker": {
             "colorbar": {
              "outlinewidth": 1,
              "tickcolor": "rgb(36,36,36)",
              "ticks": "outside"
             }
            },
            "type": "scatterpolargl"
           }
          ],
          "scatterternary": [
           {
            "marker": {
             "colorbar": {
              "outlinewidth": 1,
              "tickcolor": "rgb(36,36,36)",
              "ticks": "outside"
             }
            },
            "type": "scatterternary"
           }
          ],
          "surface": [
           {
            "colorbar": {
             "outlinewidth": 1,
             "tickcolor": "rgb(36,36,36)",
             "ticks": "outside"
            },
            "colorscale": [
             [
              0,
              "#440154"
             ],
             [
              0.1111111111111111,
              "#482878"
             ],
             [
              0.2222222222222222,
              "#3e4989"
             ],
             [
              0.3333333333333333,
              "#31688e"
             ],
             [
              0.4444444444444444,
              "#26828e"
             ],
             [
              0.5555555555555556,
              "#1f9e89"
             ],
             [
              0.6666666666666666,
              "#35b779"
             ],
             [
              0.7777777777777778,
              "#6ece58"
             ],
             [
              0.8888888888888888,
              "#b5de2b"
             ],
             [
              1,
              "#fde725"
             ]
            ],
            "type": "surface"
           }
          ],
          "table": [
           {
            "cells": {
             "fill": {
              "color": "rgb(237,237,237)"
             },
             "line": {
              "color": "white"
             }
            },
            "header": {
             "fill": {
              "color": "rgb(217,217,217)"
             },
             "line": {
              "color": "white"
             }
            },
            "type": "table"
           }
          ]
         },
         "layout": {
          "annotationdefaults": {
           "arrowhead": 0,
           "arrowwidth": 1
          },
          "autotypenumbers": "strict",
          "coloraxis": {
           "colorbar": {
            "outlinewidth": 1,
            "tickcolor": "rgb(36,36,36)",
            "ticks": "outside"
           }
          },
          "colorscale": {
           "diverging": [
            [
             0,
             "rgb(103,0,31)"
            ],
            [
             0.1,
             "rgb(178,24,43)"
            ],
            [
             0.2,
             "rgb(214,96,77)"
            ],
            [
             0.3,
             "rgb(244,165,130)"
            ],
            [
             0.4,
             "rgb(253,219,199)"
            ],
            [
             0.5,
             "rgb(247,247,247)"
            ],
            [
             0.6,
             "rgb(209,229,240)"
            ],
            [
             0.7,
             "rgb(146,197,222)"
            ],
            [
             0.8,
             "rgb(67,147,195)"
            ],
            [
             0.9,
             "rgb(33,102,172)"
            ],
            [
             1,
             "rgb(5,48,97)"
            ]
           ],
           "sequential": [
            [
             0,
             "#440154"
            ],
            [
             0.1111111111111111,
             "#482878"
            ],
            [
             0.2222222222222222,
             "#3e4989"
            ],
            [
             0.3333333333333333,
             "#31688e"
            ],
            [
             0.4444444444444444,
             "#26828e"
            ],
            [
             0.5555555555555556,
             "#1f9e89"
            ],
            [
             0.6666666666666666,
             "#35b779"
            ],
            [
             0.7777777777777778,
             "#6ece58"
            ],
            [
             0.8888888888888888,
             "#b5de2b"
            ],
            [
             1,
             "#fde725"
            ]
           ],
           "sequentialminus": [
            [
             0,
             "#440154"
            ],
            [
             0.1111111111111111,
             "#482878"
            ],
            [
             0.2222222222222222,
             "#3e4989"
            ],
            [
             0.3333333333333333,
             "#31688e"
            ],
            [
             0.4444444444444444,
             "#26828e"
            ],
            [
             0.5555555555555556,
             "#1f9e89"
            ],
            [
             0.6666666666666666,
             "#35b779"
            ],
            [
             0.7777777777777778,
             "#6ece58"
            ],
            [
             0.8888888888888888,
             "#b5de2b"
            ],
            [
             1,
             "#fde725"
            ]
           ]
          },
          "colorway": [
           "#1F77B4",
           "#FF7F0E",
           "#2CA02C",
           "#D62728",
           "#9467BD",
           "#8C564B",
           "#E377C2",
           "#7F7F7F",
           "#BCBD22",
           "#17BECF"
          ],
          "font": {
           "color": "rgb(36,36,36)"
          },
          "geo": {
           "bgcolor": "white",
           "lakecolor": "white",
           "landcolor": "white",
           "showlakes": true,
           "showland": true,
           "subunitcolor": "white"
          },
          "hoverlabel": {
           "align": "left"
          },
          "hovermode": "closest",
          "mapbox": {
           "style": "light"
          },
          "paper_bgcolor": "white",
          "plot_bgcolor": "white",
          "polar": {
           "angularaxis": {
            "gridcolor": "rgb(232,232,232)",
            "linecolor": "rgb(36,36,36)",
            "showgrid": false,
            "showline": true,
            "ticks": "outside"
           },
           "bgcolor": "white",
           "radialaxis": {
            "gridcolor": "rgb(232,232,232)",
            "linecolor": "rgb(36,36,36)",
            "showgrid": false,
            "showline": true,
            "ticks": "outside"
           }
          },
          "scene": {
           "xaxis": {
            "backgroundcolor": "white",
            "gridcolor": "rgb(232,232,232)",
            "gridwidth": 2,
            "linecolor": "rgb(36,36,36)",
            "showbackground": true,
            "showgrid": false,
            "showline": true,
            "ticks": "outside",
            "zeroline": false,
            "zerolinecolor": "rgb(36,36,36)"
           },
           "yaxis": {
            "backgroundcolor": "white",
            "gridcolor": "rgb(232,232,232)",
            "gridwidth": 2,
            "linecolor": "rgb(36,36,36)",
            "showbackground": true,
            "showgrid": false,
            "showline": true,
            "ticks": "outside",
            "zeroline": false,
            "zerolinecolor": "rgb(36,36,36)"
           },
           "zaxis": {
            "backgroundcolor": "white",
            "gridcolor": "rgb(232,232,232)",
            "gridwidth": 2,
            "linecolor": "rgb(36,36,36)",
            "showbackground": true,
            "showgrid": false,
            "showline": true,
            "ticks": "outside",
            "zeroline": false,
            "zerolinecolor": "rgb(36,36,36)"
           }
          },
          "shapedefaults": {
           "fillcolor": "black",
           "line": {
            "width": 0
           },
           "opacity": 0.3
          },
          "ternary": {
           "aaxis": {
            "gridcolor": "rgb(232,232,232)",
            "linecolor": "rgb(36,36,36)",
            "showgrid": false,
            "showline": true,
            "ticks": "outside"
           },
           "baxis": {
            "gridcolor": "rgb(232,232,232)",
            "linecolor": "rgb(36,36,36)",
            "showgrid": false,
            "showline": true,
            "ticks": "outside"
           },
           "bgcolor": "white",
           "caxis": {
            "gridcolor": "rgb(232,232,232)",
            "linecolor": "rgb(36,36,36)",
            "showgrid": false,
            "showline": true,
            "ticks": "outside"
           }
          },
          "title": {
           "x": 0.05
          },
          "xaxis": {
           "automargin": true,
           "gridcolor": "rgb(232,232,232)",
           "linecolor": "rgb(36,36,36)",
           "showgrid": false,
           "showline": true,
           "ticks": "outside",
           "title": {
            "standoff": 15
           },
           "zeroline": false,
           "zerolinecolor": "rgb(36,36,36)"
          },
          "yaxis": {
           "automargin": true,
           "gridcolor": "rgb(232,232,232)",
           "linecolor": "rgb(36,36,36)",
           "showgrid": false,
           "showline": true,
           "ticks": "outside",
           "title": {
            "standoff": 15
           },
           "zeroline": false,
           "zerolinecolor": "rgb(36,36,36)"
          }
         }
        },
        "title": {
         "text": "XGBoost Classification Error Over Epochs"
        },
        "xaxis": {
         "title": {
          "text": "Epoch"
         }
        },
        "yaxis": {
         "title": {
          "text": "Classification Error"
         }
        }
       }
      }
     },
     "metadata": {},
     "output_type": "display_data"
    }
   ],
   "source": [
    "# Definir el modelo XGBoost\n",
    "xgb_model = XGBClassifier(learning_rate=0.3, max_depth=6, eval_metric=[\"error\", \"logloss\"])\n",
    "\n",
    "# Data preprocessing pipeline\n",
    "my_pipeline = Pipeline(steps=[('preprocessor', preprocessor)])\n",
    "\n",
    "# Transformar los datos\n",
    "X_train_trans = my_pipeline.fit_transform(X_train)\n",
    "X_test_trans = my_pipeline.transform(X_test)\n",
    "\n",
    "# Entrenar el modelo XGBoost usando eval_set para las métricas de entrenamiento y prueba\n",
    "eval_set = [(X_train_trans, y_train), (X_test_trans, y_test)]\n",
    "xgb_model.fit(\n",
    "    X_train_trans, y_train,\n",
    "    eval_set=eval_set,\n",
    "    verbose=False\n",
    ")\n",
    "\n",
    "# Visualizar el entrenamiento\n",
    "plot_training(xgb_model, X_test_trans, y_test)"
   ]
  },
  {
   "cell_type": "code",
   "execution_count": 72,
   "metadata": {},
   "outputs": [
    {
     "name": "stdout",
     "output_type": "stream",
     "text": [
      "Fitting 5 folds for each of 108 candidates, totalling 540 fits\n",
      "Matriz de confusión: \n",
      "\n",
      "[[20 44]\n",
      " [45 35]]\n",
      "\n",
      "Reporte de Clasificación: \n",
      "\n",
      "              precision    recall  f1-score   support\n",
      "\n",
      "           0       0.31      0.31      0.31        64\n",
      "           1       0.44      0.44      0.44        80\n",
      "\n",
      "    accuracy                           0.38       144\n",
      "   macro avg       0.38      0.38      0.38       144\n",
      "weighted avg       0.38      0.38      0.38       144\n",
      "\n",
      "Tiempo de entrenamiento: 1.26 segundos\n"
     ]
    }
   ],
   "source": [
    "from sklearn.model_selection import GridSearchCV\n",
    "from xgboost import XGBClassifier\n",
    "\n",
    "# Definir el modelo XGBoost\n",
    "xgb_model = XGBClassifier(use_label_encoder=False, eval_metric='logloss')\n",
    "\n",
    "# Definir el pipeline con el preprocesador y el modelo XGBoost\n",
    "pipe = Pipeline([\n",
    "    ('preprocessor', preprocessor),  # Preprocesador que creaste anteriormente\n",
    "    ('classifier', xgb_model)        # Modelo de clasificación XGBoost\n",
    "])\n",
    "\n",
    "# Definir el espacio de búsqueda para los hiperparámetros\n",
    "param_grid = {\n",
    "    'classifier__n_estimators': [100, 200, 300],  # Número de árboles\n",
    "    'classifier__learning_rate': [0.001, 0.01, 0.1],  # Tasa de aprendizaje\n",
    "    'classifier__max_depth': [3, 5, 10, 25, 50, None],  # Profundidad máxima del árbol\n",
    "    #'classifier__subsample': [0.8, 1.0],  # Subconjunto de muestras\n",
    "    #'classifier__colsample_bytree': [0.8, 1.0],  # Subconjunto de características\n",
    "}\n",
    "\n",
    "# Crear el objeto GridSearchCV\n",
    "grid_search = GridSearchCV(pipe, param_grid, cv=5, scoring='accuracy', n_jobs=-1, verbose=2)\n",
    "\n",
    "# Entrenar el GridSearchCV para encontrar los mejores hiperparámetros\n",
    "grid_search.fit(X_train, y_train)\n",
    "\n",
    "# Mostrar los mejores hiperparámetros encontrados\n",
    "print(\"Mejores hiperparámetros encontrados:\")\n",
    "print(grid_search.best_params_)\n",
    "\n",
    "# Evaluar el modelo con los mejores hiperparámetros en el conjunto de prueba\n",
    "train_and_evaluate(grid_search.best_estimator_, X_train, y_train, X_test, y_test, print_=True)\n"
   ]
  },
  {
   "cell_type": "code",
   "execution_count": 211,
   "metadata": {},
   "outputs": [
    {
     "name": "stdout",
     "output_type": "stream",
     "text": [
      "F1-Score por fold: [0.61161388 0.48231389 0.69604922 0.60784314 0.45723295]\n",
      "ROC-AUC por fold: [0.69268477 0.50791855 0.75547866 0.6082276  0.5763168 ]\n",
      "Exactitud por fold: [0.61165049 0.48543689 0.69607843 0.60784314 0.47058824]\n",
      "Promedio F1-Score: 0.571010615058577\n",
      "Promedio Exactitud: 0.5743194365124691\n"
     ]
    }
   ],
   "source": [
    "# Definir las métricas a calcular\n",
    "scoring = ['f1_macro', 'accuracy', 'roc_auc']\n",
    "\n",
    "# Validación cruzada con múltiples métricas\n",
    "cv_results = cross_validate(pipe, X_train, y_train, cv=5, scoring=scoring, return_train_score=True)\n",
    "\n",
    "# Mostrar resultados\n",
    "print(\"F1-Score por fold:\", cv_results['test_f1_macro'])\n",
    "print(\"ROC-AUC por fold:\", cv_results['test_roc_auc'])\n",
    "print(\"Exactitud por fold:\", cv_results['test_accuracy'])\n",
    "print(\"Promedio F1-Score:\", cv_results['test_f1_macro'].mean())\n",
    "print(\"Promedio Exactitud:\", cv_results['test_accuracy'].mean())"
   ]
  },
  {
   "cell_type": "code",
   "execution_count": 122,
   "metadata": {},
   "outputs": [],
   "source": [
    "import pandas as pd\n",
    "import matplotlib.pyplot as plt\n",
    "\n",
    "# Obtener los nombres reales de las características después del preprocesamiento\n",
    "feature_names = pipe.named_steps['preprocessor'].get_feature_names_out()\n",
    "\n",
    "def plot_importance(model, feature_names, importance_type='weight', top_n=None):\n",
    "    \"\"\"\n",
    "    Muestra las 'top_n' características más importantes del modelo con los nombres reales.\n",
    "    \n",
    "    Parameters:\n",
    "    - model: El modelo XGBoost entrenado.\n",
    "    - feature_names: Lista de nombres de las características después del preprocesamiento.\n",
    "    - importance_type: Tipo de importancia (por defecto es 'weight').\n",
    "    - top_n: Número de características que deseas mostrar. Si es None, se muestran todas.\n",
    "    \"\"\"\n",
    "    # Obtener las importancias de las características\n",
    "    importance_dict = model.get_booster().get_score(importance_type=importance_type)\n",
    "\n",
    "    # Convertir las importancias a un DataFrame para facilitar la visualización\n",
    "    importance_df = pd.DataFrame({\n",
    "        'Feature': importance_dict.keys(),\n",
    "        'Importance': importance_dict.values()\n",
    "    }).sort_values(by='Importance', ascending=False)\n",
    "\n",
    "    # Mapear las características codificadas a los nombres reales\n",
    "    importance_df['Feature'] = importance_df['Feature'].map(lambda x: feature_names[int(x[1:])] if x[1:].isdigit() else x)\n",
    "\n",
    "    # Seleccionar solo las 'top_n' características si se proporciona\n",
    "    if top_n:\n",
    "        importance_df = importance_df.head(top_n)\n",
    "\n",
    "    # Graficar las importancias\n",
    "    plt.figure(figsize=(10, 6))\n",
    "    plt.barh(importance_df['Feature'], importance_df['Importance'])\n",
    "    plt.xlabel('Importance')\n",
    "    plt.ylabel('Features')\n",
    "    plt.title(f'Top {top_n} Feature Importances' if top_n else 'Feature Importances')\n",
    "    plt.gca().invert_yaxis()  # Invertir el eje y para tener la característica más importante en la parte superior\n",
    "    plt.show()\n"
   ]
  },
  {
   "cell_type": "code",
   "execution_count": 125,
   "metadata": {},
   "outputs": [
    {
     "data": {
      "image/png": "[encoded data removed]",
      "text/plain": [
       "<Figure size 1000x600 with 1 Axes>"
      ]
     },
     "metadata": {},
     "output_type": "display_data"
    }
   ],
   "source": [
    "model = pipe.named_steps['classifier']\n",
    "plot_importance(model, feature_names, importance_type='weight', top_n = 20)"
   ]
  },
  {
   "cell_type": "code",
   "execution_count": 130,
   "metadata": {},
   "outputs": [
    {
     "data": {
      "text/html": [
       "<div>\n",
       "<style scoped>\n",
       "    .dataframe tbody tr th:only-of-type {\n",
       "        vertical-align: middle;\n",
       "    }\n",
       "\n",
       "    .dataframe tbody tr th {\n",
       "        vertical-align: top;\n",
       "    }\n",
       "\n",
       "    .dataframe thead th {\n",
       "        text-align: right;\n",
       "    }\n",
       "</style>\n",
       "<table border=\"1\" class=\"dataframe\">\n",
       "  <thead>\n",
       "    <tr style=\"text-align: right;\">\n",
       "      <th></th>\n",
       "      <th>Feature</th>\n",
       "      <th>Importance</th>\n",
       "    </tr>\n",
       "  </thead>\n",
       "  <tbody>\n",
       "    <tr>\n",
       "      <th>27</th>\n",
       "      <td>numerical__median_window_50_5</td>\n",
       "      <td>15.0</td>\n",
       "    </tr>\n",
       "    <tr>\n",
       "      <th>30</th>\n",
       "      <td>numerical__range_window_50_5</td>\n",
       "      <td>14.0</td>\n",
       "    </tr>\n",
       "    <tr>\n",
       "      <th>253</th>\n",
       "      <td>numerical__kurtosis_window_100_2</td>\n",
       "      <td>12.0</td>\n",
       "    </tr>\n",
       "    <tr>\n",
       "      <th>42</th>\n",
       "      <td>numerical__skewness_window_50_6</td>\n",
       "      <td>11.0</td>\n",
       "    </tr>\n",
       "    <tr>\n",
       "      <th>298</th>\n",
       "      <td>numerical__kurtosis_window_100_15</td>\n",
       "      <td>10.0</td>\n",
       "    </tr>\n",
       "    <tr>\n",
       "      <th>158</th>\n",
       "      <td>numerical__min_window_50_37</td>\n",
       "      <td>9.0</td>\n",
       "    </tr>\n",
       "    <tr>\n",
       "      <th>40</th>\n",
       "      <td>numerical__Q1_window_50_6</td>\n",
       "      <td>8.0</td>\n",
       "    </tr>\n",
       "    <tr>\n",
       "      <th>10</th>\n",
       "      <td>numerical__std_window_50_2</td>\n",
       "      <td>8.0</td>\n",
       "    </tr>\n",
       "    <tr>\n",
       "      <th>26</th>\n",
       "      <td>numerical__std_window_50_5</td>\n",
       "      <td>7.0</td>\n",
       "    </tr>\n",
       "    <tr>\n",
       "      <th>6</th>\n",
       "      <td>numerical__max_window_50_1</td>\n",
       "      <td>7.0</td>\n",
       "    </tr>\n",
       "  </tbody>\n",
       "</table>\n",
       "</div>"
      ],
      "text/plain": [
       "                               Feature  Importance\n",
       "27       numerical__median_window_50_5        15.0\n",
       "30        numerical__range_window_50_5        14.0\n",
       "253   numerical__kurtosis_window_100_2        12.0\n",
       "42     numerical__skewness_window_50_6        11.0\n",
       "298  numerical__kurtosis_window_100_15        10.0\n",
       "158        numerical__min_window_50_37         9.0\n",
       "40           numerical__Q1_window_50_6         8.0\n",
       "10          numerical__std_window_50_2         8.0\n",
       "26          numerical__std_window_50_5         7.0\n",
       "6           numerical__max_window_50_1         7.0"
      ]
     },
     "execution_count": 130,
     "metadata": {},
     "output_type": "execute_result"
    }
   ],
   "source": [
    "# Obtener las importancias de las características\n",
    "importance_dict = model.get_booster().get_score(importance_type='weight')\n",
    "\n",
    "# Convertir las importancias a un DataFrame para facilitar la visualización\n",
    "importance_df = pd.DataFrame({\n",
    "    'Feature': importance_dict.keys(),\n",
    "    'Importance': importance_dict.values()\n",
    "    }).sort_values(by='Importance', ascending=False)\n",
    "\n",
    "# Mapear las características codificadas a los nombres reales\n",
    "importance_df['Feature'] = importance_df['Feature'].map(lambda x: feature_names[int(x[1:])] if x[1:].isdigit() else x)\n",
    "\n",
    "importance_df.head(10)"
   ]
  },
  {
   "cell_type": "markdown",
   "metadata": {},
   "source": [
    "### Random Forest"
   ]
  },
  {
   "cell_type": "code",
   "execution_count": 212,
   "metadata": {},
   "outputs": [
    {
     "name": "stdout",
     "output_type": "stream",
     "text": [
      "Matriz de confusión: \n",
      "\n",
      "[[47 33]\n",
      " [30 34]]\n",
      "\n",
      "Reporte de Clasificación: \n",
      "\n",
      "              precision    recall  f1-score   support\n",
      "\n",
      "           0       0.61      0.59      0.60        80\n",
      "           1       0.51      0.53      0.52        64\n",
      "\n",
      "    accuracy                           0.56       144\n",
      "   macro avg       0.56      0.56      0.56       144\n",
      "weighted avg       0.56      0.56      0.56       144\n",
      "\n",
      "Tiempo de entrenamiento: 0.51 segundos\n"
     ]
    }
   ],
   "source": [
    "from sklearn.ensemble import RandomForestClassifier\n",
    "\n",
    "# Definir el modelo\n",
    "random_forest = RandomForestClassifier(random_state=27)\n",
    "\n",
    "# Definir el pipeline (puedes agregar más pasos si es necesario)\n",
    "pipe = Pipeline([\n",
    "    ('preprocessor', preprocessor),  # Preprocesador que creaste anteriormente\n",
    "    ('classifier', random_forest)    # Modelo de clasificación\n",
    "])\n",
    "\n",
    "# Entrenar y evaluar\n",
    "train_and_evaluate(pipe, X_train, y_train, X_test, y_test)"
   ]
  },
  {
   "cell_type": "code",
   "execution_count": 218,
   "metadata": {},
   "outputs": [
    {
     "name": "stdout",
     "output_type": "stream",
     "text": [
      "Fitting 5 folds for each of 162 candidates, totalling 810 fits\n",
      "Mejores hiperparámetros encontrados:\n",
      "{'classifier__bootstrap': True, 'classifier__max_depth': 10, 'classifier__min_samples_leaf': 4, 'classifier__min_samples_split': 2, 'classifier__n_estimators': 100}\n",
      "Matriz de confusión: \n",
      "\n",
      "[[17 47]\n",
      " [52 28]]\n",
      "\n",
      "Reporte de Clasificación: \n",
      "\n",
      "              precision    recall  f1-score   support\n",
      "\n",
      "           0       0.25      0.27      0.26        64\n",
      "           1       0.37      0.35      0.36        80\n",
      "\n",
      "    accuracy                           0.31       144\n",
      "   macro avg       0.31      0.31      0.31       144\n",
      "weighted avg       0.32      0.31      0.31       144\n",
      "\n",
      "Tiempo de entrenamiento: 0.43 segundos\n"
     ]
    }
   ],
   "source": [
    "from sklearn.model_selection import GridSearchCV\n",
    "from sklearn.ensemble import RandomForestClassifier\n",
    "\n",
    "# Definir el modelo RandomForestClassifier\n",
    "rf_model = RandomForestClassifier(random_state=42)\n",
    "\n",
    "# Definir el pipeline\n",
    "pipe = Pipeline([\n",
    "    ('preprocessor', preprocessor),  # Preprocesador\n",
    "    ('classifier', rf_model)         # Modelo RandomForest\n",
    "])\n",
    "\n",
    "# Definir el espacio de búsqueda de hiperparámetros\n",
    "param_grid = {\n",
    "    'classifier__n_estimators': [100, 200, 300],  # Número de árboles\n",
    "    'classifier__max_depth': [10, 20, 30],        # Profundidad máxima del árbol\n",
    "    'classifier__min_samples_split': [2, 5, 10],  # Mínimas muestras para dividir un nodo\n",
    "    'classifier__min_samples_leaf': [1, 2, 4],    # Mínimas muestras en una hoja\n",
    "    'classifier__bootstrap': [True, False]        # Método de muestreo\n",
    "}\n",
    "\n",
    "# Crear el objeto GridSearchCV\n",
    "grid_search = GridSearchCV(pipe, param_grid, cv=5, scoring='accuracy', n_jobs=-1, verbose=2)\n",
    "\n",
    "# Entrenar el GridSearchCV para encontrar los mejores hiperparámetros\n",
    "grid_search.fit(X_train, y_train)\n",
    "\n",
    "# Mostrar los mejores hiperparámetros encontrados\n",
    "print(\"Mejores hiperparámetros encontrados:\")\n",
    "print(grid_search.best_params_)\n",
    "\n",
    "# Evaluar el modelo con los mejores hiperparámetros en el conjunto de prueba\n",
    "train_and_evaluate(grid_search.best_estimator_, X_train, y_train, X_test, y_test, print_=True)"
   ]
  },
  {
   "cell_type": "code",
   "execution_count": 179,
   "metadata": {},
   "outputs": [
    {
     "name": "stdout",
     "output_type": "stream",
     "text": [
      "F1-Score por fold: [0.66736322 0.5238829  0.64487427 0.50676983 0.49404762]\n",
      "ROC-AUC por fold: [0.72963801 0.50131976 0.76009227 0.54459823 0.58304498]\n",
      "Exactitud por fold: [0.66990291 0.53398058 0.64705882 0.50980392 0.50980392]\n",
      "Promedio F1-Score: 0.5673875676553283\n",
      "Promedio Exactitud: 0.5741100323624595\n"
     ]
    }
   ],
   "source": [
    "# Definir las métricas a calcular\n",
    "scoring = ['f1_macro', 'accuracy', 'roc_auc']\n",
    "\n",
    "# Validación cruzada con múltiples métricas\n",
    "cv_results = cross_validate(pipe, X_train, y_train, cv=5, scoring=scoring, return_train_score=True)\n",
    "\n",
    "# Mostrar resultados\n",
    "print(\"F1-Score por fold:\", cv_results['test_f1_macro'])\n",
    "print(\"ROC-AUC por fold:\", cv_results['test_roc_auc'])\n",
    "print(\"Exactitud por fold:\", cv_results['test_accuracy'])\n",
    "print(\"Promedio F1-Score:\", cv_results['test_f1_macro'].mean())\n",
    "print(\"Promedio Exactitud:\", cv_results['test_accuracy'].mean())"
   ]
  },
  {
   "cell_type": "markdown",
   "metadata": {},
   "source": [
    "### SVM"
   ]
  },
  {
   "cell_type": "code",
   "execution_count": 213,
   "metadata": {},
   "outputs": [
    {
     "name": "stdout",
     "output_type": "stream",
     "text": [
      "Matriz de confusión: \n",
      "\n",
      "[[48 32]\n",
      " [31 33]]\n",
      "\n",
      "Reporte de Clasificación: \n",
      "\n",
      "              precision    recall  f1-score   support\n",
      "\n",
      "           0       0.61      0.60      0.60        80\n",
      "           1       0.51      0.52      0.51        64\n",
      "\n",
      "    accuracy                           0.56       144\n",
      "   macro avg       0.56      0.56      0.56       144\n",
      "weighted avg       0.56      0.56      0.56       144\n",
      "\n",
      "Tiempo de entrenamiento: 0.12 segundos\n"
     ]
    }
   ],
   "source": [
    "from sklearn.svm import SVC\n",
    "from sklearn.model_selection import GridSearchCV\n",
    "from sklearn.pipeline import Pipeline\n",
    "\n",
    "# Definir el modelo\n",
    "svm_model = SVC(probability=True, random_state=42)\n",
    "\n",
    "pipe = Pipeline([\n",
    "    ('preprocessor', preprocessor),  # Preprocesador\n",
    "    ('classifier', svm_model)        # Modelo SVM\n",
    "])\n",
    "\n",
    "# Entrenar y evaluar\n",
    "train_and_evaluate(pipe, X_train, y_train, X_test, y_test)"
   ]
  },
  {
   "cell_type": "code",
   "execution_count": 181,
   "metadata": {},
   "outputs": [
    {
     "name": "stdout",
     "output_type": "stream",
     "text": [
      "F1-Score por fold: [0.73697153 0.50014273 0.6619883  0.43137255 0.3980464 ]\n",
      "ROC-AUC por fold: [0.79487179 0.50452489 0.73010381 0.43675509 0.544406  ]\n",
      "Exactitud por fold: [0.73786408 0.50485437 0.66666667 0.43137255 0.43137255]\n",
      "Promedio F1-Score: 0.5457043034434368\n",
      "Promedio Exactitud: 0.5544260422615649\n"
     ]
    }
   ],
   "source": [
    "# Definir las métricas a calcular\n",
    "scoring = ['f1_macro', 'accuracy', 'roc_auc']\n",
    "\n",
    "# Validación cruzada con múltiples métricas\n",
    "cv_results = cross_validate(pipe, X_train, y_train, cv=5, scoring=scoring, return_train_score=True)\n",
    "\n",
    "# Mostrar resultados\n",
    "print(\"F1-Score por fold:\", cv_results['test_f1_macro'])\n",
    "print(\"ROC-AUC por fold:\", cv_results['test_roc_auc'])\n",
    "print(\"Exactitud por fold:\", cv_results['test_accuracy'])\n",
    "print(\"Promedio F1-Score:\", cv_results['test_f1_macro'].mean())\n",
    "print(\"Promedio Exactitud:\", cv_results['test_accuracy'].mean())"
   ]
  },
  {
   "cell_type": "code",
   "execution_count": 89,
   "metadata": {},
   "outputs": [
    {
     "name": "stdout",
     "output_type": "stream",
     "text": [
      "Fitting 5 folds for each of 48 candidates, totalling 240 fits\n",
      "Mejores hiperparámetros encontrados:\n",
      "{'classifier__C': 1, 'classifier__degree': 2, 'classifier__gamma': 'scale', 'classifier__kernel': 'rbf'}\n",
      "Matriz de confusión: \n",
      "\n",
      "[[27 37]\n",
      " [54 26]]\n",
      "\n",
      "Reporte de Clasificación: \n",
      "\n",
      "              precision    recall  f1-score   support\n",
      "\n",
      "           0       0.33      0.42      0.37        64\n",
      "           1       0.41      0.33      0.36        80\n",
      "\n",
      "    accuracy                           0.37       144\n",
      "   macro avg       0.37      0.37      0.37       144\n",
      "weighted avg       0.38      0.37      0.37       144\n",
      "\n",
      "Tiempo de entrenamiento: 0.23 segundos\n"
     ]
    }
   ],
   "source": [
    "from sklearn.svm import SVC\n",
    "from sklearn.model_selection import GridSearchCV\n",
    "from sklearn.pipeline import Pipeline\n",
    "\n",
    "# Definir el modelo SVC\n",
    "svm_model = SVC(probability=True, random_state=42)\n",
    "\n",
    "# Definir el pipeline\n",
    "pipe = Pipeline([\n",
    "    ('preprocessor', preprocessor),  # Preprocesador\n",
    "    ('classifier', svm_model)        # Modelo SVM\n",
    "])\n",
    "\n",
    "# Definir el espacio de búsqueda de hiperparámetros\n",
    "param_grid = {\n",
    "    'classifier__C': [0.1, 1, 10, 100],          # Parámetro de regularización\n",
    "    'classifier__kernel': ['linear', 'rbf'],     # Tipo de kernel\n",
    "    'classifier__gamma': ['scale', 'auto'],      # Parámetro del kernel RBF\n",
    "    'classifier__degree': [2, 3, 4]              # Solo si se usa kernel polinómico\n",
    "}\n",
    "\n",
    "# Crear el objeto GridSearchCV\n",
    "grid_search = GridSearchCV(pipe, param_grid, cv=5, scoring='accuracy', n_jobs=-1, verbose=2)\n",
    "\n",
    "# Entrenar el GridSearchCV para encontrar los mejores hiperparámetros\n",
    "grid_search.fit(X_train, y_train)\n",
    "\n",
    "# Mostrar los mejores hiperparámetros encontrados\n",
    "print(\"Mejores hiperparámetros encontrados:\")\n",
    "print(grid_search.best_params_)\n",
    "\n",
    "# Evaluar el modelo con los mejores hiperparámetros en el conjunto de prueba\n",
    "train_and_evaluate(grid_search.best_estimator_, X_train, y_train, X_test, y_test, print_=True)"
   ]
  }
 ],
 "metadata": {
  "kernelspec": {
   "display_name": "prepros",
   "language": "python",
   "name": "python3"
  },
  "language_info": {
   "codemirror_mode": {
    "name": "ipython",
    "version": 3
   },
   "file_extension": ".py",
   "mimetype": "text/x-python",
   "name": "python",
   "nbconvert_exporter": "python",
   "pygments_lexer": "ipython3",
   "version": "3.9.19"
  }
 },
 "nbformat": 4,
 "nbformat_minor": 2
}
