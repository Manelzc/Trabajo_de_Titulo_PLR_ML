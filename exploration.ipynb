{
 "cells": [
  {
   "cell_type": "code",
   "execution_count": 1,
   "metadata": {},
   "outputs": [],
   "source": [
    "import numpy as np\n",
    "import pandas as pd\n",
    "from scipy import stats\n",
    "from scipy.stats import norm\n",
    "from tqdm import tqdm "
   ]
  },
  {
   "cell_type": "markdown",
   "metadata": {},
   "source": [
    "## Pre"
   ]
  },
  {
   "cell_type": "code",
   "execution_count": 382,
   "metadata": {},
   "outputs": [
    {
     "data": {
      "text/html": [
       "<div>\n",
       "<style scoped>\n",
       "    .dataframe tbody tr th:only-of-type {\n",
       "        vertical-align: middle;\n",
       "    }\n",
       "\n",
       "    .dataframe tbody tr th {\n",
       "        vertical-align: top;\n",
       "    }\n",
       "\n",
       "    .dataframe thead th {\n",
       "        text-align: right;\n",
       "    }\n",
       "</style>\n",
       "<table border=\"1\" class=\"dataframe\">\n",
       "  <thead>\n",
       "    <tr style=\"text-align: right;\">\n",
       "      <th></th>\n",
       "      <th>id</th>\n",
       "      <th>eye</th>\n",
       "      <th>stimuli</th>\n",
       "      <th>color</th>\n",
       "      <th>glaucoma</th>\n",
       "      <th>mean_window_50_0</th>\n",
       "      <th>std_window_50_0</th>\n",
       "      <th>median_window_50_0</th>\n",
       "      <th>max_window_50_0</th>\n",
       "      <th>min_window_50_0</th>\n",
       "      <th>...</th>\n",
       "      <th>std_window_100_26</th>\n",
       "      <th>median_window_100_26</th>\n",
       "      <th>max_window_100_26</th>\n",
       "      <th>min_window_100_26</th>\n",
       "      <th>range_window_100_26</th>\n",
       "      <th>IQR_window_100_26</th>\n",
       "      <th>Q1_window_100_26</th>\n",
       "      <th>Q3_window_100_26</th>\n",
       "      <th>kurtosis_window_100_26</th>\n",
       "      <th>skewness_window_100_26</th>\n",
       "    </tr>\n",
       "  </thead>\n",
       "  <tbody>\n",
       "    <tr>\n",
       "      <th>0</th>\n",
       "      <td>C001</td>\n",
       "      <td>left</td>\n",
       "      <td>ramp</td>\n",
       "      <td>white</td>\n",
       "      <td>no</td>\n",
       "      <td>31.394663</td>\n",
       "      <td>7.330628</td>\n",
       "      <td>31.112307</td>\n",
       "      <td>46.795632</td>\n",
       "      <td>12.854402</td>\n",
       "      <td>...</td>\n",
       "      <td>6.222775</td>\n",
       "      <td>47.949744</td>\n",
       "      <td>54.710644</td>\n",
       "      <td>35.675227</td>\n",
       "      <td>19.035417</td>\n",
       "      <td>11.369135</td>\n",
       "      <td>42.452454</td>\n",
       "      <td>53.821590</td>\n",
       "      <td>-0.995919</td>\n",
       "      <td>-0.496738</td>\n",
       "    </tr>\n",
       "    <tr>\n",
       "      <th>1</th>\n",
       "      <td>C001</td>\n",
       "      <td>left</td>\n",
       "      <td>ramp</td>\n",
       "      <td>blue</td>\n",
       "      <td>no</td>\n",
       "      <td>55.216501</td>\n",
       "      <td>1.531317</td>\n",
       "      <td>55.227985</td>\n",
       "      <td>57.452084</td>\n",
       "      <td>52.862637</td>\n",
       "      <td>...</td>\n",
       "      <td>6.252377</td>\n",
       "      <td>51.219999</td>\n",
       "      <td>54.903867</td>\n",
       "      <td>31.493067</td>\n",
       "      <td>23.410801</td>\n",
       "      <td>3.709111</td>\n",
       "      <td>50.004771</td>\n",
       "      <td>53.713883</td>\n",
       "      <td>1.506247</td>\n",
       "      <td>-1.639840</td>\n",
       "    </tr>\n",
       "    <tr>\n",
       "      <th>2</th>\n",
       "      <td>C001</td>\n",
       "      <td>left</td>\n",
       "      <td>ramp</td>\n",
       "      <td>green</td>\n",
       "      <td>no</td>\n",
       "      <td>54.413234</td>\n",
       "      <td>1.266537</td>\n",
       "      <td>54.605837</td>\n",
       "      <td>55.752185</td>\n",
       "      <td>50.294484</td>\n",
       "      <td>...</td>\n",
       "      <td>3.456245</td>\n",
       "      <td>51.194921</td>\n",
       "      <td>57.635150</td>\n",
       "      <td>44.984027</td>\n",
       "      <td>12.651123</td>\n",
       "      <td>5.930505</td>\n",
       "      <td>49.193261</td>\n",
       "      <td>55.123766</td>\n",
       "      <td>-1.149759</td>\n",
       "      <td>0.138510</td>\n",
       "    </tr>\n",
       "    <tr>\n",
       "      <th>3</th>\n",
       "      <td>C001</td>\n",
       "      <td>left</td>\n",
       "      <td>flash</td>\n",
       "      <td>white</td>\n",
       "      <td>no</td>\n",
       "      <td>51.143455</td>\n",
       "      <td>4.231166</td>\n",
       "      <td>49.687418</td>\n",
       "      <td>57.076212</td>\n",
       "      <td>46.305057</td>\n",
       "      <td>...</td>\n",
       "      <td>7.920004</td>\n",
       "      <td>46.859924</td>\n",
       "      <td>58.301876</td>\n",
       "      <td>33.211007</td>\n",
       "      <td>25.090869</td>\n",
       "      <td>12.164597</td>\n",
       "      <td>39.358046</td>\n",
       "      <td>51.522643</td>\n",
       "      <td>-1.175331</td>\n",
       "      <td>-0.101796</td>\n",
       "    </tr>\n",
       "    <tr>\n",
       "      <th>4</th>\n",
       "      <td>C001</td>\n",
       "      <td>left</td>\n",
       "      <td>flash</td>\n",
       "      <td>blue</td>\n",
       "      <td>no</td>\n",
       "      <td>48.961582</td>\n",
       "      <td>3.666817</td>\n",
       "      <td>49.575101</td>\n",
       "      <td>57.306089</td>\n",
       "      <td>43.411308</td>\n",
       "      <td>...</td>\n",
       "      <td>2.960709</td>\n",
       "      <td>51.783334</td>\n",
       "      <td>56.676868</td>\n",
       "      <td>46.228285</td>\n",
       "      <td>10.448583</td>\n",
       "      <td>4.500076</td>\n",
       "      <td>49.678934</td>\n",
       "      <td>54.179010</td>\n",
       "      <td>-0.916635</td>\n",
       "      <td>-0.146403</td>\n",
       "    </tr>\n",
       "    <tr>\n",
       "      <th>...</th>\n",
       "      <td>...</td>\n",
       "      <td>...</td>\n",
       "      <td>...</td>\n",
       "      <td>...</td>\n",
       "      <td>...</td>\n",
       "      <td>...</td>\n",
       "      <td>...</td>\n",
       "      <td>...</td>\n",
       "      <td>...</td>\n",
       "      <td>...</td>\n",
       "      <td>...</td>\n",
       "      <td>...</td>\n",
       "      <td>...</td>\n",
       "      <td>...</td>\n",
       "      <td>...</td>\n",
       "      <td>...</td>\n",
       "      <td>...</td>\n",
       "      <td>...</td>\n",
       "      <td>...</td>\n",
       "      <td>...</td>\n",
       "      <td>...</td>\n",
       "    </tr>\n",
       "    <tr>\n",
       "      <th>651</th>\n",
       "      <td>S020</td>\n",
       "      <td>right</td>\n",
       "      <td>flash</td>\n",
       "      <td>red</td>\n",
       "      <td>yes</td>\n",
       "      <td>47.464457</td>\n",
       "      <td>3.452431</td>\n",
       "      <td>48.845450</td>\n",
       "      <td>50.461556</td>\n",
       "      <td>37.985519</td>\n",
       "      <td>...</td>\n",
       "      <td>1.687447</td>\n",
       "      <td>49.779558</td>\n",
       "      <td>52.042778</td>\n",
       "      <td>46.972036</td>\n",
       "      <td>5.070742</td>\n",
       "      <td>3.392010</td>\n",
       "      <td>47.812960</td>\n",
       "      <td>51.204970</td>\n",
       "      <td>-1.494160</td>\n",
       "      <td>-0.124203</td>\n",
       "    </tr>\n",
       "    <tr>\n",
       "      <th>652</th>\n",
       "      <td>S020</td>\n",
       "      <td>right</td>\n",
       "      <td>ramp</td>\n",
       "      <td>red</td>\n",
       "      <td>yes</td>\n",
       "      <td>51.431310</td>\n",
       "      <td>0.636079</td>\n",
       "      <td>51.321317</td>\n",
       "      <td>53.695629</td>\n",
       "      <td>50.573754</td>\n",
       "      <td>...</td>\n",
       "      <td>1.714193</td>\n",
       "      <td>47.041743</td>\n",
       "      <td>50.761845</td>\n",
       "      <td>44.709128</td>\n",
       "      <td>6.052716</td>\n",
       "      <td>1.765820</td>\n",
       "      <td>45.939511</td>\n",
       "      <td>47.705331</td>\n",
       "      <td>-0.451365</td>\n",
       "      <td>0.578875</td>\n",
       "    </tr>\n",
       "    <tr>\n",
       "      <th>653</th>\n",
       "      <td>S020</td>\n",
       "      <td>right</td>\n",
       "      <td>flash</td>\n",
       "      <td>white</td>\n",
       "      <td>yes</td>\n",
       "      <td>50.382672</td>\n",
       "      <td>4.638326</td>\n",
       "      <td>51.780745</td>\n",
       "      <td>54.885753</td>\n",
       "      <td>38.495936</td>\n",
       "      <td>...</td>\n",
       "      <td>5.531275</td>\n",
       "      <td>50.364064</td>\n",
       "      <td>53.138309</td>\n",
       "      <td>34.932981</td>\n",
       "      <td>18.205328</td>\n",
       "      <td>5.712659</td>\n",
       "      <td>46.363168</td>\n",
       "      <td>52.075828</td>\n",
       "      <td>0.299607</td>\n",
       "      <td>-1.229694</td>\n",
       "    </tr>\n",
       "    <tr>\n",
       "      <th>654</th>\n",
       "      <td>S020</td>\n",
       "      <td>right</td>\n",
       "      <td>ramp</td>\n",
       "      <td>green</td>\n",
       "      <td>yes</td>\n",
       "      <td>30.495772</td>\n",
       "      <td>5.551310</td>\n",
       "      <td>31.181252</td>\n",
       "      <td>38.517663</td>\n",
       "      <td>13.563076</td>\n",
       "      <td>...</td>\n",
       "      <td>7.365816</td>\n",
       "      <td>49.290258</td>\n",
       "      <td>53.349617</td>\n",
       "      <td>29.833073</td>\n",
       "      <td>23.516543</td>\n",
       "      <td>9.242224</td>\n",
       "      <td>42.212531</td>\n",
       "      <td>51.454755</td>\n",
       "      <td>-0.221007</td>\n",
       "      <td>-1.112313</td>\n",
       "    </tr>\n",
       "    <tr>\n",
       "      <th>655</th>\n",
       "      <td>S020</td>\n",
       "      <td>right</td>\n",
       "      <td>flash</td>\n",
       "      <td>blue</td>\n",
       "      <td>yes</td>\n",
       "      <td>49.255201</td>\n",
       "      <td>3.171159</td>\n",
       "      <td>48.594387</td>\n",
       "      <td>54.098089</td>\n",
       "      <td>44.505955</td>\n",
       "      <td>...</td>\n",
       "      <td>6.029474</td>\n",
       "      <td>44.755037</td>\n",
       "      <td>52.321436</td>\n",
       "      <td>30.968425</td>\n",
       "      <td>21.353011</td>\n",
       "      <td>7.218863</td>\n",
       "      <td>41.324214</td>\n",
       "      <td>48.543077</td>\n",
       "      <td>-0.435728</td>\n",
       "      <td>-0.686400</td>\n",
       "    </tr>\n",
       "  </tbody>\n",
       "</table>\n",
       "<p>656 rows × 907 columns</p>\n",
       "</div>"
      ],
      "text/plain": [
       "       id    eye stimuli  color glaucoma  mean_window_50_0  std_window_50_0  \\\n",
       "0    C001   left    ramp  white       no         31.394663         7.330628   \n",
       "1    C001   left    ramp   blue       no         55.216501         1.531317   \n",
       "2    C001   left    ramp  green       no         54.413234         1.266537   \n",
       "3    C001   left   flash  white       no         51.143455         4.231166   \n",
       "4    C001   left   flash   blue       no         48.961582         3.666817   \n",
       "..    ...    ...     ...    ...      ...               ...              ...   \n",
       "651  S020  right   flash    red      yes         47.464457         3.452431   \n",
       "652  S020  right    ramp    red      yes         51.431310         0.636079   \n",
       "653  S020  right   flash  white      yes         50.382672         4.638326   \n",
       "654  S020  right    ramp  green      yes         30.495772         5.551310   \n",
       "655  S020  right   flash   blue      yes         49.255201         3.171159   \n",
       "\n",
       "     median_window_50_0  max_window_50_0  min_window_50_0  ...  \\\n",
       "0             31.112307        46.795632        12.854402  ...   \n",
       "1             55.227985        57.452084        52.862637  ...   \n",
       "2             54.605837        55.752185        50.294484  ...   \n",
       "3             49.687418        57.076212        46.305057  ...   \n",
       "4             49.575101        57.306089        43.411308  ...   \n",
       "..                  ...              ...              ...  ...   \n",
       "651           48.845450        50.461556        37.985519  ...   \n",
       "652           51.321317        53.695629        50.573754  ...   \n",
       "653           51.780745        54.885753        38.495936  ...   \n",
       "654           31.181252        38.517663        13.563076  ...   \n",
       "655           48.594387        54.098089        44.505955  ...   \n",
       "\n",
       "     std_window_100_26  median_window_100_26  max_window_100_26  \\\n",
       "0             6.222775             47.949744          54.710644   \n",
       "1             6.252377             51.219999          54.903867   \n",
       "2             3.456245             51.194921          57.635150   \n",
       "3             7.920004             46.859924          58.301876   \n",
       "4             2.960709             51.783334          56.676868   \n",
       "..                 ...                   ...                ...   \n",
       "651           1.687447             49.779558          52.042778   \n",
       "652           1.714193             47.041743          50.761845   \n",
       "653           5.531275             50.364064          53.138309   \n",
       "654           7.365816             49.290258          53.349617   \n",
       "655           6.029474             44.755037          52.321436   \n",
       "\n",
       "     min_window_100_26  range_window_100_26  IQR_window_100_26  \\\n",
       "0            35.675227            19.035417          11.369135   \n",
       "1            31.493067            23.410801           3.709111   \n",
       "2            44.984027            12.651123           5.930505   \n",
       "3            33.211007            25.090869          12.164597   \n",
       "4            46.228285            10.448583           4.500076   \n",
       "..                 ...                  ...                ...   \n",
       "651          46.972036             5.070742           3.392010   \n",
       "652          44.709128             6.052716           1.765820   \n",
       "653          34.932981            18.205328           5.712659   \n",
       "654          29.833073            23.516543           9.242224   \n",
       "655          30.968425            21.353011           7.218863   \n",
       "\n",
       "     Q1_window_100_26  Q3_window_100_26  kurtosis_window_100_26  \\\n",
       "0           42.452454         53.821590               -0.995919   \n",
       "1           50.004771         53.713883                1.506247   \n",
       "2           49.193261         55.123766               -1.149759   \n",
       "3           39.358046         51.522643               -1.175331   \n",
       "4           49.678934         54.179010               -0.916635   \n",
       "..                ...               ...                     ...   \n",
       "651         47.812960         51.204970               -1.494160   \n",
       "652         45.939511         47.705331               -0.451365   \n",
       "653         46.363168         52.075828                0.299607   \n",
       "654         42.212531         51.454755               -0.221007   \n",
       "655         41.324214         48.543077               -0.435728   \n",
       "\n",
       "     skewness_window_100_26  \n",
       "0                 -0.496738  \n",
       "1                 -1.639840  \n",
       "2                  0.138510  \n",
       "3                 -0.101796  \n",
       "4                 -0.146403  \n",
       "..                      ...  \n",
       "651               -0.124203  \n",
       "652                0.578875  \n",
       "653               -1.229694  \n",
       "654               -1.112313  \n",
       "655               -0.686400  \n",
       "\n",
       "[656 rows x 907 columns]"
      ]
     },
     "execution_count": 382,
     "metadata": {},
     "output_type": "execute_result"
    }
   ],
   "source": [
    "df = pd.read_csv(\"features_50_100_filt.csv\")\n",
    "df "
   ]
  },
  {
   "cell_type": "code",
   "execution_count": 102,
   "metadata": {},
   "outputs": [
    {
     "data": {
      "text/plain": [
       "id                         object\n",
       "eye                        object\n",
       "stimuli                    object\n",
       "color                      object\n",
       "glaucoma                   object\n",
       "                           ...   \n",
       "IQR_window_100_26         float64\n",
       "Q1_window_100_26          float64\n",
       "Q3_window_100_26          float64\n",
       "kurtosis_window_100_26    float64\n",
       "skewness_window_100_26    float64\n",
       "Length: 907, dtype: object"
      ]
     },
     "execution_count": 102,
     "metadata": {},
     "output_type": "execute_result"
    }
   ],
   "source": [
    "df.dtypes"
   ]
  },
  {
   "cell_type": "code",
   "execution_count": 103,
   "metadata": {},
   "outputs": [
    {
     "name": "stdout",
     "output_type": "stream",
     "text": [
      "['id', 'eye', 'stimuli', 'color', 'glaucoma', 'mean_window_50_0', 'std_window_50_0', 'median_window_50_0', 'max_window_50_0', 'min_window_50_0', 'range_window_50_0', 'IQR_window_50_0', 'Q1_window_50_0', 'Q3_window_50_0', 'kurtosis_window_50_0', 'skewness_window_50_0', 'mean_window_50_1', 'std_window_50_1', 'median_window_50_1', 'max_window_50_1', 'min_window_50_1', 'range_window_50_1', 'IQR_window_50_1', 'Q1_window_50_1', 'Q3_window_50_1', 'kurtosis_window_50_1', 'skewness_window_50_1', 'mean_window_50_2', 'std_window_50_2', 'median_window_50_2', 'max_window_50_2', 'min_window_50_2', 'range_window_50_2', 'IQR_window_50_2', 'Q1_window_50_2', 'Q3_window_50_2', 'kurtosis_window_50_2', 'skewness_window_50_2', 'mean_window_50_3', 'std_window_50_3', 'median_window_50_3', 'max_window_50_3', 'min_window_50_3', 'range_window_50_3', 'IQR_window_50_3', 'Q1_window_50_3', 'Q3_window_50_3', 'kurtosis_window_50_3', 'skewness_window_50_3', 'mean_window_50_4', 'std_window_50_4', 'median_window_50_4', 'max_window_50_4', 'min_window_50_4', 'range_window_50_4', 'IQR_window_50_4', 'Q1_window_50_4', 'Q3_window_50_4', 'kurtosis_window_50_4', 'skewness_window_50_4', 'mean_window_50_5', 'std_window_50_5', 'median_window_50_5', 'max_window_50_5', 'min_window_50_5', 'range_window_50_5', 'IQR_window_50_5', 'Q1_window_50_5', 'Q3_window_50_5', 'kurtosis_window_50_5', 'skewness_window_50_5', 'mean_window_50_6', 'std_window_50_6', 'median_window_50_6', 'max_window_50_6', 'min_window_50_6', 'range_window_50_6', 'IQR_window_50_6', 'Q1_window_50_6', 'Q3_window_50_6', 'kurtosis_window_50_6', 'skewness_window_50_6', 'mean_window_50_7', 'std_window_50_7', 'median_window_50_7', 'max_window_50_7', 'min_window_50_7', 'range_window_50_7', 'IQR_window_50_7', 'Q1_window_50_7', 'Q3_window_50_7', 'kurtosis_window_50_7', 'skewness_window_50_7', 'mean_window_50_8', 'std_window_50_8', 'median_window_50_8', 'max_window_50_8', 'min_window_50_8', 'range_window_50_8', 'IQR_window_50_8', 'Q1_window_50_8', 'Q3_window_50_8', 'kurtosis_window_50_8', 'skewness_window_50_8', 'mean_window_50_9', 'std_window_50_9', 'median_window_50_9', 'max_window_50_9', 'min_window_50_9', 'range_window_50_9', 'IQR_window_50_9', 'Q1_window_50_9', 'Q3_window_50_9', 'kurtosis_window_50_9', 'skewness_window_50_9', 'mean_window_50_10', 'std_window_50_10', 'median_window_50_10', 'max_window_50_10', 'min_window_50_10', 'range_window_50_10', 'IQR_window_50_10', 'Q1_window_50_10', 'Q3_window_50_10', 'kurtosis_window_50_10', 'skewness_window_50_10', 'mean_window_50_11', 'std_window_50_11', 'median_window_50_11', 'max_window_50_11', 'min_window_50_11', 'range_window_50_11', 'IQR_window_50_11', 'Q1_window_50_11', 'Q3_window_50_11', 'kurtosis_window_50_11', 'skewness_window_50_11', 'mean_window_50_12', 'std_window_50_12', 'median_window_50_12', 'max_window_50_12', 'min_window_50_12', 'range_window_50_12', 'IQR_window_50_12', 'Q1_window_50_12', 'Q3_window_50_12', 'kurtosis_window_50_12', 'skewness_window_50_12', 'mean_window_50_13', 'std_window_50_13', 'median_window_50_13', 'max_window_50_13', 'min_window_50_13', 'range_window_50_13', 'IQR_window_50_13', 'Q1_window_50_13', 'Q3_window_50_13', 'kurtosis_window_50_13', 'skewness_window_50_13', 'mean_window_50_14', 'std_window_50_14', 'median_window_50_14', 'max_window_50_14', 'min_window_50_14', 'range_window_50_14', 'IQR_window_50_14', 'Q1_window_50_14', 'Q3_window_50_14', 'kurtosis_window_50_14', 'skewness_window_50_14', 'mean_window_50_15', 'std_window_50_15', 'median_window_50_15', 'max_window_50_15', 'min_window_50_15', 'range_window_50_15', 'IQR_window_50_15', 'Q1_window_50_15', 'Q3_window_50_15', 'kurtosis_window_50_15', 'skewness_window_50_15', 'mean_window_50_16', 'std_window_50_16', 'median_window_50_16', 'max_window_50_16', 'min_window_50_16', 'range_window_50_16', 'IQR_window_50_16', 'Q1_window_50_16', 'Q3_window_50_16', 'kurtosis_window_50_16', 'skewness_window_50_16', 'mean_window_50_17', 'std_window_50_17', 'median_window_50_17', 'max_window_50_17', 'min_window_50_17', 'range_window_50_17', 'IQR_window_50_17', 'Q1_window_50_17', 'Q3_window_50_17', 'kurtosis_window_50_17', 'skewness_window_50_17', 'mean_window_50_18', 'std_window_50_18', 'median_window_50_18', 'max_window_50_18', 'min_window_50_18', 'range_window_50_18', 'IQR_window_50_18', 'Q1_window_50_18', 'Q3_window_50_18', 'kurtosis_window_50_18', 'skewness_window_50_18', 'mean_window_50_19', 'std_window_50_19', 'median_window_50_19', 'max_window_50_19', 'min_window_50_19', 'range_window_50_19', 'IQR_window_50_19', 'Q1_window_50_19', 'Q3_window_50_19', 'kurtosis_window_50_19', 'skewness_window_50_19', 'mean_window_50_20', 'std_window_50_20', 'median_window_50_20', 'max_window_50_20', 'min_window_50_20', 'range_window_50_20', 'IQR_window_50_20', 'Q1_window_50_20', 'Q3_window_50_20', 'kurtosis_window_50_20', 'skewness_window_50_20', 'mean_window_50_21', 'std_window_50_21', 'median_window_50_21', 'max_window_50_21', 'min_window_50_21', 'range_window_50_21', 'IQR_window_50_21', 'Q1_window_50_21', 'Q3_window_50_21', 'kurtosis_window_50_21', 'skewness_window_50_21', 'mean_window_50_22', 'std_window_50_22', 'median_window_50_22', 'max_window_50_22', 'min_window_50_22', 'range_window_50_22', 'IQR_window_50_22', 'Q1_window_50_22', 'Q3_window_50_22', 'kurtosis_window_50_22', 'skewness_window_50_22', 'mean_window_50_23', 'std_window_50_23', 'median_window_50_23', 'max_window_50_23', 'min_window_50_23', 'range_window_50_23', 'IQR_window_50_23', 'Q1_window_50_23', 'Q3_window_50_23', 'kurtosis_window_50_23', 'skewness_window_50_23', 'mean_window_50_24', 'std_window_50_24', 'median_window_50_24', 'max_window_50_24', 'min_window_50_24', 'range_window_50_24', 'IQR_window_50_24', 'Q1_window_50_24', 'Q3_window_50_24', 'kurtosis_window_50_24', 'skewness_window_50_24', 'mean_window_50_25', 'std_window_50_25', 'median_window_50_25', 'max_window_50_25', 'min_window_50_25', 'range_window_50_25', 'IQR_window_50_25', 'Q1_window_50_25', 'Q3_window_50_25', 'kurtosis_window_50_25', 'skewness_window_50_25', 'mean_window_50_26', 'std_window_50_26', 'median_window_50_26', 'max_window_50_26', 'min_window_50_26', 'range_window_50_26', 'IQR_window_50_26', 'Q1_window_50_26', 'Q3_window_50_26', 'kurtosis_window_50_26', 'skewness_window_50_26', 'mean_window_50_27', 'std_window_50_27', 'median_window_50_27', 'max_window_50_27', 'min_window_50_27', 'range_window_50_27', 'IQR_window_50_27', 'Q1_window_50_27', 'Q3_window_50_27', 'kurtosis_window_50_27', 'skewness_window_50_27', 'mean_window_50_28', 'std_window_50_28', 'median_window_50_28', 'max_window_50_28', 'min_window_50_28', 'range_window_50_28', 'IQR_window_50_28', 'Q1_window_50_28', 'Q3_window_50_28', 'kurtosis_window_50_28', 'skewness_window_50_28', 'mean_window_50_29', 'std_window_50_29', 'median_window_50_29', 'max_window_50_29', 'min_window_50_29', 'range_window_50_29', 'IQR_window_50_29', 'Q1_window_50_29', 'Q3_window_50_29', 'kurtosis_window_50_29', 'skewness_window_50_29', 'mean_window_50_30', 'std_window_50_30', 'median_window_50_30', 'max_window_50_30', 'min_window_50_30', 'range_window_50_30', 'IQR_window_50_30', 'Q1_window_50_30', 'Q3_window_50_30', 'kurtosis_window_50_30', 'skewness_window_50_30', 'mean_window_50_31', 'std_window_50_31', 'median_window_50_31', 'max_window_50_31', 'min_window_50_31', 'range_window_50_31', 'IQR_window_50_31', 'Q1_window_50_31', 'Q3_window_50_31', 'kurtosis_window_50_31', 'skewness_window_50_31', 'mean_window_50_32', 'std_window_50_32', 'median_window_50_32', 'max_window_50_32', 'min_window_50_32', 'range_window_50_32', 'IQR_window_50_32', 'Q1_window_50_32', 'Q3_window_50_32', 'kurtosis_window_50_32', 'skewness_window_50_32', 'mean_window_50_33', 'std_window_50_33', 'median_window_50_33', 'max_window_50_33', 'min_window_50_33', 'range_window_50_33', 'IQR_window_50_33', 'Q1_window_50_33', 'Q3_window_50_33', 'kurtosis_window_50_33', 'skewness_window_50_33', 'mean_window_50_34', 'std_window_50_34', 'median_window_50_34', 'max_window_50_34', 'min_window_50_34', 'range_window_50_34', 'IQR_window_50_34', 'Q1_window_50_34', 'Q3_window_50_34', 'kurtosis_window_50_34', 'skewness_window_50_34', 'mean_window_50_35', 'std_window_50_35', 'median_window_50_35', 'max_window_50_35', 'min_window_50_35', 'range_window_50_35', 'IQR_window_50_35', 'Q1_window_50_35', 'Q3_window_50_35', 'kurtosis_window_50_35', 'skewness_window_50_35', 'mean_window_50_36', 'std_window_50_36', 'median_window_50_36', 'max_window_50_36', 'min_window_50_36', 'range_window_50_36', 'IQR_window_50_36', 'Q1_window_50_36', 'Q3_window_50_36', 'kurtosis_window_50_36', 'skewness_window_50_36', 'mean_window_50_37', 'std_window_50_37', 'median_window_50_37', 'max_window_50_37', 'min_window_50_37', 'range_window_50_37', 'IQR_window_50_37', 'Q1_window_50_37', 'Q3_window_50_37', 'kurtosis_window_50_37', 'skewness_window_50_37', 'mean_window_50_38', 'std_window_50_38', 'median_window_50_38', 'max_window_50_38', 'min_window_50_38', 'range_window_50_38', 'IQR_window_50_38', 'Q1_window_50_38', 'Q3_window_50_38', 'kurtosis_window_50_38', 'skewness_window_50_38', 'mean_window_50_39', 'std_window_50_39', 'median_window_50_39', 'max_window_50_39', 'min_window_50_39', 'range_window_50_39', 'IQR_window_50_39', 'Q1_window_50_39', 'Q3_window_50_39', 'kurtosis_window_50_39', 'skewness_window_50_39', 'mean_window_50_40', 'std_window_50_40', 'median_window_50_40', 'max_window_50_40', 'min_window_50_40', 'range_window_50_40', 'IQR_window_50_40', 'Q1_window_50_40', 'Q3_window_50_40', 'kurtosis_window_50_40', 'skewness_window_50_40', 'mean_window_50_41', 'std_window_50_41', 'median_window_50_41', 'max_window_50_41', 'min_window_50_41', 'range_window_50_41', 'IQR_window_50_41', 'Q1_window_50_41', 'Q3_window_50_41', 'kurtosis_window_50_41', 'skewness_window_50_41', 'mean_window_50_42', 'std_window_50_42', 'median_window_50_42', 'max_window_50_42', 'min_window_50_42', 'range_window_50_42', 'IQR_window_50_42', 'Q1_window_50_42', 'Q3_window_50_42', 'kurtosis_window_50_42', 'skewness_window_50_42', 'mean_window_50_43', 'std_window_50_43', 'median_window_50_43', 'max_window_50_43', 'min_window_50_43', 'range_window_50_43', 'IQR_window_50_43', 'Q1_window_50_43', 'Q3_window_50_43', 'kurtosis_window_50_43', 'skewness_window_50_43', 'mean_window_50_44', 'std_window_50_44', 'median_window_50_44', 'max_window_50_44', 'min_window_50_44', 'range_window_50_44', 'IQR_window_50_44', 'Q1_window_50_44', 'Q3_window_50_44', 'kurtosis_window_50_44', 'skewness_window_50_44', 'mean_window_50_45', 'std_window_50_45', 'median_window_50_45', 'max_window_50_45', 'min_window_50_45', 'range_window_50_45', 'IQR_window_50_45', 'Q1_window_50_45', 'Q3_window_50_45', 'kurtosis_window_50_45', 'skewness_window_50_45', 'mean_window_50_46', 'std_window_50_46', 'median_window_50_46', 'max_window_50_46', 'min_window_50_46', 'range_window_50_46', 'IQR_window_50_46', 'Q1_window_50_46', 'Q3_window_50_46', 'kurtosis_window_50_46', 'skewness_window_50_46', 'mean_window_50_47', 'std_window_50_47', 'median_window_50_47', 'max_window_50_47', 'min_window_50_47', 'range_window_50_47', 'IQR_window_50_47', 'Q1_window_50_47', 'Q3_window_50_47', 'kurtosis_window_50_47', 'skewness_window_50_47', 'mean_window_50_48', 'std_window_50_48', 'median_window_50_48', 'max_window_50_48', 'min_window_50_48', 'range_window_50_48', 'IQR_window_50_48', 'Q1_window_50_48', 'Q3_window_50_48', 'kurtosis_window_50_48', 'skewness_window_50_48', 'mean_window_50_49', 'std_window_50_49', 'median_window_50_49', 'max_window_50_49', 'min_window_50_49', 'range_window_50_49', 'IQR_window_50_49', 'Q1_window_50_49', 'Q3_window_50_49', 'kurtosis_window_50_49', 'skewness_window_50_49', 'mean_window_50_50', 'std_window_50_50', 'median_window_50_50', 'max_window_50_50', 'min_window_50_50', 'range_window_50_50', 'IQR_window_50_50', 'Q1_window_50_50', 'Q3_window_50_50', 'kurtosis_window_50_50', 'skewness_window_50_50', 'mean_window_50_51', 'std_window_50_51', 'median_window_50_51', 'max_window_50_51', 'min_window_50_51', 'range_window_50_51', 'IQR_window_50_51', 'Q1_window_50_51', 'Q3_window_50_51', 'kurtosis_window_50_51', 'skewness_window_50_51', 'mean_window_50_52', 'std_window_50_52', 'median_window_50_52', 'max_window_50_52', 'min_window_50_52', 'range_window_50_52', 'IQR_window_50_52', 'Q1_window_50_52', 'Q3_window_50_52', 'kurtosis_window_50_52', 'skewness_window_50_52', 'mean_window_50_53', 'std_window_50_53', 'median_window_50_53', 'max_window_50_53', 'min_window_50_53', 'range_window_50_53', 'IQR_window_50_53', 'Q1_window_50_53', 'Q3_window_50_53', 'kurtosis_window_50_53', 'skewness_window_50_53', 'mean_window_50_54', 'std_window_50_54', 'median_window_50_54', 'max_window_50_54', 'min_window_50_54', 'range_window_50_54', 'IQR_window_50_54', 'Q1_window_50_54', 'Q3_window_50_54', 'kurtosis_window_50_54', 'skewness_window_50_54', 'mean_window_100_0', 'std_window_100_0', 'median_window_100_0', 'max_window_100_0', 'min_window_100_0', 'range_window_100_0', 'IQR_window_100_0', 'Q1_window_100_0', 'Q3_window_100_0', 'kurtosis_window_100_0', 'skewness_window_100_0', 'mean_window_100_1', 'std_window_100_1', 'median_window_100_1', 'max_window_100_1', 'min_window_100_1', 'range_window_100_1', 'IQR_window_100_1', 'Q1_window_100_1', 'Q3_window_100_1', 'kurtosis_window_100_1', 'skewness_window_100_1', 'mean_window_100_2', 'std_window_100_2', 'median_window_100_2', 'max_window_100_2', 'min_window_100_2', 'range_window_100_2', 'IQR_window_100_2', 'Q1_window_100_2', 'Q3_window_100_2', 'kurtosis_window_100_2', 'skewness_window_100_2', 'mean_window_100_3', 'std_window_100_3', 'median_window_100_3', 'max_window_100_3', 'min_window_100_3', 'range_window_100_3', 'IQR_window_100_3', 'Q1_window_100_3', 'Q3_window_100_3', 'kurtosis_window_100_3', 'skewness_window_100_3', 'mean_window_100_4', 'std_window_100_4', 'median_window_100_4', 'max_window_100_4', 'min_window_100_4', 'range_window_100_4', 'IQR_window_100_4', 'Q1_window_100_4', 'Q3_window_100_4', 'kurtosis_window_100_4', 'skewness_window_100_4', 'mean_window_100_5', 'std_window_100_5', 'median_window_100_5', 'max_window_100_5', 'min_window_100_5', 'range_window_100_5', 'IQR_window_100_5', 'Q1_window_100_5', 'Q3_window_100_5', 'kurtosis_window_100_5', 'skewness_window_100_5', 'mean_window_100_6', 'std_window_100_6', 'median_window_100_6', 'max_window_100_6', 'min_window_100_6', 'range_window_100_6', 'IQR_window_100_6', 'Q1_window_100_6', 'Q3_window_100_6', 'kurtosis_window_100_6', 'skewness_window_100_6', 'mean_window_100_7', 'std_window_100_7', 'median_window_100_7', 'max_window_100_7', 'min_window_100_7', 'range_window_100_7', 'IQR_window_100_7', 'Q1_window_100_7', 'Q3_window_100_7', 'kurtosis_window_100_7', 'skewness_window_100_7', 'mean_window_100_8', 'std_window_100_8', 'median_window_100_8', 'max_window_100_8', 'min_window_100_8', 'range_window_100_8', 'IQR_window_100_8', 'Q1_window_100_8', 'Q3_window_100_8', 'kurtosis_window_100_8', 'skewness_window_100_8', 'mean_window_100_9', 'std_window_100_9', 'median_window_100_9', 'max_window_100_9', 'min_window_100_9', 'range_window_100_9', 'IQR_window_100_9', 'Q1_window_100_9', 'Q3_window_100_9', 'kurtosis_window_100_9', 'skewness_window_100_9', 'mean_window_100_10', 'std_window_100_10', 'median_window_100_10', 'max_window_100_10', 'min_window_100_10', 'range_window_100_10', 'IQR_window_100_10', 'Q1_window_100_10', 'Q3_window_100_10', 'kurtosis_window_100_10', 'skewness_window_100_10', 'mean_window_100_11', 'std_window_100_11', 'median_window_100_11', 'max_window_100_11', 'min_window_100_11', 'range_window_100_11', 'IQR_window_100_11', 'Q1_window_100_11', 'Q3_window_100_11', 'kurtosis_window_100_11', 'skewness_window_100_11', 'mean_window_100_12', 'std_window_100_12', 'median_window_100_12', 'max_window_100_12', 'min_window_100_12', 'range_window_100_12', 'IQR_window_100_12', 'Q1_window_100_12', 'Q3_window_100_12', 'kurtosis_window_100_12', 'skewness_window_100_12', 'mean_window_100_13', 'std_window_100_13', 'median_window_100_13', 'max_window_100_13', 'min_window_100_13', 'range_window_100_13', 'IQR_window_100_13', 'Q1_window_100_13', 'Q3_window_100_13', 'kurtosis_window_100_13', 'skewness_window_100_13', 'mean_window_100_14', 'std_window_100_14', 'median_window_100_14', 'max_window_100_14', 'min_window_100_14', 'range_window_100_14', 'IQR_window_100_14', 'Q1_window_100_14', 'Q3_window_100_14', 'kurtosis_window_100_14', 'skewness_window_100_14', 'mean_window_100_15', 'std_window_100_15', 'median_window_100_15', 'max_window_100_15', 'min_window_100_15', 'range_window_100_15', 'IQR_window_100_15', 'Q1_window_100_15', 'Q3_window_100_15', 'kurtosis_window_100_15', 'skewness_window_100_15', 'mean_window_100_16', 'std_window_100_16', 'median_window_100_16', 'max_window_100_16', 'min_window_100_16', 'range_window_100_16', 'IQR_window_100_16', 'Q1_window_100_16', 'Q3_window_100_16', 'kurtosis_window_100_16', 'skewness_window_100_16', 'mean_window_100_17', 'std_window_100_17', 'median_window_100_17', 'max_window_100_17', 'min_window_100_17', 'range_window_100_17', 'IQR_window_100_17', 'Q1_window_100_17', 'Q3_window_100_17', 'kurtosis_window_100_17', 'skewness_window_100_17', 'mean_window_100_18', 'std_window_100_18', 'median_window_100_18', 'max_window_100_18', 'min_window_100_18', 'range_window_100_18', 'IQR_window_100_18', 'Q1_window_100_18', 'Q3_window_100_18', 'kurtosis_window_100_18', 'skewness_window_100_18', 'mean_window_100_19', 'std_window_100_19', 'median_window_100_19', 'max_window_100_19', 'min_window_100_19', 'range_window_100_19', 'IQR_window_100_19', 'Q1_window_100_19', 'Q3_window_100_19', 'kurtosis_window_100_19', 'skewness_window_100_19', 'mean_window_100_20', 'std_window_100_20', 'median_window_100_20', 'max_window_100_20', 'min_window_100_20', 'range_window_100_20', 'IQR_window_100_20', 'Q1_window_100_20', 'Q3_window_100_20', 'kurtosis_window_100_20', 'skewness_window_100_20', 'mean_window_100_21', 'std_window_100_21', 'median_window_100_21', 'max_window_100_21', 'min_window_100_21', 'range_window_100_21', 'IQR_window_100_21', 'Q1_window_100_21', 'Q3_window_100_21', 'kurtosis_window_100_21', 'skewness_window_100_21', 'mean_window_100_22', 'std_window_100_22', 'median_window_100_22', 'max_window_100_22', 'min_window_100_22', 'range_window_100_22', 'IQR_window_100_22', 'Q1_window_100_22', 'Q3_window_100_22', 'kurtosis_window_100_22', 'skewness_window_100_22', 'mean_window_100_23', 'std_window_100_23', 'median_window_100_23', 'max_window_100_23', 'min_window_100_23', 'range_window_100_23', 'IQR_window_100_23', 'Q1_window_100_23', 'Q3_window_100_23', 'kurtosis_window_100_23', 'skewness_window_100_23', 'mean_window_100_24', 'std_window_100_24', 'median_window_100_24', 'max_window_100_24', 'min_window_100_24', 'range_window_100_24', 'IQR_window_100_24', 'Q1_window_100_24', 'Q3_window_100_24', 'kurtosis_window_100_24', 'skewness_window_100_24', 'mean_window_100_25', 'std_window_100_25', 'median_window_100_25', 'max_window_100_25', 'min_window_100_25', 'range_window_100_25', 'IQR_window_100_25', 'Q1_window_100_25', 'Q3_window_100_25', 'kurtosis_window_100_25', 'skewness_window_100_25', 'mean_window_100_26', 'std_window_100_26', 'median_window_100_26', 'max_window_100_26', 'min_window_100_26', 'range_window_100_26', 'IQR_window_100_26', 'Q1_window_100_26', 'Q3_window_100_26', 'kurtosis_window_100_26', 'skewness_window_100_26']\n"
     ]
    }
   ],
   "source": [
    "print(df.columns.tolist())"
   ]
  },
  {
   "cell_type": "code",
   "execution_count": 104,
   "metadata": {},
   "outputs": [],
   "source": [
    "# Lista de columnas adicionales que quieres conservar\n",
    "#additional_columns = ['id', 'eye', 'stimuli', 'color', 'glaucoma']\n",
    "\n",
    "# Seleccionar las columnas que van desde 50_0 hasta 50_14\n",
    "#pattern_columns = [col for col in df.columns if '50_' in col and int(col.split('_')[-1]) <= 14]\n",
    "\n",
    "# Combinar las columnas seleccionadas con las columnas adicionales\n",
    "#selected_columns = additional_columns + pattern_columns\n",
    "\n",
    "# Crear un nuevo dataframe con las columnas seleccionadas\n",
    "#df_selected = df[selected_columns]\n",
    "\n",
    "# Mostrar las primeras filas del dataframe seleccionado\n",
    "#df_selected.head()"
   ]
  },
  {
   "cell_type": "code",
   "execution_count": 105,
   "metadata": {},
   "outputs": [
    {
     "name": "stdout",
     "output_type": "stream",
     "text": [
      "Total de valores nulos en el dataset: 0\n"
     ]
    }
   ],
   "source": [
    "total_nulls = df.isnull().sum().sum()\n",
    "print(f\"Total de valores nulos en el dataset: {total_nulls}\")"
   ]
  },
  {
   "cell_type": "code",
   "execution_count": 106,
   "metadata": {},
   "outputs": [
    {
     "name": "stdout",
     "output_type": "stream",
     "text": [
      "Valores nulos por columna:\n",
      "Series([], dtype: int64)\n"
     ]
    }
   ],
   "source": [
    "# Verificar si el DataFrame tiene valores nulos\n",
    "def check_nulls(dataset):\n",
    "    nulls = dataset.isnull().sum()\n",
    "    print(\"Valores nulos por columna:\")\n",
    "    print(nulls[nulls > 0])  # Mostrar solo las columnas con valores nulos\n",
    "    return nulls[nulls > 0]\n",
    "\n",
    "nulls = check_nulls(df)"
   ]
  },
  {
   "cell_type": "code",
   "execution_count": 107,
   "metadata": {},
   "outputs": [
    {
     "name": "stdout",
     "output_type": "stream",
     "text": [
      "Valores nulos por columna:\n",
      "Series([], dtype: int64)\n"
     ]
    }
   ],
   "source": [
    "# Eliminar columnas que contienen cualquier valor NaN\n",
    "df = df.dropna(axis=1)\n",
    "nulls = check_nulls(df)"
   ]
  },
  {
   "cell_type": "code",
   "execution_count": 108,
   "metadata": {},
   "outputs": [],
   "source": [
    "# Eliminar columnas que contienen cualquier valor NaN\n",
    "#df_selected = df_selected.dropna(axis=1)\n",
    "#nulls = check_nulls(df_selected)"
   ]
  },
  {
   "cell_type": "code",
   "execution_count": 109,
   "metadata": {},
   "outputs": [
    {
     "name": "stdout",
     "output_type": "stream",
     "text": [
      "int32\n"
     ]
    }
   ],
   "source": [
    "pd.set_option('future.no_silent_downcasting', True)\n",
    "df = df.replace({'yes': 1, 'no': 0})\n",
    "\n",
    "# Convertir la columna 'glaucoma' a tipo numérico\n",
    "df['glaucoma'] = df['glaucoma'].astype(int)\n",
    "\n",
    "# Verificar el tipo de dato de la columna\n",
    "print(df.dtypes['glaucoma'])"
   ]
  },
  {
   "cell_type": "code",
   "execution_count": 110,
   "metadata": {},
   "outputs": [],
   "source": [
    "#pd.set_option('future.no_silent_downcasting', True)\n",
    "#df_selected = df_selected.replace({'yes': 1, 'no': 0})\n",
    "\n",
    "# Convertir la columna 'glaucoma' a tipo numérico\n",
    "#df_selected['glaucoma'] = df_selected['glaucoma'].astype(int)\n",
    "\n",
    "# Verificar el tipo de dato de la columna\n",
    "#print(df_selected.dtypes['glaucoma'])"
   ]
  },
  {
   "cell_type": "code",
   "execution_count": 111,
   "metadata": {},
   "outputs": [
    {
     "name": "stdout",
     "output_type": "stream",
     "text": [
      "Tamaño del conjunto de entrenamiento: 512\n",
      "Tamaño del conjunto de prueba: 144\n"
     ]
    }
   ],
   "source": [
    "import pandas as pd\n",
    "from sklearn.model_selection import train_test_split\n",
    "\n",
    "# Supongamos que tienes un dataset cargado\n",
    "# dataset = pd.read_csv('path_to_your_dataset.csv')\n",
    "\n",
    "# Primero, obtener los ids únicos\n",
    "unique_ids = df['id'].unique()\n",
    "\n",
    "# Realizar el train_test_split a nivel de id\n",
    "train_ids, test_ids = train_test_split(unique_ids, test_size=0.2, random_state=26)\n",
    "\n",
    "# Filtrar el df original usando los ids seleccionados\n",
    "train_set = df[df['id'].isin(train_ids)]\n",
    "test_set = df[df['id'].isin(test_ids)]\n",
    "\n",
    "# Verifica los tamaños de los conjuntos\n",
    "print(f\"Tamaño del conjunto de entrenamiento: {len(train_set)}\")\n",
    "print(f\"Tamaño del conjunto de prueba: {len(test_set)}\")"
   ]
  },
  {
   "cell_type": "code",
   "execution_count": 112,
   "metadata": {},
   "outputs": [],
   "source": [
    "import pandas as pd\n",
    "from sklearn.model_selection import train_test_split\n",
    "\n",
    "# Supongamos que tienes un dataset cargado\n",
    "# dataset = pd.read_csv('path_to_your_dataset.csv')\n",
    "\n",
    "# Primero, obtener los ids únicos\n",
    "#unique_ids = df_selected['id'].unique()\n",
    "\n",
    "# Realizar el train_test_split a nivel de id\n",
    "#train_ids, test_ids = train_test_split(unique_ids, test_size=0.2, random_state=42)\n",
    "\n",
    "# Filtrar el df_selected original usando los ids seleccionados\n",
    "#train_set = df_selected[df_selected['id'].isin(train_ids)]\n",
    "#test_set = df_selected[df_selected['id'].isin(test_ids)]\n",
    "\n",
    "# Verifica los tamaños de los conjuntos\n",
    "#print(f\"Tamaño del conjunto de entrenamiento: {len(train_set)}\")\n",
    "#print(f\"Tamaño del conjunto de prueba: {len(test_set)}\")"
   ]
  },
  {
   "cell_type": "code",
   "execution_count": 113,
   "metadata": {},
   "outputs": [],
   "source": [
    "y_train = train_set.loc[:, 'glaucoma']\n",
    "y_test = test_set.loc[:, 'glaucoma']\n",
    "labels = df.loc[:, 'glaucoma']"
   ]
  },
  {
   "cell_type": "code",
   "execution_count": 114,
   "metadata": {},
   "outputs": [
    {
     "name": "stdout",
     "output_type": "stream",
     "text": [
      "0      0\n",
      "1      0\n",
      "2      0\n",
      "3      0\n",
      "4      0\n",
      "      ..\n",
      "651    1\n",
      "652    1\n",
      "653    1\n",
      "654    1\n",
      "655    1\n",
      "Name: glaucoma, Length: 512, dtype: int32\n",
      "80     0\n",
      "81     0\n",
      "82     0\n",
      "83     0\n",
      "84     0\n",
      "      ..\n",
      "635    1\n",
      "636    1\n",
      "637    1\n",
      "638    1\n",
      "639    1\n",
      "Name: glaucoma, Length: 144, dtype: int32\n"
     ]
    }
   ],
   "source": [
    "print(y_train)\n",
    "print(y_test)"
   ]
  },
  {
   "cell_type": "code",
   "execution_count": 115,
   "metadata": {},
   "outputs": [
    {
     "data": {
      "text/plain": [
       "glaucoma\n",
       "0    51.219512\n",
       "1    48.780488\n",
       "Name: count, dtype: float64"
      ]
     },
     "execution_count": 115,
     "metadata": {},
     "output_type": "execute_result"
    }
   ],
   "source": [
    "# distribución original\n",
    "labels.value_counts() / labels.count() * 100"
   ]
  },
  {
   "cell_type": "code",
   "execution_count": 116,
   "metadata": {},
   "outputs": [
    {
     "data": {
      "text/plain": [
       "glaucoma\n",
       "0    50.0\n",
       "1    50.0\n",
       "Name: count, dtype: float64"
      ]
     },
     "execution_count": 116,
     "metadata": {},
     "output_type": "execute_result"
    }
   ],
   "source": [
    "# conjunto de entrenamiento\n",
    "y_train.value_counts() / y_train.count() * 100"
   ]
  },
  {
   "cell_type": "code",
   "execution_count": 117,
   "metadata": {},
   "outputs": [
    {
     "data": {
      "text/plain": [
       "glaucoma\n",
       "0    55.555556\n",
       "1    44.444444\n",
       "Name: count, dtype: float64"
      ]
     },
     "execution_count": 117,
     "metadata": {},
     "output_type": "execute_result"
    }
   ],
   "source": [
    "# conjunto de pruebas\n",
    "y_test.value_counts() / y_test.count() * 100"
   ]
  },
  {
   "cell_type": "code",
   "execution_count": 118,
   "metadata": {},
   "outputs": [
    {
     "data": {
      "text/html": [
       "<div>\n",
       "<style scoped>\n",
       "    .dataframe tbody tr th:only-of-type {\n",
       "        vertical-align: middle;\n",
       "    }\n",
       "\n",
       "    .dataframe tbody tr th {\n",
       "        vertical-align: top;\n",
       "    }\n",
       "\n",
       "    .dataframe thead th {\n",
       "        text-align: right;\n",
       "    }\n",
       "</style>\n",
       "<table border=\"1\" class=\"dataframe\">\n",
       "  <thead>\n",
       "    <tr style=\"text-align: right;\">\n",
       "      <th></th>\n",
       "      <th>id</th>\n",
       "      <th>eye</th>\n",
       "      <th>stimuli</th>\n",
       "      <th>color</th>\n",
       "      <th>glaucoma</th>\n",
       "      <th>mean_window_50_0</th>\n",
       "      <th>std_window_50_0</th>\n",
       "      <th>median_window_50_0</th>\n",
       "      <th>max_window_50_0</th>\n",
       "      <th>min_window_50_0</th>\n",
       "      <th>...</th>\n",
       "      <th>std_window_100_26</th>\n",
       "      <th>median_window_100_26</th>\n",
       "      <th>max_window_100_26</th>\n",
       "      <th>min_window_100_26</th>\n",
       "      <th>range_window_100_26</th>\n",
       "      <th>IQR_window_100_26</th>\n",
       "      <th>Q1_window_100_26</th>\n",
       "      <th>Q3_window_100_26</th>\n",
       "      <th>kurtosis_window_100_26</th>\n",
       "      <th>skewness_window_100_26</th>\n",
       "    </tr>\n",
       "  </thead>\n",
       "  <tbody>\n",
       "    <tr>\n",
       "      <th>0</th>\n",
       "      <td>C001</td>\n",
       "      <td>left</td>\n",
       "      <td>ramp</td>\n",
       "      <td>white</td>\n",
       "      <td>0</td>\n",
       "      <td>31.394663</td>\n",
       "      <td>7.330628</td>\n",
       "      <td>31.112307</td>\n",
       "      <td>46.795632</td>\n",
       "      <td>12.854402</td>\n",
       "      <td>...</td>\n",
       "      <td>6.222775</td>\n",
       "      <td>47.949744</td>\n",
       "      <td>54.710644</td>\n",
       "      <td>35.675227</td>\n",
       "      <td>19.035417</td>\n",
       "      <td>11.369135</td>\n",
       "      <td>42.452454</td>\n",
       "      <td>53.821590</td>\n",
       "      <td>-0.995919</td>\n",
       "      <td>-0.496738</td>\n",
       "    </tr>\n",
       "    <tr>\n",
       "      <th>1</th>\n",
       "      <td>C001</td>\n",
       "      <td>left</td>\n",
       "      <td>ramp</td>\n",
       "      <td>blue</td>\n",
       "      <td>0</td>\n",
       "      <td>55.216501</td>\n",
       "      <td>1.531317</td>\n",
       "      <td>55.227985</td>\n",
       "      <td>57.452084</td>\n",
       "      <td>52.862637</td>\n",
       "      <td>...</td>\n",
       "      <td>6.252377</td>\n",
       "      <td>51.219999</td>\n",
       "      <td>54.903867</td>\n",
       "      <td>31.493067</td>\n",
       "      <td>23.410801</td>\n",
       "      <td>3.709111</td>\n",
       "      <td>50.004771</td>\n",
       "      <td>53.713883</td>\n",
       "      <td>1.506247</td>\n",
       "      <td>-1.639840</td>\n",
       "    </tr>\n",
       "    <tr>\n",
       "      <th>2</th>\n",
       "      <td>C001</td>\n",
       "      <td>left</td>\n",
       "      <td>ramp</td>\n",
       "      <td>green</td>\n",
       "      <td>0</td>\n",
       "      <td>54.413234</td>\n",
       "      <td>1.266537</td>\n",
       "      <td>54.605837</td>\n",
       "      <td>55.752185</td>\n",
       "      <td>50.294484</td>\n",
       "      <td>...</td>\n",
       "      <td>3.456245</td>\n",
       "      <td>51.194921</td>\n",
       "      <td>57.635150</td>\n",
       "      <td>44.984027</td>\n",
       "      <td>12.651123</td>\n",
       "      <td>5.930505</td>\n",
       "      <td>49.193261</td>\n",
       "      <td>55.123766</td>\n",
       "      <td>-1.149759</td>\n",
       "      <td>0.138510</td>\n",
       "    </tr>\n",
       "    <tr>\n",
       "      <th>3</th>\n",
       "      <td>C001</td>\n",
       "      <td>left</td>\n",
       "      <td>flash</td>\n",
       "      <td>white</td>\n",
       "      <td>0</td>\n",
       "      <td>51.143455</td>\n",
       "      <td>4.231166</td>\n",
       "      <td>49.687418</td>\n",
       "      <td>57.076212</td>\n",
       "      <td>46.305057</td>\n",
       "      <td>...</td>\n",
       "      <td>7.920004</td>\n",
       "      <td>46.859924</td>\n",
       "      <td>58.301876</td>\n",
       "      <td>33.211007</td>\n",
       "      <td>25.090869</td>\n",
       "      <td>12.164597</td>\n",
       "      <td>39.358046</td>\n",
       "      <td>51.522643</td>\n",
       "      <td>-1.175331</td>\n",
       "      <td>-0.101796</td>\n",
       "    </tr>\n",
       "    <tr>\n",
       "      <th>4</th>\n",
       "      <td>C001</td>\n",
       "      <td>left</td>\n",
       "      <td>flash</td>\n",
       "      <td>blue</td>\n",
       "      <td>0</td>\n",
       "      <td>48.961582</td>\n",
       "      <td>3.666817</td>\n",
       "      <td>49.575101</td>\n",
       "      <td>57.306089</td>\n",
       "      <td>43.411308</td>\n",
       "      <td>...</td>\n",
       "      <td>2.960709</td>\n",
       "      <td>51.783334</td>\n",
       "      <td>56.676868</td>\n",
       "      <td>46.228285</td>\n",
       "      <td>10.448583</td>\n",
       "      <td>4.500076</td>\n",
       "      <td>49.678934</td>\n",
       "      <td>54.179010</td>\n",
       "      <td>-0.916635</td>\n",
       "      <td>-0.146403</td>\n",
       "    </tr>\n",
       "    <tr>\n",
       "      <th>...</th>\n",
       "      <td>...</td>\n",
       "      <td>...</td>\n",
       "      <td>...</td>\n",
       "      <td>...</td>\n",
       "      <td>...</td>\n",
       "      <td>...</td>\n",
       "      <td>...</td>\n",
       "      <td>...</td>\n",
       "      <td>...</td>\n",
       "      <td>...</td>\n",
       "      <td>...</td>\n",
       "      <td>...</td>\n",
       "      <td>...</td>\n",
       "      <td>...</td>\n",
       "      <td>...</td>\n",
       "      <td>...</td>\n",
       "      <td>...</td>\n",
       "      <td>...</td>\n",
       "      <td>...</td>\n",
       "      <td>...</td>\n",
       "      <td>...</td>\n",
       "    </tr>\n",
       "    <tr>\n",
       "      <th>651</th>\n",
       "      <td>S020</td>\n",
       "      <td>right</td>\n",
       "      <td>flash</td>\n",
       "      <td>red</td>\n",
       "      <td>1</td>\n",
       "      <td>47.464457</td>\n",
       "      <td>3.452431</td>\n",
       "      <td>48.845450</td>\n",
       "      <td>50.461556</td>\n",
       "      <td>37.985519</td>\n",
       "      <td>...</td>\n",
       "      <td>1.687447</td>\n",
       "      <td>49.779558</td>\n",
       "      <td>52.042778</td>\n",
       "      <td>46.972036</td>\n",
       "      <td>5.070742</td>\n",
       "      <td>3.392010</td>\n",
       "      <td>47.812960</td>\n",
       "      <td>51.204970</td>\n",
       "      <td>-1.494160</td>\n",
       "      <td>-0.124203</td>\n",
       "    </tr>\n",
       "    <tr>\n",
       "      <th>652</th>\n",
       "      <td>S020</td>\n",
       "      <td>right</td>\n",
       "      <td>ramp</td>\n",
       "      <td>red</td>\n",
       "      <td>1</td>\n",
       "      <td>51.431310</td>\n",
       "      <td>0.636079</td>\n",
       "      <td>51.321317</td>\n",
       "      <td>53.695629</td>\n",
       "      <td>50.573754</td>\n",
       "      <td>...</td>\n",
       "      <td>1.714193</td>\n",
       "      <td>47.041743</td>\n",
       "      <td>50.761845</td>\n",
       "      <td>44.709128</td>\n",
       "      <td>6.052716</td>\n",
       "      <td>1.765820</td>\n",
       "      <td>45.939511</td>\n",
       "      <td>47.705331</td>\n",
       "      <td>-0.451365</td>\n",
       "      <td>0.578875</td>\n",
       "    </tr>\n",
       "    <tr>\n",
       "      <th>653</th>\n",
       "      <td>S020</td>\n",
       "      <td>right</td>\n",
       "      <td>flash</td>\n",
       "      <td>white</td>\n",
       "      <td>1</td>\n",
       "      <td>50.382672</td>\n",
       "      <td>4.638326</td>\n",
       "      <td>51.780745</td>\n",
       "      <td>54.885753</td>\n",
       "      <td>38.495936</td>\n",
       "      <td>...</td>\n",
       "      <td>5.531275</td>\n",
       "      <td>50.364064</td>\n",
       "      <td>53.138309</td>\n",
       "      <td>34.932981</td>\n",
       "      <td>18.205328</td>\n",
       "      <td>5.712659</td>\n",
       "      <td>46.363168</td>\n",
       "      <td>52.075828</td>\n",
       "      <td>0.299607</td>\n",
       "      <td>-1.229694</td>\n",
       "    </tr>\n",
       "    <tr>\n",
       "      <th>654</th>\n",
       "      <td>S020</td>\n",
       "      <td>right</td>\n",
       "      <td>ramp</td>\n",
       "      <td>green</td>\n",
       "      <td>1</td>\n",
       "      <td>30.495772</td>\n",
       "      <td>5.551310</td>\n",
       "      <td>31.181252</td>\n",
       "      <td>38.517663</td>\n",
       "      <td>13.563076</td>\n",
       "      <td>...</td>\n",
       "      <td>7.365816</td>\n",
       "      <td>49.290258</td>\n",
       "      <td>53.349617</td>\n",
       "      <td>29.833073</td>\n",
       "      <td>23.516543</td>\n",
       "      <td>9.242224</td>\n",
       "      <td>42.212531</td>\n",
       "      <td>51.454755</td>\n",
       "      <td>-0.221007</td>\n",
       "      <td>-1.112313</td>\n",
       "    </tr>\n",
       "    <tr>\n",
       "      <th>655</th>\n",
       "      <td>S020</td>\n",
       "      <td>right</td>\n",
       "      <td>flash</td>\n",
       "      <td>blue</td>\n",
       "      <td>1</td>\n",
       "      <td>49.255201</td>\n",
       "      <td>3.171159</td>\n",
       "      <td>48.594387</td>\n",
       "      <td>54.098089</td>\n",
       "      <td>44.505955</td>\n",
       "      <td>...</td>\n",
       "      <td>6.029474</td>\n",
       "      <td>44.755037</td>\n",
       "      <td>52.321436</td>\n",
       "      <td>30.968425</td>\n",
       "      <td>21.353011</td>\n",
       "      <td>7.218863</td>\n",
       "      <td>41.324214</td>\n",
       "      <td>48.543077</td>\n",
       "      <td>-0.435728</td>\n",
       "      <td>-0.686400</td>\n",
       "    </tr>\n",
       "  </tbody>\n",
       "</table>\n",
       "<p>656 rows × 907 columns</p>\n",
       "</div>"
      ],
      "text/plain": [
       "       id    eye stimuli  color  glaucoma  mean_window_50_0  std_window_50_0  \\\n",
       "0    C001   left    ramp  white         0         31.394663         7.330628   \n",
       "1    C001   left    ramp   blue         0         55.216501         1.531317   \n",
       "2    C001   left    ramp  green         0         54.413234         1.266537   \n",
       "3    C001   left   flash  white         0         51.143455         4.231166   \n",
       "4    C001   left   flash   blue         0         48.961582         3.666817   \n",
       "..    ...    ...     ...    ...       ...               ...              ...   \n",
       "651  S020  right   flash    red         1         47.464457         3.452431   \n",
       "652  S020  right    ramp    red         1         51.431310         0.636079   \n",
       "653  S020  right   flash  white         1         50.382672         4.638326   \n",
       "654  S020  right    ramp  green         1         30.495772         5.551310   \n",
       "655  S020  right   flash   blue         1         49.255201         3.171159   \n",
       "\n",
       "     median_window_50_0  max_window_50_0  min_window_50_0  ...  \\\n",
       "0             31.112307        46.795632        12.854402  ...   \n",
       "1             55.227985        57.452084        52.862637  ...   \n",
       "2             54.605837        55.752185        50.294484  ...   \n",
       "3             49.687418        57.076212        46.305057  ...   \n",
       "4             49.575101        57.306089        43.411308  ...   \n",
       "..                  ...              ...              ...  ...   \n",
       "651           48.845450        50.461556        37.985519  ...   \n",
       "652           51.321317        53.695629        50.573754  ...   \n",
       "653           51.780745        54.885753        38.495936  ...   \n",
       "654           31.181252        38.517663        13.563076  ...   \n",
       "655           48.594387        54.098089        44.505955  ...   \n",
       "\n",
       "     std_window_100_26  median_window_100_26  max_window_100_26  \\\n",
       "0             6.222775             47.949744          54.710644   \n",
       "1             6.252377             51.219999          54.903867   \n",
       "2             3.456245             51.194921          57.635150   \n",
       "3             7.920004             46.859924          58.301876   \n",
       "4             2.960709             51.783334          56.676868   \n",
       "..                 ...                   ...                ...   \n",
       "651           1.687447             49.779558          52.042778   \n",
       "652           1.714193             47.041743          50.761845   \n",
       "653           5.531275             50.364064          53.138309   \n",
       "654           7.365816             49.290258          53.349617   \n",
       "655           6.029474             44.755037          52.321436   \n",
       "\n",
       "     min_window_100_26  range_window_100_26  IQR_window_100_26  \\\n",
       "0            35.675227            19.035417          11.369135   \n",
       "1            31.493067            23.410801           3.709111   \n",
       "2            44.984027            12.651123           5.930505   \n",
       "3            33.211007            25.090869          12.164597   \n",
       "4            46.228285            10.448583           4.500076   \n",
       "..                 ...                  ...                ...   \n",
       "651          46.972036             5.070742           3.392010   \n",
       "652          44.709128             6.052716           1.765820   \n",
       "653          34.932981            18.205328           5.712659   \n",
       "654          29.833073            23.516543           9.242224   \n",
       "655          30.968425            21.353011           7.218863   \n",
       "\n",
       "     Q1_window_100_26  Q3_window_100_26  kurtosis_window_100_26  \\\n",
       "0           42.452454         53.821590               -0.995919   \n",
       "1           50.004771         53.713883                1.506247   \n",
       "2           49.193261         55.123766               -1.149759   \n",
       "3           39.358046         51.522643               -1.175331   \n",
       "4           49.678934         54.179010               -0.916635   \n",
       "..                ...               ...                     ...   \n",
       "651         47.812960         51.204970               -1.494160   \n",
       "652         45.939511         47.705331               -0.451365   \n",
       "653         46.363168         52.075828                0.299607   \n",
       "654         42.212531         51.454755               -0.221007   \n",
       "655         41.324214         48.543077               -0.435728   \n",
       "\n",
       "     skewness_window_100_26  \n",
       "0                 -0.496738  \n",
       "1                 -1.639840  \n",
       "2                  0.138510  \n",
       "3                 -0.101796  \n",
       "4                 -0.146403  \n",
       "..                      ...  \n",
       "651               -0.124203  \n",
       "652                0.578875  \n",
       "653               -1.229694  \n",
       "654               -1.112313  \n",
       "655               -0.686400  \n",
       "\n",
       "[656 rows x 907 columns]"
      ]
     },
     "execution_count": 118,
     "metadata": {},
     "output_type": "execute_result"
    }
   ],
   "source": [
    "df "
   ]
  },
  {
   "cell_type": "code",
   "execution_count": 119,
   "metadata": {},
   "outputs": [
    {
     "data": {
      "text/plain": [
       "id                         object\n",
       "eye                        object\n",
       "stimuli                    object\n",
       "color                      object\n",
       "glaucoma                    int32\n",
       "                           ...   \n",
       "IQR_window_100_26         float64\n",
       "Q1_window_100_26          float64\n",
       "Q3_window_100_26          float64\n",
       "kurtosis_window_100_26    float64\n",
       "skewness_window_100_26    float64\n",
       "Length: 907, dtype: object"
      ]
     },
     "execution_count": 119,
     "metadata": {},
     "output_type": "execute_result"
    }
   ],
   "source": [
    "df.dtypes"
   ]
  },
  {
   "cell_type": "code",
   "execution_count": 120,
   "metadata": {},
   "outputs": [
    {
     "data": {
      "text/html": [
       "<div>\n",
       "<style scoped>\n",
       "    .dataframe tbody tr th:only-of-type {\n",
       "        vertical-align: middle;\n",
       "    }\n",
       "\n",
       "    .dataframe tbody tr th {\n",
       "        vertical-align: top;\n",
       "    }\n",
       "\n",
       "    .dataframe thead th {\n",
       "        text-align: right;\n",
       "    }\n",
       "</style>\n",
       "<table border=\"1\" class=\"dataframe\">\n",
       "  <thead>\n",
       "    <tr style=\"text-align: right;\">\n",
       "      <th></th>\n",
       "      <th>eye</th>\n",
       "      <th>stimuli</th>\n",
       "      <th>color</th>\n",
       "      <th>mean_window_50_0</th>\n",
       "      <th>std_window_50_0</th>\n",
       "      <th>median_window_50_0</th>\n",
       "      <th>max_window_50_0</th>\n",
       "      <th>min_window_50_0</th>\n",
       "      <th>range_window_50_0</th>\n",
       "      <th>IQR_window_50_0</th>\n",
       "      <th>...</th>\n",
       "      <th>std_window_100_26</th>\n",
       "      <th>median_window_100_26</th>\n",
       "      <th>max_window_100_26</th>\n",
       "      <th>min_window_100_26</th>\n",
       "      <th>range_window_100_26</th>\n",
       "      <th>IQR_window_100_26</th>\n",
       "      <th>Q1_window_100_26</th>\n",
       "      <th>Q3_window_100_26</th>\n",
       "      <th>kurtosis_window_100_26</th>\n",
       "      <th>skewness_window_100_26</th>\n",
       "    </tr>\n",
       "  </thead>\n",
       "  <tbody>\n",
       "    <tr>\n",
       "      <th>80</th>\n",
       "      <td>left</td>\n",
       "      <td>flash</td>\n",
       "      <td>white</td>\n",
       "      <td>47.876120</td>\n",
       "      <td>1.215420</td>\n",
       "      <td>48.238995</td>\n",
       "      <td>49.065296</td>\n",
       "      <td>44.677490</td>\n",
       "      <td>4.387806</td>\n",
       "      <td>0.838029</td>\n",
       "      <td>...</td>\n",
       "      <td>1.364572</td>\n",
       "      <td>47.204567</td>\n",
       "      <td>49.136848</td>\n",
       "      <td>44.202053</td>\n",
       "      <td>4.934795</td>\n",
       "      <td>1.912506</td>\n",
       "      <td>45.996367</td>\n",
       "      <td>47.908874</td>\n",
       "      <td>-0.669781</td>\n",
       "      <td>-0.373118</td>\n",
       "    </tr>\n",
       "    <tr>\n",
       "      <th>81</th>\n",
       "      <td>left</td>\n",
       "      <td>ramp</td>\n",
       "      <td>blue</td>\n",
       "      <td>48.764594</td>\n",
       "      <td>0.434933</td>\n",
       "      <td>48.599071</td>\n",
       "      <td>49.552706</td>\n",
       "      <td>48.303419</td>\n",
       "      <td>1.249287</td>\n",
       "      <td>0.748752</td>\n",
       "      <td>...</td>\n",
       "      <td>3.358887</td>\n",
       "      <td>48.315399</td>\n",
       "      <td>49.542053</td>\n",
       "      <td>39.403663</td>\n",
       "      <td>10.138390</td>\n",
       "      <td>4.935315</td>\n",
       "      <td>43.766267</td>\n",
       "      <td>48.701582</td>\n",
       "      <td>-0.704639</td>\n",
       "      <td>-0.926468</td>\n",
       "    </tr>\n",
       "    <tr>\n",
       "      <th>82</th>\n",
       "      <td>left</td>\n",
       "      <td>ramp</td>\n",
       "      <td>green</td>\n",
       "      <td>43.539460</td>\n",
       "      <td>5.093359</td>\n",
       "      <td>43.281815</td>\n",
       "      <td>49.973349</td>\n",
       "      <td>36.309982</td>\n",
       "      <td>13.663367</td>\n",
       "      <td>10.280480</td>\n",
       "      <td>...</td>\n",
       "      <td>0.583209</td>\n",
       "      <td>47.789604</td>\n",
       "      <td>48.492969</td>\n",
       "      <td>45.867118</td>\n",
       "      <td>2.625851</td>\n",
       "      <td>0.613619</td>\n",
       "      <td>47.465382</td>\n",
       "      <td>48.079002</td>\n",
       "      <td>0.875698</td>\n",
       "      <td>-1.023360</td>\n",
       "    </tr>\n",
       "    <tr>\n",
       "      <th>83</th>\n",
       "      <td>left</td>\n",
       "      <td>flash</td>\n",
       "      <td>blue</td>\n",
       "      <td>44.304749</td>\n",
       "      <td>5.384362</td>\n",
       "      <td>44.058093</td>\n",
       "      <td>51.127549</td>\n",
       "      <td>36.677103</td>\n",
       "      <td>14.450446</td>\n",
       "      <td>11.303374</td>\n",
       "      <td>...</td>\n",
       "      <td>2.546048</td>\n",
       "      <td>48.678461</td>\n",
       "      <td>50.177847</td>\n",
       "      <td>41.745821</td>\n",
       "      <td>8.432026</td>\n",
       "      <td>1.928831</td>\n",
       "      <td>47.297015</td>\n",
       "      <td>49.225846</td>\n",
       "      <td>0.072630</td>\n",
       "      <td>-1.255990</td>\n",
       "    </tr>\n",
       "    <tr>\n",
       "      <th>84</th>\n",
       "      <td>left</td>\n",
       "      <td>ramp</td>\n",
       "      <td>red</td>\n",
       "      <td>48.404555</td>\n",
       "      <td>0.534434</td>\n",
       "      <td>48.485686</td>\n",
       "      <td>49.160349</td>\n",
       "      <td>47.573558</td>\n",
       "      <td>1.586792</td>\n",
       "      <td>0.986345</td>\n",
       "      <td>...</td>\n",
       "      <td>1.535656</td>\n",
       "      <td>40.459940</td>\n",
       "      <td>42.980234</td>\n",
       "      <td>38.483692</td>\n",
       "      <td>4.496542</td>\n",
       "      <td>3.109657</td>\n",
       "      <td>39.150080</td>\n",
       "      <td>42.259738</td>\n",
       "      <td>-1.644117</td>\n",
       "      <td>0.161329</td>\n",
       "    </tr>\n",
       "  </tbody>\n",
       "</table>\n",
       "<p>5 rows × 905 columns</p>\n",
       "</div>"
      ],
      "text/plain": [
       "     eye stimuli  color  mean_window_50_0  std_window_50_0  \\\n",
       "80  left   flash  white         47.876120         1.215420   \n",
       "81  left    ramp   blue         48.764594         0.434933   \n",
       "82  left    ramp  green         43.539460         5.093359   \n",
       "83  left   flash   blue         44.304749         5.384362   \n",
       "84  left    ramp    red         48.404555         0.534434   \n",
       "\n",
       "    median_window_50_0  max_window_50_0  min_window_50_0  range_window_50_0  \\\n",
       "80           48.238995        49.065296        44.677490           4.387806   \n",
       "81           48.599071        49.552706        48.303419           1.249287   \n",
       "82           43.281815        49.973349        36.309982          13.663367   \n",
       "83           44.058093        51.127549        36.677103          14.450446   \n",
       "84           48.485686        49.160349        47.573558           1.586792   \n",
       "\n",
       "    IQR_window_50_0  ...  std_window_100_26  median_window_100_26  \\\n",
       "80         0.838029  ...           1.364572             47.204567   \n",
       "81         0.748752  ...           3.358887             48.315399   \n",
       "82        10.280480  ...           0.583209             47.789604   \n",
       "83        11.303374  ...           2.546048             48.678461   \n",
       "84         0.986345  ...           1.535656             40.459940   \n",
       "\n",
       "    max_window_100_26  min_window_100_26  range_window_100_26  \\\n",
       "80          49.136848          44.202053             4.934795   \n",
       "81          49.542053          39.403663            10.138390   \n",
       "82          48.492969          45.867118             2.625851   \n",
       "83          50.177847          41.745821             8.432026   \n",
       "84          42.980234          38.483692             4.496542   \n",
       "\n",
       "    IQR_window_100_26  Q1_window_100_26  Q3_window_100_26  \\\n",
       "80           1.912506         45.996367         47.908874   \n",
       "81           4.935315         43.766267         48.701582   \n",
       "82           0.613619         47.465382         48.079002   \n",
       "83           1.928831         47.297015         49.225846   \n",
       "84           3.109657         39.150080         42.259738   \n",
       "\n",
       "    kurtosis_window_100_26  skewness_window_100_26  \n",
       "80               -0.669781               -0.373118  \n",
       "81               -0.704639               -0.926468  \n",
       "82                0.875698               -1.023360  \n",
       "83                0.072630               -1.255990  \n",
       "84               -1.644117                0.161329  \n",
       "\n",
       "[5 rows x 905 columns]"
      ]
     },
     "execution_count": 120,
     "metadata": {},
     "output_type": "execute_result"
    }
   ],
   "source": [
    "# Hacer copias de train_set y test_set sin las columnas 'id' y 'glaucoma'\n",
    "X_train = train_set.drop(columns=['id', 'glaucoma']).copy()\n",
    "X_test = test_set.drop(columns=['id', 'glaucoma']).copy()\n",
    "\n",
    "# Verifica los resultados\n",
    "X_train.head()\n",
    "X_test.head()"
   ]
  },
  {
   "cell_type": "code",
   "execution_count": 121,
   "metadata": {},
   "outputs": [],
   "source": [
    "numeric = X_train.select_dtypes([\"float64\", \"int32\"]).columns\n",
    "categorical = X_train.select_dtypes([\"object\"]).columns"
   ]
  },
  {
   "cell_type": "code",
   "execution_count": 122,
   "metadata": {},
   "outputs": [
    {
     "name": "stdout",
     "output_type": "stream",
     "text": [
      "Index(['eye', 'stimuli', 'color'], dtype='object')\n"
     ]
    }
   ],
   "source": [
    "print(categorical)"
   ]
  },
  {
   "cell_type": "code",
   "execution_count": 123,
   "metadata": {},
   "outputs": [
    {
     "name": "stdout",
     "output_type": "stream",
     "text": [
      "Index(['mean_window_50_0', 'std_window_50_0', 'median_window_50_0',\n",
      "       'max_window_50_0', 'min_window_50_0', 'range_window_50_0',\n",
      "       'IQR_window_50_0', 'Q1_window_50_0', 'Q3_window_50_0',\n",
      "       'kurtosis_window_50_0',\n",
      "       ...\n",
      "       'std_window_100_26', 'median_window_100_26', 'max_window_100_26',\n",
      "       'min_window_100_26', 'range_window_100_26', 'IQR_window_100_26',\n",
      "       'Q1_window_100_26', 'Q3_window_100_26', 'kurtosis_window_100_26',\n",
      "       'skewness_window_100_26'],\n",
      "      dtype='object', length=902)\n"
     ]
    }
   ],
   "source": [
    "print(numeric)"
   ]
  },
  {
   "cell_type": "code",
   "execution_count": 124,
   "metadata": {},
   "outputs": [],
   "source": [
    "import pandas as pd\n",
    "from sklearn.feature_selection import VarianceThreshold\n",
    "from sklearn.preprocessing import OneHotEncoder, MinMaxScaler\n",
    "from sklearn.compose import ColumnTransformer\n",
    "from sklearn.pipeline import Pipeline\n",
    "\n",
    "# Definir las columnas numéricas y categóricas\n",
    "numeric = X_train.select_dtypes([\"float64\", \"int32\"]).columns\n",
    "categorical = X_train.select_dtypes([\"object\"]).columns\n",
    "\n",
    "# Pipelines para columnas numéricas y categóricas\n",
    "numeric_transformations = Pipeline([\n",
    "    ('scaler', MinMaxScaler())  # Escalado MinMax para columnas numéricas\n",
    "])\n",
    "\n",
    "categoric_transformations = Pipeline([\n",
    "    ('category_one_hot', OneHotEncoder(sparse_output=False, handle_unknown=\"ignore\"))  # Codificación OneHot para categóricas\n",
    "])\n",
    "\n",
    "# Preprocessor: combinación de los pipelines numéricos y categóricos\n",
    "preprocessor = ColumnTransformer(transformers=[\n",
    "    ('numerical', numeric_transformations, numeric),\n",
    "    ('categorical', categoric_transformations, categorical)\n",
    "])"
   ]
  },
  {
   "cell_type": "code",
   "execution_count": 125,
   "metadata": {},
   "outputs": [
    {
     "data": {
      "text/html": [
       "<div>\n",
       "<style scoped>\n",
       "    .dataframe tbody tr th:only-of-type {\n",
       "        vertical-align: middle;\n",
       "    }\n",
       "\n",
       "    .dataframe tbody tr th {\n",
       "        vertical-align: top;\n",
       "    }\n",
       "\n",
       "    .dataframe thead th {\n",
       "        text-align: right;\n",
       "    }\n",
       "</style>\n",
       "<table border=\"1\" class=\"dataframe\">\n",
       "  <thead>\n",
       "    <tr style=\"text-align: right;\">\n",
       "      <th></th>\n",
       "      <th>mean_window_50_0</th>\n",
       "      <th>std_window_50_0</th>\n",
       "      <th>median_window_50_0</th>\n",
       "      <th>max_window_50_0</th>\n",
       "      <th>min_window_50_0</th>\n",
       "      <th>range_window_50_0</th>\n",
       "      <th>IQR_window_50_0</th>\n",
       "      <th>Q1_window_50_0</th>\n",
       "      <th>Q3_window_50_0</th>\n",
       "      <th>kurtosis_window_50_0</th>\n",
       "      <th>...</th>\n",
       "      <th>kurtosis_window_100_26</th>\n",
       "      <th>skewness_window_100_26</th>\n",
       "      <th>eye_left</th>\n",
       "      <th>eye_right</th>\n",
       "      <th>stimuli_flash</th>\n",
       "      <th>stimuli_ramp</th>\n",
       "      <th>color_blue</th>\n",
       "      <th>color_green</th>\n",
       "      <th>color_red</th>\n",
       "      <th>color_white</th>\n",
       "    </tr>\n",
       "  </thead>\n",
       "  <tbody>\n",
       "    <tr>\n",
       "      <th>0</th>\n",
       "      <td>0.397068</td>\n",
       "      <td>0.580909</td>\n",
       "      <td>0.392106</td>\n",
       "      <td>0.527394</td>\n",
       "      <td>0.065959</td>\n",
       "      <td>0.684835</td>\n",
       "      <td>0.169115</td>\n",
       "      <td>0.361473</td>\n",
       "      <td>0.425043</td>\n",
       "      <td>0.290706</td>\n",
       "      <td>...</td>\n",
       "      <td>0.055323</td>\n",
       "      <td>0.468024</td>\n",
       "      <td>1.0</td>\n",
       "      <td>0.0</td>\n",
       "      <td>0.0</td>\n",
       "      <td>1.0</td>\n",
       "      <td>0.0</td>\n",
       "      <td>0.0</td>\n",
       "      <td>0.0</td>\n",
       "      <td>1.0</td>\n",
       "    </tr>\n",
       "    <tr>\n",
       "      <th>1</th>\n",
       "      <td>0.839182</td>\n",
       "      <td>0.121342</td>\n",
       "      <td>0.839991</td>\n",
       "      <td>0.680135</td>\n",
       "      <td>0.801298</td>\n",
       "      <td>0.092594</td>\n",
       "      <td>0.117226</td>\n",
       "      <td>0.816053</td>\n",
       "      <td>0.843438</td>\n",
       "      <td>0.042331</td>\n",
       "      <td>...</td>\n",
       "      <td>0.241393</td>\n",
       "      <td>0.258054</td>\n",
       "      <td>1.0</td>\n",
       "      <td>0.0</td>\n",
       "      <td>0.0</td>\n",
       "      <td>1.0</td>\n",
       "      <td>1.0</td>\n",
       "      <td>0.0</td>\n",
       "      <td>0.0</td>\n",
       "      <td>0.0</td>\n",
       "    </tr>\n",
       "    <tr>\n",
       "      <th>2</th>\n",
       "      <td>0.824274</td>\n",
       "      <td>0.100359</td>\n",
       "      <td>0.828437</td>\n",
       "      <td>0.655770</td>\n",
       "      <td>0.754096</td>\n",
       "      <td>0.110113</td>\n",
       "      <td>0.042309</td>\n",
       "      <td>0.823882</td>\n",
       "      <td>0.818151</td>\n",
       "      <td>0.540852</td>\n",
       "      <td>...</td>\n",
       "      <td>0.043883</td>\n",
       "      <td>0.584708</td>\n",
       "      <td>1.0</td>\n",
       "      <td>0.0</td>\n",
       "      <td>0.0</td>\n",
       "      <td>1.0</td>\n",
       "      <td>0.0</td>\n",
       "      <td>1.0</td>\n",
       "      <td>0.0</td>\n",
       "      <td>0.0</td>\n",
       "    </tr>\n",
       "    <tr>\n",
       "      <th>3</th>\n",
       "      <td>0.763589</td>\n",
       "      <td>0.335292</td>\n",
       "      <td>0.737090</td>\n",
       "      <td>0.674748</td>\n",
       "      <td>0.680772</td>\n",
       "      <td>0.217325</td>\n",
       "      <td>0.368261</td>\n",
       "      <td>0.691647</td>\n",
       "      <td>0.832893</td>\n",
       "      <td>0.007861</td>\n",
       "      <td>...</td>\n",
       "      <td>0.041981</td>\n",
       "      <td>0.540568</td>\n",
       "      <td>1.0</td>\n",
       "      <td>0.0</td>\n",
       "      <td>1.0</td>\n",
       "      <td>0.0</td>\n",
       "      <td>0.0</td>\n",
       "      <td>0.0</td>\n",
       "      <td>0.0</td>\n",
       "      <td>1.0</td>\n",
       "    </tr>\n",
       "    <tr>\n",
       "      <th>4</th>\n",
       "      <td>0.723096</td>\n",
       "      <td>0.290570</td>\n",
       "      <td>0.735004</td>\n",
       "      <td>0.678042</td>\n",
       "      <td>0.627586</td>\n",
       "      <td>0.280351</td>\n",
       "      <td>0.275040</td>\n",
       "      <td>0.660832</td>\n",
       "      <td>0.762068</td>\n",
       "      <td>0.084632</td>\n",
       "      <td>...</td>\n",
       "      <td>0.061218</td>\n",
       "      <td>0.532375</td>\n",
       "      <td>1.0</td>\n",
       "      <td>0.0</td>\n",
       "      <td>1.0</td>\n",
       "      <td>0.0</td>\n",
       "      <td>1.0</td>\n",
       "      <td>0.0</td>\n",
       "      <td>0.0</td>\n",
       "      <td>0.0</td>\n",
       "    </tr>\n",
       "  </tbody>\n",
       "</table>\n",
       "<p>5 rows × 910 columns</p>\n",
       "</div>"
      ],
      "text/plain": [
       "   mean_window_50_0  std_window_50_0  median_window_50_0  max_window_50_0  \\\n",
       "0          0.397068         0.580909            0.392106         0.527394   \n",
       "1          0.839182         0.121342            0.839991         0.680135   \n",
       "2          0.824274         0.100359            0.828437         0.655770   \n",
       "3          0.763589         0.335292            0.737090         0.674748   \n",
       "4          0.723096         0.290570            0.735004         0.678042   \n",
       "\n",
       "   min_window_50_0  range_window_50_0  IQR_window_50_0  Q1_window_50_0  \\\n",
       "0         0.065959           0.684835         0.169115        0.361473   \n",
       "1         0.801298           0.092594         0.117226        0.816053   \n",
       "2         0.754096           0.110113         0.042309        0.823882   \n",
       "3         0.680772           0.217325         0.368261        0.691647   \n",
       "4         0.627586           0.280351         0.275040        0.660832   \n",
       "\n",
       "   Q3_window_50_0  kurtosis_window_50_0  ...  kurtosis_window_100_26  \\\n",
       "0        0.425043              0.290706  ...                0.055323   \n",
       "1        0.843438              0.042331  ...                0.241393   \n",
       "2        0.818151              0.540852  ...                0.043883   \n",
       "3        0.832893              0.007861  ...                0.041981   \n",
       "4        0.762068              0.084632  ...                0.061218   \n",
       "\n",
       "   skewness_window_100_26  eye_left  eye_right  stimuli_flash  stimuli_ramp  \\\n",
       "0                0.468024       1.0        0.0            0.0           1.0   \n",
       "1                0.258054       1.0        0.0            0.0           1.0   \n",
       "2                0.584708       1.0        0.0            0.0           1.0   \n",
       "3                0.540568       1.0        0.0            1.0           0.0   \n",
       "4                0.532375       1.0        0.0            1.0           0.0   \n",
       "\n",
       "   color_blue  color_green  color_red  color_white  \n",
       "0         0.0          0.0        0.0          1.0  \n",
       "1         1.0          0.0        0.0          0.0  \n",
       "2         0.0          1.0        0.0          0.0  \n",
       "3         0.0          0.0        0.0          1.0  \n",
       "4         1.0          0.0        0.0          0.0  \n",
       "\n",
       "[5 rows x 910 columns]"
      ]
     },
     "execution_count": 125,
     "metadata": {},
     "output_type": "execute_result"
    }
   ],
   "source": [
    "# Aplicar el preprocessor (ajustar y transformar el conjunto de entrenamiento)\n",
    "X_train_transformed = preprocessor.fit_transform(X_train)\n",
    "\n",
    "# Obtener las categorías nuevas creadas por el OneHotEncoder\n",
    "onehot_columns = preprocessor.named_transformers_['categorical'].named_steps['category_one_hot'].get_feature_names_out(categorical)\n",
    "\n",
    "# Crear las columnas finales: numéricas + categóricas codificadas\n",
    "final_columns = list(numeric) + list(onehot_columns)\n",
    "\n",
    "# Convertir los datos transformados en un DataFrame para visualizar\n",
    "X_train_trans = pd.DataFrame(X_train_transformed, columns=final_columns)\n",
    "\n",
    "# Ver las primeras filas del DataFrame transformado\n",
    "X_train_trans.head()"
   ]
  },
  {
   "cell_type": "code",
   "execution_count": 126,
   "metadata": {},
   "outputs": [
    {
     "data": {
      "text/html": [
       "<div>\n",
       "<style scoped>\n",
       "    .dataframe tbody tr th:only-of-type {\n",
       "        vertical-align: middle;\n",
       "    }\n",
       "\n",
       "    .dataframe tbody tr th {\n",
       "        vertical-align: top;\n",
       "    }\n",
       "\n",
       "    .dataframe thead th {\n",
       "        text-align: right;\n",
       "    }\n",
       "</style>\n",
       "<table border=\"1\" class=\"dataframe\">\n",
       "  <thead>\n",
       "    <tr style=\"text-align: right;\">\n",
       "      <th></th>\n",
       "      <th>mean_window_50_0</th>\n",
       "      <th>std_window_50_0</th>\n",
       "      <th>median_window_50_0</th>\n",
       "      <th>max_window_50_0</th>\n",
       "      <th>min_window_50_0</th>\n",
       "      <th>range_window_50_0</th>\n",
       "      <th>IQR_window_50_0</th>\n",
       "      <th>Q1_window_50_0</th>\n",
       "      <th>Q3_window_50_0</th>\n",
       "      <th>kurtosis_window_50_0</th>\n",
       "      <th>...</th>\n",
       "      <th>kurtosis_window_100_26</th>\n",
       "      <th>skewness_window_100_26</th>\n",
       "      <th>eye_left</th>\n",
       "      <th>eye_right</th>\n",
       "      <th>stimuli_flash</th>\n",
       "      <th>stimuli_ramp</th>\n",
       "      <th>color_blue</th>\n",
       "      <th>color_green</th>\n",
       "      <th>color_red</th>\n",
       "      <th>color_white</th>\n",
       "    </tr>\n",
       "  </thead>\n",
       "  <tbody>\n",
       "    <tr>\n",
       "      <th>0</th>\n",
       "      <td>0.659979</td>\n",
       "      <td>0.085511</td>\n",
       "      <td>0.648738</td>\n",
       "      <td>0.548093</td>\n",
       "      <td>0.694304</td>\n",
       "      <td>0.072631</td>\n",
       "      <td>0.030235</td>\n",
       "      <td>0.706828</td>\n",
       "      <td>0.591886</td>\n",
       "      <td>0.503858</td>\n",
       "      <td>...</td>\n",
       "      <td>0.157678</td>\n",
       "      <td>0.476571</td>\n",
       "      <td>1.0</td>\n",
       "      <td>0.0</td>\n",
       "      <td>1.0</td>\n",
       "      <td>0.0</td>\n",
       "      <td>0.0</td>\n",
       "      <td>0.0</td>\n",
       "      <td>0.0</td>\n",
       "      <td>1.0</td>\n",
       "    </tr>\n",
       "    <tr>\n",
       "      <th>1</th>\n",
       "      <td>0.681114</td>\n",
       "      <td>0.028306</td>\n",
       "      <td>0.656642</td>\n",
       "      <td>0.559253</td>\n",
       "      <td>0.766610</td>\n",
       "      <td>0.019099</td>\n",
       "      <td>0.026574</td>\n",
       "      <td>0.719959</td>\n",
       "      <td>0.602857</td>\n",
       "      <td>0.127586</td>\n",
       "      <td>...</td>\n",
       "      <td>0.152532</td>\n",
       "      <td>0.338508</td>\n",
       "      <td>1.0</td>\n",
       "      <td>0.0</td>\n",
       "      <td>0.0</td>\n",
       "      <td>1.0</td>\n",
       "      <td>1.0</td>\n",
       "      <td>0.0</td>\n",
       "      <td>0.0</td>\n",
       "      <td>0.0</td>\n",
       "    </tr>\n",
       "    <tr>\n",
       "      <th>2</th>\n",
       "      <td>0.556819</td>\n",
       "      <td>0.369738</td>\n",
       "      <td>0.539924</td>\n",
       "      <td>0.568883</td>\n",
       "      <td>0.527447</td>\n",
       "      <td>0.230838</td>\n",
       "      <td>0.417349</td>\n",
       "      <td>0.487016</td>\n",
       "      <td>0.595381</td>\n",
       "      <td>0.010855</td>\n",
       "      <td>...</td>\n",
       "      <td>0.385806</td>\n",
       "      <td>0.314333</td>\n",
       "      <td>1.0</td>\n",
       "      <td>0.0</td>\n",
       "      <td>0.0</td>\n",
       "      <td>1.0</td>\n",
       "      <td>0.0</td>\n",
       "      <td>1.0</td>\n",
       "      <td>0.0</td>\n",
       "      <td>0.0</td>\n",
       "    </tr>\n",
       "    <tr>\n",
       "      <th>3</th>\n",
       "      <td>0.575024</td>\n",
       "      <td>0.391067</td>\n",
       "      <td>0.556964</td>\n",
       "      <td>0.595309</td>\n",
       "      <td>0.534768</td>\n",
       "      <td>0.244263</td>\n",
       "      <td>0.459285</td>\n",
       "      <td>0.498731</td>\n",
       "      <td>0.631129</td>\n",
       "      <td>0.017219</td>\n",
       "      <td>...</td>\n",
       "      <td>0.267265</td>\n",
       "      <td>0.256291</td>\n",
       "      <td>1.0</td>\n",
       "      <td>0.0</td>\n",
       "      <td>1.0</td>\n",
       "      <td>0.0</td>\n",
       "      <td>1.0</td>\n",
       "      <td>0.0</td>\n",
       "      <td>0.0</td>\n",
       "      <td>0.0</td>\n",
       "    </tr>\n",
       "    <tr>\n",
       "      <th>4</th>\n",
       "      <td>0.672549</td>\n",
       "      <td>0.035599</td>\n",
       "      <td>0.654153</td>\n",
       "      <td>0.550270</td>\n",
       "      <td>0.752055</td>\n",
       "      <td>0.024856</td>\n",
       "      <td>0.036315</td>\n",
       "      <td>0.708381</td>\n",
       "      <td>0.596925</td>\n",
       "      <td>0.058581</td>\n",
       "      <td>...</td>\n",
       "      <td>0.013856</td>\n",
       "      <td>0.609919</td>\n",
       "      <td>1.0</td>\n",
       "      <td>0.0</td>\n",
       "      <td>0.0</td>\n",
       "      <td>1.0</td>\n",
       "      <td>0.0</td>\n",
       "      <td>0.0</td>\n",
       "      <td>1.0</td>\n",
       "      <td>0.0</td>\n",
       "    </tr>\n",
       "  </tbody>\n",
       "</table>\n",
       "<p>5 rows × 910 columns</p>\n",
       "</div>"
      ],
      "text/plain": [
       "   mean_window_50_0  std_window_50_0  median_window_50_0  max_window_50_0  \\\n",
       "0          0.659979         0.085511            0.648738         0.548093   \n",
       "1          0.681114         0.028306            0.656642         0.559253   \n",
       "2          0.556819         0.369738            0.539924         0.568883   \n",
       "3          0.575024         0.391067            0.556964         0.595309   \n",
       "4          0.672549         0.035599            0.654153         0.550270   \n",
       "\n",
       "   min_window_50_0  range_window_50_0  IQR_window_50_0  Q1_window_50_0  \\\n",
       "0         0.694304           0.072631         0.030235        0.706828   \n",
       "1         0.766610           0.019099         0.026574        0.719959   \n",
       "2         0.527447           0.230838         0.417349        0.487016   \n",
       "3         0.534768           0.244263         0.459285        0.498731   \n",
       "4         0.752055           0.024856         0.036315        0.708381   \n",
       "\n",
       "   Q3_window_50_0  kurtosis_window_50_0  ...  kurtosis_window_100_26  \\\n",
       "0        0.591886              0.503858  ...                0.157678   \n",
       "1        0.602857              0.127586  ...                0.152532   \n",
       "2        0.595381              0.010855  ...                0.385806   \n",
       "3        0.631129              0.017219  ...                0.267265   \n",
       "4        0.596925              0.058581  ...                0.013856   \n",
       "\n",
       "   skewness_window_100_26  eye_left  eye_right  stimuli_flash  stimuli_ramp  \\\n",
       "0                0.476571       1.0        0.0            1.0           0.0   \n",
       "1                0.338508       1.0        0.0            0.0           1.0   \n",
       "2                0.314333       1.0        0.0            0.0           1.0   \n",
       "3                0.256291       1.0        0.0            1.0           0.0   \n",
       "4                0.609919       1.0        0.0            0.0           1.0   \n",
       "\n",
       "   color_blue  color_green  color_red  color_white  \n",
       "0         0.0          0.0        0.0          1.0  \n",
       "1         1.0          0.0        0.0          0.0  \n",
       "2         0.0          1.0        0.0          0.0  \n",
       "3         1.0          0.0        0.0          0.0  \n",
       "4         0.0          0.0        1.0          0.0  \n",
       "\n",
       "[5 rows x 910 columns]"
      ]
     },
     "execution_count": 126,
     "metadata": {},
     "output_type": "execute_result"
    }
   ],
   "source": [
    "# Aplicar el preprocessor (ajustar y transformar el conjunto de entrenamiento)\n",
    "X_test_transformed = preprocessor.fit_transform(X_test)\n",
    "\n",
    "# Obtener las categorías nuevas creadas por el OneHotEncoder\n",
    "onehot_columns = preprocessor.named_transformers_['categorical'].named_steps['category_one_hot'].get_feature_names_out(categorical)\n",
    "\n",
    "# Crear las columnas finales: numéricas + categóricas codificadas\n",
    "final_columns = list(numeric) + list(onehot_columns)\n",
    "\n",
    "# Convertir los datos transformados en un DataFrame para visualizar\n",
    "X_test_trans = pd.DataFrame(X_test_transformed, columns=final_columns)\n",
    "\n",
    "# Ver las primeras filas del DataFrame transformado\n",
    "X_test_trans.head()"
   ]
  },
  {
   "cell_type": "code",
   "execution_count": 127,
   "metadata": {},
   "outputs": [
    {
     "data": {
      "text/html": [
       "<div>\n",
       "<style scoped>\n",
       "    .dataframe tbody tr th:only-of-type {\n",
       "        vertical-align: middle;\n",
       "    }\n",
       "\n",
       "    .dataframe tbody tr th {\n",
       "        vertical-align: top;\n",
       "    }\n",
       "\n",
       "    .dataframe thead th {\n",
       "        text-align: right;\n",
       "    }\n",
       "</style>\n",
       "<table border=\"1\" class=\"dataframe\">\n",
       "  <thead>\n",
       "    <tr style=\"text-align: right;\">\n",
       "      <th></th>\n",
       "      <th>eye</th>\n",
       "      <th>stimuli</th>\n",
       "      <th>color</th>\n",
       "      <th>mean_window_50_0</th>\n",
       "      <th>std_window_50_0</th>\n",
       "      <th>median_window_50_0</th>\n",
       "      <th>max_window_50_0</th>\n",
       "      <th>min_window_50_0</th>\n",
       "      <th>range_window_50_0</th>\n",
       "      <th>IQR_window_50_0</th>\n",
       "      <th>...</th>\n",
       "      <th>std_window_100_26</th>\n",
       "      <th>median_window_100_26</th>\n",
       "      <th>max_window_100_26</th>\n",
       "      <th>min_window_100_26</th>\n",
       "      <th>range_window_100_26</th>\n",
       "      <th>IQR_window_100_26</th>\n",
       "      <th>Q1_window_100_26</th>\n",
       "      <th>Q3_window_100_26</th>\n",
       "      <th>kurtosis_window_100_26</th>\n",
       "      <th>skewness_window_100_26</th>\n",
       "    </tr>\n",
       "  </thead>\n",
       "  <tbody>\n",
       "    <tr>\n",
       "      <th>0</th>\n",
       "      <td>left</td>\n",
       "      <td>ramp</td>\n",
       "      <td>white</td>\n",
       "      <td>31.394663</td>\n",
       "      <td>7.330628</td>\n",
       "      <td>31.112307</td>\n",
       "      <td>46.795632</td>\n",
       "      <td>12.854402</td>\n",
       "      <td>33.941230</td>\n",
       "      <td>4.109362</td>\n",
       "      <td>...</td>\n",
       "      <td>6.222775</td>\n",
       "      <td>47.949744</td>\n",
       "      <td>54.710644</td>\n",
       "      <td>35.675227</td>\n",
       "      <td>19.035417</td>\n",
       "      <td>11.369135</td>\n",
       "      <td>42.452454</td>\n",
       "      <td>53.821590</td>\n",
       "      <td>-0.995919</td>\n",
       "      <td>-0.496738</td>\n",
       "    </tr>\n",
       "    <tr>\n",
       "      <th>1</th>\n",
       "      <td>left</td>\n",
       "      <td>ramp</td>\n",
       "      <td>blue</td>\n",
       "      <td>55.216501</td>\n",
       "      <td>1.531317</td>\n",
       "      <td>55.227985</td>\n",
       "      <td>57.452084</td>\n",
       "      <td>52.862637</td>\n",
       "      <td>4.589447</td>\n",
       "      <td>2.848524</td>\n",
       "      <td>...</td>\n",
       "      <td>6.252377</td>\n",
       "      <td>51.219999</td>\n",
       "      <td>54.903867</td>\n",
       "      <td>31.493067</td>\n",
       "      <td>23.410801</td>\n",
       "      <td>3.709111</td>\n",
       "      <td>50.004771</td>\n",
       "      <td>53.713883</td>\n",
       "      <td>1.506247</td>\n",
       "      <td>-1.639840</td>\n",
       "    </tr>\n",
       "    <tr>\n",
       "      <th>2</th>\n",
       "      <td>left</td>\n",
       "      <td>ramp</td>\n",
       "      <td>green</td>\n",
       "      <td>54.413234</td>\n",
       "      <td>1.266537</td>\n",
       "      <td>54.605837</td>\n",
       "      <td>55.752185</td>\n",
       "      <td>50.294484</td>\n",
       "      <td>5.457700</td>\n",
       "      <td>1.028158</td>\n",
       "      <td>...</td>\n",
       "      <td>3.456245</td>\n",
       "      <td>51.194921</td>\n",
       "      <td>57.635150</td>\n",
       "      <td>44.984027</td>\n",
       "      <td>12.651123</td>\n",
       "      <td>5.930505</td>\n",
       "      <td>49.193261</td>\n",
       "      <td>55.123766</td>\n",
       "      <td>-1.149759</td>\n",
       "      <td>0.138510</td>\n",
       "    </tr>\n",
       "    <tr>\n",
       "      <th>3</th>\n",
       "      <td>left</td>\n",
       "      <td>flash</td>\n",
       "      <td>white</td>\n",
       "      <td>51.143455</td>\n",
       "      <td>4.231166</td>\n",
       "      <td>49.687418</td>\n",
       "      <td>57.076212</td>\n",
       "      <td>46.305057</td>\n",
       "      <td>10.771155</td>\n",
       "      <td>8.948320</td>\n",
       "      <td>...</td>\n",
       "      <td>7.920004</td>\n",
       "      <td>46.859924</td>\n",
       "      <td>58.301876</td>\n",
       "      <td>33.211007</td>\n",
       "      <td>25.090869</td>\n",
       "      <td>12.164597</td>\n",
       "      <td>39.358046</td>\n",
       "      <td>51.522643</td>\n",
       "      <td>-1.175331</td>\n",
       "      <td>-0.101796</td>\n",
       "    </tr>\n",
       "    <tr>\n",
       "      <th>4</th>\n",
       "      <td>left</td>\n",
       "      <td>flash</td>\n",
       "      <td>blue</td>\n",
       "      <td>48.961582</td>\n",
       "      <td>3.666817</td>\n",
       "      <td>49.575101</td>\n",
       "      <td>57.306089</td>\n",
       "      <td>43.411308</td>\n",
       "      <td>13.894781</td>\n",
       "      <td>6.683184</td>\n",
       "      <td>...</td>\n",
       "      <td>2.960709</td>\n",
       "      <td>51.783334</td>\n",
       "      <td>56.676868</td>\n",
       "      <td>46.228285</td>\n",
       "      <td>10.448583</td>\n",
       "      <td>4.500076</td>\n",
       "      <td>49.678934</td>\n",
       "      <td>54.179010</td>\n",
       "      <td>-0.916635</td>\n",
       "      <td>-0.146403</td>\n",
       "    </tr>\n",
       "  </tbody>\n",
       "</table>\n",
       "<p>5 rows × 905 columns</p>\n",
       "</div>"
      ],
      "text/plain": [
       "    eye stimuli  color  mean_window_50_0  std_window_50_0  median_window_50_0  \\\n",
       "0  left    ramp  white         31.394663         7.330628           31.112307   \n",
       "1  left    ramp   blue         55.216501         1.531317           55.227985   \n",
       "2  left    ramp  green         54.413234         1.266537           54.605837   \n",
       "3  left   flash  white         51.143455         4.231166           49.687418   \n",
       "4  left   flash   blue         48.961582         3.666817           49.575101   \n",
       "\n",
       "   max_window_50_0  min_window_50_0  range_window_50_0  IQR_window_50_0  ...  \\\n",
       "0        46.795632        12.854402          33.941230         4.109362  ...   \n",
       "1        57.452084        52.862637           4.589447         2.848524  ...   \n",
       "2        55.752185        50.294484           5.457700         1.028158  ...   \n",
       "3        57.076212        46.305057          10.771155         8.948320  ...   \n",
       "4        57.306089        43.411308          13.894781         6.683184  ...   \n",
       "\n",
       "   std_window_100_26  median_window_100_26  max_window_100_26  \\\n",
       "0           6.222775             47.949744          54.710644   \n",
       "1           6.252377             51.219999          54.903867   \n",
       "2           3.456245             51.194921          57.635150   \n",
       "3           7.920004             46.859924          58.301876   \n",
       "4           2.960709             51.783334          56.676868   \n",
       "\n",
       "   min_window_100_26  range_window_100_26  IQR_window_100_26  \\\n",
       "0          35.675227            19.035417          11.369135   \n",
       "1          31.493067            23.410801           3.709111   \n",
       "2          44.984027            12.651123           5.930505   \n",
       "3          33.211007            25.090869          12.164597   \n",
       "4          46.228285            10.448583           4.500076   \n",
       "\n",
       "   Q1_window_100_26  Q3_window_100_26  kurtosis_window_100_26  \\\n",
       "0         42.452454         53.821590               -0.995919   \n",
       "1         50.004771         53.713883                1.506247   \n",
       "2         49.193261         55.123766               -1.149759   \n",
       "3         39.358046         51.522643               -1.175331   \n",
       "4         49.678934         54.179010               -0.916635   \n",
       "\n",
       "   skewness_window_100_26  \n",
       "0               -0.496738  \n",
       "1               -1.639840  \n",
       "2                0.138510  \n",
       "3               -0.101796  \n",
       "4               -0.146403  \n",
       "\n",
       "[5 rows x 905 columns]"
      ]
     },
     "execution_count": 127,
     "metadata": {},
     "output_type": "execute_result"
    }
   ],
   "source": [
    "X_train.head()"
   ]
  },
  {
   "cell_type": "code",
   "execution_count": 128,
   "metadata": {},
   "outputs": [
    {
     "name": "stdout",
     "output_type": "stream",
     "text": [
      "Total de valores nulos en el dataset: 0\n"
     ]
    }
   ],
   "source": [
    "total_nulls = X_train.isnull().sum().sum()\n",
    "print(f\"Total de valores nulos en el dataset: {total_nulls}\")"
   ]
  },
  {
   "cell_type": "code",
   "execution_count": 129,
   "metadata": {},
   "outputs": [],
   "source": [
    "import plotly.graph_objects as go\n",
    "from sklearn.metrics import accuracy_score\n",
    "\n",
    "def plot_training(model, X_test, y_test):\n",
    "    y_pred = model.predict(X_test)\n",
    "    predictions = [round(value, 2) for value in y_pred]\n",
    "\n",
    "    # Evaluamos los modelos\n",
    "    accuracy = accuracy_score(y_test, predictions)\n",
    "    print(\"Accuracy: %.2f%%\" % (accuracy * 100.0))\n",
    "\n",
    "    results = model.evals_result()\n",
    "    epochs = len(results['validation_0']['error'])\n",
    "\n",
    "    # Log Loss Plot\n",
    "    fig = go.Figure()\n",
    "    fig.add_trace(go.Scatter(x=list(range(epochs)), y=results['validation_0']['logloss'],\n",
    "                             mode='lines', name='Train Log Loss'))\n",
    "    fig.add_trace(go.Scatter(x=list(range(epochs)), y=results['validation_1']['logloss'],\n",
    "                             mode='lines', name='Test Log Loss'))\n",
    "    fig.update_layout(title='XGBoost Log Loss Over Epochs',\n",
    "                      template='simple_white',\n",
    "                      xaxis_title='Epoch',\n",
    "                      yaxis_title='Log Loss',\n",
    "                      legend_title='Dataset')\n",
    "    fig.show()\n",
    "\n",
    "    # Classification Error Plot\n",
    "    fig = go.Figure()\n",
    "    fig.add_trace(go.Scatter(x=list(range(epochs)), y=results['validation_0']['error'],\n",
    "                             mode='lines', name='Train Error'))\n",
    "    fig.add_trace(go.Scatter(x=list(range(epochs)), y=results['validation_1']['error'],\n",
    "                             mode='lines', name='Test Error'))\n",
    "    fig.update_layout(title='XGBoost Classification Error Over Epochs',\n",
    "                      template='simple_white',\n",
    "                      xaxis_title='Epoch',\n",
    "                      yaxis_title='Classification Error',\n",
    "                      legend_title='Dataset')\n",
    "    fig.show()"
   ]
  },
  {
   "cell_type": "markdown",
   "metadata": {},
   "source": [
    "## Pre select"
   ]
  },
  {
   "cell_type": "code",
   "execution_count": 362,
   "metadata": {},
   "outputs": [
    {
     "data": {
      "text/html": [
       "<div>\n",
       "<style scoped>\n",
       "    .dataframe tbody tr th:only-of-type {\n",
       "        vertical-align: middle;\n",
       "    }\n",
       "\n",
       "    .dataframe tbody tr th {\n",
       "        vertical-align: top;\n",
       "    }\n",
       "\n",
       "    .dataframe thead th {\n",
       "        text-align: right;\n",
       "    }\n",
       "</style>\n",
       "<table border=\"1\" class=\"dataframe\">\n",
       "  <thead>\n",
       "    <tr style=\"text-align: right;\">\n",
       "      <th></th>\n",
       "      <th>id</th>\n",
       "      <th>eye</th>\n",
       "      <th>stimuli</th>\n",
       "      <th>color</th>\n",
       "      <th>glaucoma</th>\n",
       "      <th>mean_window_50_0</th>\n",
       "      <th>std_window_50_0</th>\n",
       "      <th>median_window_50_0</th>\n",
       "      <th>max_window_50_0</th>\n",
       "      <th>min_window_50_0</th>\n",
       "      <th>...</th>\n",
       "      <th>std_window_100_26</th>\n",
       "      <th>median_window_100_26</th>\n",
       "      <th>max_window_100_26</th>\n",
       "      <th>min_window_100_26</th>\n",
       "      <th>range_window_100_26</th>\n",
       "      <th>IQR_window_100_26</th>\n",
       "      <th>Q1_window_100_26</th>\n",
       "      <th>Q3_window_100_26</th>\n",
       "      <th>kurtosis_window_100_26</th>\n",
       "      <th>skewness_window_100_26</th>\n",
       "    </tr>\n",
       "  </thead>\n",
       "  <tbody>\n",
       "    <tr>\n",
       "      <th>0</th>\n",
       "      <td>C001</td>\n",
       "      <td>left</td>\n",
       "      <td>ramp</td>\n",
       "      <td>white</td>\n",
       "      <td>no</td>\n",
       "      <td>31.394663</td>\n",
       "      <td>7.330628</td>\n",
       "      <td>31.112307</td>\n",
       "      <td>46.795632</td>\n",
       "      <td>12.854402</td>\n",
       "      <td>...</td>\n",
       "      <td>6.222775</td>\n",
       "      <td>47.949744</td>\n",
       "      <td>54.710644</td>\n",
       "      <td>35.675227</td>\n",
       "      <td>19.035417</td>\n",
       "      <td>11.369135</td>\n",
       "      <td>42.452454</td>\n",
       "      <td>53.821590</td>\n",
       "      <td>-0.995919</td>\n",
       "      <td>-0.496738</td>\n",
       "    </tr>\n",
       "    <tr>\n",
       "      <th>1</th>\n",
       "      <td>C001</td>\n",
       "      <td>left</td>\n",
       "      <td>ramp</td>\n",
       "      <td>blue</td>\n",
       "      <td>no</td>\n",
       "      <td>55.216501</td>\n",
       "      <td>1.531317</td>\n",
       "      <td>55.227985</td>\n",
       "      <td>57.452084</td>\n",
       "      <td>52.862637</td>\n",
       "      <td>...</td>\n",
       "      <td>6.252377</td>\n",
       "      <td>51.219999</td>\n",
       "      <td>54.903867</td>\n",
       "      <td>31.493067</td>\n",
       "      <td>23.410801</td>\n",
       "      <td>3.709111</td>\n",
       "      <td>50.004771</td>\n",
       "      <td>53.713883</td>\n",
       "      <td>1.506247</td>\n",
       "      <td>-1.639840</td>\n",
       "    </tr>\n",
       "    <tr>\n",
       "      <th>2</th>\n",
       "      <td>C001</td>\n",
       "      <td>left</td>\n",
       "      <td>ramp</td>\n",
       "      <td>green</td>\n",
       "      <td>no</td>\n",
       "      <td>54.413234</td>\n",
       "      <td>1.266537</td>\n",
       "      <td>54.605837</td>\n",
       "      <td>55.752185</td>\n",
       "      <td>50.294484</td>\n",
       "      <td>...</td>\n",
       "      <td>3.456245</td>\n",
       "      <td>51.194921</td>\n",
       "      <td>57.635150</td>\n",
       "      <td>44.984027</td>\n",
       "      <td>12.651123</td>\n",
       "      <td>5.930505</td>\n",
       "      <td>49.193261</td>\n",
       "      <td>55.123766</td>\n",
       "      <td>-1.149759</td>\n",
       "      <td>0.138510</td>\n",
       "    </tr>\n",
       "    <tr>\n",
       "      <th>3</th>\n",
       "      <td>C001</td>\n",
       "      <td>left</td>\n",
       "      <td>flash</td>\n",
       "      <td>white</td>\n",
       "      <td>no</td>\n",
       "      <td>51.143455</td>\n",
       "      <td>4.231166</td>\n",
       "      <td>49.687418</td>\n",
       "      <td>57.076212</td>\n",
       "      <td>46.305057</td>\n",
       "      <td>...</td>\n",
       "      <td>7.920004</td>\n",
       "      <td>46.859924</td>\n",
       "      <td>58.301876</td>\n",
       "      <td>33.211007</td>\n",
       "      <td>25.090869</td>\n",
       "      <td>12.164597</td>\n",
       "      <td>39.358046</td>\n",
       "      <td>51.522643</td>\n",
       "      <td>-1.175331</td>\n",
       "      <td>-0.101796</td>\n",
       "    </tr>\n",
       "    <tr>\n",
       "      <th>4</th>\n",
       "      <td>C001</td>\n",
       "      <td>left</td>\n",
       "      <td>flash</td>\n",
       "      <td>blue</td>\n",
       "      <td>no</td>\n",
       "      <td>48.961582</td>\n",
       "      <td>3.666817</td>\n",
       "      <td>49.575101</td>\n",
       "      <td>57.306089</td>\n",
       "      <td>43.411308</td>\n",
       "      <td>...</td>\n",
       "      <td>2.960709</td>\n",
       "      <td>51.783334</td>\n",
       "      <td>56.676868</td>\n",
       "      <td>46.228285</td>\n",
       "      <td>10.448583</td>\n",
       "      <td>4.500076</td>\n",
       "      <td>49.678934</td>\n",
       "      <td>54.179010</td>\n",
       "      <td>-0.916635</td>\n",
       "      <td>-0.146403</td>\n",
       "    </tr>\n",
       "    <tr>\n",
       "      <th>...</th>\n",
       "      <td>...</td>\n",
       "      <td>...</td>\n",
       "      <td>...</td>\n",
       "      <td>...</td>\n",
       "      <td>...</td>\n",
       "      <td>...</td>\n",
       "      <td>...</td>\n",
       "      <td>...</td>\n",
       "      <td>...</td>\n",
       "      <td>...</td>\n",
       "      <td>...</td>\n",
       "      <td>...</td>\n",
       "      <td>...</td>\n",
       "      <td>...</td>\n",
       "      <td>...</td>\n",
       "      <td>...</td>\n",
       "      <td>...</td>\n",
       "      <td>...</td>\n",
       "      <td>...</td>\n",
       "      <td>...</td>\n",
       "      <td>...</td>\n",
       "    </tr>\n",
       "    <tr>\n",
       "      <th>651</th>\n",
       "      <td>S020</td>\n",
       "      <td>right</td>\n",
       "      <td>flash</td>\n",
       "      <td>red</td>\n",
       "      <td>yes</td>\n",
       "      <td>47.464457</td>\n",
       "      <td>3.452431</td>\n",
       "      <td>48.845450</td>\n",
       "      <td>50.461556</td>\n",
       "      <td>37.985519</td>\n",
       "      <td>...</td>\n",
       "      <td>1.687447</td>\n",
       "      <td>49.779558</td>\n",
       "      <td>52.042778</td>\n",
       "      <td>46.972036</td>\n",
       "      <td>5.070742</td>\n",
       "      <td>3.392010</td>\n",
       "      <td>47.812960</td>\n",
       "      <td>51.204970</td>\n",
       "      <td>-1.494160</td>\n",
       "      <td>-0.124203</td>\n",
       "    </tr>\n",
       "    <tr>\n",
       "      <th>652</th>\n",
       "      <td>S020</td>\n",
       "      <td>right</td>\n",
       "      <td>ramp</td>\n",
       "      <td>red</td>\n",
       "      <td>yes</td>\n",
       "      <td>51.431310</td>\n",
       "      <td>0.636079</td>\n",
       "      <td>51.321317</td>\n",
       "      <td>53.695629</td>\n",
       "      <td>50.573754</td>\n",
       "      <td>...</td>\n",
       "      <td>1.714193</td>\n",
       "      <td>47.041743</td>\n",
       "      <td>50.761845</td>\n",
       "      <td>44.709128</td>\n",
       "      <td>6.052716</td>\n",
       "      <td>1.765820</td>\n",
       "      <td>45.939511</td>\n",
       "      <td>47.705331</td>\n",
       "      <td>-0.451365</td>\n",
       "      <td>0.578875</td>\n",
       "    </tr>\n",
       "    <tr>\n",
       "      <th>653</th>\n",
       "      <td>S020</td>\n",
       "      <td>right</td>\n",
       "      <td>flash</td>\n",
       "      <td>white</td>\n",
       "      <td>yes</td>\n",
       "      <td>50.382672</td>\n",
       "      <td>4.638326</td>\n",
       "      <td>51.780745</td>\n",
       "      <td>54.885753</td>\n",
       "      <td>38.495936</td>\n",
       "      <td>...</td>\n",
       "      <td>5.531275</td>\n",
       "      <td>50.364064</td>\n",
       "      <td>53.138309</td>\n",
       "      <td>34.932981</td>\n",
       "      <td>18.205328</td>\n",
       "      <td>5.712659</td>\n",
       "      <td>46.363168</td>\n",
       "      <td>52.075828</td>\n",
       "      <td>0.299607</td>\n",
       "      <td>-1.229694</td>\n",
       "    </tr>\n",
       "    <tr>\n",
       "      <th>654</th>\n",
       "      <td>S020</td>\n",
       "      <td>right</td>\n",
       "      <td>ramp</td>\n",
       "      <td>green</td>\n",
       "      <td>yes</td>\n",
       "      <td>30.495772</td>\n",
       "      <td>5.551310</td>\n",
       "      <td>31.181252</td>\n",
       "      <td>38.517663</td>\n",
       "      <td>13.563076</td>\n",
       "      <td>...</td>\n",
       "      <td>7.365816</td>\n",
       "      <td>49.290258</td>\n",
       "      <td>53.349617</td>\n",
       "      <td>29.833073</td>\n",
       "      <td>23.516543</td>\n",
       "      <td>9.242224</td>\n",
       "      <td>42.212531</td>\n",
       "      <td>51.454755</td>\n",
       "      <td>-0.221007</td>\n",
       "      <td>-1.112313</td>\n",
       "    </tr>\n",
       "    <tr>\n",
       "      <th>655</th>\n",
       "      <td>S020</td>\n",
       "      <td>right</td>\n",
       "      <td>flash</td>\n",
       "      <td>blue</td>\n",
       "      <td>yes</td>\n",
       "      <td>49.255201</td>\n",
       "      <td>3.171159</td>\n",
       "      <td>48.594387</td>\n",
       "      <td>54.098089</td>\n",
       "      <td>44.505955</td>\n",
       "      <td>...</td>\n",
       "      <td>6.029474</td>\n",
       "      <td>44.755037</td>\n",
       "      <td>52.321436</td>\n",
       "      <td>30.968425</td>\n",
       "      <td>21.353011</td>\n",
       "      <td>7.218863</td>\n",
       "      <td>41.324214</td>\n",
       "      <td>48.543077</td>\n",
       "      <td>-0.435728</td>\n",
       "      <td>-0.686400</td>\n",
       "    </tr>\n",
       "  </tbody>\n",
       "</table>\n",
       "<p>656 rows × 907 columns</p>\n",
       "</div>"
      ],
      "text/plain": [
       "       id    eye stimuli  color glaucoma  mean_window_50_0  std_window_50_0  \\\n",
       "0    C001   left    ramp  white       no         31.394663         7.330628   \n",
       "1    C001   left    ramp   blue       no         55.216501         1.531317   \n",
       "2    C001   left    ramp  green       no         54.413234         1.266537   \n",
       "3    C001   left   flash  white       no         51.143455         4.231166   \n",
       "4    C001   left   flash   blue       no         48.961582         3.666817   \n",
       "..    ...    ...     ...    ...      ...               ...              ...   \n",
       "651  S020  right   flash    red      yes         47.464457         3.452431   \n",
       "652  S020  right    ramp    red      yes         51.431310         0.636079   \n",
       "653  S020  right   flash  white      yes         50.382672         4.638326   \n",
       "654  S020  right    ramp  green      yes         30.495772         5.551310   \n",
       "655  S020  right   flash   blue      yes         49.255201         3.171159   \n",
       "\n",
       "     median_window_50_0  max_window_50_0  min_window_50_0  ...  \\\n",
       "0             31.112307        46.795632        12.854402  ...   \n",
       "1             55.227985        57.452084        52.862637  ...   \n",
       "2             54.605837        55.752185        50.294484  ...   \n",
       "3             49.687418        57.076212        46.305057  ...   \n",
       "4             49.575101        57.306089        43.411308  ...   \n",
       "..                  ...              ...              ...  ...   \n",
       "651           48.845450        50.461556        37.985519  ...   \n",
       "652           51.321317        53.695629        50.573754  ...   \n",
       "653           51.780745        54.885753        38.495936  ...   \n",
       "654           31.181252        38.517663        13.563076  ...   \n",
       "655           48.594387        54.098089        44.505955  ...   \n",
       "\n",
       "     std_window_100_26  median_window_100_26  max_window_100_26  \\\n",
       "0             6.222775             47.949744          54.710644   \n",
       "1             6.252377             51.219999          54.903867   \n",
       "2             3.456245             51.194921          57.635150   \n",
       "3             7.920004             46.859924          58.301876   \n",
       "4             2.960709             51.783334          56.676868   \n",
       "..                 ...                   ...                ...   \n",
       "651           1.687447             49.779558          52.042778   \n",
       "652           1.714193             47.041743          50.761845   \n",
       "653           5.531275             50.364064          53.138309   \n",
       "654           7.365816             49.290258          53.349617   \n",
       "655           6.029474             44.755037          52.321436   \n",
       "\n",
       "     min_window_100_26  range_window_100_26  IQR_window_100_26  \\\n",
       "0            35.675227            19.035417          11.369135   \n",
       "1            31.493067            23.410801           3.709111   \n",
       "2            44.984027            12.651123           5.930505   \n",
       "3            33.211007            25.090869          12.164597   \n",
       "4            46.228285            10.448583           4.500076   \n",
       "..                 ...                  ...                ...   \n",
       "651          46.972036             5.070742           3.392010   \n",
       "652          44.709128             6.052716           1.765820   \n",
       "653          34.932981            18.205328           5.712659   \n",
       "654          29.833073            23.516543           9.242224   \n",
       "655          30.968425            21.353011           7.218863   \n",
       "\n",
       "     Q1_window_100_26  Q3_window_100_26  kurtosis_window_100_26  \\\n",
       "0           42.452454         53.821590               -0.995919   \n",
       "1           50.004771         53.713883                1.506247   \n",
       "2           49.193261         55.123766               -1.149759   \n",
       "3           39.358046         51.522643               -1.175331   \n",
       "4           49.678934         54.179010               -0.916635   \n",
       "..                ...               ...                     ...   \n",
       "651         47.812960         51.204970               -1.494160   \n",
       "652         45.939511         47.705331               -0.451365   \n",
       "653         46.363168         52.075828                0.299607   \n",
       "654         42.212531         51.454755               -0.221007   \n",
       "655         41.324214         48.543077               -0.435728   \n",
       "\n",
       "     skewness_window_100_26  \n",
       "0                 -0.496738  \n",
       "1                 -1.639840  \n",
       "2                  0.138510  \n",
       "3                 -0.101796  \n",
       "4                 -0.146403  \n",
       "..                      ...  \n",
       "651               -0.124203  \n",
       "652                0.578875  \n",
       "653               -1.229694  \n",
       "654               -1.112313  \n",
       "655               -0.686400  \n",
       "\n",
       "[656 rows x 907 columns]"
      ]
     },
     "execution_count": 362,
     "metadata": {},
     "output_type": "execute_result"
    }
   ],
   "source": [
    "df = pd.read_csv(\"features_50_100_filt.csv\")\n",
    "df "
   ]
  },
  {
   "cell_type": "code",
   "execution_count": 363,
   "metadata": {},
   "outputs": [
    {
     "data": {
      "text/html": [
       "<div>\n",
       "<style scoped>\n",
       "    .dataframe tbody tr th:only-of-type {\n",
       "        vertical-align: middle;\n",
       "    }\n",
       "\n",
       "    .dataframe tbody tr th {\n",
       "        vertical-align: top;\n",
       "    }\n",
       "\n",
       "    .dataframe thead th {\n",
       "        text-align: right;\n",
       "    }\n",
       "</style>\n",
       "<table border=\"1\" class=\"dataframe\">\n",
       "  <thead>\n",
       "    <tr style=\"text-align: right;\">\n",
       "      <th></th>\n",
       "      <th>id</th>\n",
       "      <th>eye</th>\n",
       "      <th>stimuli</th>\n",
       "      <th>color</th>\n",
       "      <th>glaucoma</th>\n",
       "      <th>mean_window_50_0</th>\n",
       "      <th>std_window_50_0</th>\n",
       "      <th>median_window_50_0</th>\n",
       "      <th>max_window_50_0</th>\n",
       "      <th>min_window_50_0</th>\n",
       "      <th>...</th>\n",
       "      <th>std_window_100_26</th>\n",
       "      <th>median_window_100_26</th>\n",
       "      <th>max_window_100_26</th>\n",
       "      <th>min_window_100_26</th>\n",
       "      <th>range_window_100_26</th>\n",
       "      <th>IQR_window_100_26</th>\n",
       "      <th>Q1_window_100_26</th>\n",
       "      <th>Q3_window_100_26</th>\n",
       "      <th>kurtosis_window_100_26</th>\n",
       "      <th>skewness_window_100_26</th>\n",
       "    </tr>\n",
       "  </thead>\n",
       "  <tbody>\n",
       "    <tr>\n",
       "      <th>0</th>\n",
       "      <td>C001</td>\n",
       "      <td>left</td>\n",
       "      <td>ramp</td>\n",
       "      <td>white</td>\n",
       "      <td>no</td>\n",
       "      <td>31.394663</td>\n",
       "      <td>7.330628</td>\n",
       "      <td>31.112307</td>\n",
       "      <td>46.795632</td>\n",
       "      <td>12.854402</td>\n",
       "      <td>...</td>\n",
       "      <td>6.222775</td>\n",
       "      <td>47.949744</td>\n",
       "      <td>54.710644</td>\n",
       "      <td>35.675227</td>\n",
       "      <td>19.035417</td>\n",
       "      <td>11.369135</td>\n",
       "      <td>42.452454</td>\n",
       "      <td>53.821590</td>\n",
       "      <td>-0.995919</td>\n",
       "      <td>-0.496738</td>\n",
       "    </tr>\n",
       "    <tr>\n",
       "      <th>1</th>\n",
       "      <td>C001</td>\n",
       "      <td>left</td>\n",
       "      <td>ramp</td>\n",
       "      <td>blue</td>\n",
       "      <td>no</td>\n",
       "      <td>55.216501</td>\n",
       "      <td>1.531317</td>\n",
       "      <td>55.227985</td>\n",
       "      <td>57.452084</td>\n",
       "      <td>52.862637</td>\n",
       "      <td>...</td>\n",
       "      <td>6.252377</td>\n",
       "      <td>51.219999</td>\n",
       "      <td>54.903867</td>\n",
       "      <td>31.493067</td>\n",
       "      <td>23.410801</td>\n",
       "      <td>3.709111</td>\n",
       "      <td>50.004771</td>\n",
       "      <td>53.713883</td>\n",
       "      <td>1.506247</td>\n",
       "      <td>-1.639840</td>\n",
       "    </tr>\n",
       "    <tr>\n",
       "      <th>2</th>\n",
       "      <td>C001</td>\n",
       "      <td>left</td>\n",
       "      <td>ramp</td>\n",
       "      <td>green</td>\n",
       "      <td>no</td>\n",
       "      <td>54.413234</td>\n",
       "      <td>1.266537</td>\n",
       "      <td>54.605837</td>\n",
       "      <td>55.752185</td>\n",
       "      <td>50.294484</td>\n",
       "      <td>...</td>\n",
       "      <td>3.456245</td>\n",
       "      <td>51.194921</td>\n",
       "      <td>57.635150</td>\n",
       "      <td>44.984027</td>\n",
       "      <td>12.651123</td>\n",
       "      <td>5.930505</td>\n",
       "      <td>49.193261</td>\n",
       "      <td>55.123766</td>\n",
       "      <td>-1.149759</td>\n",
       "      <td>0.138510</td>\n",
       "    </tr>\n",
       "    <tr>\n",
       "      <th>5</th>\n",
       "      <td>C001</td>\n",
       "      <td>left</td>\n",
       "      <td>ramp</td>\n",
       "      <td>red</td>\n",
       "      <td>no</td>\n",
       "      <td>53.330861</td>\n",
       "      <td>1.338978</td>\n",
       "      <td>53.020281</td>\n",
       "      <td>56.593690</td>\n",
       "      <td>51.774765</td>\n",
       "      <td>...</td>\n",
       "      <td>2.103447</td>\n",
       "      <td>54.005639</td>\n",
       "      <td>55.880778</td>\n",
       "      <td>48.865336</td>\n",
       "      <td>7.015442</td>\n",
       "      <td>3.805166</td>\n",
       "      <td>51.213333</td>\n",
       "      <td>55.018499</td>\n",
       "      <td>-1.064306</td>\n",
       "      <td>-0.620778</td>\n",
       "    </tr>\n",
       "    <tr>\n",
       "      <th>8</th>\n",
       "      <td>C001</td>\n",
       "      <td>right</td>\n",
       "      <td>ramp</td>\n",
       "      <td>white</td>\n",
       "      <td>no</td>\n",
       "      <td>37.425386</td>\n",
       "      <td>6.175048</td>\n",
       "      <td>36.633445</td>\n",
       "      <td>46.983299</td>\n",
       "      <td>29.410794</td>\n",
       "      <td>...</td>\n",
       "      <td>3.398165</td>\n",
       "      <td>45.137282</td>\n",
       "      <td>50.264497</td>\n",
       "      <td>39.896611</td>\n",
       "      <td>10.367887</td>\n",
       "      <td>6.788679</td>\n",
       "      <td>42.203082</td>\n",
       "      <td>48.991762</td>\n",
       "      <td>-1.200749</td>\n",
       "      <td>0.020192</td>\n",
       "    </tr>\n",
       "  </tbody>\n",
       "</table>\n",
       "<p>5 rows × 907 columns</p>\n",
       "</div>"
      ],
      "text/plain": [
       "     id    eye stimuli  color glaucoma  mean_window_50_0  std_window_50_0  \\\n",
       "0  C001   left    ramp  white       no         31.394663         7.330628   \n",
       "1  C001   left    ramp   blue       no         55.216501         1.531317   \n",
       "2  C001   left    ramp  green       no         54.413234         1.266537   \n",
       "5  C001   left    ramp    red       no         53.330861         1.338978   \n",
       "8  C001  right    ramp  white       no         37.425386         6.175048   \n",
       "\n",
       "   median_window_50_0  max_window_50_0  min_window_50_0  ...  \\\n",
       "0           31.112307        46.795632        12.854402  ...   \n",
       "1           55.227985        57.452084        52.862637  ...   \n",
       "2           54.605837        55.752185        50.294484  ...   \n",
       "5           53.020281        56.593690        51.774765  ...   \n",
       "8           36.633445        46.983299        29.410794  ...   \n",
       "\n",
       "   std_window_100_26  median_window_100_26  max_window_100_26  \\\n",
       "0           6.222775             47.949744          54.710644   \n",
       "1           6.252377             51.219999          54.903867   \n",
       "2           3.456245             51.194921          57.635150   \n",
       "5           2.103447             54.005639          55.880778   \n",
       "8           3.398165             45.137282          50.264497   \n",
       "\n",
       "   min_window_100_26  range_window_100_26  IQR_window_100_26  \\\n",
       "0          35.675227            19.035417          11.369135   \n",
       "1          31.493067            23.410801           3.709111   \n",
       "2          44.984027            12.651123           5.930505   \n",
       "5          48.865336             7.015442           3.805166   \n",
       "8          39.896611            10.367887           6.788679   \n",
       "\n",
       "   Q1_window_100_26  Q3_window_100_26  kurtosis_window_100_26  \\\n",
       "0         42.452454         53.821590               -0.995919   \n",
       "1         50.004771         53.713883                1.506247   \n",
       "2         49.193261         55.123766               -1.149759   \n",
       "5         51.213333         55.018499               -1.064306   \n",
       "8         42.203082         48.991762               -1.200749   \n",
       "\n",
       "   skewness_window_100_26  \n",
       "0               -0.496738  \n",
       "1               -1.639840  \n",
       "2                0.138510  \n",
       "5               -0.620778  \n",
       "8                0.020192  \n",
       "\n",
       "[5 rows x 907 columns]"
      ]
     },
     "execution_count": 363,
     "metadata": {},
     "output_type": "execute_result"
    }
   ],
   "source": [
    "df = df[df['stimuli'] == 'ramp']\n",
    "df.head()"
   ]
  },
  {
   "cell_type": "markdown",
   "metadata": {},
   "source": [
    "### Primeras ventanas"
   ]
  },
  {
   "cell_type": "code",
   "execution_count": 215,
   "metadata": {},
   "outputs": [],
   "source": [
    "import pandas as pd\n",
    "\n",
    "def select_first_X_windows(dataset, X, window_size):\n",
    "    \"\"\"\n",
    "    Selecciona las primeras `X` ventanas de un dataset para un tamaño de ventana específico.\n",
    "\n",
    "    Parameters:\n",
    "    - dataset: El DataFrame que contiene las ventanas.\n",
    "    - X: El número de ventanas que se desean seleccionar.\n",
    "    - window_size: El tamaño de las ventanas (por ejemplo, 50, 100).\n",
    "\n",
    "    Returns:\n",
    "    - Un nuevo DataFrame con las primeras `X` ventanas seleccionadas.\n",
    "    \"\"\"\n",
    "    # Definir las columnas adicionales que quieres conservar\n",
    "    additional_columns = ['id', 'eye', 'stimuli', 'color', 'glaucoma']\n",
    "\n",
    "    # Seleccionar las columnas de las primeras X ventanas para el tamaño de ventana proporcionado\n",
    "    window_columns = [col for col in dataset.columns if f'window_{window_size}_' in col]\n",
    "    selected_columns = [col for col in window_columns if int(col.split('_')[-1]) < X]\n",
    "    \n",
    "    # Crear un nuevo DataFrame con las columnas adicionales y las ventanas seleccionadas\n",
    "    selected_columns = additional_columns + selected_columns\n",
    "    new_dataset = dataset[selected_columns]\n",
    "    \n",
    "    return new_dataset"
   ]
  },
  {
   "cell_type": "code",
   "execution_count": 222,
   "metadata": {},
   "outputs": [
    {
     "data": {
      "text/html": [
       "<div>\n",
       "<style scoped>\n",
       "    .dataframe tbody tr th:only-of-type {\n",
       "        vertical-align: middle;\n",
       "    }\n",
       "\n",
       "    .dataframe tbody tr th {\n",
       "        vertical-align: top;\n",
       "    }\n",
       "\n",
       "    .dataframe thead th {\n",
       "        text-align: right;\n",
       "    }\n",
       "</style>\n",
       "<table border=\"1\" class=\"dataframe\">\n",
       "  <thead>\n",
       "    <tr style=\"text-align: right;\">\n",
       "      <th></th>\n",
       "      <th>id</th>\n",
       "      <th>eye</th>\n",
       "      <th>stimuli</th>\n",
       "      <th>color</th>\n",
       "      <th>glaucoma</th>\n",
       "      <th>mean_window_15_0</th>\n",
       "      <th>std_window_15_0</th>\n",
       "      <th>median_window_15_0</th>\n",
       "      <th>max_window_15_0</th>\n",
       "      <th>min_window_15_0</th>\n",
       "      <th>...</th>\n",
       "      <th>std_window_15_39</th>\n",
       "      <th>median_window_15_39</th>\n",
       "      <th>max_window_15_39</th>\n",
       "      <th>min_window_15_39</th>\n",
       "      <th>range_window_15_39</th>\n",
       "      <th>IQR_window_15_39</th>\n",
       "      <th>Q1_window_15_39</th>\n",
       "      <th>Q3_window_15_39</th>\n",
       "      <th>kurtosis_window_15_39</th>\n",
       "      <th>skewness_window_15_39</th>\n",
       "    </tr>\n",
       "  </thead>\n",
       "  <tbody>\n",
       "    <tr>\n",
       "      <th>3</th>\n",
       "      <td>C001</td>\n",
       "      <td>left</td>\n",
       "      <td>flash</td>\n",
       "      <td>white</td>\n",
       "      <td>no</td>\n",
       "      <td>56.632651</td>\n",
       "      <td>0.458454</td>\n",
       "      <td>56.778895</td>\n",
       "      <td>57.076212</td>\n",
       "      <td>55.474919</td>\n",
       "      <td>...</td>\n",
       "      <td>0.461397</td>\n",
       "      <td>50.252934</td>\n",
       "      <td>51.252066</td>\n",
       "      <td>49.888643</td>\n",
       "      <td>1.363423</td>\n",
       "      <td>0.791180</td>\n",
       "      <td>49.955469</td>\n",
       "      <td>50.746649</td>\n",
       "      <td>-1.144847</td>\n",
       "      <td>0.534356</td>\n",
       "    </tr>\n",
       "    <tr>\n",
       "      <th>4</th>\n",
       "      <td>C001</td>\n",
       "      <td>left</td>\n",
       "      <td>flash</td>\n",
       "      <td>blue</td>\n",
       "      <td>no</td>\n",
       "      <td>48.552823</td>\n",
       "      <td>4.433509</td>\n",
       "      <td>47.394051</td>\n",
       "      <td>57.306089</td>\n",
       "      <td>43.467695</td>\n",
       "      <td>...</td>\n",
       "      <td>0.471252</td>\n",
       "      <td>50.121698</td>\n",
       "      <td>50.465325</td>\n",
       "      <td>48.976720</td>\n",
       "      <td>1.488605</td>\n",
       "      <td>0.689186</td>\n",
       "      <td>49.668317</td>\n",
       "      <td>50.357503</td>\n",
       "      <td>-0.698355</td>\n",
       "      <td>-0.761167</td>\n",
       "    </tr>\n",
       "    <tr>\n",
       "      <th>6</th>\n",
       "      <td>C001</td>\n",
       "      <td>left</td>\n",
       "      <td>flash</td>\n",
       "      <td>red</td>\n",
       "      <td>no</td>\n",
       "      <td>52.821906</td>\n",
       "      <td>1.120936</td>\n",
       "      <td>52.632349</td>\n",
       "      <td>54.856749</td>\n",
       "      <td>51.386691</td>\n",
       "      <td>...</td>\n",
       "      <td>1.289798</td>\n",
       "      <td>48.986172</td>\n",
       "      <td>50.294015</td>\n",
       "      <td>46.252600</td>\n",
       "      <td>4.041416</td>\n",
       "      <td>2.094491</td>\n",
       "      <td>47.745725</td>\n",
       "      <td>49.840217</td>\n",
       "      <td>-1.073131</td>\n",
       "      <td>-0.472739</td>\n",
       "    </tr>\n",
       "    <tr>\n",
       "      <th>7</th>\n",
       "      <td>C001</td>\n",
       "      <td>left</td>\n",
       "      <td>flash</td>\n",
       "      <td>green</td>\n",
       "      <td>no</td>\n",
       "      <td>52.349905</td>\n",
       "      <td>2.369912</td>\n",
       "      <td>51.811916</td>\n",
       "      <td>56.845262</td>\n",
       "      <td>49.527714</td>\n",
       "      <td>...</td>\n",
       "      <td>0.379407</td>\n",
       "      <td>49.677224</td>\n",
       "      <td>50.548975</td>\n",
       "      <td>49.399779</td>\n",
       "      <td>1.149195</td>\n",
       "      <td>0.623849</td>\n",
       "      <td>49.443869</td>\n",
       "      <td>50.067718</td>\n",
       "      <td>-0.957793</td>\n",
       "      <td>0.633952</td>\n",
       "    </tr>\n",
       "    <tr>\n",
       "      <th>11</th>\n",
       "      <td>C001</td>\n",
       "      <td>right</td>\n",
       "      <td>flash</td>\n",
       "      <td>white</td>\n",
       "      <td>no</td>\n",
       "      <td>49.792820</td>\n",
       "      <td>2.323190</td>\n",
       "      <td>49.630205</td>\n",
       "      <td>53.710995</td>\n",
       "      <td>46.398926</td>\n",
       "      <td>...</td>\n",
       "      <td>0.244736</td>\n",
       "      <td>44.951446</td>\n",
       "      <td>45.533717</td>\n",
       "      <td>44.739600</td>\n",
       "      <td>0.794117</td>\n",
       "      <td>0.388677</td>\n",
       "      <td>44.810140</td>\n",
       "      <td>45.198817</td>\n",
       "      <td>-0.854775</td>\n",
       "      <td>0.578963</td>\n",
       "    </tr>\n",
       "  </tbody>\n",
       "</table>\n",
       "<p>5 rows × 445 columns</p>\n",
       "</div>"
      ],
      "text/plain": [
       "      id    eye stimuli  color glaucoma  mean_window_15_0  std_window_15_0  \\\n",
       "3   C001   left   flash  white       no         56.632651         0.458454   \n",
       "4   C001   left   flash   blue       no         48.552823         4.433509   \n",
       "6   C001   left   flash    red       no         52.821906         1.120936   \n",
       "7   C001   left   flash  green       no         52.349905         2.369912   \n",
       "11  C001  right   flash  white       no         49.792820         2.323190   \n",
       "\n",
       "    median_window_15_0  max_window_15_0  min_window_15_0  ...  \\\n",
       "3            56.778895        57.076212        55.474919  ...   \n",
       "4            47.394051        57.306089        43.467695  ...   \n",
       "6            52.632349        54.856749        51.386691  ...   \n",
       "7            51.811916        56.845262        49.527714  ...   \n",
       "11           49.630205        53.710995        46.398926  ...   \n",
       "\n",
       "    std_window_15_39  median_window_15_39  max_window_15_39  min_window_15_39  \\\n",
       "3           0.461397            50.252934         51.252066         49.888643   \n",
       "4           0.471252            50.121698         50.465325         48.976720   \n",
       "6           1.289798            48.986172         50.294015         46.252600   \n",
       "7           0.379407            49.677224         50.548975         49.399779   \n",
       "11          0.244736            44.951446         45.533717         44.739600   \n",
       "\n",
       "    range_window_15_39  IQR_window_15_39  Q1_window_15_39  Q3_window_15_39  \\\n",
       "3             1.363423          0.791180        49.955469        50.746649   \n",
       "4             1.488605          0.689186        49.668317        50.357503   \n",
       "6             4.041416          2.094491        47.745725        49.840217   \n",
       "7             1.149195          0.623849        49.443869        50.067718   \n",
       "11            0.794117          0.388677        44.810140        45.198817   \n",
       "\n",
       "    kurtosis_window_15_39  skewness_window_15_39  \n",
       "3               -1.144847               0.534356  \n",
       "4               -0.698355              -0.761167  \n",
       "6               -1.073131              -0.472739  \n",
       "7               -0.957793               0.633952  \n",
       "11              -0.854775               0.578963  \n",
       "\n",
       "[5 rows x 445 columns]"
      ]
     },
     "execution_count": 222,
     "metadata": {},
     "output_type": "execute_result"
    }
   ],
   "source": [
    "df = select_first_X_windows(df, X=40, window_size=15)\n",
    "df.head()"
   ]
  },
  {
   "cell_type": "code",
   "execution_count": 110,
   "metadata": {},
   "outputs": [],
   "source": [
    "def select_windows_by_size(dataset, X, Y):\n",
    "    \"\"\"\n",
    "    Selecciona `X` ventanas del tamaño 50 y `Y` ventanas del tamaño 100.\n",
    "\n",
    "    Parameters:\n",
    "    - dataset: El DataFrame que contiene las ventanas.\n",
    "    - X: El número de ventanas del tamaño 50 que se desean seleccionar.\n",
    "    - Y: El número de ventanas del tamaño 100 que se desean seleccionar.\n",
    "\n",
    "    Returns:\n",
    "    - Un nuevo DataFrame con las primeras `X` ventanas de 50 y las primeras `Y` ventanas de 100.\n",
    "    \"\"\"\n",
    "    # Definir las columnas adicionales que quieres conservar\n",
    "    additional_columns = ['id', 'eye', 'stimuli', 'color', 'glaucoma']\n",
    "\n",
    "    # Seleccionar las columnas de las primeras X ventanas de tamaño 50\n",
    "    window_50_columns = [col for col in dataset.columns if 'window_50_' in col]\n",
    "    selected_50_columns = [col for col in window_50_columns if int(col.split('_')[-1]) < X]\n",
    "\n",
    "    # Seleccionar las columnas de las primeras Y ventanas de tamaño 100\n",
    "    window_100_columns = [col for col in dataset.columns if 'window_100_' in col]\n",
    "    selected_100_columns = [col for col in window_100_columns if int(col.split('_')[-1]) < Y]\n",
    "\n",
    "    # Crear un nuevo DataFrame con las columnas adicionales y las ventanas seleccionadas\n",
    "    selected_columns = additional_columns + selected_50_columns + selected_100_columns\n",
    "    new_dataset = dataset[selected_columns]\n",
    "\n",
    "    return new_dataset"
   ]
  },
  {
   "cell_type": "code",
   "execution_count": 234,
   "metadata": {},
   "outputs": [
    {
     "data": {
      "text/html": [
       "<div>\n",
       "<style scoped>\n",
       "    .dataframe tbody tr th:only-of-type {\n",
       "        vertical-align: middle;\n",
       "    }\n",
       "\n",
       "    .dataframe tbody tr th {\n",
       "        vertical-align: top;\n",
       "    }\n",
       "\n",
       "    .dataframe thead th {\n",
       "        text-align: right;\n",
       "    }\n",
       "</style>\n",
       "<table border=\"1\" class=\"dataframe\">\n",
       "  <thead>\n",
       "    <tr style=\"text-align: right;\">\n",
       "      <th></th>\n",
       "      <th>id</th>\n",
       "      <th>eye</th>\n",
       "      <th>stimuli</th>\n",
       "      <th>color</th>\n",
       "      <th>glaucoma</th>\n",
       "      <th>mean_window_50_0</th>\n",
       "      <th>std_window_50_0</th>\n",
       "      <th>median_window_50_0</th>\n",
       "      <th>max_window_50_0</th>\n",
       "      <th>min_window_50_0</th>\n",
       "      <th>...</th>\n",
       "      <th>std_window_100_5</th>\n",
       "      <th>median_window_100_5</th>\n",
       "      <th>max_window_100_5</th>\n",
       "      <th>min_window_100_5</th>\n",
       "      <th>range_window_100_5</th>\n",
       "      <th>IQR_window_100_5</th>\n",
       "      <th>Q1_window_100_5</th>\n",
       "      <th>Q3_window_100_5</th>\n",
       "      <th>kurtosis_window_100_5</th>\n",
       "      <th>skewness_window_100_5</th>\n",
       "    </tr>\n",
       "  </thead>\n",
       "  <tbody>\n",
       "    <tr>\n",
       "      <th>3</th>\n",
       "      <td>C001</td>\n",
       "      <td>left</td>\n",
       "      <td>flash</td>\n",
       "      <td>white</td>\n",
       "      <td>no</td>\n",
       "      <td>51.143455</td>\n",
       "      <td>4.231166</td>\n",
       "      <td>49.687418</td>\n",
       "      <td>57.076212</td>\n",
       "      <td>46.305057</td>\n",
       "      <td>...</td>\n",
       "      <td>1.280723</td>\n",
       "      <td>51.041512</td>\n",
       "      <td>52.907680</td>\n",
       "      <td>48.909258</td>\n",
       "      <td>3.998422</td>\n",
       "      <td>2.566207</td>\n",
       "      <td>49.712646</td>\n",
       "      <td>52.278854</td>\n",
       "      <td>-1.578348</td>\n",
       "      <td>0.017710</td>\n",
       "    </tr>\n",
       "    <tr>\n",
       "      <th>4</th>\n",
       "      <td>C001</td>\n",
       "      <td>left</td>\n",
       "      <td>flash</td>\n",
       "      <td>blue</td>\n",
       "      <td>no</td>\n",
       "      <td>48.961582</td>\n",
       "      <td>3.666817</td>\n",
       "      <td>49.575101</td>\n",
       "      <td>57.306089</td>\n",
       "      <td>43.411308</td>\n",
       "      <td>...</td>\n",
       "      <td>4.131687</td>\n",
       "      <td>41.358692</td>\n",
       "      <td>50.465325</td>\n",
       "      <td>36.698130</td>\n",
       "      <td>13.767195</td>\n",
       "      <td>3.558191</td>\n",
       "      <td>40.065652</td>\n",
       "      <td>43.623843</td>\n",
       "      <td>-0.563286</td>\n",
       "      <td>0.757384</td>\n",
       "    </tr>\n",
       "    <tr>\n",
       "      <th>6</th>\n",
       "      <td>C001</td>\n",
       "      <td>left</td>\n",
       "      <td>flash</td>\n",
       "      <td>red</td>\n",
       "      <td>no</td>\n",
       "      <td>52.813687</td>\n",
       "      <td>1.083558</td>\n",
       "      <td>52.826775</td>\n",
       "      <td>54.856749</td>\n",
       "      <td>50.974917</td>\n",
       "      <td>...</td>\n",
       "      <td>5.157692</td>\n",
       "      <td>47.632295</td>\n",
       "      <td>53.243709</td>\n",
       "      <td>38.529020</td>\n",
       "      <td>14.714689</td>\n",
       "      <td>10.096219</td>\n",
       "      <td>41.543645</td>\n",
       "      <td>51.639863</td>\n",
       "      <td>-1.440465</td>\n",
       "      <td>-0.237711</td>\n",
       "    </tr>\n",
       "    <tr>\n",
       "      <th>7</th>\n",
       "      <td>C001</td>\n",
       "      <td>left</td>\n",
       "      <td>flash</td>\n",
       "      <td>green</td>\n",
       "      <td>no</td>\n",
       "      <td>52.774836</td>\n",
       "      <td>2.086851</td>\n",
       "      <td>53.213091</td>\n",
       "      <td>56.845262</td>\n",
       "      <td>49.490746</td>\n",
       "      <td>...</td>\n",
       "      <td>4.604590</td>\n",
       "      <td>49.409601</td>\n",
       "      <td>51.574492</td>\n",
       "      <td>33.713481</td>\n",
       "      <td>17.861011</td>\n",
       "      <td>5.339434</td>\n",
       "      <td>44.908458</td>\n",
       "      <td>50.247892</td>\n",
       "      <td>1.491787</td>\n",
       "      <td>-1.500786</td>\n",
       "    </tr>\n",
       "    <tr>\n",
       "      <th>11</th>\n",
       "      <td>C001</td>\n",
       "      <td>right</td>\n",
       "      <td>flash</td>\n",
       "      <td>white</td>\n",
       "      <td>no</td>\n",
       "      <td>47.682086</td>\n",
       "      <td>2.183380</td>\n",
       "      <td>47.430035</td>\n",
       "      <td>53.710995</td>\n",
       "      <td>43.747661</td>\n",
       "      <td>...</td>\n",
       "      <td>1.173045</td>\n",
       "      <td>45.278153</td>\n",
       "      <td>47.042665</td>\n",
       "      <td>42.597588</td>\n",
       "      <td>4.445077</td>\n",
       "      <td>1.271354</td>\n",
       "      <td>44.570240</td>\n",
       "      <td>45.841594</td>\n",
       "      <td>-0.426246</td>\n",
       "      <td>-0.458388</td>\n",
       "    </tr>\n",
       "  </tbody>\n",
       "</table>\n",
       "<p>5 rows × 203 columns</p>\n",
       "</div>"
      ],
      "text/plain": [
       "      id    eye stimuli  color glaucoma  mean_window_50_0  std_window_50_0  \\\n",
       "3   C001   left   flash  white       no         51.143455         4.231166   \n",
       "4   C001   left   flash   blue       no         48.961582         3.666817   \n",
       "6   C001   left   flash    red       no         52.813687         1.083558   \n",
       "7   C001   left   flash  green       no         52.774836         2.086851   \n",
       "11  C001  right   flash  white       no         47.682086         2.183380   \n",
       "\n",
       "    median_window_50_0  max_window_50_0  min_window_50_0  ...  \\\n",
       "3            49.687418        57.076212        46.305057  ...   \n",
       "4            49.575101        57.306089        43.411308  ...   \n",
       "6            52.826775        54.856749        50.974917  ...   \n",
       "7            53.213091        56.845262        49.490746  ...   \n",
       "11           47.430035        53.710995        43.747661  ...   \n",
       "\n",
       "    std_window_100_5  median_window_100_5  max_window_100_5  min_window_100_5  \\\n",
       "3           1.280723            51.041512         52.907680         48.909258   \n",
       "4           4.131687            41.358692         50.465325         36.698130   \n",
       "6           5.157692            47.632295         53.243709         38.529020   \n",
       "7           4.604590            49.409601         51.574492         33.713481   \n",
       "11          1.173045            45.278153         47.042665         42.597588   \n",
       "\n",
       "    range_window_100_5  IQR_window_100_5  Q1_window_100_5  Q3_window_100_5  \\\n",
       "3             3.998422          2.566207        49.712646        52.278854   \n",
       "4            13.767195          3.558191        40.065652        43.623843   \n",
       "6            14.714689         10.096219        41.543645        51.639863   \n",
       "7            17.861011          5.339434        44.908458        50.247892   \n",
       "11            4.445077          1.271354        44.570240        45.841594   \n",
       "\n",
       "    kurtosis_window_100_5  skewness_window_100_5  \n",
       "3               -1.578348               0.017710  \n",
       "4               -0.563286               0.757384  \n",
       "6               -1.440465              -0.237711  \n",
       "7                1.491787              -1.500786  \n",
       "11              -0.426246              -0.458388  \n",
       "\n",
       "[5 rows x 203 columns]"
      ]
     },
     "execution_count": 234,
     "metadata": {},
     "output_type": "execute_result"
    }
   ],
   "source": [
    "df = select_windows_by_size(df, X=12, Y=6)\n",
    "df.head()"
   ]
  },
  {
   "cell_type": "markdown",
   "metadata": {},
   "source": [
    "### Ventanas random"
   ]
  },
  {
   "cell_type": "code",
   "execution_count": 120,
   "metadata": {},
   "outputs": [],
   "source": [
    "import pandas as pd\n",
    "import random\n",
    "\n",
    "def select_random_X_windows(dataset, X, window_size, random_state=None):\n",
    "    \"\"\"\n",
    "    Selecciona `X` ventanas aleatorias completas de un dataset para un tamaño de ventana específico.\n",
    "    Cada ventana incluye todas sus características (mean, std, median, etc.).\n",
    "\n",
    "    Parameters:\n",
    "    - dataset: El DataFrame que contiene las ventanas.\n",
    "    - X: El número de ventanas que se desean seleccionar.\n",
    "    - window_size: El tamaño de las ventanas (por ejemplo, 50, 100).\n",
    "    - random_state: Semilla para asegurar la reproducibilidad de los resultados.\n",
    "\n",
    "    Returns:\n",
    "    - Un nuevo DataFrame con `X` ventanas aleatorias seleccionadas.\n",
    "    \"\"\"\n",
    "    # Definir las columnas adicionales que quieres conservar\n",
    "    additional_columns = ['id', 'eye', 'stimuli', 'color', 'glaucoma']\n",
    "\n",
    "    # Seleccionar las ventanas del tamaño `window_size`, agrupando características\n",
    "    # Esto seleccionará ventanas con características como mean_window_50_X, std_window_50_X, etc.\n",
    "    window_columns = [col for col in dataset.columns if f'window_{window_size}_' in col]\n",
    "    \n",
    "    # Obtener los números únicos de las ventanas (X en \"window_size_X\")\n",
    "    unique_windows = sorted(set([col.split(f'window_{window_size}_')[1].split('_')[0] for col in window_columns]))\n",
    "\n",
    "    # Generar una semilla si se proporciona\n",
    "    if random_state is not None:\n",
    "        random.seed(random_state)\n",
    "\n",
    "    # Seleccionar aleatoriamente `X` ventanas completas\n",
    "    selected_windows = random.sample(unique_windows, X)\n",
    "    \n",
    "    # Obtener todas las columnas asociadas a las ventanas seleccionadas\n",
    "    selected_columns = [col for col in window_columns if any(f'window_{window_size}_{window}' in col for window in selected_windows)]\n",
    "    \n",
    "    # Crear un nuevo DataFrame con las columnas adicionales y las ventanas seleccionadas\n",
    "    selected_columns = additional_columns + selected_columns\n",
    "    new_dataset = dataset[selected_columns]\n",
    "    \n",
    "    return new_dataset"
   ]
  },
  {
   "cell_type": "code",
   "execution_count": 145,
   "metadata": {},
   "outputs": [
    {
     "data": {
      "text/html": [
       "<div>\n",
       "<style scoped>\n",
       "    .dataframe tbody tr th:only-of-type {\n",
       "        vertical-align: middle;\n",
       "    }\n",
       "\n",
       "    .dataframe tbody tr th {\n",
       "        vertical-align: top;\n",
       "    }\n",
       "\n",
       "    .dataframe thead th {\n",
       "        text-align: right;\n",
       "    }\n",
       "</style>\n",
       "<table border=\"1\" class=\"dataframe\">\n",
       "  <thead>\n",
       "    <tr style=\"text-align: right;\">\n",
       "      <th></th>\n",
       "      <th>id</th>\n",
       "      <th>eye</th>\n",
       "      <th>stimuli</th>\n",
       "      <th>color</th>\n",
       "      <th>glaucoma</th>\n",
       "      <th>mean_window_25_7</th>\n",
       "      <th>std_window_25_7</th>\n",
       "      <th>median_window_25_7</th>\n",
       "      <th>max_window_25_7</th>\n",
       "      <th>min_window_25_7</th>\n",
       "      <th>...</th>\n",
       "      <th>std_window_25_108</th>\n",
       "      <th>median_window_25_108</th>\n",
       "      <th>max_window_25_108</th>\n",
       "      <th>min_window_25_108</th>\n",
       "      <th>range_window_25_108</th>\n",
       "      <th>IQR_window_25_108</th>\n",
       "      <th>Q1_window_25_108</th>\n",
       "      <th>Q3_window_25_108</th>\n",
       "      <th>kurtosis_window_25_108</th>\n",
       "      <th>skewness_window_25_108</th>\n",
       "    </tr>\n",
       "  </thead>\n",
       "  <tbody>\n",
       "    <tr>\n",
       "      <th>0</th>\n",
       "      <td>C001</td>\n",
       "      <td>left</td>\n",
       "      <td>ramp</td>\n",
       "      <td>white</td>\n",
       "      <td>no</td>\n",
       "      <td>54.334104</td>\n",
       "      <td>2.745969</td>\n",
       "      <td>54.332386</td>\n",
       "      <td>58.260301</td>\n",
       "      <td>50.637293</td>\n",
       "      <td>...</td>\n",
       "      <td>0.850185</td>\n",
       "      <td>43.887328</td>\n",
       "      <td>44.862152</td>\n",
       "      <td>41.488805</td>\n",
       "      <td>3.373347</td>\n",
       "      <td>1.164053</td>\n",
       "      <td>43.407691</td>\n",
       "      <td>44.571744</td>\n",
       "      <td>0.565899</td>\n",
       "      <td>-0.921095</td>\n",
       "    </tr>\n",
       "    <tr>\n",
       "      <th>1</th>\n",
       "      <td>C001</td>\n",
       "      <td>left</td>\n",
       "      <td>ramp</td>\n",
       "      <td>blue</td>\n",
       "      <td>no</td>\n",
       "      <td>52.142525</td>\n",
       "      <td>7.013445</td>\n",
       "      <td>54.192489</td>\n",
       "      <td>59.611258</td>\n",
       "      <td>38.626061</td>\n",
       "      <td>...</td>\n",
       "      <td>0.651330</td>\n",
       "      <td>55.060787</td>\n",
       "      <td>55.335545</td>\n",
       "      <td>53.229778</td>\n",
       "      <td>2.105767</td>\n",
       "      <td>0.895674</td>\n",
       "      <td>54.360701</td>\n",
       "      <td>55.256376</td>\n",
       "      <td>-0.308979</td>\n",
       "      <td>-1.023078</td>\n",
       "    </tr>\n",
       "    <tr>\n",
       "      <th>2</th>\n",
       "      <td>C001</td>\n",
       "      <td>left</td>\n",
       "      <td>ramp</td>\n",
       "      <td>green</td>\n",
       "      <td>no</td>\n",
       "      <td>50.972305</td>\n",
       "      <td>0.431142</td>\n",
       "      <td>50.912664</td>\n",
       "      <td>51.917825</td>\n",
       "      <td>50.431566</td>\n",
       "      <td>...</td>\n",
       "      <td>1.487357</td>\n",
       "      <td>53.758064</td>\n",
       "      <td>56.631850</td>\n",
       "      <td>52.570949</td>\n",
       "      <td>4.060901</td>\n",
       "      <td>2.805659</td>\n",
       "      <td>52.833117</td>\n",
       "      <td>55.638776</td>\n",
       "      <td>-1.429716</td>\n",
       "      <td>0.400917</td>\n",
       "    </tr>\n",
       "    <tr>\n",
       "      <th>3</th>\n",
       "      <td>C001</td>\n",
       "      <td>left</td>\n",
       "      <td>flash</td>\n",
       "      <td>white</td>\n",
       "      <td>no</td>\n",
       "      <td>56.402833</td>\n",
       "      <td>2.496514</td>\n",
       "      <td>57.679925</td>\n",
       "      <td>58.622011</td>\n",
       "      <td>50.838466</td>\n",
       "      <td>...</td>\n",
       "      <td>0.953735</td>\n",
       "      <td>54.541612</td>\n",
       "      <td>57.087265</td>\n",
       "      <td>53.852462</td>\n",
       "      <td>3.234804</td>\n",
       "      <td>1.199696</td>\n",
       "      <td>54.051863</td>\n",
       "      <td>55.251559</td>\n",
       "      <td>-0.276386</td>\n",
       "      <td>0.916211</td>\n",
       "    </tr>\n",
       "    <tr>\n",
       "      <th>4</th>\n",
       "      <td>C001</td>\n",
       "      <td>left</td>\n",
       "      <td>flash</td>\n",
       "      <td>blue</td>\n",
       "      <td>no</td>\n",
       "      <td>53.043920</td>\n",
       "      <td>0.923062</td>\n",
       "      <td>53.366698</td>\n",
       "      <td>54.107531</td>\n",
       "      <td>51.139761</td>\n",
       "      <td>...</td>\n",
       "      <td>2.647976</td>\n",
       "      <td>55.798756</td>\n",
       "      <td>57.957846</td>\n",
       "      <td>49.213515</td>\n",
       "      <td>8.744331</td>\n",
       "      <td>3.576086</td>\n",
       "      <td>53.721995</td>\n",
       "      <td>57.298081</td>\n",
       "      <td>-0.550619</td>\n",
       "      <td>-0.794385</td>\n",
       "    </tr>\n",
       "  </tbody>\n",
       "</table>\n",
       "<p>5 rows × 357 columns</p>\n",
       "</div>"
      ],
      "text/plain": [
       "     id   eye stimuli  color glaucoma  mean_window_25_7  std_window_25_7  \\\n",
       "0  C001  left    ramp  white       no         54.334104         2.745969   \n",
       "1  C001  left    ramp   blue       no         52.142525         7.013445   \n",
       "2  C001  left    ramp  green       no         50.972305         0.431142   \n",
       "3  C001  left   flash  white       no         56.402833         2.496514   \n",
       "4  C001  left   flash   blue       no         53.043920         0.923062   \n",
       "\n",
       "   median_window_25_7  max_window_25_7  min_window_25_7  ...  \\\n",
       "0           54.332386        58.260301        50.637293  ...   \n",
       "1           54.192489        59.611258        38.626061  ...   \n",
       "2           50.912664        51.917825        50.431566  ...   \n",
       "3           57.679925        58.622011        50.838466  ...   \n",
       "4           53.366698        54.107531        51.139761  ...   \n",
       "\n",
       "   std_window_25_108  median_window_25_108  max_window_25_108  \\\n",
       "0           0.850185             43.887328          44.862152   \n",
       "1           0.651330             55.060787          55.335545   \n",
       "2           1.487357             53.758064          56.631850   \n",
       "3           0.953735             54.541612          57.087265   \n",
       "4           2.647976             55.798756          57.957846   \n",
       "\n",
       "   min_window_25_108  range_window_25_108  IQR_window_25_108  \\\n",
       "0          41.488805             3.373347           1.164053   \n",
       "1          53.229778             2.105767           0.895674   \n",
       "2          52.570949             4.060901           2.805659   \n",
       "3          53.852462             3.234804           1.199696   \n",
       "4          49.213515             8.744331           3.576086   \n",
       "\n",
       "   Q1_window_25_108  Q3_window_25_108  kurtosis_window_25_108  \\\n",
       "0         43.407691         44.571744                0.565899   \n",
       "1         54.360701         55.256376               -0.308979   \n",
       "2         52.833117         55.638776               -1.429716   \n",
       "3         54.051863         55.251559               -0.276386   \n",
       "4         53.721995         57.298081               -0.550619   \n",
       "\n",
       "   skewness_window_25_108  \n",
       "0               -0.921095  \n",
       "1               -1.023078  \n",
       "2                0.400917  \n",
       "3                0.916211  \n",
       "4               -0.794385  \n",
       "\n",
       "[5 rows x 357 columns]"
      ]
     },
     "execution_count": 145,
     "metadata": {},
     "output_type": "execute_result"
    }
   ],
   "source": [
    "df = select_random_X_windows(df, X=24, window_size=25, random_state=42)\n",
    "df.head()"
   ]
  },
  {
   "cell_type": "code",
   "execution_count": 150,
   "metadata": {},
   "outputs": [],
   "source": [
    "def select_random_windows_by_size(dataset, X, Y, random_state=None):\n",
    "    \"\"\"\n",
    "    Selecciona `X` ventanas aleatorias del tamaño 50 y `Y` ventanas aleatorias del tamaño 100.\n",
    "    Cada ventana incluye todas sus características (mean, std, median, etc.).\n",
    "\n",
    "    Parameters:\n",
    "    - dataset: El DataFrame que contiene las ventanas.\n",
    "    - X: El número de ventanas del tamaño 50 que se desean seleccionar.\n",
    "    - Y: El número de ventanas del tamaño 100 que se desean seleccionar.\n",
    "    - random_state: Semilla para asegurar la reproducibilidad de los resultados.\n",
    "\n",
    "    Returns:\n",
    "    - Un nuevo DataFrame con `X` ventanas aleatorias de tamaño 50 y `Y` ventanas aleatorias de tamaño 100.\n",
    "    \"\"\"\n",
    "    # Definir las columnas adicionales que quieres conservar\n",
    "    additional_columns = ['id', 'eye', 'stimuli', 'color', 'glaucoma']\n",
    "\n",
    "    # Seleccionar las ventanas del tamaño 50\n",
    "    window_50_columns = [col for col in dataset.columns if 'window_50_' in col]\n",
    "    unique_windows_50 = sorted(set([col.split('window_50_')[1].split('_')[0] for col in window_50_columns]))\n",
    "\n",
    "    # Seleccionar las ventanas del tamaño 100\n",
    "    window_100_columns = [col for col in dataset.columns if 'window_100_' in col]\n",
    "    unique_windows_100 = sorted(set([col.split('window_100_')[1].split('_')[0] for col in window_100_columns]))\n",
    "\n",
    "    # Generar una semilla si se proporciona\n",
    "    if random_state is not None:\n",
    "        random.seed(random_state)\n",
    "\n",
    "    # Seleccionar aleatoriamente `X` ventanas de tamaño 50\n",
    "    selected_windows_50 = random.sample(unique_windows_50, X)\n",
    "\n",
    "    # Seleccionar aleatoriamente `Y` ventanas de tamaño 100\n",
    "    selected_windows_100 = random.sample(unique_windows_100, Y)\n",
    "\n",
    "    # Obtener todas las columnas asociadas a las ventanas seleccionadas\n",
    "    selected_50_columns = [col for col in window_50_columns if any(f'window_50_{window}' in col for window in selected_windows_50)]\n",
    "    selected_100_columns = [col for col in window_100_columns if any(f'window_100_{window}' in col for window in selected_windows_100)]\n",
    "\n",
    "    # Crear un nuevo DataFrame con las columnas adicionales y las ventanas seleccionadas\n",
    "    selected_columns = additional_columns + selected_50_columns + selected_100_columns\n",
    "    new_dataset = dataset[selected_columns]\n",
    "\n",
    "    return new_dataset"
   ]
  },
  {
   "cell_type": "code",
   "execution_count": 156,
   "metadata": {},
   "outputs": [
    {
     "data": {
      "text/html": [
       "<div>\n",
       "<style scoped>\n",
       "    .dataframe tbody tr th:only-of-type {\n",
       "        vertical-align: middle;\n",
       "    }\n",
       "\n",
       "    .dataframe tbody tr th {\n",
       "        vertical-align: top;\n",
       "    }\n",
       "\n",
       "    .dataframe thead th {\n",
       "        text-align: right;\n",
       "    }\n",
       "</style>\n",
       "<table border=\"1\" class=\"dataframe\">\n",
       "  <thead>\n",
       "    <tr style=\"text-align: right;\">\n",
       "      <th></th>\n",
       "      <th>id</th>\n",
       "      <th>eye</th>\n",
       "      <th>stimuli</th>\n",
       "      <th>color</th>\n",
       "      <th>glaucoma</th>\n",
       "      <th>mean_window_50_1</th>\n",
       "      <th>std_window_50_1</th>\n",
       "      <th>median_window_50_1</th>\n",
       "      <th>max_window_50_1</th>\n",
       "      <th>min_window_50_1</th>\n",
       "      <th>...</th>\n",
       "      <th>std_window_100_25</th>\n",
       "      <th>median_window_100_25</th>\n",
       "      <th>max_window_100_25</th>\n",
       "      <th>min_window_100_25</th>\n",
       "      <th>range_window_100_25</th>\n",
       "      <th>IQR_window_100_25</th>\n",
       "      <th>Q1_window_100_25</th>\n",
       "      <th>Q3_window_100_25</th>\n",
       "      <th>kurtosis_window_100_25</th>\n",
       "      <th>skewness_window_100_25</th>\n",
       "    </tr>\n",
       "  </thead>\n",
       "  <tbody>\n",
       "    <tr>\n",
       "      <th>0</th>\n",
       "      <td>C001</td>\n",
       "      <td>left</td>\n",
       "      <td>ramp</td>\n",
       "      <td>white</td>\n",
       "      <td>no</td>\n",
       "      <td>50.015576</td>\n",
       "      <td>2.384216</td>\n",
       "      <td>48.970497</td>\n",
       "      <td>54.206701</td>\n",
       "      <td>47.052866</td>\n",
       "      <td>...</td>\n",
       "      <td>4.323273</td>\n",
       "      <td>51.041187</td>\n",
       "      <td>55.242275</td>\n",
       "      <td>40.708053</td>\n",
       "      <td>14.534222</td>\n",
       "      <td>5.233654</td>\n",
       "      <td>47.757018</td>\n",
       "      <td>52.990672</td>\n",
       "      <td>-0.394788</td>\n",
       "      <td>-0.833734</td>\n",
       "    </tr>\n",
       "    <tr>\n",
       "      <th>1</th>\n",
       "      <td>C001</td>\n",
       "      <td>left</td>\n",
       "      <td>ramp</td>\n",
       "      <td>blue</td>\n",
       "      <td>no</td>\n",
       "      <td>51.562557</td>\n",
       "      <td>2.868739</td>\n",
       "      <td>52.835800</td>\n",
       "      <td>54.082983</td>\n",
       "      <td>44.530508</td>\n",
       "      <td>...</td>\n",
       "      <td>7.415040</td>\n",
       "      <td>49.910601</td>\n",
       "      <td>52.468550</td>\n",
       "      <td>30.468898</td>\n",
       "      <td>21.999652</td>\n",
       "      <td>7.949140</td>\n",
       "      <td>43.212249</td>\n",
       "      <td>51.161389</td>\n",
       "      <td>-0.158115</td>\n",
       "      <td>-1.218990</td>\n",
       "    </tr>\n",
       "    <tr>\n",
       "      <th>2</th>\n",
       "      <td>C001</td>\n",
       "      <td>left</td>\n",
       "      <td>ramp</td>\n",
       "      <td>green</td>\n",
       "      <td>no</td>\n",
       "      <td>51.844534</td>\n",
       "      <td>2.532979</td>\n",
       "      <td>52.987521</td>\n",
       "      <td>54.401046</td>\n",
       "      <td>47.949779</td>\n",
       "      <td>...</td>\n",
       "      <td>4.025690</td>\n",
       "      <td>52.693154</td>\n",
       "      <td>54.001658</td>\n",
       "      <td>43.818740</td>\n",
       "      <td>10.182918</td>\n",
       "      <td>8.550392</td>\n",
       "      <td>44.863191</td>\n",
       "      <td>53.413584</td>\n",
       "      <td>-1.628375</td>\n",
       "      <td>-0.457180</td>\n",
       "    </tr>\n",
       "    <tr>\n",
       "      <th>3</th>\n",
       "      <td>C001</td>\n",
       "      <td>left</td>\n",
       "      <td>flash</td>\n",
       "      <td>white</td>\n",
       "      <td>no</td>\n",
       "      <td>52.636665</td>\n",
       "      <td>3.018751</td>\n",
       "      <td>53.169209</td>\n",
       "      <td>56.316952</td>\n",
       "      <td>48.275216</td>\n",
       "      <td>...</td>\n",
       "      <td>3.739602</td>\n",
       "      <td>51.422996</td>\n",
       "      <td>56.616758</td>\n",
       "      <td>38.349564</td>\n",
       "      <td>18.267194</td>\n",
       "      <td>5.387837</td>\n",
       "      <td>49.373148</td>\n",
       "      <td>54.760985</td>\n",
       "      <td>1.596453</td>\n",
       "      <td>-1.001072</td>\n",
       "    </tr>\n",
       "    <tr>\n",
       "      <th>4</th>\n",
       "      <td>C001</td>\n",
       "      <td>left</td>\n",
       "      <td>flash</td>\n",
       "      <td>blue</td>\n",
       "      <td>no</td>\n",
       "      <td>45.666377</td>\n",
       "      <td>3.745835</td>\n",
       "      <td>45.784075</td>\n",
       "      <td>52.543380</td>\n",
       "      <td>40.419639</td>\n",
       "      <td>...</td>\n",
       "      <td>1.933265</td>\n",
       "      <td>52.944257</td>\n",
       "      <td>55.646179</td>\n",
       "      <td>49.324640</td>\n",
       "      <td>6.321539</td>\n",
       "      <td>3.032850</td>\n",
       "      <td>51.427583</td>\n",
       "      <td>54.460432</td>\n",
       "      <td>-1.016299</td>\n",
       "      <td>-0.379629</td>\n",
       "    </tr>\n",
       "  </tbody>\n",
       "</table>\n",
       "<p>5 rows × 445 columns</p>\n",
       "</div>"
      ],
      "text/plain": [
       "     id   eye stimuli  color glaucoma  mean_window_50_1  std_window_50_1  \\\n",
       "0  C001  left    ramp  white       no         50.015576         2.384216   \n",
       "1  C001  left    ramp   blue       no         51.562557         2.868739   \n",
       "2  C001  left    ramp  green       no         51.844534         2.532979   \n",
       "3  C001  left   flash  white       no         52.636665         3.018751   \n",
       "4  C001  left   flash   blue       no         45.666377         3.745835   \n",
       "\n",
       "   median_window_50_1  max_window_50_1  min_window_50_1  ...  \\\n",
       "0           48.970497        54.206701        47.052866  ...   \n",
       "1           52.835800        54.082983        44.530508  ...   \n",
       "2           52.987521        54.401046        47.949779  ...   \n",
       "3           53.169209        56.316952        48.275216  ...   \n",
       "4           45.784075        52.543380        40.419639  ...   \n",
       "\n",
       "   std_window_100_25  median_window_100_25  max_window_100_25  \\\n",
       "0           4.323273             51.041187          55.242275   \n",
       "1           7.415040             49.910601          52.468550   \n",
       "2           4.025690             52.693154          54.001658   \n",
       "3           3.739602             51.422996          56.616758   \n",
       "4           1.933265             52.944257          55.646179   \n",
       "\n",
       "   min_window_100_25  range_window_100_25  IQR_window_100_25  \\\n",
       "0          40.708053            14.534222           5.233654   \n",
       "1          30.468898            21.999652           7.949140   \n",
       "2          43.818740            10.182918           8.550392   \n",
       "3          38.349564            18.267194           5.387837   \n",
       "4          49.324640             6.321539           3.032850   \n",
       "\n",
       "   Q1_window_100_25  Q3_window_100_25  kurtosis_window_100_25  \\\n",
       "0         47.757018         52.990672               -0.394788   \n",
       "1         43.212249         51.161389               -0.158115   \n",
       "2         44.863191         53.413584               -1.628375   \n",
       "3         49.373148         54.760985                1.596453   \n",
       "4         51.427583         54.460432               -1.016299   \n",
       "\n",
       "   skewness_window_100_25  \n",
       "0               -0.833734  \n",
       "1               -1.218990  \n",
       "2               -0.457180  \n",
       "3               -1.001072  \n",
       "4               -0.379629  \n",
       "\n",
       "[5 rows x 445 columns]"
      ]
     },
     "execution_count": 156,
     "metadata": {},
     "output_type": "execute_result"
    }
   ],
   "source": [
    "df = select_random_windows_by_size(df, X=12, Y=6, random_state=42)\n",
    "df.head()"
   ]
  },
  {
   "cell_type": "markdown",
   "metadata": {},
   "source": [
    "### Proce"
   ]
  },
  {
   "cell_type": "code",
   "execution_count": 359,
   "metadata": {},
   "outputs": [
    {
     "name": "stdout",
     "output_type": "stream",
     "text": [
      "Valores nulos por columna:\n",
      "Series([], dtype: int64)\n",
      "Valores nulos por columna:\n",
      "Series([], dtype: int64)\n",
      "int32\n",
      "Tamaño del conjunto de entrenamiento: 256\n",
      "Tamaño del conjunto de prueba: 72\n"
     ]
    }
   ],
   "source": [
    "# Verificar si el DataFrame tiene valores nulos\n",
    "def check_nulls(dataset):\n",
    "    nulls = dataset.isnull().sum()\n",
    "    print(\"Valores nulos por columna:\")\n",
    "    print(nulls[nulls > 0])  # Mostrar solo las columnas con valores nulos\n",
    "    return nulls[nulls > 0]\n",
    "\n",
    "nulls = check_nulls(df)\n",
    "\n",
    "# Eliminar columnas que contienen cualquier valor NaN\n",
    "df = df.dropna(axis=1)\n",
    "nulls = check_nulls(df)\n",
    "\n",
    "pd.set_option('future.no_silent_downcasting', True)\n",
    "df = df.replace({'yes': 1, 'no': 0})\n",
    "\n",
    "# Convertir la columna 'glaucoma' a tipo numérico\n",
    "df['glaucoma'] = df['glaucoma'].astype(int)\n",
    "\n",
    "# Verificar el tipo de dato de la columna\n",
    "print(df.dtypes['glaucoma'])\n",
    "\n",
    "import pandas as pd\n",
    "from sklearn.model_selection import train_test_split\n",
    "\n",
    "# Primero, obtener los ids únicos\n",
    "unique_ids = df['id'].unique()\n",
    "\n",
    "# Realizar el train_test_split a nivel de id\n",
    "train_ids, test_ids = train_test_split(unique_ids, test_size=0.2, random_state=26)\n",
    "\n",
    "# Filtrar el df original usando los ids seleccionados\n",
    "train_set = df[df['id'].isin(train_ids)]\n",
    "test_set = df[df['id'].isin(test_ids)]\n",
    "\n",
    "# Verifica los tamaños de los conjuntos\n",
    "print(f\"Tamaño del conjunto de entrenamiento: {len(train_set)}\")\n",
    "print(f\"Tamaño del conjunto de prueba: {len(test_set)}\")\n",
    "\n",
    "y_train = train_set.loc[:, 'glaucoma']\n",
    "y_test = test_set.loc[:, 'glaucoma']\n",
    "labels = df.loc[:, 'glaucoma']\n",
    "\n",
    "# Hacer copias de train_set y test_set sin las columnas 'id' y 'glaucoma'\n",
    "X_train = train_set.drop(columns=['id', 'glaucoma']).copy()\n",
    "X_test = test_set.drop(columns=['id', 'glaucoma']).copy()\n",
    "\n",
    "numeric = X_train.select_dtypes([\"float64\", \"int32\"]).columns\n",
    "categorical = X_train.select_dtypes([\"object\"]).columns\n",
    "\n",
    "import pandas as pd\n",
    "from sklearn.feature_selection import VarianceThreshold\n",
    "from sklearn.preprocessing import OneHotEncoder, MinMaxScaler\n",
    "from sklearn.compose import ColumnTransformer\n",
    "from sklearn.pipeline import Pipeline\n",
    "\n",
    "# Definir las columnas numéricas y categóricas\n",
    "numeric = X_train.select_dtypes([\"float64\", \"int32\"]).columns\n",
    "categorical = X_train.select_dtypes([\"object\"]).columns\n",
    "\n",
    "# Pipelines para columnas numéricas y categóricas\n",
    "numeric_transformations = Pipeline([\n",
    "    ('scaler', MinMaxScaler())  # Escalado MinMax para columnas numéricas\n",
    "])\n",
    "\n",
    "categoric_transformations = Pipeline([\n",
    "    ('category_one_hot', OneHotEncoder(sparse_output=False, handle_unknown=\"ignore\"))  # Codificación OneHot para categóricas\n",
    "])\n",
    "\n",
    "# Preprocessor: combinación de los pipelines numéricos y categóricos\n",
    "preprocessor = ColumnTransformer(transformers=[\n",
    "    ('numerical', numeric_transformations, numeric),\n",
    "    ('categorical', categoric_transformations, categorical)\n",
    "])"
   ]
  },
  {
   "cell_type": "code",
   "execution_count": 360,
   "metadata": {},
   "outputs": [],
   "source": [
    "import plotly.graph_objects as go\n",
    "from sklearn.metrics import accuracy_score\n",
    "\n",
    "def plot_training(model, X_test, y_test):\n",
    "    y_pred = model.predict(X_test)\n",
    "    predictions = [round(value, 2) for value in y_pred]\n",
    "\n",
    "    # Evaluamos los modelos\n",
    "    accuracy = accuracy_score(y_test, predictions)\n",
    "    print(\"Accuracy: %.2f%%\" % (accuracy * 100.0))\n",
    "\n",
    "    results = model.evals_result()\n",
    "    epochs = len(results['validation_0']['error'])\n",
    "\n",
    "    # Log Loss Plot\n",
    "    fig = go.Figure()\n",
    "    fig.add_trace(go.Scatter(x=list(range(epochs)), y=results['validation_0']['logloss'],\n",
    "                             mode='lines', name='Train Log Loss'))\n",
    "    fig.add_trace(go.Scatter(x=list(range(epochs)), y=results['validation_1']['logloss'],\n",
    "                             mode='lines', name='Test Log Loss'))\n",
    "    fig.update_layout(title='XGBoost Log Loss Over Epochs',\n",
    "                      template='simple_white',\n",
    "                      xaxis_title='Epoch',\n",
    "                      yaxis_title='Log Loss',\n",
    "                      legend_title='Dataset')\n",
    "    fig.show()\n",
    "\n",
    "    # Classification Error Plot\n",
    "    fig = go.Figure()\n",
    "    fig.add_trace(go.Scatter(x=list(range(epochs)), y=results['validation_0']['error'],\n",
    "                             mode='lines', name='Train Error'))\n",
    "    fig.add_trace(go.Scatter(x=list(range(epochs)), y=results['validation_1']['error'],\n",
    "                             mode='lines', name='Test Error'))\n",
    "    fig.update_layout(title='XGBoost Classification Error Over Epochs',\n",
    "                      template='simple_white',\n",
    "                      xaxis_title='Epoch',\n",
    "                      yaxis_title='Classification Error',\n",
    "                      legend_title='Dataset')\n",
    "    fig.show()"
   ]
  },
  {
   "cell_type": "markdown",
   "metadata": {},
   "source": [
    "### Proce data augmentation"
   ]
  },
  {
   "cell_type": "code",
   "execution_count": 364,
   "metadata": {},
   "outputs": [
    {
     "name": "stdout",
     "output_type": "stream",
     "text": [
      "Valores nulos por columna:\n",
      "Series([], dtype: int64)\n",
      "Valores nulos por columna:\n",
      "Series([], dtype: int64)\n",
      "int32\n",
      "Tamaño del conjunto de entrenamiento: 256\n",
      "Tamaño del conjunto de prueba: 72\n",
      "Tamaño del dataset original: (256, 905)\n",
      "Tamaño del dataset aumentado: (768, 905)\n",
      "Tamaño de las etiquetas originales: (256,)\n",
      "Tamaño de las etiquetas aumentadas: (768,)\n"
     ]
    }
   ],
   "source": [
    "# Verificar si el DataFrame tiene valores nulos\n",
    "def check_nulls(dataset):\n",
    "    nulls = dataset.isnull().sum()\n",
    "    print(\"Valores nulos por columna:\")\n",
    "    print(nulls[nulls > 0])  # Mostrar solo las columnas con valores nulos\n",
    "    return nulls[nulls > 0]\n",
    "\n",
    "nulls = check_nulls(df)\n",
    "\n",
    "# Eliminar columnas que contienen cualquier valor NaN\n",
    "df = df.dropna(axis=1)\n",
    "nulls = check_nulls(df)\n",
    "\n",
    "pd.set_option('future.no_silent_downcasting', True)\n",
    "df = df.replace({'yes': 1, 'no': 0})\n",
    "\n",
    "# Convertir la columna 'glaucoma' a tipo numérico\n",
    "df['glaucoma'] = df['glaucoma'].astype(int)\n",
    "\n",
    "# Verificar el tipo de dato de la columna\n",
    "print(df.dtypes['glaucoma'])\n",
    "\n",
    "import pandas as pd\n",
    "from sklearn.model_selection import train_test_split\n",
    "\n",
    "# Primero, obtener los ids únicos\n",
    "unique_ids = df['id'].unique()\n",
    "\n",
    "# Realizar el train_test_split a nivel de id\n",
    "train_ids, test_ids = train_test_split(unique_ids, test_size=0.2, random_state=26)\n",
    "\n",
    "# Filtrar el df original usando los ids seleccionados\n",
    "train_set = df[df['id'].isin(train_ids)]\n",
    "test_set = df[df['id'].isin(test_ids)]\n",
    "\n",
    "# Verifica los tamaños de los conjuntos\n",
    "print(f\"Tamaño del conjunto de entrenamiento: {len(train_set)}\")\n",
    "print(f\"Tamaño del conjunto de prueba: {len(test_set)}\")\n",
    "\n",
    "y_train = train_set.loc[:, 'glaucoma']\n",
    "y_test = test_set.loc[:, 'glaucoma']\n",
    "labels = df.loc[:, 'glaucoma']\n",
    "\n",
    "# Hacer copias de train_set y test_set sin las columnas 'id' y 'glaucoma'\n",
    "X_train = train_set.drop(columns=['id', 'glaucoma']).copy()\n",
    "X_test = test_set.drop(columns=['id', 'glaucoma']).copy()\n",
    "\n",
    "import pandas as pd\n",
    "import numpy as np\n",
    "from sklearn.preprocessing import FunctionTransformer\n",
    "from sklearn.pipeline import Pipeline\n",
    "\n",
    "def add_noise(X, noise_level=0.01, random_seed=None):\n",
    "    \"\"\"\n",
    "    Función para añadir ruido a las columnas numéricas con opción de semilla.\n",
    "    \n",
    "    Parameters:\n",
    "    - X: DataFrame original.\n",
    "    - noise_level: Nivel de ruido a añadir.\n",
    "    - random_seed: Semilla para el generador aleatorio para reproducibilidad.\n",
    "    \n",
    "    Returns:\n",
    "    - X_noisy: DataFrame con el ruido añadido a las columnas numéricas.\n",
    "    \"\"\"\n",
    "    if random_seed is not None:\n",
    "        np.random.seed(random_seed)  # Fijar la semilla para reproducibilidad\n",
    "\n",
    "    X_noisy = X.copy()  # Copiar el dataset original para no modificarlo directamente\n",
    "    \n",
    "    for col in X.columns:\n",
    "        if X[col].dtype in [\"float64\", \"int32\"]:\n",
    "            noise = np.random.normal(loc=0, scale=noise_level, size=len(X))\n",
    "            X_noisy[col] += X[col] * noise  # Añadir ruido\n",
    "\n",
    "    return X_noisy\n",
    "\n",
    "\n",
    "# Función para aumentar el dataset\n",
    "def augment_dataset_with_labels(X, y, noise_level=0.01, num_copies=2, random_seed=None):\n",
    "    \"\"\"\n",
    "    Aumenta el dataset generando copias con ruido y duplicando las etiquetas.\n",
    "    \n",
    "    Parameters:\n",
    "    - X: DataFrame original (sin las etiquetas).\n",
    "    - y: Series o DataFrame con las etiquetas.\n",
    "    - noise_level: Nivel de ruido a añadir.\n",
    "    - num_copies: Número de copias aumentadas a generar.\n",
    "    - random_seed: Semilla para el generador aleatorio para reproducibilidad.\n",
    "    \n",
    "    Returns:\n",
    "    - X_augmented: DataFrame aumentado con las copias originales y ruidosas.\n",
    "    - y_augmented: Series o DataFrame con las etiquetas duplicadas.\n",
    "    \"\"\"\n",
    "    augmented_data = [X]  # Empezar con el dataset original\n",
    "    augmented_labels = [y]  # Empezar con las etiquetas originales\n",
    "    \n",
    "    for i in range(num_copies):\n",
    "        seed = random_seed + i if random_seed is not None else None  # Variar la semilla en cada copia\n",
    "        augmented_data.append(add_noise(X, noise_level, random_seed=seed))  # Añadir copias con ruido\n",
    "        augmented_labels.append(y)  # Duplicar las etiquetas para cada copia\n",
    "    \n",
    "    X_augmented = pd.concat(augmented_data, ignore_index=True)\n",
    "    y_augmented = pd.concat(augmented_labels, ignore_index=True)\n",
    "    \n",
    "    return X_augmented, y_augmented\n",
    "\n",
    "\n",
    "\n",
    "# Aumentar tanto los datos como las etiquetas (ejemplo con 2 copias adicionales)\n",
    "X_train_augmented, y_train_augmented = augment_dataset_with_labels(X_train, y_train, noise_level=0.01, num_copies=2, random_seed=42)\n",
    "\n",
    "# Verificar el tamaño del dataset aumentado y las etiquetas\n",
    "print(f\"Tamaño del dataset original: {X_train.shape}\")\n",
    "print(f\"Tamaño del dataset aumentado: {X_train_augmented.shape}\")\n",
    "print(f\"Tamaño de las etiquetas originales: {y_train.shape}\")\n",
    "print(f\"Tamaño de las etiquetas aumentadas: {y_train_augmented.shape}\")\n",
    "\n",
    "X_train = X_train_augmented\n",
    "y_train = y_train_augmented\n",
    "\n",
    "numeric = X_train.select_dtypes([\"float64\", \"int32\"]).columns\n",
    "categorical = X_train.select_dtypes([\"object\"]).columns\n",
    "\n",
    "import pandas as pd\n",
    "from sklearn.feature_selection import VarianceThreshold\n",
    "from sklearn.preprocessing import OneHotEncoder, MinMaxScaler\n",
    "from sklearn.compose import ColumnTransformer\n",
    "from sklearn.pipeline import Pipeline\n",
    "\n",
    "# Definir las columnas numéricas y categóricas\n",
    "numeric = X_train.select_dtypes([\"float64\", \"int32\"]).columns\n",
    "categorical = X_train.select_dtypes([\"object\"]).columns\n",
    "\n",
    "# Pipelines para columnas numéricas y categóricas\n",
    "numeric_transformations = Pipeline([\n",
    "    ('scaler', MinMaxScaler())  # Escalado MinMax para columnas numéricas\n",
    "])\n",
    "\n",
    "categoric_transformations = Pipeline([\n",
    "    ('category_one_hot', OneHotEncoder(sparse_output=False, handle_unknown=\"ignore\"))  # Codificación OneHot para categóricas\n",
    "])\n",
    "\n",
    "# Preprocessor: combinación de los pipelines numéricos y categóricos\n",
    "preprocessor = ColumnTransformer(transformers=[\n",
    "    ('numerical', numeric_transformations, numeric),\n",
    "    ('categorical', categoric_transformations, categorical)\n",
    "])"
   ]
  },
  {
   "cell_type": "code",
   "execution_count": 365,
   "metadata": {},
   "outputs": [],
   "source": [
    "import plotly.graph_objects as go\n",
    "from sklearn.metrics import accuracy_score\n",
    "\n",
    "def plot_training(model, X_test, y_test):\n",
    "    y_pred = model.predict(X_test)\n",
    "    predictions = [round(value, 2) for value in y_pred]\n",
    "\n",
    "    # Evaluamos los modelos\n",
    "    accuracy = accuracy_score(y_test, predictions)\n",
    "    print(\"Accuracy: %.2f%%\" % (accuracy * 100.0))\n",
    "\n",
    "    results = model.evals_result()\n",
    "    epochs = len(results['validation_0']['error'])\n",
    "\n",
    "    # Log Loss Plot\n",
    "    fig = go.Figure()\n",
    "    fig.add_trace(go.Scatter(x=list(range(epochs)), y=results['validation_0']['logloss'],\n",
    "                             mode='lines', name='Train Log Loss'))\n",
    "    fig.add_trace(go.Scatter(x=list(range(epochs)), y=results['validation_1']['logloss'],\n",
    "                             mode='lines', name='Test Log Loss'))\n",
    "    fig.update_layout(title='XGBoost Log Loss Over Epochs',\n",
    "                      template='simple_white',\n",
    "                      xaxis_title='Epoch',\n",
    "                      yaxis_title='Log Loss',\n",
    "                      legend_title='Dataset')\n",
    "    fig.show()\n",
    "\n",
    "    # Classification Error Plot\n",
    "    fig = go.Figure()\n",
    "    fig.add_trace(go.Scatter(x=list(range(epochs)), y=results['validation_0']['error'],\n",
    "                             mode='lines', name='Train Error'))\n",
    "    fig.add_trace(go.Scatter(x=list(range(epochs)), y=results['validation_1']['error'],\n",
    "                             mode='lines', name='Test Error'))\n",
    "    fig.update_layout(title='XGBoost Classification Error Over Epochs',\n",
    "                      template='simple_white',\n",
    "                      xaxis_title='Epoch',\n",
    "                      yaxis_title='Classification Error',\n",
    "                      legend_title='Dataset')\n",
    "    fig.show()"
   ]
  },
  {
   "cell_type": "markdown",
   "metadata": {},
   "source": [
    "## Baseline"
   ]
  },
  {
   "cell_type": "code",
   "execution_count": 32,
   "metadata": {},
   "outputs": [
    {
     "name": "stdout",
     "output_type": "stream",
     "text": [
      "F1-Score por fold: [0.33116883 0.33116883 0.33333333 0.33333333 0.33333333]\n",
      "ROC-AUC por fold: [0.5 0.5 0.5 0.5 0.5]\n",
      "Exactitud por fold: [0.49514563 0.49514563 0.5        0.5        0.5       ]\n",
      "Promedio F1-Score: 0.33246753246753247\n",
      "Promedio Exactitud: 0.4980582524271845\n"
     ]
    }
   ],
   "source": [
    "from sklearn.model_selection import cross_val_score\n",
    "from sklearn.dummy import DummyClassifier  # Ejemplo con un modelo Dummy (puedes reemplazar con otros modelos)\n",
    "from sklearn.model_selection import cross_validate\n",
    "\n",
    "# Definir el modelo Dummy para probar el ciclo (puedes cambiar por otro clasificador)\n",
    "dummy_model = DummyClassifier(strategy=\"most_frequent\")\n",
    "\n",
    "# Crear el pipeline con el preprocesador y el modelo\n",
    "pipeline = Pipeline([\n",
    "    ('preprocessor', preprocessor),\n",
    "    ('classifier', dummy_model)  # Reemplaza esto con cualquier modelo que desees usar\n",
    "])\n",
    "\n",
    "# Definir las métricas a calcular\n",
    "scoring = ['f1_macro', 'accuracy', 'roc_auc']\n",
    "\n",
    "# Validación cruzada con múltiples métricas\n",
    "cv_results = cross_validate(pipeline, X_train, y_train, cv=5, scoring=scoring, return_train_score=True)\n",
    "\n",
    "# Mostrar resultados\n",
    "print(\"F1-Score por fold:\", cv_results['test_f1_macro'])\n",
    "print(\"ROC-AUC por fold:\", cv_results['test_roc_auc'])\n",
    "print(\"Exactitud por fold:\", cv_results['test_accuracy'])\n",
    "print(\"Promedio F1-Score:\", cv_results['test_f1_macro'].mean())\n",
    "print(\"Promedio Exactitud:\", cv_results['test_accuracy'].mean())"
   ]
  },
  {
   "cell_type": "code",
   "execution_count": 9,
   "metadata": {},
   "outputs": [],
   "source": [
    "from sklearn.metrics import f1_score, precision_recall_curve, average_precision_score, roc_auc_score\n",
    "from sklearn.metrics import classification_report, confusion_matrix\n",
    "import time\n",
    "from sklearn.metrics import auc\n",
    "\n",
    "def train_and_evaluate(pipe, X_train, y_train, X_test, y_test, print_=True):\n",
    "    start_time = time.time()  # Start the timer\n",
    "\n",
    "    pipe.fit(X_train, y_train)  # Entrenamiento\n",
    "\n",
    "    end_time = time.time()  # Stop the timer\n",
    "    training_time = end_time - start_time  # Calculate the elapsed time\n",
    "\n",
    "    # Predicciones\n",
    "    y_pred = pipe.predict(X_test)\n",
    "    y_prob = pipe.predict_proba(X_test)[:, 1]  # Probabilidades para la clase positiva\n",
    "\n",
    "    # Cálculo del AUC-PR usando probabilidades\n",
    "    precision, recall, thresholds = precision_recall_curve(y_test, y_prob)\n",
    "    auc_pr = auc(recall, precision)\n",
    "    \n",
    "    # Cálculo del AUC-ROC (si es relevante)\n",
    "    auc_roc = roc_auc_score(y_test, y_prob)\n",
    "\n",
    "    if print_:\n",
    "        print(\"Matriz de confusión: \\n\")\n",
    "        print(confusion_matrix(y_test, y_pred, labels=pipe.classes_))\n",
    "        print(\"\\nReporte de Clasificación: \\n\")\n",
    "        print(classification_report(y_test, y_pred, target_names=[str(cls) for cls in pipe.classes_]))\n",
    "        print(f\"Tiempo de entrenamiento: {training_time:.2f} segundos\")"
   ]
  },
  {
   "cell_type": "code",
   "execution_count": 34,
   "metadata": {},
   "outputs": [
    {
     "name": "stdout",
     "output_type": "stream",
     "text": [
      "Matriz de confusión: \n",
      "\n",
      "[[37 43]\n",
      " [38 26]]\n",
      "\n",
      "Reporte de Clasificación: \n",
      "\n",
      "              precision    recall  f1-score   support\n",
      "\n",
      "           0       0.49      0.46      0.48        80\n",
      "           1       0.38      0.41      0.39        64\n",
      "\n",
      "    accuracy                           0.44       144\n",
      "   macro avg       0.44      0.43      0.43       144\n",
      "weighted avg       0.44      0.44      0.44       144\n",
      "\n",
      "Tiempo de entrenamiento: 0.03 segundos\n"
     ]
    }
   ],
   "source": [
    "from sklearn.dummy import DummyClassifier\n",
    "\n",
    "dummy_pipe = Pipeline(\n",
    "    steps=[\n",
    "        (\"preprocessor\", preprocessor),\n",
    "        (\"Dummy\", DummyClassifier(strategy=\"stratified\")),\n",
    "    ]\n",
    ")\n",
    "\n",
    "train_and_evaluate(dummy_pipe, X_train, y_train, X_test, y_test, print_=True)"
   ]
  },
  {
   "cell_type": "code",
   "execution_count": 35,
   "metadata": {},
   "outputs": [
    {
     "data": {
      "image/png": "[encoded data removed]",
      "text/plain": [
       "<Figure size 800x600 with 1 Axes>"
      ]
     },
     "metadata": {},
     "output_type": "display_data"
    },
    {
     "name": "stdout",
     "output_type": "stream",
     "text": [
      "AUC: 0.45\n"
     ]
    },
    {
     "data": {
      "image/png": "[encoded data removed]",
      "text/plain": [
       "<Figure size 800x600 with 1 Axes>"
      ]
     },
     "metadata": {},
     "output_type": "display_data"
    },
    {
     "data": {
      "image/png": "[encoded data removed]",
      "text/plain": [
       "<Figure size 800x600 with 1 Axes>"
      ]
     },
     "metadata": {},
     "output_type": "display_data"
    }
   ],
   "source": [
    "import matplotlib.pyplot as plt\n",
    "from sklearn.metrics import roc_curve, roc_auc_score\n",
    "from sklearn.metrics import confusion_matrix\n",
    "import seaborn as sns\n",
    "\n",
    "\n",
    "\n",
    "# Obtener las probabilidades de la clase positiva (1) para el conjunto de prueba\n",
    "y_prob = dummy_pipe.predict_proba(X_test)[:, 1]\n",
    "\n",
    "# Obtener las predicciones de clase para el conjunto de prueba\n",
    "y_pred = dummy_pipe.predict(X_test)\n",
    "\n",
    "# Calcular la curva ROC\n",
    "fpr, tpr, thresholds = roc_curve(y_test, y_prob)\n",
    "\n",
    "# Calcular el AUC\n",
    "auc_value = roc_auc_score(y_test, y_prob)\n",
    "\n",
    "# Graficar la curva ROC\n",
    "plt.figure(figsize=(8, 6))\n",
    "plt.plot(fpr, tpr, color='blue', label=f'ROC curve (AUC = {auc_value:.2f})')\n",
    "plt.plot([0, 1], [0, 1], color='gray', linestyle='--')  # Línea diagonal\n",
    "plt.xlim([0.0, 1.0])\n",
    "plt.ylim([0.0, 1.05])\n",
    "plt.xlabel('False Positive Rate')\n",
    "plt.ylabel('True Positive Rate')\n",
    "plt.title('ROC Curve')\n",
    "plt.legend(loc=\"lower right\")\n",
    "plt.grid(True)\n",
    "plt.show()\n",
    "\n",
    "# Imprimir el valor del AUC\n",
    "print(f\"AUC: {auc_value:.2f}\")\n",
    "\n",
    "# Calcular la curva Precision-Recall\n",
    "precision, recall, thresholds = precision_recall_curve(y_test, y_prob)\n",
    "\n",
    "# Calcular el AUC-PR\n",
    "auc_pr = average_precision_score(y_test, y_prob)\n",
    "\n",
    "# Graficar la curva Precision-Recall\n",
    "plt.figure(figsize=(8, 6))\n",
    "plt.plot(recall, precision, color='blue', label=f'Precision-Recall curve (AUC-PR = {auc_pr:.2f})')\n",
    "plt.xlabel('Recall')\n",
    "plt.ylabel('Precision')\n",
    "plt.title('Precision-Recall Curve')\n",
    "plt.legend(loc=\"lower left\")\n",
    "plt.grid(True)\n",
    "plt.show()\n",
    "\n",
    "# Calcular la matriz de confusión\n",
    "conf_matrix = confusion_matrix(y_test, y_pred)\n",
    "\n",
    "# Calcular la matriz de confusión normalizada\n",
    "conf_matrix_normalized = confusion_matrix(y_test, y_pred, normalize='true')\n",
    "\n",
    "# Crear una anotación que incluya tanto el valor absoluto como el porcentaje\n",
    "labels = np.asarray([f'{int(conf_matrix[i, j])}\\n({conf_matrix_normalized[i, j]:.2%})' \n",
    "                     for i in range(conf_matrix.shape[0]) \n",
    "                     for j in range(conf_matrix.shape[1])]).reshape(conf_matrix.shape)\n",
    "\n",
    "# Definir las etiquetas personalizadas\n",
    "class_names = ['Control', 'Glaucoma']\n",
    "\n",
    "# Graficar la matriz de confusión con los valores absolutos y normalizados\n",
    "plt.figure(figsize=(8, 6))\n",
    "sns.heatmap(conf_matrix_normalized, annot=labels, fmt='', cmap='Blues', cbar=False,\n",
    "            xticklabels=class_names, yticklabels=class_names)\n",
    "plt.title('Confusion Matrix')\n",
    "plt.ylabel('True label')\n",
    "plt.xlabel('Predicted label')\n",
    "plt.show()"
   ]
  },
  {
   "cell_type": "markdown",
   "metadata": {},
   "source": [
    "## Modelos"
   ]
  },
  {
   "cell_type": "markdown",
   "metadata": {},
   "source": [
    "### XGboost"
   ]
  },
  {
   "cell_type": "code",
   "execution_count": 366,
   "metadata": {},
   "outputs": [
    {
     "name": "stdout",
     "output_type": "stream",
     "text": [
      "Matriz de confusión: \n",
      "\n",
      "[[29 11]\n",
      " [16 16]]\n",
      "\n",
      "Reporte de Clasificación: \n",
      "\n",
      "              precision    recall  f1-score   support\n",
      "\n",
      "           0       0.64      0.72      0.68        40\n",
      "           1       0.59      0.50      0.54        32\n",
      "\n",
      "    accuracy                           0.62        72\n",
      "   macro avg       0.62      0.61      0.61        72\n",
      "weighted avg       0.62      0.62      0.62        72\n",
      "\n",
      "Tiempo de entrenamiento: 2.40 segundos\n"
     ]
    }
   ],
   "source": [
    "from xgboost import XGBClassifier\n",
    "from sklearn.metrics import recall_score, precision_recall_curve, confusion_matrix\n",
    "\n",
    "# Definir el modelo XGBoost\n",
    "xgb_model = XGBClassifier(learning_rate=0.3, max_depth=6, eval_metric=[\"error\", \"logloss\"])\n",
    "\n",
    "# Definir el pipeline con el preprocesador y el modelo XGBoost\n",
    "pipe = Pipeline([\n",
    "    ('preprocessor', preprocessor),  # Preprocesador que creaste anteriormente\n",
    "    ('classifier', xgb_model)        # Modelo de clasificación XGBoost\n",
    "])\n",
    "\n",
    "train_and_evaluate(pipe, X_train, y_train, X_test, y_test, print_=True)\n"
   ]
  },
  {
   "cell_type": "code",
   "execution_count": 435,
   "metadata": {},
   "outputs": [
    {
     "data": {
      "image/png": "[encoded data removed]",
      "text/plain": [
       "<Figure size 800x600 with 1 Axes>"
      ]
     },
     "metadata": {},
     "output_type": "display_data"
    },
    {
     "name": "stdout",
     "output_type": "stream",
     "text": [
      "AUC: 0.82\n"
     ]
    },
    {
     "data": {
      "image/png": "[encoded data removed]",
      "text/plain": [
       "<Figure size 800x600 with 1 Axes>"
      ]
     },
     "metadata": {},
     "output_type": "display_data"
    },
    {
     "data": {
      "image/png": "[encoded data removed]",
      "text/plain": [
       "<Figure size 800x600 with 1 Axes>"
      ]
     },
     "metadata": {},
     "output_type": "display_data"
    }
   ],
   "source": [
    "import matplotlib.pyplot as plt\n",
    "from sklearn.metrics import roc_curve, roc_auc_score\n",
    "from sklearn.metrics import confusion_matrix\n",
    "import seaborn as sns\n",
    "\n",
    "# Ajustar el pipeline al conjunto de entrenamiento\n",
    "pipe.fit(X_train, y_train)\n",
    "\n",
    "# Obtener las probabilidades de la clase positiva (1) para el conjunto de prueba\n",
    "y_prob = pipe.predict_proba(X_test)[:, 1]\n",
    "\n",
    "# Obtener las predicciones de clase para el conjunto de prueba\n",
    "y_pred = pipe.predict(X_test)\n",
    "\n",
    "# Calcular la curva ROC\n",
    "fpr, tpr, thresholds = roc_curve(y_test, y_prob)\n",
    "\n",
    "# Calcular el AUC\n",
    "auc_value = roc_auc_score(y_test, y_prob)\n",
    "\n",
    "# Graficar la curva ROC\n",
    "plt.figure(figsize=(8, 6))\n",
    "plt.plot(fpr, tpr, color='blue', label=f'ROC curve (AUC = {auc_value:.2f})')\n",
    "plt.plot([0, 1], [0, 1], color='gray', linestyle='--')  # Línea diagonal\n",
    "plt.xlim([0.0, 1.0])\n",
    "plt.ylim([0.0, 1.05])\n",
    "plt.xlabel('False Positive Rate')\n",
    "plt.ylabel('True Positive Rate')\n",
    "plt.title('ROC Curve')\n",
    "plt.legend(loc=\"lower right\")\n",
    "plt.grid(True)\n",
    "plt.show()\n",
    "\n",
    "# Imprimir el valor del AUC\n",
    "print(f\"AUC: {auc_value:.2f}\")\n",
    "\n",
    "# Calcular la curva Precision-Recall\n",
    "precision, recall, thresholds = precision_recall_curve(y_test, y_prob)\n",
    "\n",
    "# Calcular el AUC-PR\n",
    "auc_pr = average_precision_score(y_test, y_prob)\n",
    "\n",
    "# Graficar la curva Precision-Recall\n",
    "plt.figure(figsize=(8, 6))\n",
    "plt.plot(recall, precision, color='blue', label=f'Precision-Recall curve (AUC-PR = {auc_pr:.2f})')\n",
    "plt.xlabel('Recall')\n",
    "plt.ylabel('Precision')\n",
    "plt.title('Precision-Recall Curve')\n",
    "plt.legend(loc=\"lower left\")\n",
    "plt.grid(True)\n",
    "plt.show()\n",
    "\n",
    "# Calcular la matriz de confusión\n",
    "conf_matrix = confusion_matrix(y_test, y_pred)\n",
    "\n",
    "# Calcular la matriz de confusión normalizada\n",
    "conf_matrix_normalized = confusion_matrix(y_test, y_pred, normalize='true')\n",
    "\n",
    "# Crear una anotación que incluya tanto el valor absoluto como el porcentaje\n",
    "labels = np.asarray([f'{int(conf_matrix[i, j])}\\n({conf_matrix_normalized[i, j]:.2%})' \n",
    "                     for i in range(conf_matrix.shape[0]) \n",
    "                     for j in range(conf_matrix.shape[1])]).reshape(conf_matrix.shape)\n",
    "\n",
    "# Definir las etiquetas personalizadas\n",
    "class_names = ['Control', 'Glaucoma']\n",
    "\n",
    "# Graficar la matriz de confusión con los valores absolutos y normalizados\n",
    "plt.figure(figsize=(8, 6))\n",
    "sns.heatmap(conf_matrix_normalized, annot=labels, fmt='', cmap='Blues', cbar=False,\n",
    "            xticklabels=class_names, yticklabels=class_names)\n",
    "plt.title('Confusion Matrix')\n",
    "plt.ylabel('True label')\n",
    "plt.xlabel('Predicted label')\n",
    "plt.show()"
   ]
  },
  {
   "cell_type": "code",
   "execution_count": 325,
   "metadata": {},
   "outputs": [
    {
     "name": "stdout",
     "output_type": "stream",
     "text": [
      "Accuracy: 72.22%\n"
     ]
    },
    {
     "data": {
      "application/vnd.plotly.v1+json": {
       "config": {
        "plotlyServerURL": "https://plot.ly"
       },
       "data": [
        {
         "mode": "lines",
         "name": "Train Log Loss",
         "type": "scatter",
         "x": [
          0,
          1,
          2,
          3,
          4,
          5,
          6,
          7,
          8,
          9,
          10,
          11,
          12,
          13,
          14,
          15,
          16,
          17,
          18,
          19,
          20,
          21,
          22,
          23,
          24,
          25,
          26,
          27,
          28,
          29,
          30,
          31,
          32,
          33,
          34,
          35,
          36,
          37,
          38,
          39,
          40,
          41,
          42,
          43,
          44,
          45,
          46,
          47,
          48,
          49,
          50,
          51,
          52,
          53,
          54,
          55,
          56,
          57,
          58,
          59,
          60,
          61,
          62,
          63,
          64,
          65,
          66,
          67,
          68,
          69,
          70,
          71,
          72,
          73,
          74,
          75,
          76,
          77,
          78,
          79,
          80,
          81,
          82,
          83,
          84,
          85,
          86,
          87,
          88,
          89,
          90,
          91,
          92,
          93,
          94,
          95,
          96,
          97,
          98,
          99
         ],
         "y": [
          0.5054504689760506,
          0.3893014357890934,
          0.30655234708683565,
          0.24742053117370233,
          0.20602741313632578,
          0.17312324576778337,
          0.14673216338269413,
          0.1273003836395219,
          0.112147420324618,
          0.09967496585159097,
          0.08870055642182706,
          0.08059841312206117,
          0.07285107799543766,
          0.06557953056471888,
          0.05962017759156879,
          0.05539499580481788,
          0.05178931976115564,
          0.04810247111890931,
          0.04505735806014854,
          0.04305384622421116,
          0.04062440294546832,
          0.03856378556520212,
          0.03679868520521268,
          0.03507449443168298,
          0.03361775616758678,
          0.03243709423441032,
          0.03128588136860344,
          0.02997954991315055,
          0.02908974250567553,
          0.02830605985309376,
          0.02742491671142488,
          0.0268477423078366,
          0.02597178813357459,
          0.02518766914909065,
          0.02467752379379817,
          0.02402373098539101,
          0.02348427398192143,
          0.02285071557071205,
          0.0223963067751356,
          0.02191600344485778,
          0.02133464721009659,
          0.02096762595556356,
          0.02047346609333545,
          0.01993606522773916,
          0.01965306524061816,
          0.01939956133128362,
          0.01895066385532118,
          0.01857727491369587,
          0.01836159361528189,
          0.01797969685094358,
          0.01772844712786537,
          0.01744538817547436,
          0.01722221706131677,
          0.01700042803531687,
          0.01677951386773202,
          0.01660230727520684,
          0.01640945922690662,
          0.01622198337145164,
          0.01601809610565397,
          0.01583017193638625,
          0.01566290667597059,
          0.01548380557005657,
          0.01529831232869583,
          0.0150991327277552,
          0.01491884174402003,
          0.01484058162941437,
          0.01476814318243669,
          0.01460712096672978,
          0.01447562941257274,
          0.01428707754962488,
          0.0142158379949251,
          0.01407932376264398,
          0.01391964169692983,
          0.01375263348450062,
          0.01361615460905341,
          0.01355078853998748,
          0.01345000460128176,
          0.01334908811759306,
          0.01329288067699963,
          0.01314690288222664,
          0.01302165027300362,
          0.01296561798085349,
          0.01291329856417178,
          0.01272953523493925,
          0.01262026884978695,
          0.01250011686261132,
          0.01245073730001423,
          0.01237872244905702,
          0.01226239195921153,
          0.01221628054031498,
          0.012169934366284,
          0.0121223126041059,
          0.01207829445093012,
          0.01203369128074883,
          0.01199176129807711,
          0.01194509230026597,
          0.01190199046300222,
          0.01185661475733468,
          0.01181643839595381,
          0.01177381437651093
         ]
        },
        {
         "mode": "lines",
         "name": "Test Log Loss",
         "type": "scatter",
         "x": [
          0,
          1,
          2,
          3,
          4,
          5,
          6,
          7,
          8,
          9,
          10,
          11,
          12,
          13,
          14,
          15,
          16,
          17,
          18,
          19,
          20,
          21,
          22,
          23,
          24,
          25,
          26,
          27,
          28,
          29,
          30,
          31,
          32,
          33,
          34,
          35,
          36,
          37,
          38,
          39,
          40,
          41,
          42,
          43,
          44,
          45,
          46,
          47,
          48,
          49,
          50,
          51,
          52,
          53,
          54,
          55,
          56,
          57,
          58,
          59,
          60,
          61,
          62,
          63,
          64,
          65,
          66,
          67,
          68,
          69,
          70,
          71,
          72,
          73,
          74,
          75,
          76,
          77,
          78,
          79,
          80,
          81,
          82,
          83,
          84,
          85,
          86,
          87,
          88,
          89,
          90,
          91,
          92,
          93,
          94,
          95,
          96,
          97,
          98,
          99
         ],
         "y": [
          0.6829370330605242,
          0.6880215389861001,
          0.6935248219718536,
          0.6823044230954515,
          0.7043753376023637,
          0.6895669870492485,
          0.6928662736382749,
          0.6770501080900431,
          0.6650373675963945,
          0.6765610149854587,
          0.6665198198623128,
          0.671809603770574,
          0.6585237007950329,
          0.647930872730083,
          0.6420106187514547,
          0.636733292757223,
          0.6290743674617261,
          0.6276598415311633,
          0.619807380096366,
          0.6285002952855494,
          0.6311448561674398,
          0.638702678002624,
          0.6580223045441218,
          0.6549008790946876,
          0.6648450859227322,
          0.6666676746422632,
          0.6633474868463559,
          0.6690758862144625,
          0.6787954644209498,
          0.6740112180446481,
          0.6788885552733619,
          0.6859591670476625,
          0.6983808256724539,
          0.6927153172825152,
          0.6930950332122544,
          0.6936675061135449,
          0.6947222787485872,
          0.6932099113085618,
          0.688900109348146,
          0.6892740948436161,
          0.6917796008379405,
          0.6931981242119541,
          0.6949509113845933,
          0.6962029172314538,
          0.6973540247417986,
          0.6981933976510644,
          0.7050069405619676,
          0.7007291938902603,
          0.7043270338650068,
          0.7050883332202729,
          0.7106292334954358,
          0.7165706497940442,
          0.7209473413014267,
          0.7248887636103771,
          0.7276358236558735,
          0.7321749429748807,
          0.7307686812710017,
          0.7309723428075409,
          0.7283245175624162,
          0.7329457153165195,
          0.7370292050569939,
          0.7356682692900196,
          0.7474715802818537,
          0.7429639126575138,
          0.740675697368311,
          0.7411009986535646,
          0.7433058313391585,
          0.7446962434882557,
          0.7422863189454397,
          0.7396617458305426,
          0.7432824639739314,
          0.747700106281425,
          0.7418425102821655,
          0.7463967918140244,
          0.7453624246021112,
          0.7456757194789437,
          0.7473135281567617,
          0.7473918436994104,
          0.7465144323909448,
          0.7462179447110329,
          0.750652562597275,
          0.7515640931928323,
          0.7538134484525977,
          0.7541129614692181,
          0.7566747920354828,
          0.7564842910893882,
          0.7564665003382187,
          0.7569194198650722,
          0.7593372727860697,
          0.7610688613882909,
          0.763781521624575,
          0.7594889922442639,
          0.7593115697446693,
          0.759568783467532,
          0.7598972177042419,
          0.7628585034463968,
          0.7640518246076277,
          0.7643865210896669,
          0.7617710000680139,
          0.7649912599461257
         ]
        }
       ],
       "layout": {
        "legend": {
         "title": {
          "text": "Dataset"
         }
        },
        "template": {
         "data": {
          "bar": [
           {
            "error_x": {
             "color": "rgb(36,36,36)"
            },
            "error_y": {
             "color": "rgb(36,36,36)"
            },
            "marker": {
             "line": {
              "color": "white",
              "width": 0.5
             },
             "pattern": {
              "fillmode": "overlay",
              "size": 10,
              "solidity": 0.2
             }
            },
            "type": "bar"
           }
          ],
          "barpolar": [
           {
            "marker": {
             "line": {
              "color": "white",
              "width": 0.5
             },
             "pattern": {
              "fillmode": "overlay",
              "size": 10,
              "solidity": 0.2
             }
            },
            "type": "barpolar"
           }
          ],
          "carpet": [
           {
            "aaxis": {
             "endlinecolor": "rgb(36,36,36)",
             "gridcolor": "white",
             "linecolor": "white",
             "minorgridcolor": "white",
             "startlinecolor": "rgb(36,36,36)"
            },
            "baxis": {
             "endlinecolor": "rgb(36,36,36)",
             "gridcolor": "white",
             "linecolor": "white",
             "minorgridcolor": "white",
             "startlinecolor": "rgb(36,36,36)"
            },
            "type": "carpet"
           }
          ],
          "choropleth": [
           {
            "colorbar": {
             "outlinewidth": 1,
             "tickcolor": "rgb(36,36,36)",
             "ticks": "outside"
            },
            "type": "choropleth"
           }
          ],
          "contour": [
           {
            "colorbar": {
             "outlinewidth": 1,
             "tickcolor": "rgb(36,36,36)",
             "ticks": "outside"
            },
            "colorscale": [
             [
              0,
              "#440154"
             ],
             [
              0.1111111111111111,
              "#482878"
             ],
             [
              0.2222222222222222,
              "#3e4989"
             ],
             [
              0.3333333333333333,
              "#31688e"
             ],
             [
              0.4444444444444444,
              "#26828e"
             ],
             [
              0.5555555555555556,
              "#1f9e89"
             ],
             [
              0.6666666666666666,
              "#35b779"
             ],
             [
              0.7777777777777778,
              "#6ece58"
             ],
             [
              0.8888888888888888,
              "#b5de2b"
             ],
             [
              1,
              "#fde725"
             ]
            ],
            "type": "contour"
           }
          ],
          "contourcarpet": [
           {
            "colorbar": {
             "outlinewidth": 1,
             "tickcolor": "rgb(36,36,36)",
             "ticks": "outside"
            },
            "type": "contourcarpet"
           }
          ],
          "heatmap": [
           {
            "colorbar": {
             "outlinewidth": 1,
             "tickcolor": "rgb(36,36,36)",
             "ticks": "outside"
            },
            "colorscale": [
             [
              0,
              "#440154"
             ],
             [
              0.1111111111111111,
              "#482878"
             ],
             [
              0.2222222222222222,
              "#3e4989"
             ],
             [
              0.3333333333333333,
              "#31688e"
             ],
             [
              0.4444444444444444,
              "#26828e"
             ],
             [
              0.5555555555555556,
              "#1f9e89"
             ],
             [
              0.6666666666666666,
              "#35b779"
             ],
             [
              0.7777777777777778,
              "#6ece58"
             ],
             [
              0.8888888888888888,
              "#b5de2b"
             ],
             [
              1,
              "#fde725"
             ]
            ],
            "type": "heatmap"
           }
          ],
          "heatmapgl": [
           {
            "colorbar": {
             "outlinewidth": 1,
             "tickcolor": "rgb(36,36,36)",
             "ticks": "outside"
            },
            "colorscale": [
             [
              0,
              "#440154"
             ],
             [
              0.1111111111111111,
              "#482878"
             ],
             [
              0.2222222222222222,
              "#3e4989"
             ],
             [
              0.3333333333333333,
              "#31688e"
             ],
             [
              0.4444444444444444,
              "#26828e"
             ],
             [
              0.5555555555555556,
              "#1f9e89"
             ],
             [
              0.6666666666666666,
              "#35b779"
             ],
             [
              0.7777777777777778,
              "#6ece58"
             ],
             [
              0.8888888888888888,
              "#b5de2b"
             ],
             [
              1,
              "#fde725"
             ]
            ],
            "type": "heatmapgl"
           }
          ],
          "histogram": [
           {
            "marker": {
             "line": {
              "color": "white",
              "width": 0.6
             }
            },
            "type": "histogram"
           }
          ],
          "histogram2d": [
           {
            "colorbar": {
             "outlinewidth": 1,
             "tickcolor": "rgb(36,36,36)",
             "ticks": "outside"
            },
            "colorscale": [
             [
              0,
              "#440154"
             ],
             [
              0.1111111111111111,
              "#482878"
             ],
             [
              0.2222222222222222,
              "#3e4989"
             ],
             [
              0.3333333333333333,
              "#31688e"
             ],
             [
              0.4444444444444444,
              "#26828e"
             ],
             [
              0.5555555555555556,
              "#1f9e89"
             ],
             [
              0.6666666666666666,
              "#35b779"
             ],
             [
              0.7777777777777778,
              "#6ece58"
             ],
             [
              0.8888888888888888,
              "#b5de2b"
             ],
             [
              1,
              "#fde725"
             ]
            ],
            "type": "histogram2d"
           }
          ],
          "histogram2dcontour": [
           {
            "colorbar": {
             "outlinewidth": 1,
             "tickcolor": "rgb(36,36,36)",
             "ticks": "outside"
            },
            "colorscale": [
             [
              0,
              "#440154"
             ],
             [
              0.1111111111111111,
              "#482878"
             ],
             [
              0.2222222222222222,
              "#3e4989"
             ],
             [
              0.3333333333333333,
              "#31688e"
             ],
             [
              0.4444444444444444,
              "#26828e"
             ],
             [
              0.5555555555555556,
              "#1f9e89"
             ],
             [
              0.6666666666666666,
              "#35b779"
             ],
             [
              0.7777777777777778,
              "#6ece58"
             ],
             [
              0.8888888888888888,
              "#b5de2b"
             ],
             [
              1,
              "#fde725"
             ]
            ],
            "type": "histogram2dcontour"
           }
          ],
          "mesh3d": [
           {
            "colorbar": {
             "outlinewidth": 1,
             "tickcolor": "rgb(36,36,36)",
             "ticks": "outside"
            },
            "type": "mesh3d"
           }
          ],
          "parcoords": [
           {
            "line": {
             "colorbar": {
              "outlinewidth": 1,
              "tickcolor": "rgb(36,36,36)",
              "ticks": "outside"
             }
            },
            "type": "parcoords"
           }
          ],
          "pie": [
           {
            "automargin": true,
            "type": "pie"
           }
          ],
          "scatter": [
           {
            "fillpattern": {
             "fillmode": "overlay",
             "size": 10,
             "solidity": 0.2
            },
            "type": "scatter"
           }
          ],
          "scatter3d": [
           {
            "line": {
             "colorbar": {
              "outlinewidth": 1,
              "tickcolor": "rgb(36,36,36)",
              "ticks": "outside"
             }
            },
            "marker": {
             "colorbar": {
              "outlinewidth": 1,
              "tickcolor": "rgb(36,36,36)",
              "ticks": "outside"
             }
            },
            "type": "scatter3d"
           }
          ],
          "scattercarpet": [
           {
            "marker": {
             "colorbar": {
              "outlinewidth": 1,
              "tickcolor": "rgb(36,36,36)",
              "ticks": "outside"
             }
            },
            "type": "scattercarpet"
           }
          ],
          "scattergeo": [
           {
            "marker": {
             "colorbar": {
              "outlinewidth": 1,
              "tickcolor": "rgb(36,36,36)",
              "ticks": "outside"
             }
            },
            "type": "scattergeo"
           }
          ],
          "scattergl": [
           {
            "marker": {
             "colorbar": {
              "outlinewidth": 1,
              "tickcolor": "rgb(36,36,36)",
              "ticks": "outside"
             }
            },
            "type": "scattergl"
           }
          ],
          "scattermapbox": [
           {
            "marker": {
             "colorbar": {
              "outlinewidth": 1,
              "tickcolor": "rgb(36,36,36)",
              "ticks": "outside"
             }
            },
            "type": "scattermapbox"
           }
          ],
          "scatterpolar": [
           {
            "marker": {
             "colorbar": {
              "outlinewidth": 1,
              "tickcolor": "rgb(36,36,36)",
              "ticks": "outside"
             }
            },
            "type": "scatterpolar"
           }
          ],
          "scatterpolargl": [
           {
            "marker": {
             "colorbar": {
              "outlinewidth": 1,
              "tickcolor": "rgb(36,36,36)",
              "ticks": "outside"
             }
            },
            "type": "scatterpolargl"
           }
          ],
          "scatterternary": [
           {
            "marker": {
             "colorbar": {
              "outlinewidth": 1,
              "tickcolor": "rgb(36,36,36)",
              "ticks": "outside"
             }
            },
            "type": "scatterternary"
           }
          ],
          "surface": [
           {
            "colorbar": {
             "outlinewidth": 1,
             "tickcolor": "rgb(36,36,36)",
             "ticks": "outside"
            },
            "colorscale": [
             [
              0,
              "#440154"
             ],
             [
              0.1111111111111111,
              "#482878"
             ],
             [
              0.2222222222222222,
              "#3e4989"
             ],
             [
              0.3333333333333333,
              "#31688e"
             ],
             [
              0.4444444444444444,
              "#26828e"
             ],
             [
              0.5555555555555556,
              "#1f9e89"
             ],
             [
              0.6666666666666666,
              "#35b779"
             ],
             [
              0.7777777777777778,
              "#6ece58"
             ],
             [
              0.8888888888888888,
              "#b5de2b"
             ],
             [
              1,
              "#fde725"
             ]
            ],
            "type": "surface"
           }
          ],
          "table": [
           {
            "cells": {
             "fill": {
              "color": "rgb(237,237,237)"
             },
             "line": {
              "color": "white"
             }
            },
            "header": {
             "fill": {
              "color": "rgb(217,217,217)"
             },
             "line": {
              "color": "white"
             }
            },
            "type": "table"
           }
          ]
         },
         "layout": {
          "annotationdefaults": {
           "arrowhead": 0,
           "arrowwidth": 1
          },
          "autotypenumbers": "strict",
          "coloraxis": {
           "colorbar": {
            "outlinewidth": 1,
            "tickcolor": "rgb(36,36,36)",
            "ticks": "outside"
           }
          },
          "colorscale": {
           "diverging": [
            [
             0,
             "rgb(103,0,31)"
            ],
            [
             0.1,
             "rgb(178,24,43)"
            ],
            [
             0.2,
             "rgb(214,96,77)"
            ],
            [
             0.3,
             "rgb(244,165,130)"
            ],
            [
             0.4,
             "rgb(253,219,199)"
            ],
            [
             0.5,
             "rgb(247,247,247)"
            ],
            [
             0.6,
             "rgb(209,229,240)"
            ],
            [
             0.7,
             "rgb(146,197,222)"
            ],
            [
             0.8,
             "rgb(67,147,195)"
            ],
            [
             0.9,
             "rgb(33,102,172)"
            ],
            [
             1,
             "rgb(5,48,97)"
            ]
           ],
           "sequential": [
            [
             0,
             "#440154"
            ],
            [
             0.1111111111111111,
             "#482878"
            ],
            [
             0.2222222222222222,
             "#3e4989"
            ],
            [
             0.3333333333333333,
             "#31688e"
            ],
            [
             0.4444444444444444,
             "#26828e"
            ],
            [
             0.5555555555555556,
             "#1f9e89"
            ],
            [
             0.6666666666666666,
             "#35b779"
            ],
            [
             0.7777777777777778,
             "#6ece58"
            ],
            [
             0.8888888888888888,
             "#b5de2b"
            ],
            [
             1,
             "#fde725"
            ]
           ],
           "sequentialminus": [
            [
             0,
             "#440154"
            ],
            [
             0.1111111111111111,
             "#482878"
            ],
            [
             0.2222222222222222,
             "#3e4989"
            ],
            [
             0.3333333333333333,
             "#31688e"
            ],
            [
             0.4444444444444444,
             "#26828e"
            ],
            [
             0.5555555555555556,
             "#1f9e89"
            ],
            [
             0.6666666666666666,
             "#35b779"
            ],
            [
             0.7777777777777778,
             "#6ece58"
            ],
            [
             0.8888888888888888,
             "#b5de2b"
            ],
            [
             1,
             "#fde725"
            ]
           ]
          },
          "colorway": [
           "#1F77B4",
           "#FF7F0E",
           "#2CA02C",
           "#D62728",
           "#9467BD",
           "#8C564B",
           "#E377C2",
           "#7F7F7F",
           "#BCBD22",
           "#17BECF"
          ],
          "font": {
           "color": "rgb(36,36,36)"
          },
          "geo": {
           "bgcolor": "white",
           "lakecolor": "white",
           "landcolor": "white",
           "showlakes": true,
           "showland": true,
           "subunitcolor": "white"
          },
          "hoverlabel": {
           "align": "left"
          },
          "hovermode": "closest",
          "mapbox": {
           "style": "light"
          },
          "paper_bgcolor": "white",
          "plot_bgcolor": "white",
          "polar": {
           "angularaxis": {
            "gridcolor": "rgb(232,232,232)",
            "linecolor": "rgb(36,36,36)",
            "showgrid": false,
            "showline": true,
            "ticks": "outside"
           },
           "bgcolor": "white",
           "radialaxis": {
            "gridcolor": "rgb(232,232,232)",
            "linecolor": "rgb(36,36,36)",
            "showgrid": false,
            "showline": true,
            "ticks": "outside"
           }
          },
          "scene": {
           "xaxis": {
            "backgroundcolor": "white",
            "gridcolor": "rgb(232,232,232)",
            "gridwidth": 2,
            "linecolor": "rgb(36,36,36)",
            "showbackground": true,
            "showgrid": false,
            "showline": true,
            "ticks": "outside",
            "zeroline": false,
            "zerolinecolor": "rgb(36,36,36)"
           },
           "yaxis": {
            "backgroundcolor": "white",
            "gridcolor": "rgb(232,232,232)",
            "gridwidth": 2,
            "linecolor": "rgb(36,36,36)",
            "showbackground": true,
            "showgrid": false,
            "showline": true,
            "ticks": "outside",
            "zeroline": false,
            "zerolinecolor": "rgb(36,36,36)"
           },
           "zaxis": {
            "backgroundcolor": "white",
            "gridcolor": "rgb(232,232,232)",
            "gridwidth": 2,
            "linecolor": "rgb(36,36,36)",
            "showbackground": true,
            "showgrid": false,
            "showline": true,
            "ticks": "outside",
            "zeroline": false,
            "zerolinecolor": "rgb(36,36,36)"
           }
          },
          "shapedefaults": {
           "fillcolor": "black",
           "line": {
            "width": 0
           },
           "opacity": 0.3
          },
          "ternary": {
           "aaxis": {
            "gridcolor": "rgb(232,232,232)",
            "linecolor": "rgb(36,36,36)",
            "showgrid": false,
            "showline": true,
            "ticks": "outside"
           },
           "baxis": {
            "gridcolor": "rgb(232,232,232)",
            "linecolor": "rgb(36,36,36)",
            "showgrid": false,
            "showline": true,
            "ticks": "outside"
           },
           "bgcolor": "white",
           "caxis": {
            "gridcolor": "rgb(232,232,232)",
            "linecolor": "rgb(36,36,36)",
            "showgrid": false,
            "showline": true,
            "ticks": "outside"
           }
          },
          "title": {
           "x": 0.05
          },
          "xaxis": {
           "automargin": true,
           "gridcolor": "rgb(232,232,232)",
           "linecolor": "rgb(36,36,36)",
           "showgrid": false,
           "showline": true,
           "ticks": "outside",
           "title": {
            "standoff": 15
           },
           "zeroline": false,
           "zerolinecolor": "rgb(36,36,36)"
          },
          "yaxis": {
           "automargin": true,
           "gridcolor": "rgb(232,232,232)",
           "linecolor": "rgb(36,36,36)",
           "showgrid": false,
           "showline": true,
           "ticks": "outside",
           "title": {
            "standoff": 15
           },
           "zeroline": false,
           "zerolinecolor": "rgb(36,36,36)"
          }
         }
        },
        "title": {
         "text": "XGBoost Log Loss Over Epochs"
        },
        "xaxis": {
         "title": {
          "text": "Epoch"
         }
        },
        "yaxis": {
         "title": {
          "text": "Log Loss"
         }
        }
       }
      }
     },
     "metadata": {},
     "output_type": "display_data"
    },
    {
     "data": {
      "application/vnd.plotly.v1+json": {
       "config": {
        "plotlyServerURL": "https://plot.ly"
       },
       "data": [
        {
         "mode": "lines",
         "name": "Train Error",
         "type": "scatter",
         "x": [
          0,
          1,
          2,
          3,
          4,
          5,
          6,
          7,
          8,
          9,
          10,
          11,
          12,
          13,
          14,
          15,
          16,
          17,
          18,
          19,
          20,
          21,
          22,
          23,
          24,
          25,
          26,
          27,
          28,
          29,
          30,
          31,
          32,
          33,
          34,
          35,
          36,
          37,
          38,
          39,
          40,
          41,
          42,
          43,
          44,
          45,
          46,
          47,
          48,
          49,
          50,
          51,
          52,
          53,
          54,
          55,
          56,
          57,
          58,
          59,
          60,
          61,
          62,
          63,
          64,
          65,
          66,
          67,
          68,
          69,
          70,
          71,
          72,
          73,
          74,
          75,
          76,
          77,
          78,
          79,
          80,
          81,
          82,
          83,
          84,
          85,
          86,
          87,
          88,
          89,
          90,
          91,
          92,
          93,
          94,
          95,
          96,
          97,
          98,
          99
         ],
         "y": [
          0.05078125,
          0.01171875,
          0,
          0,
          0,
          0,
          0,
          0,
          0,
          0,
          0,
          0,
          0,
          0,
          0,
          0,
          0,
          0,
          0,
          0,
          0,
          0,
          0,
          0,
          0,
          0,
          0,
          0,
          0,
          0,
          0,
          0,
          0,
          0,
          0,
          0,
          0,
          0,
          0,
          0,
          0,
          0,
          0,
          0,
          0,
          0,
          0,
          0,
          0,
          0,
          0,
          0,
          0,
          0,
          0,
          0,
          0,
          0,
          0,
          0,
          0,
          0,
          0,
          0,
          0,
          0,
          0,
          0,
          0,
          0,
          0,
          0,
          0,
          0,
          0,
          0,
          0,
          0,
          0,
          0,
          0,
          0,
          0,
          0,
          0,
          0,
          0,
          0,
          0,
          0,
          0,
          0,
          0,
          0,
          0,
          0,
          0,
          0,
          0,
          0
         ]
        },
        {
         "mode": "lines",
         "name": "Test Error",
         "type": "scatter",
         "x": [
          0,
          1,
          2,
          3,
          4,
          5,
          6,
          7,
          8,
          9,
          10,
          11,
          12,
          13,
          14,
          15,
          16,
          17,
          18,
          19,
          20,
          21,
          22,
          23,
          24,
          25,
          26,
          27,
          28,
          29,
          30,
          31,
          32,
          33,
          34,
          35,
          36,
          37,
          38,
          39,
          40,
          41,
          42,
          43,
          44,
          45,
          46,
          47,
          48,
          49,
          50,
          51,
          52,
          53,
          54,
          55,
          56,
          57,
          58,
          59,
          60,
          61,
          62,
          63,
          64,
          65,
          66,
          67,
          68,
          69,
          70,
          71,
          72,
          73,
          74,
          75,
          76,
          77,
          78,
          79,
          80,
          81,
          82,
          83,
          84,
          85,
          86,
          87,
          88,
          89,
          90,
          91,
          92,
          93,
          94,
          95,
          96,
          97,
          98,
          99
         ],
         "y": [
          0.4166666666666667,
          0.4166666666666667,
          0.4305555555555556,
          0.4166666666666667,
          0.3888888888888889,
          0.375,
          0.3194444444444444,
          0.3194444444444444,
          0.3194444444444444,
          0.3055555555555556,
          0.3055555555555556,
          0.2777777777777778,
          0.2777777777777778,
          0.2777777777777778,
          0.2638888888888889,
          0.25,
          0.2638888888888889,
          0.2638888888888889,
          0.25,
          0.25,
          0.2638888888888889,
          0.2361111111111111,
          0.2777777777777778,
          0.2638888888888889,
          0.2777777777777778,
          0.3055555555555556,
          0.3055555555555556,
          0.2638888888888889,
          0.2777777777777778,
          0.25,
          0.2638888888888889,
          0.2777777777777778,
          0.2916666666666667,
          0.2777777777777778,
          0.3055555555555556,
          0.3055555555555556,
          0.2916666666666667,
          0.2777777777777778,
          0.2916666666666667,
          0.2916666666666667,
          0.2916666666666667,
          0.2777777777777778,
          0.2777777777777778,
          0.2916666666666667,
          0.2916666666666667,
          0.2916666666666667,
          0.2777777777777778,
          0.2777777777777778,
          0.2777777777777778,
          0.2777777777777778,
          0.2777777777777778,
          0.2777777777777778,
          0.2777777777777778,
          0.2777777777777778,
          0.2916666666666667,
          0.2916666666666667,
          0.2777777777777778,
          0.2777777777777778,
          0.2777777777777778,
          0.2777777777777778,
          0.2916666666666667,
          0.2916666666666667,
          0.2777777777777778,
          0.2916666666666667,
          0.2777777777777778,
          0.2777777777777778,
          0.2777777777777778,
          0.2916666666666667,
          0.2638888888888889,
          0.2638888888888889,
          0.2777777777777778,
          0.2638888888888889,
          0.2777777777777778,
          0.2638888888888889,
          0.2638888888888889,
          0.2638888888888889,
          0.2638888888888889,
          0.2638888888888889,
          0.2638888888888889,
          0.2638888888888889,
          0.2638888888888889,
          0.2638888888888889,
          0.2638888888888889,
          0.2638888888888889,
          0.2638888888888889,
          0.2638888888888889,
          0.2638888888888889,
          0.2777777777777778,
          0.2777777777777778,
          0.2777777777777778,
          0.2777777777777778,
          0.2777777777777778,
          0.2777777777777778,
          0.2777777777777778,
          0.2777777777777778,
          0.2777777777777778,
          0.2777777777777778,
          0.2777777777777778,
          0.2777777777777778,
          0.2777777777777778
         ]
        }
       ],
       "layout": {
        "legend": {
         "title": {
          "text": "Dataset"
         }
        },
        "template": {
         "data": {
          "bar": [
           {
            "error_x": {
             "color": "rgb(36,36,36)"
            },
            "error_y": {
             "color": "rgb(36,36,36)"
            },
            "marker": {
             "line": {
              "color": "white",
              "width": 0.5
             },
             "pattern": {
              "fillmode": "overlay",
              "size": 10,
              "solidity": 0.2
             }
            },
            "type": "bar"
           }
          ],
          "barpolar": [
           {
            "marker": {
             "line": {
              "color": "white",
              "width": 0.5
             },
             "pattern": {
              "fillmode": "overlay",
              "size": 10,
              "solidity": 0.2
             }
            },
            "type": "barpolar"
           }
          ],
          "carpet": [
           {
            "aaxis": {
             "endlinecolor": "rgb(36,36,36)",
             "gridcolor": "white",
             "linecolor": "white",
             "minorgridcolor": "white",
             "startlinecolor": "rgb(36,36,36)"
            },
            "baxis": {
             "endlinecolor": "rgb(36,36,36)",
             "gridcolor": "white",
             "linecolor": "white",
             "minorgridcolor": "white",
             "startlinecolor": "rgb(36,36,36)"
            },
            "type": "carpet"
           }
          ],
          "choropleth": [
           {
            "colorbar": {
             "outlinewidth": 1,
             "tickcolor": "rgb(36,36,36)",
             "ticks": "outside"
            },
            "type": "choropleth"
           }
          ],
          "contour": [
           {
            "colorbar": {
             "outlinewidth": 1,
             "tickcolor": "rgb(36,36,36)",
             "ticks": "outside"
            },
            "colorscale": [
             [
              0,
              "#440154"
             ],
             [
              0.1111111111111111,
              "#482878"
             ],
             [
              0.2222222222222222,
              "#3e4989"
             ],
             [
              0.3333333333333333,
              "#31688e"
             ],
             [
              0.4444444444444444,
              "#26828e"
             ],
             [
              0.5555555555555556,
              "#1f9e89"
             ],
             [
              0.6666666666666666,
              "#35b779"
             ],
             [
              0.7777777777777778,
              "#6ece58"
             ],
             [
              0.8888888888888888,
              "#b5de2b"
             ],
             [
              1,
              "#fde725"
             ]
            ],
            "type": "contour"
           }
          ],
          "contourcarpet": [
           {
            "colorbar": {
             "outlinewidth": 1,
             "tickcolor": "rgb(36,36,36)",
             "ticks": "outside"
            },
            "type": "contourcarpet"
           }
          ],
          "heatmap": [
           {
            "colorbar": {
             "outlinewidth": 1,
             "tickcolor": "rgb(36,36,36)",
             "ticks": "outside"
            },
            "colorscale": [
             [
              0,
              "#440154"
             ],
             [
              0.1111111111111111,
              "#482878"
             ],
             [
              0.2222222222222222,
              "#3e4989"
             ],
             [
              0.3333333333333333,
              "#31688e"
             ],
             [
              0.4444444444444444,
              "#26828e"
             ],
             [
              0.5555555555555556,
              "#1f9e89"
             ],
             [
              0.6666666666666666,
              "#35b779"
             ],
             [
              0.7777777777777778,
              "#6ece58"
             ],
             [
              0.8888888888888888,
              "#b5de2b"
             ],
             [
              1,
              "#fde725"
             ]
            ],
            "type": "heatmap"
           }
          ],
          "heatmapgl": [
           {
            "colorbar": {
             "outlinewidth": 1,
             "tickcolor": "rgb(36,36,36)",
             "ticks": "outside"
            },
            "colorscale": [
             [
              0,
              "#440154"
             ],
             [
              0.1111111111111111,
              "#482878"
             ],
             [
              0.2222222222222222,
              "#3e4989"
             ],
             [
              0.3333333333333333,
              "#31688e"
             ],
             [
              0.4444444444444444,
              "#26828e"
             ],
             [
              0.5555555555555556,
              "#1f9e89"
             ],
             [
              0.6666666666666666,
              "#35b779"
             ],
             [
              0.7777777777777778,
              "#6ece58"
             ],
             [
              0.8888888888888888,
              "#b5de2b"
             ],
             [
              1,
              "#fde725"
             ]
            ],
            "type": "heatmapgl"
           }
          ],
          "histogram": [
           {
            "marker": {
             "line": {
              "color": "white",
              "width": 0.6
             }
            },
            "type": "histogram"
           }
          ],
          "histogram2d": [
           {
            "colorbar": {
             "outlinewidth": 1,
             "tickcolor": "rgb(36,36,36)",
             "ticks": "outside"
            },
            "colorscale": [
             [
              0,
              "#440154"
             ],
             [
              0.1111111111111111,
              "#482878"
             ],
             [
              0.2222222222222222,
              "#3e4989"
             ],
             [
              0.3333333333333333,
              "#31688e"
             ],
             [
              0.4444444444444444,
              "#26828e"
             ],
             [
              0.5555555555555556,
              "#1f9e89"
             ],
             [
              0.6666666666666666,
              "#35b779"
             ],
             [
              0.7777777777777778,
              "#6ece58"
             ],
             [
              0.8888888888888888,
              "#b5de2b"
             ],
             [
              1,
              "#fde725"
             ]
            ],
            "type": "histogram2d"
           }
          ],
          "histogram2dcontour": [
           {
            "colorbar": {
             "outlinewidth": 1,
             "tickcolor": "rgb(36,36,36)",
             "ticks": "outside"
            },
            "colorscale": [
             [
              0,
              "#440154"
             ],
             [
              0.1111111111111111,
              "#482878"
             ],
             [
              0.2222222222222222,
              "#3e4989"
             ],
             [
              0.3333333333333333,
              "#31688e"
             ],
             [
              0.4444444444444444,
              "#26828e"
             ],
             [
              0.5555555555555556,
              "#1f9e89"
             ],
             [
              0.6666666666666666,
              "#35b779"
             ],
             [
              0.7777777777777778,
              "#6ece58"
             ],
             [
              0.8888888888888888,
              "#b5de2b"
             ],
             [
              1,
              "#fde725"
             ]
            ],
            "type": "histogram2dcontour"
           }
          ],
          "mesh3d": [
           {
            "colorbar": {
             "outlinewidth": 1,
             "tickcolor": "rgb(36,36,36)",
             "ticks": "outside"
            },
            "type": "mesh3d"
           }
          ],
          "parcoords": [
           {
            "line": {
             "colorbar": {
              "outlinewidth": 1,
              "tickcolor": "rgb(36,36,36)",
              "ticks": "outside"
             }
            },
            "type": "parcoords"
           }
          ],
          "pie": [
           {
            "automargin": true,
            "type": "pie"
           }
          ],
          "scatter": [
           {
            "fillpattern": {
             "fillmode": "overlay",
             "size": 10,
             "solidity": 0.2
            },
            "type": "scatter"
           }
          ],
          "scatter3d": [
           {
            "line": {
             "colorbar": {
              "outlinewidth": 1,
              "tickcolor": "rgb(36,36,36)",
              "ticks": "outside"
             }
            },
            "marker": {
             "colorbar": {
              "outlinewidth": 1,
              "tickcolor": "rgb(36,36,36)",
              "ticks": "outside"
             }
            },
            "type": "scatter3d"
           }
          ],
          "scattercarpet": [
           {
            "marker": {
             "colorbar": {
              "outlinewidth": 1,
              "tickcolor": "rgb(36,36,36)",
              "ticks": "outside"
             }
            },
            "type": "scattercarpet"
           }
          ],
          "scattergeo": [
           {
            "marker": {
             "colorbar": {
              "outlinewidth": 1,
              "tickcolor": "rgb(36,36,36)",
              "ticks": "outside"
             }
            },
            "type": "scattergeo"
           }
          ],
          "scattergl": [
           {
            "marker": {
             "colorbar": {
              "outlinewidth": 1,
              "tickcolor": "rgb(36,36,36)",
              "ticks": "outside"
             }
            },
            "type": "scattergl"
           }
          ],
          "scattermapbox": [
           {
            "marker": {
             "colorbar": {
              "outlinewidth": 1,
              "tickcolor": "rgb(36,36,36)",
              "ticks": "outside"
             }
            },
            "type": "scattermapbox"
           }
          ],
          "scatterpolar": [
           {
            "marker": {
             "colorbar": {
              "outlinewidth": 1,
              "tickcolor": "rgb(36,36,36)",
              "ticks": "outside"
             }
            },
            "type": "scatterpolar"
           }
          ],
          "scatterpolargl": [
           {
            "marker": {
             "colorbar": {
              "outlinewidth": 1,
              "tickcolor": "rgb(36,36,36)",
              "ticks": "outside"
             }
            },
            "type": "scatterpolargl"
           }
          ],
          "scatterternary": [
           {
            "marker": {
             "colorbar": {
              "outlinewidth": 1,
              "tickcolor": "rgb(36,36,36)",
              "ticks": "outside"
             }
            },
            "type": "scatterternary"
           }
          ],
          "surface": [
           {
            "colorbar": {
             "outlinewidth": 1,
             "tickcolor": "rgb(36,36,36)",
             "ticks": "outside"
            },
            "colorscale": [
             [
              0,
              "#440154"
             ],
             [
              0.1111111111111111,
              "#482878"
             ],
             [
              0.2222222222222222,
              "#3e4989"
             ],
             [
              0.3333333333333333,
              "#31688e"
             ],
             [
              0.4444444444444444,
              "#26828e"
             ],
             [
              0.5555555555555556,
              "#1f9e89"
             ],
             [
              0.6666666666666666,
              "#35b779"
             ],
             [
              0.7777777777777778,
              "#6ece58"
             ],
             [
              0.8888888888888888,
              "#b5de2b"
             ],
             [
              1,
              "#fde725"
             ]
            ],
            "type": "surface"
           }
          ],
          "table": [
           {
            "cells": {
             "fill": {
              "color": "rgb(237,237,237)"
             },
             "line": {
              "color": "white"
             }
            },
            "header": {
             "fill": {
              "color": "rgb(217,217,217)"
             },
             "line": {
              "color": "white"
             }
            },
            "type": "table"
           }
          ]
         },
         "layout": {
          "annotationdefaults": {
           "arrowhead": 0,
           "arrowwidth": 1
          },
          "autotypenumbers": "strict",
          "coloraxis": {
           "colorbar": {
            "outlinewidth": 1,
            "tickcolor": "rgb(36,36,36)",
            "ticks": "outside"
           }
          },
          "colorscale": {
           "diverging": [
            [
             0,
             "rgb(103,0,31)"
            ],
            [
             0.1,
             "rgb(178,24,43)"
            ],
            [
             0.2,
             "rgb(214,96,77)"
            ],
            [
             0.3,
             "rgb(244,165,130)"
            ],
            [
             0.4,
             "rgb(253,219,199)"
            ],
            [
             0.5,
             "rgb(247,247,247)"
            ],
            [
             0.6,
             "rgb(209,229,240)"
            ],
            [
             0.7,
             "rgb(146,197,222)"
            ],
            [
             0.8,
             "rgb(67,147,195)"
            ],
            [
             0.9,
             "rgb(33,102,172)"
            ],
            [
             1,
             "rgb(5,48,97)"
            ]
           ],
           "sequential": [
            [
             0,
             "#440154"
            ],
            [
             0.1111111111111111,
             "#482878"
            ],
            [
             0.2222222222222222,
             "#3e4989"
            ],
            [
             0.3333333333333333,
             "#31688e"
            ],
            [
             0.4444444444444444,
             "#26828e"
            ],
            [
             0.5555555555555556,
             "#1f9e89"
            ],
            [
             0.6666666666666666,
             "#35b779"
            ],
            [
             0.7777777777777778,
             "#6ece58"
            ],
            [
             0.8888888888888888,
             "#b5de2b"
            ],
            [
             1,
             "#fde725"
            ]
           ],
           "sequentialminus": [
            [
             0,
             "#440154"
            ],
            [
             0.1111111111111111,
             "#482878"
            ],
            [
             0.2222222222222222,
             "#3e4989"
            ],
            [
             0.3333333333333333,
             "#31688e"
            ],
            [
             0.4444444444444444,
             "#26828e"
            ],
            [
             0.5555555555555556,
             "#1f9e89"
            ],
            [
             0.6666666666666666,
             "#35b779"
            ],
            [
             0.7777777777777778,
             "#6ece58"
            ],
            [
             0.8888888888888888,
             "#b5de2b"
            ],
            [
             1,
             "#fde725"
            ]
           ]
          },
          "colorway": [
           "#1F77B4",
           "#FF7F0E",
           "#2CA02C",
           "#D62728",
           "#9467BD",
           "#8C564B",
           "#E377C2",
           "#7F7F7F",
           "#BCBD22",
           "#17BECF"
          ],
          "font": {
           "color": "rgb(36,36,36)"
          },
          "geo": {
           "bgcolor": "white",
           "lakecolor": "white",
           "landcolor": "white",
           "showlakes": true,
           "showland": true,
           "subunitcolor": "white"
          },
          "hoverlabel": {
           "align": "left"
          },
          "hovermode": "closest",
          "mapbox": {
           "style": "light"
          },
          "paper_bgcolor": "white",
          "plot_bgcolor": "white",
          "polar": {
           "angularaxis": {
            "gridcolor": "rgb(232,232,232)",
            "linecolor": "rgb(36,36,36)",
            "showgrid": false,
            "showline": true,
            "ticks": "outside"
           },
           "bgcolor": "white",
           "radialaxis": {
            "gridcolor": "rgb(232,232,232)",
            "linecolor": "rgb(36,36,36)",
            "showgrid": false,
            "showline": true,
            "ticks": "outside"
           }
          },
          "scene": {
           "xaxis": {
            "backgroundcolor": "white",
            "gridcolor": "rgb(232,232,232)",
            "gridwidth": 2,
            "linecolor": "rgb(36,36,36)",
            "showbackground": true,
            "showgrid": false,
            "showline": true,
            "ticks": "outside",
            "zeroline": false,
            "zerolinecolor": "rgb(36,36,36)"
           },
           "yaxis": {
            "backgroundcolor": "white",
            "gridcolor": "rgb(232,232,232)",
            "gridwidth": 2,
            "linecolor": "rgb(36,36,36)",
            "showbackground": true,
            "showgrid": false,
            "showline": true,
            "ticks": "outside",
            "zeroline": false,
            "zerolinecolor": "rgb(36,36,36)"
           },
           "zaxis": {
            "backgroundcolor": "white",
            "gridcolor": "rgb(232,232,232)",
            "gridwidth": 2,
            "linecolor": "rgb(36,36,36)",
            "showbackground": true,
            "showgrid": false,
            "showline": true,
            "ticks": "outside",
            "zeroline": false,
            "zerolinecolor": "rgb(36,36,36)"
           }
          },
          "shapedefaults": {
           "fillcolor": "black",
           "line": {
            "width": 0
           },
           "opacity": 0.3
          },
          "ternary": {
           "aaxis": {
            "gridcolor": "rgb(232,232,232)",
            "linecolor": "rgb(36,36,36)",
            "showgrid": false,
            "showline": true,
            "ticks": "outside"
           },
           "baxis": {
            "gridcolor": "rgb(232,232,232)",
            "linecolor": "rgb(36,36,36)",
            "showgrid": false,
            "showline": true,
            "ticks": "outside"
           },
           "bgcolor": "white",
           "caxis": {
            "gridcolor": "rgb(232,232,232)",
            "linecolor": "rgb(36,36,36)",
            "showgrid": false,
            "showline": true,
            "ticks": "outside"
           }
          },
          "title": {
           "x": 0.05
          },
          "xaxis": {
           "automargin": true,
           "gridcolor": "rgb(232,232,232)",
           "linecolor": "rgb(36,36,36)",
           "showgrid": false,
           "showline": true,
           "ticks": "outside",
           "title": {
            "standoff": 15
           },
           "zeroline": false,
           "zerolinecolor": "rgb(36,36,36)"
          },
          "yaxis": {
           "automargin": true,
           "gridcolor": "rgb(232,232,232)",
           "linecolor": "rgb(36,36,36)",
           "showgrid": false,
           "showline": true,
           "ticks": "outside",
           "title": {
            "standoff": 15
           },
           "zeroline": false,
           "zerolinecolor": "rgb(36,36,36)"
          }
         }
        },
        "title": {
         "text": "XGBoost Classification Error Over Epochs"
        },
        "xaxis": {
         "title": {
          "text": "Epoch"
         }
        },
        "yaxis": {
         "title": {
          "text": "Classification Error"
         }
        }
       }
      }
     },
     "metadata": {},
     "output_type": "display_data"
    }
   ],
   "source": [
    "# Definir el modelo XGBoost\n",
    "xgb_model = XGBClassifier(learning_rate=0.3, max_depth=6, eval_metric=[\"error\", \"logloss\"])\n",
    "\n",
    "# Data preprocessing pipeline\n",
    "my_pipeline = Pipeline(steps=[('preprocessor', preprocessor)])\n",
    "\n",
    "# Transformar los datos\n",
    "X_train_trans = my_pipeline.fit_transform(X_train)\n",
    "X_test_trans = my_pipeline.transform(X_test)\n",
    "\n",
    "# Entrenar el modelo XGBoost usando eval_set para las métricas de entrenamiento y prueba\n",
    "eval_set = [(X_train_trans, y_train), (X_test_trans, y_test)]\n",
    "xgb_model.fit(\n",
    "    X_train_trans, y_train,\n",
    "    eval_set=eval_set,\n",
    "    verbose=False\n",
    ")\n",
    "\n",
    "# Visualizar el entrenamiento\n",
    "plot_training(xgb_model, X_test_trans, y_test)"
   ]
  },
  {
   "cell_type": "code",
   "execution_count": 72,
   "metadata": {},
   "outputs": [
    {
     "name": "stdout",
     "output_type": "stream",
     "text": [
      "Fitting 5 folds for each of 108 candidates, totalling 540 fits\n",
      "Matriz de confusión: \n",
      "\n",
      "[[20 44]\n",
      " [45 35]]\n",
      "\n",
      "Reporte de Clasificación: \n",
      "\n",
      "              precision    recall  f1-score   support\n",
      "\n",
      "           0       0.31      0.31      0.31        64\n",
      "           1       0.44      0.44      0.44        80\n",
      "\n",
      "    accuracy                           0.38       144\n",
      "   macro avg       0.38      0.38      0.38       144\n",
      "weighted avg       0.38      0.38      0.38       144\n",
      "\n",
      "Tiempo de entrenamiento: 1.26 segundos\n"
     ]
    }
   ],
   "source": [
    "from sklearn.model_selection import GridSearchCV\n",
    "from xgboost import XGBClassifier\n",
    "\n",
    "# Definir el modelo XGBoost\n",
    "xgb_model = XGBClassifier(use_label_encoder=False, eval_metric='logloss')\n",
    "\n",
    "# Definir el pipeline con el preprocesador y el modelo XGBoost\n",
    "pipe = Pipeline([\n",
    "    ('preprocessor', preprocessor),  # Preprocesador que creaste anteriormente\n",
    "    ('classifier', xgb_model)        # Modelo de clasificación XGBoost\n",
    "])\n",
    "\n",
    "# Definir el espacio de búsqueda para los hiperparámetros\n",
    "param_grid = {\n",
    "    'classifier__n_estimators': [100, 200, 300],  # Número de árboles\n",
    "    'classifier__learning_rate': [0.001, 0.01, 0.1],  # Tasa de aprendizaje\n",
    "    'classifier__max_depth': [3, 5, 10, 25, 50, None],  # Profundidad máxima del árbol\n",
    "    #'classifier__subsample': [0.8, 1.0],  # Subconjunto de muestras\n",
    "    #'classifier__colsample_bytree': [0.8, 1.0],  # Subconjunto de características\n",
    "}\n",
    "\n",
    "# Crear el objeto GridSearchCV\n",
    "grid_search = GridSearchCV(pipe, param_grid, cv=5, scoring='accuracy', n_jobs=-1, verbose=2)\n",
    "\n",
    "# Entrenar el GridSearchCV para encontrar los mejores hiperparámetros\n",
    "grid_search.fit(X_train, y_train)\n",
    "\n",
    "# Mostrar los mejores hiperparámetros encontrados\n",
    "print(\"Mejores hiperparámetros encontrados:\")\n",
    "print(grid_search.best_params_)\n",
    "\n",
    "# Evaluar el modelo con los mejores hiperparámetros en el conjunto de prueba\n",
    "train_and_evaluate(grid_search.best_estimator_, X_train, y_train, X_test, y_test, print_=True)\n"
   ]
  },
  {
   "cell_type": "code",
   "execution_count": 211,
   "metadata": {},
   "outputs": [
    {
     "name": "stdout",
     "output_type": "stream",
     "text": [
      "F1-Score por fold: [0.61161388 0.48231389 0.69604922 0.60784314 0.45723295]\n",
      "ROC-AUC por fold: [0.69268477 0.50791855 0.75547866 0.6082276  0.5763168 ]\n",
      "Exactitud por fold: [0.61165049 0.48543689 0.69607843 0.60784314 0.47058824]\n",
      "Promedio F1-Score: 0.571010615058577\n",
      "Promedio Exactitud: 0.5743194365124691\n"
     ]
    }
   ],
   "source": [
    "# Definir las métricas a calcular\n",
    "scoring = ['f1_macro', 'accuracy', 'roc_auc']\n",
    "\n",
    "# Validación cruzada con múltiples métricas\n",
    "cv_results = cross_validate(pipe, X_train, y_train, cv=5, scoring=scoring, return_train_score=True)\n",
    "\n",
    "# Mostrar resultados\n",
    "print(\"F1-Score por fold:\", cv_results['test_f1_macro'])\n",
    "print(\"ROC-AUC por fold:\", cv_results['test_roc_auc'])\n",
    "print(\"Exactitud por fold:\", cv_results['test_accuracy'])\n",
    "print(\"Promedio F1-Score:\", cv_results['test_f1_macro'].mean())\n",
    "print(\"Promedio Exactitud:\", cv_results['test_accuracy'].mean())"
   ]
  },
  {
   "cell_type": "code",
   "execution_count": 122,
   "metadata": {},
   "outputs": [],
   "source": [
    "import pandas as pd\n",
    "import matplotlib.pyplot as plt\n",
    "\n",
    "# Obtener los nombres reales de las características después del preprocesamiento\n",
    "feature_names = pipe.named_steps['preprocessor'].get_feature_names_out()\n",
    "\n",
    "def plot_importance(model, feature_names, importance_type='weight', top_n=None):\n",
    "    \"\"\"\n",
    "    Muestra las 'top_n' características más importantes del modelo con los nombres reales.\n",
    "    \n",
    "    Parameters:\n",
    "    - model: El modelo XGBoost entrenado.\n",
    "    - feature_names: Lista de nombres de las características después del preprocesamiento.\n",
    "    - importance_type: Tipo de importancia (por defecto es 'weight').\n",
    "    - top_n: Número de características que deseas mostrar. Si es None, se muestran todas.\n",
    "    \"\"\"\n",
    "    # Obtener las importancias de las características\n",
    "    importance_dict = model.get_booster().get_score(importance_type=importance_type)\n",
    "\n",
    "    # Convertir las importancias a un DataFrame para facilitar la visualización\n",
    "    importance_df = pd.DataFrame({\n",
    "        'Feature': importance_dict.keys(),\n",
    "        'Importance': importance_dict.values()\n",
    "    }).sort_values(by='Importance', ascending=False)\n",
    "\n",
    "    # Mapear las características codificadas a los nombres reales\n",
    "    importance_df['Feature'] = importance_df['Feature'].map(lambda x: feature_names[int(x[1:])] if x[1:].isdigit() else x)\n",
    "\n",
    "    # Seleccionar solo las 'top_n' características si se proporciona\n",
    "    if top_n:\n",
    "        importance_df = importance_df.head(top_n)\n",
    "\n",
    "    # Graficar las importancias\n",
    "    plt.figure(figsize=(10, 6))\n",
    "    plt.barh(importance_df['Feature'], importance_df['Importance'])\n",
    "    plt.xlabel('Importance')\n",
    "    plt.ylabel('Features')\n",
    "    plt.title(f'Top {top_n} Feature Importances' if top_n else 'Feature Importances')\n",
    "    plt.gca().invert_yaxis()  # Invertir el eje y para tener la característica más importante en la parte superior\n",
    "    plt.show()\n"
   ]
  },
  {
   "cell_type": "code",
   "execution_count": 125,
   "metadata": {},
   "outputs": [
    {
     "data": {
      "image/png": "[encoded data removed]",
      "text/plain": [
       "<Figure size 1000x600 with 1 Axes>"
      ]
     },
     "metadata": {},
     "output_type": "display_data"
    }
   ],
   "source": [
    "model = pipe.named_steps['classifier']\n",
    "plot_importance(model, feature_names, importance_type='weight', top_n = 20)"
   ]
  },
  {
   "cell_type": "code",
   "execution_count": 130,
   "metadata": {},
   "outputs": [
    {
     "data": {
      "text/html": [
       "<div>\n",
       "<style scoped>\n",
       "    .dataframe tbody tr th:only-of-type {\n",
       "        vertical-align: middle;\n",
       "    }\n",
       "\n",
       "    .dataframe tbody tr th {\n",
       "        vertical-align: top;\n",
       "    }\n",
       "\n",
       "    .dataframe thead th {\n",
       "        text-align: right;\n",
       "    }\n",
       "</style>\n",
       "<table border=\"1\" class=\"dataframe\">\n",
       "  <thead>\n",
       "    <tr style=\"text-align: right;\">\n",
       "      <th></th>\n",
       "      <th>Feature</th>\n",
       "      <th>Importance</th>\n",
       "    </tr>\n",
       "  </thead>\n",
       "  <tbody>\n",
       "    <tr>\n",
       "      <th>27</th>\n",
       "      <td>numerical__median_window_50_5</td>\n",
       "      <td>15.0</td>\n",
       "    </tr>\n",
       "    <tr>\n",
       "      <th>30</th>\n",
       "      <td>numerical__range_window_50_5</td>\n",
       "      <td>14.0</td>\n",
       "    </tr>\n",
       "    <tr>\n",
       "      <th>253</th>\n",
       "      <td>numerical__kurtosis_window_100_2</td>\n",
       "      <td>12.0</td>\n",
       "    </tr>\n",
       "    <tr>\n",
       "      <th>42</th>\n",
       "      <td>numerical__skewness_window_50_6</td>\n",
       "      <td>11.0</td>\n",
       "    </tr>\n",
       "    <tr>\n",
       "      <th>298</th>\n",
       "      <td>numerical__kurtosis_window_100_15</td>\n",
       "      <td>10.0</td>\n",
       "    </tr>\n",
       "    <tr>\n",
       "      <th>158</th>\n",
       "      <td>numerical__min_window_50_37</td>\n",
       "      <td>9.0</td>\n",
       "    </tr>\n",
       "    <tr>\n",
       "      <th>40</th>\n",
       "      <td>numerical__Q1_window_50_6</td>\n",
       "      <td>8.0</td>\n",
       "    </tr>\n",
       "    <tr>\n",
       "      <th>10</th>\n",
       "      <td>numerical__std_window_50_2</td>\n",
       "      <td>8.0</td>\n",
       "    </tr>\n",
       "    <tr>\n",
       "      <th>26</th>\n",
       "      <td>numerical__std_window_50_5</td>\n",
       "      <td>7.0</td>\n",
       "    </tr>\n",
       "    <tr>\n",
       "      <th>6</th>\n",
       "      <td>numerical__max_window_50_1</td>\n",
       "      <td>7.0</td>\n",
       "    </tr>\n",
       "  </tbody>\n",
       "</table>\n",
       "</div>"
      ],
      "text/plain": [
       "                               Feature  Importance\n",
       "27       numerical__median_window_50_5        15.0\n",
       "30        numerical__range_window_50_5        14.0\n",
       "253   numerical__kurtosis_window_100_2        12.0\n",
       "42     numerical__skewness_window_50_6        11.0\n",
       "298  numerical__kurtosis_window_100_15        10.0\n",
       "158        numerical__min_window_50_37         9.0\n",
       "40           numerical__Q1_window_50_6         8.0\n",
       "10          numerical__std_window_50_2         8.0\n",
       "26          numerical__std_window_50_5         7.0\n",
       "6           numerical__max_window_50_1         7.0"
      ]
     },
     "execution_count": 130,
     "metadata": {},
     "output_type": "execute_result"
    }
   ],
   "source": [
    "# Obtener las importancias de las características\n",
    "importance_dict = model.get_booster().get_score(importance_type='weight')\n",
    "\n",
    "# Convertir las importancias a un DataFrame para facilitar la visualización\n",
    "importance_df = pd.DataFrame({\n",
    "    'Feature': importance_dict.keys(),\n",
    "    'Importance': importance_dict.values()\n",
    "    }).sort_values(by='Importance', ascending=False)\n",
    "\n",
    "# Mapear las características codificadas a los nombres reales\n",
    "importance_df['Feature'] = importance_df['Feature'].map(lambda x: feature_names[int(x[1:])] if x[1:].isdigit() else x)\n",
    "\n",
    "importance_df.head(10)"
   ]
  },
  {
   "cell_type": "markdown",
   "metadata": {},
   "source": [
    "### Random Forest"
   ]
  },
  {
   "cell_type": "code",
   "execution_count": 212,
   "metadata": {},
   "outputs": [
    {
     "name": "stdout",
     "output_type": "stream",
     "text": [
      "Matriz de confusión: \n",
      "\n",
      "[[47 33]\n",
      " [30 34]]\n",
      "\n",
      "Reporte de Clasificación: \n",
      "\n",
      "              precision    recall  f1-score   support\n",
      "\n",
      "           0       0.61      0.59      0.60        80\n",
      "           1       0.51      0.53      0.52        64\n",
      "\n",
      "    accuracy                           0.56       144\n",
      "   macro avg       0.56      0.56      0.56       144\n",
      "weighted avg       0.56      0.56      0.56       144\n",
      "\n",
      "Tiempo de entrenamiento: 0.51 segundos\n"
     ]
    }
   ],
   "source": [
    "from sklearn.ensemble import RandomForestClassifier\n",
    "\n",
    "# Definir el modelo\n",
    "random_forest = RandomForestClassifier(random_state=27)\n",
    "\n",
    "# Definir el pipeline (puedes agregar más pasos si es necesario)\n",
    "pipe = Pipeline([\n",
    "    ('preprocessor', preprocessor),  # Preprocesador que creaste anteriormente\n",
    "    ('classifier', random_forest)    # Modelo de clasificación\n",
    "])\n",
    "\n",
    "# Entrenar y evaluar\n",
    "train_and_evaluate(pipe, X_train, y_train, X_test, y_test)"
   ]
  },
  {
   "cell_type": "code",
   "execution_count": 218,
   "metadata": {},
   "outputs": [
    {
     "name": "stdout",
     "output_type": "stream",
     "text": [
      "Fitting 5 folds for each of 162 candidates, totalling 810 fits\n",
      "Mejores hiperparámetros encontrados:\n",
      "{'classifier__bootstrap': True, 'classifier__max_depth': 10, 'classifier__min_samples_leaf': 4, 'classifier__min_samples_split': 2, 'classifier__n_estimators': 100}\n",
      "Matriz de confusión: \n",
      "\n",
      "[[17 47]\n",
      " [52 28]]\n",
      "\n",
      "Reporte de Clasificación: \n",
      "\n",
      "              precision    recall  f1-score   support\n",
      "\n",
      "           0       0.25      0.27      0.26        64\n",
      "           1       0.37      0.35      0.36        80\n",
      "\n",
      "    accuracy                           0.31       144\n",
      "   macro avg       0.31      0.31      0.31       144\n",
      "weighted avg       0.32      0.31      0.31       144\n",
      "\n",
      "Tiempo de entrenamiento: 0.43 segundos\n"
     ]
    }
   ],
   "source": [
    "from sklearn.model_selection import GridSearchCV\n",
    "from sklearn.ensemble import RandomForestClassifier\n",
    "\n",
    "# Definir el modelo RandomForestClassifier\n",
    "rf_model = RandomForestClassifier(random_state=42)\n",
    "\n",
    "# Definir el pipeline\n",
    "pipe = Pipeline([\n",
    "    ('preprocessor', preprocessor),  # Preprocesador\n",
    "    ('classifier', rf_model)         # Modelo RandomForest\n",
    "])\n",
    "\n",
    "# Definir el espacio de búsqueda de hiperparámetros\n",
    "param_grid = {\n",
    "    'classifier__n_estimators': [100, 200, 300],  # Número de árboles\n",
    "    'classifier__max_depth': [10, 20, 30],        # Profundidad máxima del árbol\n",
    "    'classifier__min_samples_split': [2, 5, 10],  # Mínimas muestras para dividir un nodo\n",
    "    'classifier__min_samples_leaf': [1, 2, 4],    # Mínimas muestras en una hoja\n",
    "    'classifier__bootstrap': [True, False]        # Método de muestreo\n",
    "}\n",
    "\n",
    "# Crear el objeto GridSearchCV\n",
    "grid_search = GridSearchCV(pipe, param_grid, cv=5, scoring='accuracy', n_jobs=-1, verbose=2)\n",
    "\n",
    "# Entrenar el GridSearchCV para encontrar los mejores hiperparámetros\n",
    "grid_search.fit(X_train, y_train)\n",
    "\n",
    "# Mostrar los mejores hiperparámetros encontrados\n",
    "print(\"Mejores hiperparámetros encontrados:\")\n",
    "print(grid_search.best_params_)\n",
    "\n",
    "# Evaluar el modelo con los mejores hiperparámetros en el conjunto de prueba\n",
    "train_and_evaluate(grid_search.best_estimator_, X_train, y_train, X_test, y_test, print_=True)"
   ]
  },
  {
   "cell_type": "code",
   "execution_count": 179,
   "metadata": {},
   "outputs": [
    {
     "name": "stdout",
     "output_type": "stream",
     "text": [
      "F1-Score por fold: [0.66736322 0.5238829  0.64487427 0.50676983 0.49404762]\n",
      "ROC-AUC por fold: [0.72963801 0.50131976 0.76009227 0.54459823 0.58304498]\n",
      "Exactitud por fold: [0.66990291 0.53398058 0.64705882 0.50980392 0.50980392]\n",
      "Promedio F1-Score: 0.5673875676553283\n",
      "Promedio Exactitud: 0.5741100323624595\n"
     ]
    }
   ],
   "source": [
    "# Definir las métricas a calcular\n",
    "scoring = ['f1_macro', 'accuracy', 'roc_auc']\n",
    "\n",
    "# Validación cruzada con múltiples métricas\n",
    "cv_results = cross_validate(pipe, X_train, y_train, cv=5, scoring=scoring, return_train_score=True)\n",
    "\n",
    "# Mostrar resultados\n",
    "print(\"F1-Score por fold:\", cv_results['test_f1_macro'])\n",
    "print(\"ROC-AUC por fold:\", cv_results['test_roc_auc'])\n",
    "print(\"Exactitud por fold:\", cv_results['test_accuracy'])\n",
    "print(\"Promedio F1-Score:\", cv_results['test_f1_macro'].mean())\n",
    "print(\"Promedio Exactitud:\", cv_results['test_accuracy'].mean())"
   ]
  },
  {
   "cell_type": "markdown",
   "metadata": {},
   "source": [
    "### SVM"
   ]
  },
  {
   "cell_type": "code",
   "execution_count": 213,
   "metadata": {},
   "outputs": [
    {
     "name": "stdout",
     "output_type": "stream",
     "text": [
      "Matriz de confusión: \n",
      "\n",
      "[[48 32]\n",
      " [31 33]]\n",
      "\n",
      "Reporte de Clasificación: \n",
      "\n",
      "              precision    recall  f1-score   support\n",
      "\n",
      "           0       0.61      0.60      0.60        80\n",
      "           1       0.51      0.52      0.51        64\n",
      "\n",
      "    accuracy                           0.56       144\n",
      "   macro avg       0.56      0.56      0.56       144\n",
      "weighted avg       0.56      0.56      0.56       144\n",
      "\n",
      "Tiempo de entrenamiento: 0.12 segundos\n"
     ]
    }
   ],
   "source": [
    "from sklearn.svm import SVC\n",
    "from sklearn.model_selection import GridSearchCV\n",
    "from sklearn.pipeline import Pipeline\n",
    "\n",
    "# Definir el modelo\n",
    "svm_model = SVC(probability=True, random_state=42)\n",
    "\n",
    "pipe = Pipeline([\n",
    "    ('preprocessor', preprocessor),  # Preprocesador\n",
    "    ('classifier', svm_model)        # Modelo SVM\n",
    "])\n",
    "\n",
    "# Entrenar y evaluar\n",
    "train_and_evaluate(pipe, X_train, y_train, X_test, y_test)"
   ]
  },
  {
   "cell_type": "code",
   "execution_count": 181,
   "metadata": {},
   "outputs": [
    {
     "name": "stdout",
     "output_type": "stream",
     "text": [
      "F1-Score por fold: [0.73697153 0.50014273 0.6619883  0.43137255 0.3980464 ]\n",
      "ROC-AUC por fold: [0.79487179 0.50452489 0.73010381 0.43675509 0.544406  ]\n",
      "Exactitud por fold: [0.73786408 0.50485437 0.66666667 0.43137255 0.43137255]\n",
      "Promedio F1-Score: 0.5457043034434368\n",
      "Promedio Exactitud: 0.5544260422615649\n"
     ]
    }
   ],
   "source": [
    "# Definir las métricas a calcular\n",
    "scoring = ['f1_macro', 'accuracy', 'roc_auc']\n",
    "\n",
    "# Validación cruzada con múltiples métricas\n",
    "cv_results = cross_validate(pipe, X_train, y_train, cv=5, scoring=scoring, return_train_score=True)\n",
    "\n",
    "# Mostrar resultados\n",
    "print(\"F1-Score por fold:\", cv_results['test_f1_macro'])\n",
    "print(\"ROC-AUC por fold:\", cv_results['test_roc_auc'])\n",
    "print(\"Exactitud por fold:\", cv_results['test_accuracy'])\n",
    "print(\"Promedio F1-Score:\", cv_results['test_f1_macro'].mean())\n",
    "print(\"Promedio Exactitud:\", cv_results['test_accuracy'].mean())"
   ]
  },
  {
   "cell_type": "code",
   "execution_count": 89,
   "metadata": {},
   "outputs": [
    {
     "name": "stdout",
     "output_type": "stream",
     "text": [
      "Fitting 5 folds for each of 48 candidates, totalling 240 fits\n",
      "Mejores hiperparámetros encontrados:\n",
      "{'classifier__C': 1, 'classifier__degree': 2, 'classifier__gamma': 'scale', 'classifier__kernel': 'rbf'}\n",
      "Matriz de confusión: \n",
      "\n",
      "[[27 37]\n",
      " [54 26]]\n",
      "\n",
      "Reporte de Clasificación: \n",
      "\n",
      "              precision    recall  f1-score   support\n",
      "\n",
      "           0       0.33      0.42      0.37        64\n",
      "           1       0.41      0.33      0.36        80\n",
      "\n",
      "    accuracy                           0.37       144\n",
      "   macro avg       0.37      0.37      0.37       144\n",
      "weighted avg       0.38      0.37      0.37       144\n",
      "\n",
      "Tiempo de entrenamiento: 0.23 segundos\n"
     ]
    }
   ],
   "source": [
    "from sklearn.svm import SVC\n",
    "from sklearn.model_selection import GridSearchCV\n",
    "from sklearn.pipeline import Pipeline\n",
    "\n",
    "# Definir el modelo SVC\n",
    "svm_model = SVC(probability=True, random_state=42)\n",
    "\n",
    "# Definir el pipeline\n",
    "pipe = Pipeline([\n",
    "    ('preprocessor', preprocessor),  # Preprocesador\n",
    "    ('classifier', svm_model)        # Modelo SVM\n",
    "])\n",
    "\n",
    "# Definir el espacio de búsqueda de hiperparámetros\n",
    "param_grid = {\n",
    "    'classifier__C': [0.1, 1, 10, 100],          # Parámetro de regularización\n",
    "    'classifier__kernel': ['linear', 'rbf'],     # Tipo de kernel\n",
    "    'classifier__gamma': ['scale', 'auto'],      # Parámetro del kernel RBF\n",
    "    'classifier__degree': [2, 3, 4]              # Solo si se usa kernel polinómico\n",
    "}\n",
    "\n",
    "# Crear el objeto GridSearchCV\n",
    "grid_search = GridSearchCV(pipe, param_grid, cv=5, scoring='accuracy', n_jobs=-1, verbose=2)\n",
    "\n",
    "# Entrenar el GridSearchCV para encontrar los mejores hiperparámetros\n",
    "grid_search.fit(X_train, y_train)\n",
    "\n",
    "# Mostrar los mejores hiperparámetros encontrados\n",
    "print(\"Mejores hiperparámetros encontrados:\")\n",
    "print(grid_search.best_params_)\n",
    "\n",
    "# Evaluar el modelo con los mejores hiperparámetros en el conjunto de prueba\n",
    "train_and_evaluate(grid_search.best_estimator_, X_train, y_train, X_test, y_test, print_=True)"
   ]
  }
 ],
 "metadata": {
  "kernelspec": {
   "display_name": "Python 3",
   "language": "python",
   "name": "python3"
  },
  "language_info": {
   "codemirror_mode": {
    "name": "ipython",
    "version": 3
   },
   "file_extension": ".py",
   "mimetype": "text/x-python",
   "name": "python",
   "nbconvert_exporter": "python",
   "pygments_lexer": "ipython3",
   "version": "3.12.4"
  }
 },
 "nbformat": 4,
 "nbformat_minor": 2
}
